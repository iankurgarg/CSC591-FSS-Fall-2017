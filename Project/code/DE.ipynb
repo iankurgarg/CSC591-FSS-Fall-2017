{
 "cells": [
  {
   "cell_type": "markdown",
   "metadata": {},
   "source": [
    "# Differential Evolution for Hyperparameter Tuning"
   ]
  },
  {
   "cell_type": "code",
   "execution_count": 1,
   "metadata": {
    "collapsed": false
   },
   "outputs": [],
   "source": [
    "import numpy as np\n",
    "import pandas as pd\n",
    "from data_preprocessing import DataProcessor"
   ]
  },
  {
   "cell_type": "markdown",
   "metadata": {},
   "source": [
    "### Loading data and bringing in the right format"
   ]
  },
  {
   "cell_type": "code",
   "execution_count": 8,
   "metadata": {
    "collapsed": false
   },
   "outputs": [],
   "source": [
    "train_df = pd.read_csv('../data/processed/train_processed.csv')\n",
    "test_df = pd.read_csv('../data/processed/test_processed.csv')"
   ]
  },
  {
   "cell_type": "code",
   "execution_count": 9,
   "metadata": {
    "collapsed": true
   },
   "outputs": [],
   "source": [
    "p = DataProcessor()"
   ]
  },
  {
   "cell_type": "code",
   "execution_count": 3,
   "metadata": {
    "collapsed": false
   },
   "outputs": [
    {
     "name": "stdout",
     "output_type": "stream",
     "text": [
      "removed nan values\n",
      "count vectorizer finished fitting\n",
      "count vector finished transforming\n",
      "dummy variables created\n",
      "created a sparse matrix of all features\n"
     ]
    }
   ],
   "source": [
    "train_processed = p.fit_transform(train_df)"
   ]
  },
  {
   "cell_type": "code",
   "execution_count": 4,
   "metadata": {
    "collapsed": false
   },
   "outputs": [
    {
     "data": {
      "text/plain": [
       "<83041x15940 sparse matrix of type '<type 'numpy.float64'>'\n",
       "\twith 3359482 stored elements in Compressed Sparse Row format>"
      ]
     },
     "execution_count": 4,
     "metadata": {},
     "output_type": "execute_result"
    }
   ],
   "source": [
    "train_processed"
   ]
  },
  {
   "cell_type": "code",
   "execution_count": 6,
   "metadata": {
    "collapsed": false
   },
   "outputs": [
    {
     "name": "stdout",
     "output_type": "stream",
     "text": [
      "count vector finished transforming\n",
      "dummy variables created\n",
      "created a sparse matrix of all features\n"
     ]
    }
   ],
   "source": [
    "test_processed = p.transform(test_df)"
   ]
  },
  {
   "cell_type": "code",
   "execution_count": 7,
   "metadata": {
    "collapsed": false
   },
   "outputs": [
    {
     "data": {
      "text/plain": [
       "<20761x15940 sparse matrix of type '<type 'numpy.float64'>'\n",
       "\twith 837223 stored elements in Compressed Sparse Row format>"
      ]
     },
     "execution_count": 7,
     "metadata": {},
     "output_type": "execute_result"
    }
   ],
   "source": [
    "test_processed"
   ]
  },
  {
   "cell_type": "code",
   "execution_count": 2,
   "metadata": {
    "collapsed": false
   },
   "outputs": [
    {
     "name": "stdout",
     "output_type": "stream",
     "text": [
      "reading file...\n",
      "Tokenizing Summary\n",
      "Combining...\n",
      "Preprocessing done!\n"
     ]
    }
   ],
   "source": [
    "inputDF, df = data_preprocessing.preprocess_data()"
   ]
  },
  {
   "cell_type": "code",
   "execution_count": 3,
   "metadata": {
    "collapsed": false
   },
   "outputs": [
    {
     "data": {
      "text/plain": [
       "(<83041x15940 sparse matrix of type '<type 'numpy.float64'>'\n",
       " \twith 3359482 stored elements in Compressed Sparse Row format>, (83041, 40))"
      ]
     },
     "execution_count": 3,
     "metadata": {},
     "output_type": "execute_result"
    }
   ],
   "source": [
    "inputDF, df.shape"
   ]
  },
  {
   "cell_type": "markdown",
   "metadata": {},
   "source": [
    "### ML model building"
   ]
  },
  {
   "cell_type": "code",
   "execution_count": 4,
   "metadata": {
    "collapsed": true
   },
   "outputs": [],
   "source": [
    "from sklearn.ensemble import RandomForestClassifier\n",
    "from sklearn.metrics import f1_score, make_scorer\n",
    "from sklearn.model_selection import cross_val_score\n",
    "# Differential evolution optimizer\n",
    "from scipy.optimize import differential_evolution"
   ]
  },
  {
   "cell_type": "code",
   "execution_count": 18,
   "metadata": {
    "collapsed": true
   },
   "outputs": [],
   "source": [
    "args = (inputDF,df['Priority'])\n",
    "bounds = [ (5,20),(5,15),(2,10),(1,8) ] # order: n_estimators,max_depth,min_samples_split,min_samples_leaf"
   ]
  },
  {
   "cell_type": "code",
   "execution_count": 36,
   "metadata": {
    "collapsed": false
   },
   "outputs": [],
   "source": [
    "def func(parameters, *args):\n",
    "    #print args[0], args[1]\n",
    "    parameters = map(int,parameters)\n",
    "    clf = RandomForestClassifier(\n",
    "        n_jobs=-1, \n",
    "        n_estimators=parameters[0], \n",
    "        max_depth=parameters[1],\n",
    "        min_samples_split=parameters[2],\n",
    "        min_samples_leaf=parameters[3],\n",
    "        class_weight=\"balanced\"\n",
    "    )\n",
    "#     clf = RandomForestClassifier(class_weight=\"balanced\", n_jobs=-1)\n",
    "    f1scorer_macro = make_scorer(f1_score, average='macro')\n",
    "    print args[0].shape, args[1].shape\n",
    "    f1 = cross_val_score(clf, args[0], args[1], scoring=f1scorer_macro, cv=3, n_jobs=-1)\n",
    "    average_f1 = np.mean(f1)\n",
    "    print average_f1, parameters\n",
    "    return -1*average_f1"
   ]
  },
  {
   "cell_type": "code",
   "execution_count": 31,
   "metadata": {
    "collapsed": false
   },
   "outputs": [
    {
     "name": "stdout",
     "output_type": "stream",
     "text": [
      "(83041, 15940) (83041,)\n",
      "0.386329938755 [10, None, 2, 1]\n"
     ]
    },
    {
     "data": {
      "text/plain": [
       "-0.38632993875491289"
      ]
     },
     "execution_count": 31,
     "metadata": {},
     "output_type": "execute_result"
    }
   ],
   "source": [
    "func([10, None, 2, 1], args)"
   ]
  },
  {
   "cell_type": "code",
   "execution_count": 37,
   "metadata": {
    "collapsed": false
   },
   "outputs": [
    {
     "name": "stdout",
     "output_type": "stream",
     "text": [
      "(83041, 15940) (83041,)\n",
      "0.267430939196 [6, 10, 7, 3]\n",
      "(83041, 15940) (83041,)\n",
      "0.289290685853 [16, 9, 8, 2]\n",
      "(83041, 15940) (83041,)\n",
      "0.277088052572 [6, 14, 5, 4]\n",
      "(83041, 15940) (83041,)\n",
      "0.313735783334 [17, 12, 5, 1]\n",
      "(83041, 15940) (83041,)\n",
      "0.270045508412 [12, 8, 2, 4]\n",
      "(83041, 15940) (83041,)\n",
      "0.285646425806 [15, 6, 3, 2]\n",
      "(83041, 15940) (83041,)\n",
      "0.300864597744 [17, 11, 8, 7]\n",
      "(83041, 15940) (83041,)\n",
      "0.259415537582 [7, 9, 3, 4]\n",
      "(83041, 15940) (83041,)\n",
      "0.270013240147 [9, 9, 9, 6]\n",
      "(83041, 15940) (83041,)\n",
      "0.28728099567 [8, 14, 2, 1]\n",
      "(83041, 15940) (83041,)\n",
      "0.263325216102 [5, 12, 3, 3]\n",
      "(83041, 15940) (83041,)\n",
      "0.253492850529 [5, 8, 5, 2]\n",
      "(83041, 15940) (83041,)\n",
      "0.29570906617 [14, 11, 6, 7]\n",
      "(83041, 15940) (83041,)\n",
      "0.307205839237 [19, 13, 5, 4]\n",
      "(83041, 15940) (83041,)\n",
      "0.304406516303 [13, 13, 2, 5]\n",
      "(83041, 15940) (83041,)\n",
      "0.272904588285 [14, 6, 4, 6]\n",
      "(83041, 15940) (83041,)\n",
      "0.295426910825 [11, 13, 3, 1]\n",
      "(83041, 15940) (83041,)\n",
      "0.240198257083 [7, 7, 6, 7]\n",
      "(83041, 15940) (83041,)\n",
      "0.264759244958 [8, 10, 9, 5]\n",
      "(83041, 15940) (83041,)\n",
      "0.300741217262 [16, 11, 7, 4]\n",
      "(83041, 15940) (83041,)\n",
      "0.259050772029 [11, 6, 7, 5]\n",
      "(83041, 15940) (83041,)\n",
      "0.284449497328 [18, 7, 6, 3]\n",
      "(83041, 15940) (83041,)\n",
      "0.252987855704 [9, 7, 4, 6]\n",
      "(83041, 15940) (83041,)\n",
      "0.290307324647 [18, 9, 6, 2]\n",
      "(83041, 15940) (83041,)\n",
      "0.204626724621 [6, 5, 8, 3]\n",
      "(83041, 15940) (83041,)\n",
      "0.307025813844 [18, 13, 2, 7]\n",
      "(83041, 15940) (83041,)\n",
      "0.278636986312 [14, 8, 7, 6]\n",
      "(83041, 15940) (83041,)\n",
      "0.286339938629 [8, 14, 9, 6]\n",
      "(83041, 15940) (83041,)\n",
      "0.320041193638 [18, 12, 4, 1]\n",
      "(83041, 15940) (83041,)\n",
      "0.283281269434 [6, 14, 9, 4]\n",
      "(83041, 15940) (83041,)\n",
      "0.257750732609 [10, 6, 4, 3]\n",
      "(83041, 15940) (83041,)\n",
      "0.287003349022 [11, 11, 8, 7]\n",
      "(83041, 15940) (83041,)\n",
      "0.262701313274 [10, 8, 2, 7]\n",
      "(83041, 15940) (83041,)\n",
      "0.253994897068 [10, 5, 8, 5]\n",
      "(83041, 15940) (83041,)\n",
      "0.291501846957 [15, 10, 3, 6]\n",
      "(83041, 15940) (83041,)\n",
      "0.253329542524 [13, 5, 4, 1]\n",
      "(83041, 15940) (83041,)\n",
      "0.278697298569 [13, 7, 9, 2]\n",
      "(83041, 15940) (83041,)\n",
      "0.268117155252 [19, 5, 6, 1]\n",
      "(83041, 15940) (83041,)\n",
      "0.296411431843 [15, 10, 5, 2]\n",
      "(83041, 15940) (83041,)\n",
      "0.299641443573 [12, 12, 7, 5]\n",
      "(83041, 15940) (83041,)\n",
      "0.258285110089 [9, 13, 7, 6]\n",
      "(83041, 15940) (83041,)\n",
      "0.255991422012 [8, 9, 8, 2]\n",
      "(83041, 15940) (83041,)\n",
      "0.271721777832 [12, 8, 8, 5]\n",
      "(83041, 15940) (83041,)\n",
      "0.232983223815 [10, 5, 2, 3]\n",
      "(83041, 15940) (83041,)\n",
      "0.224914102241 [6, 8, 5, 5]\n",
      "(83041, 15940) (83041,)\n",
      "0.274745920896 [18, 7, 3, 2]\n",
      "(83041, 15940) (83041,)\n",
      "0.245508597177 [17, 5, 8, 1]\n",
      "(83041, 15940) (83041,)\n",
      "0.277585489675 [9, 10, 4, 4]\n",
      "(83041, 15940) (83041,)\n",
      "0.283366208626 [15, 9, 3, 3]\n",
      "(83041, 15940) (83041,)\n",
      "0.267302410027 [5, 13, 7, 1]\n",
      "(83041, 15940) (83041,)\n",
      "0.266098816419 [5, 11, 7, 3]\n",
      "(83041, 15940) (83041,)\n",
      "0.301237332125 [15, 13, 5, 5]\n",
      "(83041, 15940) (83041,)\n",
      "0.290430237558 [11, 11, 9, 3]\n",
      "(83041, 15940) (83041,)\n",
      "0.269519407186 [13, 9, 6, 7]\n",
      "(83041, 15940) (83041,)\n",
      "0.294506620364 [12, 13, 2, 7]\n",
      "(83041, 15940) (83041,)\n",
      "0.279946061813 [13, 6, 4, 2]\n",
      "(83041, 15940) (83041,)\n",
      "0.232803605084 [6, 10, 8, 4]\n",
      "(83041, 15940) (83041,)\n",
      "0.258036226573 [6, 11, 5, 7]\n",
      "(83041, 15940) (83041,)\n",
      "0.2954346743 [16, 13, 5, 5]\n",
      "(83041, 15940) (83041,)\n",
      "0.297821654132 [16, 12, 9, 4]\n",
      "(83041, 15940) (83041,)\n",
      "0.292440381747 [11, 10, 7, 5]\n",
      "(83041, 15940) (83041,)\n",
      "0.269976081072 [16, 5, 5, 5]\n",
      "(83041, 15940) (83041,)\n",
      "0.270863101162 [6, 12, 8, 6]\n",
      "(83041, 15940) (83041,)\n",
      "0.290314981101 [13, 13, 5, 2]\n",
      "(83041, 15940) (83041,)\n",
      "0.270525011121 [18, 5, 6, 7]\n",
      "(83041, 15940) (83041,)\n",
      "0.268547075818 [8, 10, 6, 5]\n",
      "(83041, 15940) (83041,)\n",
      "0.299591107091 [14, 11, 5, 4]\n",
      "(83041, 15940) (83041,)\n",
      "0.28018657458 [8, 14, 7, 1]\n",
      "(83041, 15940) (83041,)\n",
      "0.254323170693 [9, 9, 5, 5]\n",
      "(83041, 15940) (83041,)\n",
      "0.241500950613 [6, 9, 2, 4]\n",
      "(83041, 15940) (83041,)\n",
      "0.265351885235 [10, 6, 8, 4]\n",
      "(83041, 15940) (83041,)\n",
      "0.285385702064 [17, 9, 8, 4]\n",
      "(83041, 15940) (83041,)\n",
      "0.260913596153 [6, 13, 9, 4]\n",
      "(83041, 15940) (83041,)\n",
      "0.269167059664 [9, 7, 4, 5]\n",
      "(83041, 15940) (83041,)\n",
      "0.311325205281 [15, 13, 3, 1]\n",
      "(83041, 15940) (83041,)\n",
      "0.282765946994 [8, 13, 4, 4]\n",
      "(83041, 15940) (83041,)\n",
      "0.277049958807 [11, 12, 9, 4]\n",
      "(83041, 15940) (83041,)\n",
      "0.270762993732 [15, 5, 7, 7]\n",
      "(83041, 15940) (83041,)\n",
      "0.270037043582 [12, 10, 5, 2]\n",
      "(83041, 15940) (83041,)\n",
      "0.274027760082 [6, 12, 8, 4]\n",
      "(83041, 15940) (83041,)\n",
      "0.314853892642 [18, 12, 4, 1]\n",
      "(83041, 15940) (83041,)\n",
      "0.314853892642 [18, 12, 4, 1]\n",
      "(83041, 15940) (83041,)\n",
      "0.314853892642 [18, 12, 4, 1]\n",
      "(83041, 15940) (83041,)\n",
      "0.314853892642 [18, 12, 4, 1]\n",
      "(83041, 15940) (83041,)\n",
      "0.314853892642 [18, 12, 4, 1]\n",
      "CPU times: user 40.5 s, sys: 9.85 s, total: 50.3 s\n",
      "Wall time: 3min 34s\n"
     ]
    }
   ],
   "source": [
    "%time result = differential_evolution(func, bounds, args, strategy='rand1bin', popsize=10, mutation=(0.5,1.9), recombination=0.7, maxiter=1)"
   ]
  },
  {
   "cell_type": "code",
   "execution_count": 38,
   "metadata": {
    "collapsed": false
   },
   "outputs": [
    {
     "data": {
      "text/plain": [
       "array([ 18.90506696,  12.07981089,   4.43601826,   1.16490721])"
      ]
     },
     "execution_count": 38,
     "metadata": {},
     "output_type": "execute_result"
    }
   ],
   "source": [
    "result.x"
   ]
  },
  {
   "cell_type": "code",
   "execution_count": 39,
   "metadata": {
    "collapsed": false
   },
   "outputs": [
    {
     "name": "stdout",
     "output_type": "stream",
     "text": [
      "Tuned Parameters: [18, 12, 4, 1]\n"
     ]
    }
   ],
   "source": [
    "parameters = map(int,result.x)\n",
    "print 'Tuned Parameters:',parameters"
   ]
  },
  {
   "cell_type": "code",
   "execution_count": 40,
   "metadata": {
    "collapsed": false
   },
   "outputs": [
    {
     "name": "stdout",
     "output_type": "stream",
     "text": [
      "Cross validation metrics: 0.312145369846 0.0127815664628\n",
      "CPU times: user 1.6 s, sys: 76.9 ms, total: 1.67 s\n",
      "Wall time: 737 ms\n"
     ]
    },
    {
     "data": {
      "text/plain": [
       "RandomForestClassifier(bootstrap=True, class_weight='balanced',\n",
       "            criterion='gini', max_depth=12, max_features='auto',\n",
       "            max_leaf_nodes=None, min_impurity_split=1e-07,\n",
       "            min_samples_leaf=1, min_samples_split=4,\n",
       "            min_weight_fraction_leaf=0.0, n_estimators=18, n_jobs=-1,\n",
       "            oob_score=False, random_state=None, verbose=0,\n",
       "            warm_start=False)"
      ]
     },
     "execution_count": 40,
     "metadata": {},
     "output_type": "execute_result"
    }
   ],
   "source": [
    "clf = RandomForestClassifier(\n",
    "        n_jobs=-1, \n",
    "        n_estimators=parameters[0], \n",
    "        max_depth=parameters[1],\n",
    "        min_samples_split=parameters[2],\n",
    "        min_samples_leaf=parameters[3],\n",
    "        class_weight='balanced'\n",
    "    )\n",
    "f1scorer_macro = make_scorer(f1_score, average='macro')\n",
    "f1 = cross_val_score(clf, inputDF, df['Priority'], scoring=f1scorer_macro, cv=10, n_jobs=-1)\n",
    "average_f1 = np.mean(f1)\n",
    "print 'Cross validation metrics:',average_f1, np.std(f1)\n",
    "%time clf.fit(inputDF, df['Priority'])"
   ]
  },
  {
   "cell_type": "code",
   "execution_count": 41,
   "metadata": {
    "collapsed": false
   },
   "outputs": [
    {
     "name": "stdout",
     "output_type": "stream",
     "text": [
      "Cross validation metrics: 0.412665846083 0.0134582934844\n",
      "CPU times: user 34.3 s, sys: 414 ms, total: 34.7 s\n",
      "Wall time: 11.9 s\n"
     ]
    },
    {
     "data": {
      "text/plain": [
       "RandomForestClassifier(bootstrap=True, class_weight=None, criterion='gini',\n",
       "            max_depth=None, max_features='auto', max_leaf_nodes=None,\n",
       "            min_impurity_split=1e-07, min_samples_leaf=1,\n",
       "            min_samples_split=2, min_weight_fraction_leaf=0.0,\n",
       "            n_estimators=10, n_jobs=-1, oob_score=False, random_state=None,\n",
       "            verbose=0, warm_start=False)"
      ]
     },
     "execution_count": 41,
     "metadata": {},
     "output_type": "execute_result"
    }
   ],
   "source": [
    "clf = RandomForestClassifier(n_jobs=-1)\n",
    "f1scorer_macro = make_scorer(f1_score, average='macro')\n",
    "f1 = cross_val_score(clf, inputDF, df['Priority'], scoring=f1scorer_macro, cv=10, n_jobs=-1)\n",
    "average_f1 = np.mean(f1)\n",
    "print 'Cross validation metrics:',average_f1, np.std(f1)\n",
    "%time clf.fit(inputDF, df['Priority'])"
   ]
  },
  {
   "cell_type": "code",
   "execution_count": null,
   "metadata": {
    "collapsed": true
   },
   "outputs": [],
   "source": []
  }
 ],
 "metadata": {
  "anaconda-cloud": {},
  "kernelspec": {
   "display_name": "Python [default]",
   "language": "python",
   "name": "python2"
  },
  "language_info": {
   "codemirror_mode": {
    "name": "ipython",
    "version": 2
   },
   "file_extension": ".py",
   "mimetype": "text/x-python",
   "name": "python",
   "nbconvert_exporter": "python",
   "pygments_lexer": "ipython2",
   "version": "2.7.12"
  }
 },
 "nbformat": 4,
 "nbformat_minor": 2
}
