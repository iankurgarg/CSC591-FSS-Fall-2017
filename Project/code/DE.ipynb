{
 "cells": [
  {
   "cell_type": "markdown",
   "metadata": {},
   "source": [
    "# Differential Evolution for Hyperparameter Tuning"
   ]
  },
  {
   "cell_type": "code",
   "execution_count": 1,
   "metadata": {},
   "outputs": [],
   "source": [
    "import numpy as np\n",
    "import pandas as pd\n",
    "from data_preprocessing import DataProcessor"
   ]
  },
  {
   "cell_type": "markdown",
   "metadata": {},
   "source": [
    "### Loading data and bringing in the right format"
   ]
  },
  {
   "cell_type": "code",
   "execution_count": 2,
   "metadata": {},
   "outputs": [],
   "source": [
    "train_df = pd.read_csv('../data/processed/train_processed.csv')\n",
    "test_df = pd.read_csv('../data/processed/test_processed.csv')"
   ]
  },
  {
   "cell_type": "code",
   "execution_count": 4,
   "metadata": {},
   "outputs": [],
   "source": [
    "p = DataProcessor()"
   ]
  },
  {
   "cell_type": "code",
   "execution_count": 5,
   "metadata": {},
   "outputs": [
    {
     "name": "stdout",
     "output_type": "stream",
     "text": [
      "removed nan values\n",
      "count vectorizer finished fitting\n",
      "count vector finished transforming\n",
      "dummy variables created\n",
      "created a sparse matrix of all features\n"
     ]
    }
   ],
   "source": [
    "train_processed, train_original = p.fit_transform(train_df)"
   ]
  },
  {
   "cell_type": "code",
   "execution_count": 6,
   "metadata": {},
   "outputs": [
    {
     "data": {
      "text/plain": [
       "<83041x15940 sparse matrix of type '<type 'numpy.float64'>'\n",
       "\twith 3359482 stored elements in Compressed Sparse Row format>"
      ]
     },
     "execution_count": 6,
     "metadata": {},
     "output_type": "execute_result"
    }
   ],
   "source": [
    "train_processed"
   ]
  },
  {
   "cell_type": "code",
   "execution_count": 9,
   "metadata": {},
   "outputs": [
    {
     "name": "stdout",
     "output_type": "stream",
     "text": [
      "count vector finished transforming\n",
      "dummy variables created\n",
      "created a sparse matrix of all features\n"
     ]
    }
   ],
   "source": [
    "test_processed, test_orignal = p.transform(test_df)"
   ]
  },
  {
   "cell_type": "code",
   "execution_count": 10,
   "metadata": {},
   "outputs": [
    {
     "data": {
      "text/plain": [
       "<20761x15940 sparse matrix of type '<type 'numpy.float64'>'\n",
       "\twith 837223 stored elements in Compressed Sparse Row format>"
      ]
     },
     "execution_count": 10,
     "metadata": {},
     "output_type": "execute_result"
    }
   ],
   "source": [
    "test_processed"
   ]
  },
  {
   "cell_type": "markdown",
   "metadata": {},
   "source": [
    "### ML model building"
   ]
  },
  {
   "cell_type": "code",
   "execution_count": 11,
   "metadata": {
    "collapsed": true
   },
   "outputs": [],
   "source": [
    "from sklearn.ensemble import RandomForestClassifier\n",
    "from sklearn.metrics import f1_score, make_scorer\n",
    "from sklearn.model_selection import cross_val_score\n",
    "# Differential evolution optimizer\n",
    "from scipy.optimize import differential_evolution"
   ]
  },
  {
   "cell_type": "code",
   "execution_count": 15,
   "metadata": {},
   "outputs": [],
   "source": [
    "args = (train_processed,train_original['Priority'])\n",
    "bounds = [ (5,50),(2,10),(1,10) ] # order: n_estimators,max_depth,min_samples_split,min_samples_leaf"
   ]
  },
  {
   "cell_type": "code",
   "execution_count": 16,
   "metadata": {},
   "outputs": [],
   "source": [
    "def func(parameters, *args):\n",
    "    #print args[0], args[1]\n",
    "    parameters = map(int,parameters)\n",
    "    clf = RandomForestClassifier(\n",
    "        n_jobs=-1, \n",
    "        n_estimators=parameters[0], \n",
    "        max_depth=None,\n",
    "        min_samples_split=parameters[1],\n",
    "        min_samples_leaf=parameters[2],\n",
    "        class_weight=\"balanced\"\n",
    "    )\n",
    "#     clf = RandomForestClassifier(class_weight=\"balanced\", n_jobs=-1)\n",
    "    f1scorer_macro = make_scorer(f1_score, average='macro')\n",
    "#     print args[0].shape, args[1].shape\n",
    "    f1 = cross_val_score(clf, args[0], args[1], scoring=f1scorer_macro, cv=3, n_jobs=-1)\n",
    "    average_f1 = np.mean(f1)\n",
    "    print average_f1, parameters\n",
    "    return -1*average_f1"
   ]
  },
  {
   "cell_type": "code",
   "execution_count": 17,
   "metadata": {
    "scrolled": false
   },
   "outputs": [
    {
     "name": "stdout",
     "output_type": "stream",
     "text": [
      "0.334418278537 [18, 7, 7]\n",
      "0.340315834973 [5, 2, 3]\n",
      "0.363937865759 [34, 7, 4]\n",
      "0.337260309336 [36, 8, 8]\n",
      "0.380586872998 [33, 7, 3]\n",
      "0.348004345503 [25, 6, 5]\n",
      "0.403365908261 [30, 6, 2]\n",
      "0.344603678767 [47, 5, 7]\n",
      "0.419048858025 [40, 3, 1]\n",
      "0.376379487192 [25, 6, 3]\n",
      "0.409730192482 [45, 4, 2]\n",
      "0.291916088049 [5, 5, 9]\n",
      "0.350922592249 [31, 4, 5]\n",
      "0.345540199046 [10, 2, 4]\n",
      "0.336786367535 [12, 4, 6]\n",
      "0.336057429559 [29, 8, 8]\n",
      "0.397496439435 [22, 9, 2]\n",
      "0.375139917676 [21, 2, 3]\n",
      "0.351490293515 [45, 3, 6]\n",
      "0.409976774126 [49, 4, 2]\n",
      "0.316133732602 [13, 4, 9]\n",
      "0.317990056465 [8, 8, 8]\n",
      "0.338910884086 [14, 3, 6]\n",
      "0.361528878601 [28, 9, 4]\n",
      "0.452192157912 [6, 9, 1]\n",
      "0.340758955735 [26, 7, 7]\n",
      "0.33046319552 [41, 3, 9]\n",
      "0.382808637824 [42, 7, 3]\n",
      "0.467912638813 [21, 6, 1]\n",
      "0.341315228876 [15, 6, 6]\n",
      "0.331299640498 [46, 9, 9]\n",
      "0.32407696659 [26, 4, 9]\n",
      "0.333345926183 [17, 8, 7]\n",
      "0.332290909092 [43, 5, 9]\n",
      "0.387778472762 [10, 3, 2]\n",
      "0.387853137912 [15, 2, 1]\n",
      "0.34273759296 [16, 2, 5]\n",
      "0.335496145362 [8, 7, 4]\n",
      "0.328531040379 [11, 3, 7]\n",
      "0.353030974835 [35, 3, 5]\n",
      "0.362962930239 [11, 2, 3]\n",
      "0.34340746271 [18, 4, 5]\n",
      "0.326390231156 [29, 9, 9]\n",
      "0.354508195567 [40, 8, 5]\n",
      "0.353030974835 [35, 5, 5]\n",
      "0.487495690082 [32, 9, 1]\n",
      "0.382391409116 [33, 4, 3]\n",
      "0.406906177081 [37, 5, 2]\n",
      "0.467356798681 [23, 6, 1]\n",
      "0.33689715995 [28, 8, 8]\n",
      "0.471050718958 [48, 6, 1]\n",
      "0.357147057687 [48, 5, 5]\n",
      "0.349958534994 [42, 8, 6]\n",
      "0.321173765706 [7, 7, 7]\n",
      "0.351049940248 [44, 6, 6]\n",
      "0.358007655401 [20, 3, 4]\n",
      "0.336581299374 [39, 5, 8]\n",
      "0.334682847677 [19, 2, 7]\n",
      "0.363119177159 [38, 9, 4]\n",
      "0.335186224322 [24, 8, 8]\n",
      "0.341710687508 [40, 2, 7]\n",
      "0.420524669302 [48, 3, 1]\n",
      "0.354548929386 [34, 3, 5]\n",
      "0.366689474049 [36, 8, 4]\n",
      "0.382044265607 [41, 5, 3]\n",
      "0.357715717972 [48, 7, 5]\n",
      "0.349123749134 [38, 2, 6]\n",
      "0.368056389575 [47, 6, 4]\n",
      "0.463265948919 [35, 5, 1]\n",
      "0.324773858626 [25, 8, 9]\n",
      "0.389940689366 [11, 4, 2]\n",
      "0.333247155439 [10, 5, 5]\n",
      "0.40403906371 [46, 8, 2]\n",
      "0.384768908918 [10, 2, 2]\n",
      "0.318068541197 [12, 4, 9]\n",
      "0.327350750267 [17, 4, 8]\n",
      "0.363154734065 [26, 2, 4]\n",
      "0.336885662275 [33, 9, 8]\n",
      "0.323334086235 [8, 2, 5]\n",
      "0.334127809217 [37, 8, 9]\n",
      "0.389930908575 [13, 8, 2]\n",
      "0.407114658328 [44, 9, 2]\n",
      "0.3279360239 [21, 2, 8]\n",
      "0.371427488302 [24, 5, 3]\n",
      "0.314728381004 [6, 8, 6]\n",
      "0.333127514922 [26, 8, 8]\n",
      "0.376289011062 [9, 6, 2]\n",
      "0.342594921793 [15, 9, 5]\n",
      "0.33569072167 [32, 4, 8]\n",
      "0.323589018548 [13, 4, 8]\n",
      "0.35870970683 [46, 2, 5]\n",
      "0.328762497267 [28, 5, 9]\n",
      "0.341871925458 [33, 2, 7]\n",
      "0.307889765389 [6, 5, 8]\n",
      "0.368579810657 [32, 4, 4]\n",
      "0.37892404415 [26, 2, 1]\n",
      "0.353842362665 [47, 3, 5]\n",
      "0.349661328139 [12, 7, 4]\n",
      "0.334138719586 [42, 8, 9]\n",
      "0.379663400966 [49, 5, 3]\n",
      "0.384260979666 [40, 2, 3]\n",
      "0.303969787597 [5, 4, 8]\n",
      "0.327223792705 [27, 3, 9]\n",
      "0.343068564601 [40, 2, 7]\n",
      "0.397037744011 [24, 9, 2]\n",
      "0.310012959351 [6, 5, 7]\n",
      "0.36880909724 [15, 4, 3]\n",
      "0.375564476618 [37, 9, 3]\n",
      "0.473502202088 [23, 6, 1]\n",
      "0.329738190286 [28, 3, 9]\n",
      "0.333842092371 [20, 3, 6]\n",
      "0.338762220702 [35, 6, 7]\n",
      "0.368575186635 [42, 6, 4]\n",
      "0.334260923906 [10, 7, 6]\n",
      "0.381749799542 [40, 7, 3]\n",
      "0.332534729347 [49, 3, 8]\n",
      "0.33620051976 [19, 8, 6]\n",
      "0.342340729768 [36, 9, 7]\n",
      "0.35251340255 [38, 9, 5]\n",
      "0.3351902575 [24, 9, 8]\n",
      "0.40416821664 [39, 9, 2]\n",
      "0.340621571975 [42, 5, 8]\n",
      "0.353544525593 [34, 7, 5]\n",
      "0.318466149704 [9, 9, 8]\n",
      "0.352877997654 [9, 8, 3]\n",
      "0.358713024473 [22, 8, 4]\n",
      "0.361483741407 [30, 7, 4]\n",
      "0.363287247646 [31, 3, 4]\n",
      "0.406291013285 [35, 5, 2]\n",
      "0.349521255574 [25, 5, 5]\n",
      "0.379862509261 [12, 8, 2]\n",
      "0.357454032855 [46, 9, 5]\n",
      "0.376374370808 [37, 6, 3]\n",
      "0.36840401179 [43, 2, 4]\n",
      "0.337855530449 [49, 9, 9]\n",
      "0.334131837493 [29, 6, 8]\n",
      "0.340863180851 [41, 3, 8]\n",
      "0.32821047968 [28, 2, 9]\n",
      "0.37853169344 [31, 5, 3]\n",
      "0.353315401336 [48, 3, 5]\n",
      "0.340104790733 [13, 3, 5]\n",
      "0.358199834832 [20, 2, 4]\n",
      "0.458563182723 [47, 5, 1]\n",
      "0.332998804356 [29, 9, 8]\n",
      "0.344379515557 [41, 8, 7]\n",
      "0.315089503004 [9, 3, 9]\n",
      "0.346782051134 [43, 7, 6]\n",
      "0.331877146032 [38, 6, 9]\n",
      "0.342265203447 [37, 6, 7]\n",
      "0.387849514403 [12, 5, 2]\n",
      "0.356310641365 [46, 8, 5]\n",
      "0.368430287935 [14, 8, 3]\n",
      "0.402793196034 [27, 9, 2]\n",
      "0.353051096079 [15, 6, 4]\n",
      "0.337155097024 [38, 3, 9]\n",
      "0.332381473888 [23, 9, 8]\n",
      "0.357663222962 [48, 3, 5]\n",
      "0.334690054861 [42, 2, 9]\n",
      "0.476448713125 [16, 8, 1]\n",
      "0.345049271939 [24, 9, 5]\n",
      "0.311226733917 [5, 5, 6]\n",
      "0.337319212766 [18, 6, 7]\n",
      "0.345572186384 [35, 9, 6]\n",
      "0.324327152376 [7, 2, 5]\n",
      "0.335798189226 [21, 9, 8]\n",
      "0.357266976941 [40, 7, 5]\n",
      "0.345884893936 [33, 7, 6]\n",
      "0.337593781676 [37, 7, 8]\n",
      "0.331745652099 [32, 6, 9]\n",
      "0.340452283323 [30, 8, 7]\n",
      "0.366081943453 [18, 3, 3]\n",
      "0.362543561678 [28, 6, 4]\n",
      "0.408242857554 [48, 6, 2]\n",
      "0.344654133676 [15, 7, 5]\n",
      "0.330356962459 [19, 9, 8]\n",
      "0.349875833313 [29, 9, 5]\n",
      "0.334711421576 [33, 4, 9]\n",
      "0.337102703146 [23, 6, 7]\n",
      "0.333968742109 [34, 6, 8]\n",
      "0.352397190977 [44, 9, 6]\n",
      "0.336749078353 [23, 9, 6]\n",
      "0.337726824705 [48, 4, 8]\n",
      "0.35980452187 [27, 7, 4]\n",
      "0.364915660616 [42, 7, 4]\n",
      "0.329803137193 [27, 3, 9]\n",
      "0.407903710763 [41, 3, 2]\n",
      "0.352465145338 [30, 4, 5]\n",
      "0.354576122462 [37, 5, 5]\n",
      "0.478277470183 [35, 7, 1]\n",
      "0.351330797037 [31, 2, 5]\n",
      "0.325194051598 [12, 8, 7]\n",
      "0.394128636765 [15, 8, 2]\n",
      "0.323119626366 [11, 8, 8]\n",
      "0.333752594178 [26, 2, 7]\n",
      "0.362182268096 [15, 5, 3]\n",
      "0.402309828352 [29, 7, 2]\n",
      "0.382775992061 [35, 3, 3]\n",
      "0.343935065037 [15, 2, 5]\n",
      "0.403390407769 [31, 5, 2]\n",
      "0.382427483421 [49, 5, 3]\n",
      "0.409260241851 [34, 2, 2]\n",
      "0.409679828454 [44, 5, 2]\n",
      "0.338827036993 [10, 4, 5]\n",
      "0.358060477987 [24, 8, 4]\n",
      "0.344429284799 [6, 4, 3]\n",
      "0.343753723733 [34, 7, 7]\n",
      "0.329365302273 [49, 6, 9]\n",
      "0.355922231933 [34, 8, 5]\n",
      "0.485729374936 [25, 9, 1]\n",
      "0.360654767784 [20, 6, 4]\n",
      "0.335850798282 [49, 2, 8]\n",
      "0.4735212266 [13, 8, 1]\n",
      "0.367143896592 [41, 6, 4]\n",
      "0.442847866401 [7, 5, 1]\n",
      "0.345972106082 [10, 6, 4]\n",
      "0.361196017625 [29, 7, 4]\n",
      "0.340946943332 [16, 3, 5]\n",
      "0.349222088706 [26, 2, 6]\n",
      "0.476169188046 [21, 7, 1]\n",
      "0.375769046764 [26, 6, 3]\n",
      "0.380122419261 [47, 2, 3]\n",
      "0.39278582805 [18, 9, 2]\n",
      "0.367722757778 [14, 4, 3]\n",
      "0.403337613328 [27, 8, 2]\n",
      "0.402209579121 [24, 6, 2]\n",
      "0.354198470296 [37, 2, 5]\n",
      "0.348720265052 [33, 4, 6]\n",
      "0.360576511729 [25, 7, 4]\n",
      "0.376459992602 [23, 4, 3]\n",
      "0.32329480786 [6, 7, 4]\n",
      "0.411093894134 [44, 3, 2]\n",
      "0.347825688558 [11, 2, 4]\n",
      "0.393993960116 [15, 2, 2]\n",
      "0.355429351975 [43, 4, 5]\n",
      "0.381202492147 [40, 5, 3]\n",
      "0.357432667129 [20, 3, 4]\n",
      "0.329636481872 [28, 3, 8]\n",
      "0.345774192199 [36, 9, 6]\n",
      "0.334684280463 [39, 9, 8]\n",
      "0.381175532407 [44, 3, 3]\n",
      "0.486072358322 [32, 9, 1]\n",
      "0.486072358322 [32, 9, 1]\n",
      "0.486072358322 [32, 9, 1]\n",
      "0.486072358322 [32, 9, 1]\n",
      "CPU times: user 1min 44s, sys: 26.4 s, total: 2min 10s\n",
      "Wall time: 29min 27s\n"
     ]
    }
   ],
   "source": [
    "%time result = differential_evolution(func, bounds, args, strategy='rand2bin', popsize=20, mutation=(0.5,1.9), recombination=0.7, maxiter=3)"
   ]
  },
  {
   "cell_type": "code",
   "execution_count": 18,
   "metadata": {},
   "outputs": [
    {
     "data": {
      "text/plain": [
       "array([ 32.60605168,   9.39161969,   1.89580894])"
      ]
     },
     "execution_count": 18,
     "metadata": {},
     "output_type": "execute_result"
    }
   ],
   "source": [
    "result.x"
   ]
  },
  {
   "cell_type": "code",
   "execution_count": 19,
   "metadata": {},
   "outputs": [
    {
     "name": "stdout",
     "output_type": "stream",
     "text": [
      "Tuned Parameters: [32, 9, 1]\n"
     ]
    }
   ],
   "source": [
    "parameters = map(int,result.x)\n",
    "print 'Tuned Parameters:',parameters"
   ]
  },
  {
   "cell_type": "code",
   "execution_count": 25,
   "metadata": {},
   "outputs": [
    {
     "name": "stdout",
     "output_type": "stream",
     "text": [
      "Cross validation metrics: 0.361053886553 0.00499499768331\n"
     ]
    },
    {
     "ename": "NameError",
     "evalue": "name 'inputDF' is not defined",
     "output_type": "error",
     "traceback": [
      "\u001b[0;31m---------------------------------------------------------------------------\u001b[0m",
      "\u001b[0;31mNameError\u001b[0m                                 Traceback (most recent call last)",
      "\u001b[0;32m<ipython-input-25-032a535c74ba>\u001b[0m in \u001b[0;36m<module>\u001b[0;34m()\u001b[0m\n\u001b[1;32m     11\u001b[0m \u001b[0maverage_f1\u001b[0m \u001b[0;34m=\u001b[0m \u001b[0mnp\u001b[0m\u001b[0;34m.\u001b[0m\u001b[0mmean\u001b[0m\u001b[0;34m(\u001b[0m\u001b[0mf1\u001b[0m\u001b[0;34m)\u001b[0m\u001b[0;34m\u001b[0m\u001b[0m\n\u001b[1;32m     12\u001b[0m \u001b[0;32mprint\u001b[0m \u001b[0;34m'Cross validation metrics:'\u001b[0m\u001b[0;34m,\u001b[0m\u001b[0maverage_f1\u001b[0m\u001b[0;34m,\u001b[0m \u001b[0mnp\u001b[0m\u001b[0;34m.\u001b[0m\u001b[0mstd\u001b[0m\u001b[0;34m(\u001b[0m\u001b[0mf1\u001b[0m\u001b[0;34m)\u001b[0m\u001b[0;34m\u001b[0m\u001b[0m\n\u001b[0;32m---> 13\u001b[0;31m \u001b[0mget_ipython\u001b[0m\u001b[0;34m(\u001b[0m\u001b[0;34m)\u001b[0m\u001b[0;34m.\u001b[0m\u001b[0mmagic\u001b[0m\u001b[0;34m(\u001b[0m\u001b[0;34mu\"time clf.fit(inputDF, df['Priority'])\"\u001b[0m\u001b[0;34m)\u001b[0m\u001b[0;34m\u001b[0m\u001b[0m\n\u001b[0m",
      "\u001b[0;32m/Users/iankurgarg/anaconda/lib/python2.7/site-packages/IPython/core/interactiveshell.pyc\u001b[0m in \u001b[0;36mmagic\u001b[0;34m(self, arg_s)\u001b[0m\n\u001b[1;32m   2156\u001b[0m         \u001b[0mmagic_name\u001b[0m\u001b[0;34m,\u001b[0m \u001b[0m_\u001b[0m\u001b[0;34m,\u001b[0m \u001b[0mmagic_arg_s\u001b[0m \u001b[0;34m=\u001b[0m \u001b[0marg_s\u001b[0m\u001b[0;34m.\u001b[0m\u001b[0mpartition\u001b[0m\u001b[0;34m(\u001b[0m\u001b[0;34m' '\u001b[0m\u001b[0;34m)\u001b[0m\u001b[0;34m\u001b[0m\u001b[0m\n\u001b[1;32m   2157\u001b[0m         \u001b[0mmagic_name\u001b[0m \u001b[0;34m=\u001b[0m \u001b[0mmagic_name\u001b[0m\u001b[0;34m.\u001b[0m\u001b[0mlstrip\u001b[0m\u001b[0;34m(\u001b[0m\u001b[0mprefilter\u001b[0m\u001b[0;34m.\u001b[0m\u001b[0mESC_MAGIC\u001b[0m\u001b[0;34m)\u001b[0m\u001b[0;34m\u001b[0m\u001b[0m\n\u001b[0;32m-> 2158\u001b[0;31m         \u001b[0;32mreturn\u001b[0m \u001b[0mself\u001b[0m\u001b[0;34m.\u001b[0m\u001b[0mrun_line_magic\u001b[0m\u001b[0;34m(\u001b[0m\u001b[0mmagic_name\u001b[0m\u001b[0;34m,\u001b[0m \u001b[0mmagic_arg_s\u001b[0m\u001b[0;34m)\u001b[0m\u001b[0;34m\u001b[0m\u001b[0m\n\u001b[0m\u001b[1;32m   2159\u001b[0m \u001b[0;34m\u001b[0m\u001b[0m\n\u001b[1;32m   2160\u001b[0m     \u001b[0;31m#-------------------------------------------------------------------------\u001b[0m\u001b[0;34m\u001b[0m\u001b[0;34m\u001b[0m\u001b[0m\n",
      "\u001b[0;32m/Users/iankurgarg/anaconda/lib/python2.7/site-packages/IPython/core/interactiveshell.pyc\u001b[0m in \u001b[0;36mrun_line_magic\u001b[0;34m(self, magic_name, line)\u001b[0m\n\u001b[1;32m   2077\u001b[0m                 \u001b[0mkwargs\u001b[0m\u001b[0;34m[\u001b[0m\u001b[0;34m'local_ns'\u001b[0m\u001b[0;34m]\u001b[0m \u001b[0;34m=\u001b[0m \u001b[0msys\u001b[0m\u001b[0;34m.\u001b[0m\u001b[0m_getframe\u001b[0m\u001b[0;34m(\u001b[0m\u001b[0mstack_depth\u001b[0m\u001b[0;34m)\u001b[0m\u001b[0;34m.\u001b[0m\u001b[0mf_locals\u001b[0m\u001b[0;34m\u001b[0m\u001b[0m\n\u001b[1;32m   2078\u001b[0m             \u001b[0;32mwith\u001b[0m \u001b[0mself\u001b[0m\u001b[0;34m.\u001b[0m\u001b[0mbuiltin_trap\u001b[0m\u001b[0;34m:\u001b[0m\u001b[0;34m\u001b[0m\u001b[0m\n\u001b[0;32m-> 2079\u001b[0;31m                 \u001b[0mresult\u001b[0m \u001b[0;34m=\u001b[0m \u001b[0mfn\u001b[0m\u001b[0;34m(\u001b[0m\u001b[0;34m*\u001b[0m\u001b[0margs\u001b[0m\u001b[0;34m,\u001b[0m\u001b[0;34m**\u001b[0m\u001b[0mkwargs\u001b[0m\u001b[0;34m)\u001b[0m\u001b[0;34m\u001b[0m\u001b[0m\n\u001b[0m\u001b[1;32m   2080\u001b[0m             \u001b[0;32mreturn\u001b[0m \u001b[0mresult\u001b[0m\u001b[0;34m\u001b[0m\u001b[0m\n\u001b[1;32m   2081\u001b[0m \u001b[0;34m\u001b[0m\u001b[0m\n",
      "\u001b[0;32m<decorator-gen-59>\u001b[0m in \u001b[0;36mtime\u001b[0;34m(self, line, cell, local_ns)\u001b[0m\n",
      "\u001b[0;32m/Users/iankurgarg/anaconda/lib/python2.7/site-packages/IPython/core/magic.pyc\u001b[0m in \u001b[0;36m<lambda>\u001b[0;34m(f, *a, **k)\u001b[0m\n\u001b[1;32m    186\u001b[0m     \u001b[0;31m# but it's overkill for just that one bit of state.\u001b[0m\u001b[0;34m\u001b[0m\u001b[0;34m\u001b[0m\u001b[0m\n\u001b[1;32m    187\u001b[0m     \u001b[0;32mdef\u001b[0m \u001b[0mmagic_deco\u001b[0m\u001b[0;34m(\u001b[0m\u001b[0marg\u001b[0m\u001b[0;34m)\u001b[0m\u001b[0;34m:\u001b[0m\u001b[0;34m\u001b[0m\u001b[0m\n\u001b[0;32m--> 188\u001b[0;31m         \u001b[0mcall\u001b[0m \u001b[0;34m=\u001b[0m \u001b[0;32mlambda\u001b[0m \u001b[0mf\u001b[0m\u001b[0;34m,\u001b[0m \u001b[0;34m*\u001b[0m\u001b[0ma\u001b[0m\u001b[0;34m,\u001b[0m \u001b[0;34m**\u001b[0m\u001b[0mk\u001b[0m\u001b[0;34m:\u001b[0m \u001b[0mf\u001b[0m\u001b[0;34m(\u001b[0m\u001b[0;34m*\u001b[0m\u001b[0ma\u001b[0m\u001b[0;34m,\u001b[0m \u001b[0;34m**\u001b[0m\u001b[0mk\u001b[0m\u001b[0;34m)\u001b[0m\u001b[0;34m\u001b[0m\u001b[0m\n\u001b[0m\u001b[1;32m    189\u001b[0m \u001b[0;34m\u001b[0m\u001b[0m\n\u001b[1;32m    190\u001b[0m         \u001b[0;32mif\u001b[0m \u001b[0mcallable\u001b[0m\u001b[0;34m(\u001b[0m\u001b[0marg\u001b[0m\u001b[0;34m)\u001b[0m\u001b[0;34m:\u001b[0m\u001b[0;34m\u001b[0m\u001b[0m\n",
      "\u001b[0;32m/Users/iankurgarg/anaconda/lib/python2.7/site-packages/IPython/core/magics/execution.pyc\u001b[0m in \u001b[0;36mtime\u001b[0;34m(self, line, cell, local_ns)\u001b[0m\n\u001b[1;32m   1174\u001b[0m         \u001b[0;32mif\u001b[0m \u001b[0mmode\u001b[0m\u001b[0;34m==\u001b[0m\u001b[0;34m'eval'\u001b[0m\u001b[0;34m:\u001b[0m\u001b[0;34m\u001b[0m\u001b[0m\n\u001b[1;32m   1175\u001b[0m             \u001b[0mst\u001b[0m \u001b[0;34m=\u001b[0m \u001b[0mclock2\u001b[0m\u001b[0;34m(\u001b[0m\u001b[0;34m)\u001b[0m\u001b[0;34m\u001b[0m\u001b[0m\n\u001b[0;32m-> 1176\u001b[0;31m             \u001b[0mout\u001b[0m \u001b[0;34m=\u001b[0m \u001b[0meval\u001b[0m\u001b[0;34m(\u001b[0m\u001b[0mcode\u001b[0m\u001b[0;34m,\u001b[0m \u001b[0mglob\u001b[0m\u001b[0;34m,\u001b[0m \u001b[0mlocal_ns\u001b[0m\u001b[0;34m)\u001b[0m\u001b[0;34m\u001b[0m\u001b[0m\n\u001b[0m\u001b[1;32m   1177\u001b[0m             \u001b[0mend\u001b[0m \u001b[0;34m=\u001b[0m \u001b[0mclock2\u001b[0m\u001b[0;34m(\u001b[0m\u001b[0;34m)\u001b[0m\u001b[0;34m\u001b[0m\u001b[0m\n\u001b[1;32m   1178\u001b[0m         \u001b[0;32melse\u001b[0m\u001b[0;34m:\u001b[0m\u001b[0;34m\u001b[0m\u001b[0m\n",
      "\u001b[0;32m<timed eval>\u001b[0m in \u001b[0;36m<module>\u001b[0;34m()\u001b[0m\n",
      "\u001b[0;31mNameError\u001b[0m: name 'inputDF' is not defined"
     ]
    }
   ],
   "source": [
    "clf = RandomForestClassifier(\n",
    "        n_jobs=-1, \n",
    "        n_estimators=parameters[0], \n",
    "        max_depth=None,\n",
    "        min_samples_split=parameters[1],\n",
    "        min_samples_leaf=parameters[2],\n",
    "        class_weight='balanced'\n",
    "    )\n",
    "f1scorer_macro = make_scorer(f1_score, average='macro')\n",
    "f1 = cross_val_score(clf, train_processed, train_original['Priority'], scoring=f1scorer_macro, cv=10, n_jobs=-1)\n",
    "average_f1 = np.mean(f1)\n",
    "print 'Cross validation metrics:',average_f1, np.std(f1)\n",
    "%time clf.fit(inputDF, df['Priority'])"
   ]
  },
  {
   "cell_type": "code",
   "execution_count": 24,
   "metadata": {},
   "outputs": [
    {
     "ename": "KeyboardInterrupt",
     "evalue": "",
     "output_type": "error",
     "traceback": [
      "\u001b[0;31m---------------------------------------------------------------------------\u001b[0m",
      "\u001b[0;31mKeyboardInterrupt\u001b[0m                         Traceback (most recent call last)",
      "\u001b[0;32m<ipython-input-24-3cc74f0e9010>\u001b[0m in \u001b[0;36m<module>\u001b[0;34m()\u001b[0m\n\u001b[1;32m      1\u001b[0m \u001b[0mclf\u001b[0m \u001b[0;34m=\u001b[0m \u001b[0mRandomForestClassifier\u001b[0m\u001b[0;34m(\u001b[0m\u001b[0mn_jobs\u001b[0m\u001b[0;34m=\u001b[0m\u001b[0;34m-\u001b[0m\u001b[0;36m1\u001b[0m\u001b[0;34m)\u001b[0m\u001b[0;34m\u001b[0m\u001b[0m\n\u001b[1;32m      2\u001b[0m \u001b[0mf1scorer_macro\u001b[0m \u001b[0;34m=\u001b[0m \u001b[0mmake_scorer\u001b[0m\u001b[0;34m(\u001b[0m\u001b[0mf1_score\u001b[0m\u001b[0;34m,\u001b[0m \u001b[0maverage\u001b[0m\u001b[0;34m=\u001b[0m\u001b[0;34m'macro'\u001b[0m\u001b[0;34m)\u001b[0m\u001b[0;34m\u001b[0m\u001b[0m\n\u001b[0;32m----> 3\u001b[0;31m \u001b[0mf1\u001b[0m \u001b[0;34m=\u001b[0m \u001b[0mcross_val_score\u001b[0m\u001b[0;34m(\u001b[0m\u001b[0mclf\u001b[0m\u001b[0;34m,\u001b[0m \u001b[0mtrain_processed\u001b[0m\u001b[0;34m,\u001b[0m \u001b[0mtrain_original\u001b[0m\u001b[0;34m[\u001b[0m\u001b[0;34m'Priority'\u001b[0m\u001b[0;34m]\u001b[0m\u001b[0;34m,\u001b[0m \u001b[0mscoring\u001b[0m\u001b[0;34m=\u001b[0m\u001b[0mf1scorer_macro\u001b[0m\u001b[0;34m,\u001b[0m \u001b[0mcv\u001b[0m\u001b[0;34m=\u001b[0m\u001b[0;36m10\u001b[0m\u001b[0;34m,\u001b[0m \u001b[0mn_jobs\u001b[0m\u001b[0;34m=\u001b[0m\u001b[0;34m-\u001b[0m\u001b[0;36m1\u001b[0m\u001b[0;34m)\u001b[0m\u001b[0;34m\u001b[0m\u001b[0m\n\u001b[0m\u001b[1;32m      4\u001b[0m \u001b[0maverage_f1\u001b[0m \u001b[0;34m=\u001b[0m \u001b[0mnp\u001b[0m\u001b[0;34m.\u001b[0m\u001b[0mmean\u001b[0m\u001b[0;34m(\u001b[0m\u001b[0mf1\u001b[0m\u001b[0;34m)\u001b[0m\u001b[0;34m\u001b[0m\u001b[0m\n\u001b[1;32m      5\u001b[0m \u001b[0;32mprint\u001b[0m \u001b[0;34m'Cross validation metrics:'\u001b[0m\u001b[0;34m,\u001b[0m\u001b[0maverage_f1\u001b[0m\u001b[0;34m,\u001b[0m \u001b[0mnp\u001b[0m\u001b[0;34m.\u001b[0m\u001b[0mstd\u001b[0m\u001b[0;34m(\u001b[0m\u001b[0mf1\u001b[0m\u001b[0;34m)\u001b[0m\u001b[0;34m\u001b[0m\u001b[0m\n",
      "\u001b[0;32m/Users/iankurgarg/anaconda/lib/python2.7/site-packages/sklearn/model_selection/_validation.pyc\u001b[0m in \u001b[0;36mcross_val_score\u001b[0;34m(estimator, X, y, groups, scoring, cv, n_jobs, verbose, fit_params, pre_dispatch)\u001b[0m\n\u001b[1;32m    138\u001b[0m                                               \u001b[0mtrain\u001b[0m\u001b[0;34m,\u001b[0m \u001b[0mtest\u001b[0m\u001b[0;34m,\u001b[0m \u001b[0mverbose\u001b[0m\u001b[0;34m,\u001b[0m \u001b[0mNone\u001b[0m\u001b[0;34m,\u001b[0m\u001b[0;34m\u001b[0m\u001b[0m\n\u001b[1;32m    139\u001b[0m                                               fit_params)\n\u001b[0;32m--> 140\u001b[0;31m                       for train, test in cv_iter)\n\u001b[0m\u001b[1;32m    141\u001b[0m     \u001b[0;32mreturn\u001b[0m \u001b[0mnp\u001b[0m\u001b[0;34m.\u001b[0m\u001b[0marray\u001b[0m\u001b[0;34m(\u001b[0m\u001b[0mscores\u001b[0m\u001b[0;34m)\u001b[0m\u001b[0;34m[\u001b[0m\u001b[0;34m:\u001b[0m\u001b[0;34m,\u001b[0m \u001b[0;36m0\u001b[0m\u001b[0;34m]\u001b[0m\u001b[0;34m\u001b[0m\u001b[0m\n\u001b[1;32m    142\u001b[0m \u001b[0;34m\u001b[0m\u001b[0m\n",
      "\u001b[0;32m/Users/iankurgarg/anaconda/lib/python2.7/site-packages/sklearn/externals/joblib/parallel.pyc\u001b[0m in \u001b[0;36m__call__\u001b[0;34m(self, iterable)\u001b[0m\n\u001b[1;32m    766\u001b[0m                 \u001b[0;31m# consumption.\u001b[0m\u001b[0;34m\u001b[0m\u001b[0;34m\u001b[0m\u001b[0m\n\u001b[1;32m    767\u001b[0m                 \u001b[0mself\u001b[0m\u001b[0;34m.\u001b[0m\u001b[0m_iterating\u001b[0m \u001b[0;34m=\u001b[0m \u001b[0mFalse\u001b[0m\u001b[0;34m\u001b[0m\u001b[0m\n\u001b[0;32m--> 768\u001b[0;31m             \u001b[0mself\u001b[0m\u001b[0;34m.\u001b[0m\u001b[0mretrieve\u001b[0m\u001b[0;34m(\u001b[0m\u001b[0;34m)\u001b[0m\u001b[0;34m\u001b[0m\u001b[0m\n\u001b[0m\u001b[1;32m    769\u001b[0m             \u001b[0;31m# Make sure that we get a last message telling us we are done\u001b[0m\u001b[0;34m\u001b[0m\u001b[0;34m\u001b[0m\u001b[0m\n\u001b[1;32m    770\u001b[0m             \u001b[0melapsed_time\u001b[0m \u001b[0;34m=\u001b[0m \u001b[0mtime\u001b[0m\u001b[0;34m.\u001b[0m\u001b[0mtime\u001b[0m\u001b[0;34m(\u001b[0m\u001b[0;34m)\u001b[0m \u001b[0;34m-\u001b[0m \u001b[0mself\u001b[0m\u001b[0;34m.\u001b[0m\u001b[0m_start_time\u001b[0m\u001b[0;34m\u001b[0m\u001b[0m\n",
      "\u001b[0;32m/Users/iankurgarg/anaconda/lib/python2.7/site-packages/sklearn/externals/joblib/parallel.pyc\u001b[0m in \u001b[0;36mretrieve\u001b[0;34m(self)\u001b[0m\n\u001b[1;32m    717\u001b[0m                     \u001b[0mensure_ready\u001b[0m \u001b[0;34m=\u001b[0m \u001b[0mself\u001b[0m\u001b[0;34m.\u001b[0m\u001b[0m_managed_backend\u001b[0m\u001b[0;34m\u001b[0m\u001b[0m\n\u001b[1;32m    718\u001b[0m                     \u001b[0mbackend\u001b[0m\u001b[0;34m.\u001b[0m\u001b[0mabort_everything\u001b[0m\u001b[0;34m(\u001b[0m\u001b[0mensure_ready\u001b[0m\u001b[0;34m=\u001b[0m\u001b[0mensure_ready\u001b[0m\u001b[0;34m)\u001b[0m\u001b[0;34m\u001b[0m\u001b[0m\n\u001b[0;32m--> 719\u001b[0;31m                 \u001b[0;32mraise\u001b[0m \u001b[0mexception\u001b[0m\u001b[0;34m\u001b[0m\u001b[0m\n\u001b[0m\u001b[1;32m    720\u001b[0m \u001b[0;34m\u001b[0m\u001b[0m\n\u001b[1;32m    721\u001b[0m     \u001b[0;32mdef\u001b[0m \u001b[0m__call__\u001b[0m\u001b[0;34m(\u001b[0m\u001b[0mself\u001b[0m\u001b[0;34m,\u001b[0m \u001b[0miterable\u001b[0m\u001b[0;34m)\u001b[0m\u001b[0;34m:\u001b[0m\u001b[0;34m\u001b[0m\u001b[0m\n",
      "\u001b[0;31mKeyboardInterrupt\u001b[0m: "
     ]
    }
   ],
   "source": [
    "clf = RandomForestClassifier(n_jobs=-1)\n",
    "f1scorer_macro = make_scorer(f1_score, average='macro')\n",
    "f1 = cross_val_score(clf, train_processed, train_original['Priority'], scoring=f1scorer_macro, cv=10, n_jobs=-1)\n",
    "average_f1 = np.mean(f1)\n",
    "print 'Cross validation metrics:',average_f1, np.std(f1)\n",
    "%time clf.fit(train_processed, train_original['Priority'])"
   ]
  },
  {
   "cell_type": "code",
   "execution_count": null,
   "metadata": {
    "collapsed": true
   },
   "outputs": [],
   "source": []
  }
 ],
 "metadata": {
  "anaconda-cloud": {},
  "kernelspec": {
   "display_name": "Python 2",
   "language": "python",
   "name": "python2"
  },
  "language_info": {
   "codemirror_mode": {
    "name": "ipython",
    "version": 2
   },
   "file_extension": ".py",
   "mimetype": "text/x-python",
   "name": "python",
   "nbconvert_exporter": "python",
   "pygments_lexer": "ipython2",
   "version": "2.7.13"
  }
 },
 "nbformat": 4,
 "nbformat_minor": 2
}
