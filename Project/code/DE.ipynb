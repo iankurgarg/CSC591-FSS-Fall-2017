{
 "cells": [
  {
   "cell_type": "markdown",
   "metadata": {},
   "source": [
    "# Differential Evolution for Hyperparameter Tuning"
   ]
  },
  {
   "cell_type": "code",
   "execution_count": 112,
   "metadata": {},
   "outputs": [],
   "source": [
    "import numpy as np\n",
    "import pandas as pd\n",
    "import data_preprocessing"
   ]
  },
  {
   "cell_type": "markdown",
   "metadata": {},
   "source": [
    "### Loading data and bringing in the right format"
   ]
  },
  {
   "cell_type": "code",
   "execution_count": 113,
   "metadata": {},
   "outputs": [
    {
     "name": "stdout",
     "output_type": "stream",
     "text": [
      "reading file...\n",
      "Tokenizing Summary\n",
      "Combining...\n",
      "Preprocessing done!\n"
     ]
    }
   ],
   "source": [
    "inputDF, df = data_preprocessing.preprocess_data()"
   ]
  },
  {
   "cell_type": "code",
   "execution_count": 118,
   "metadata": {},
   "outputs": [
    {
     "data": {
      "text/plain": [
       "(<83041x15940 sparse matrix of type '<type 'numpy.float64'>'\n",
       " \twith 3359482 stored elements in Compressed Sparse Row format>, (83041, 40))"
      ]
     },
     "execution_count": 118,
     "metadata": {},
     "output_type": "execute_result"
    }
   ],
   "source": [
    "inputDF, df.shape"
   ]
  },
  {
   "cell_type": "markdown",
   "metadata": {},
   "source": [
    "### ML model building"
   ]
  },
  {
   "cell_type": "code",
   "execution_count": 119,
   "metadata": {},
   "outputs": [],
   "source": [
    "from sklearn.ensemble import RandomForestClassifier\n",
    "from sklearn.metrics import f1_score, make_scorer\n",
    "from sklearn.model_selection import cross_val_score\n",
    "# Differential evolution optimizer\n",
    "from scipy.optimize import differential_evolution"
   ]
  },
  {
   "cell_type": "code",
   "execution_count": 120,
   "metadata": {},
   "outputs": [],
   "source": [
    "args = (inputDF,df['Priority'])\n",
    "bounds = [ (10,100),(5,20),(2,10),(2,10) ] # order: n_estimators,max_depth,min_samples_split,min_samples_leaf"
   ]
  },
  {
   "cell_type": "code",
   "execution_count": 130,
   "metadata": {},
   "outputs": [],
   "source": [
    "def func(parameters, *args):\n",
    "    #print args[0], args[1]\n",
    "    parameters = map(int,parameters)\n",
    "    clf = RandomForestClassifier(\n",
    "        n_jobs=-1, \n",
    "        n_estimators=parameters[0], \n",
    "        max_depth=parameters[1],\n",
    "        min_samples_split=parameters[2],\n",
    "        min_samples_leaf=parameters[3],\n",
    "        class_weight=\"balanced\"\n",
    "    )\n",
    "    clf = RandomForestClassifier(class_weight=\"balanced\", n_jobs=-1)\n",
    "    f1scorer_macro = make_scorer(f1_score, average='macro')\n",
    "    f1 = cross_val_score(clf, args[0], args[1], scoring=f1scorer_macro, cv=3, n_jobs=-1)\n",
    "    average_f1 = np.mean(f1)\n",
    "    print average_f1, parameters\n",
    "    return -1*average_f1"
   ]
  },
  {
   "cell_type": "code",
   "execution_count": 132,
   "metadata": {},
   "outputs": [
    {
     "name": "stdout",
     "output_type": "stream",
     "text": [
      "0.385716100753 [14, 8, 2, 9]\n",
      "0.385716100753 [23, 8, 5, 2]\n",
      "0.385716100753 [47, 16, 8, 7]\n",
      "0.385716100753 [30, 5, 8, 8]\n",
      "0.385716100753 [68, 6, 4, 4]\n",
      "0.385716100753 [53, 11, 4, 5]\n",
      "0.385716100753 [10, 15, 8, 6]\n",
      "0.385716100753 [37, 19, 9, 3]\n",
      "0.385716100753 [70, 15, 3, 7]\n",
      "0.385716100753 [45, 12, 3, 7]\n",
      "0.385716100753 [62, 10, 5, 4]\n",
      "0.385716100753 [77, 13, 4, 3]\n",
      "0.385716100753 [59, 19, 6, 2]\n",
      "0.385716100753 [97, 11, 3, 8]\n",
      "0.385716100753 [73, 7, 7, 6]\n",
      "0.385716100753 [89, 14, 8, 6]\n",
      "0.385716100753 [99, 13, 6, 7]\n",
      "0.385716100753 [39, 12, 4, 9]\n",
      "0.385716100753 [17, 8, 2, 9]\n",
      "0.385716100753 [35, 5, 2, 3]\n",
      "0.385716100753 [88, 9, 4, 7]\n",
      "0.385716100753 [84, 7, 7, 2]\n",
      "0.385716100753 [55, 14, 7, 2]\n",
      "0.385716100753 [65, 6, 8, 9]\n",
      "0.385716100753 [84, 7, 2, 2]\n",
      "0.385716100753 [72, 5, 2, 8]\n",
      "0.385716100753 [24, 18, 9, 4]\n",
      "0.385716100753 [95, 18, 9, 3]\n",
      "0.385716100753 [28, 11, 5, 8]\n",
      "0.385716100753 [19, 17, 6, 8]\n",
      "0.385716100753 [14, 10, 3, 5]\n",
      "0.385716100753 [76, 16, 3, 6]\n",
      "0.385716100753 [58, 17, 9, 5]\n",
      "0.385716100753 [81, 16, 7, 4]\n",
      "0.385716100753 [91, 9, 6, 6]\n",
      "0.385716100753 [26, 14, 6, 4]\n",
      "0.385716100753 [49, 12, 5, 5]\n",
      "0.385716100753 [42, 19, 7, 5]\n",
      "0.385716100753 [51, 17, 5, 3]\n",
      "0.385716100753 [34, 9, 9, 9]\n",
      "0.390257285646 [96, 15, 2, 7]\n",
      "0.394504687707 [23, 19, 6, 2]\n",
      "0.381708552151 [19, 16, 8, 2]\n",
      "0.394477056613 [30, 16, 8, 2]\n",
      "0.389186602445 [41, 6, 2, 5]\n",
      "0.384844851011 [29, 12, 9, 5]\n",
      "0.399606057577 [10, 15, 6, 4]\n",
      "0.388329740665 [58, 13, 4, 4]\n",
      "0.396007245038 [45, 10, 4, 4]\n",
      "0.394819951271 [11, 18, 8, 7]\n",
      "0.393458444403 [38, 12, 5, 4]\n",
      "0.396422380552 [35, 13, 5, 2]\n",
      "0.385739352054 [22, 17, 6, 2]\n",
      "0.391825783653 [97, 13, 5, 3]\n",
      "0.385294803377 [73, 19, 7, 6]\n",
      "0.39430764848 [89, 14, 5, 2]\n",
      "0.394554073516 [27, 18, 8, 5]\n",
      "0.39039342734 [65, 17, 4, 2]\n",
      "0.382699607803 [17, 16, 5, 4]\n",
      "0.388644740534 [17, 14, 5, 3]\n",
      "0.386633697518 [63, 16, 3, 7]\n",
      "0.38342425135 [71, 16, 6, 2]\n",
      "0.385990340197 [22, 14, 6, 6]\n",
      "0.382622655516 [65, 11, 3, 4]\n",
      "0.394250762447 [37, 11, 3, 2]\n",
      "0.383669374884 [37, 5, 8, 2]\n",
      "0.387456180122 [24, 19, 9, 2]\n",
      "0.386598213776 [53, 18, 9, 7]\n",
      "0.387577046072 [26, 14, 8, 6]\n",
      "0.391480686289 [25, 16, 2, 8]\n",
      "0.383254081542 [14, 16, 2, 5]\n",
      "0.390148981975 [76, 17, 7, 6]\n",
      "0.38663347173 [32, 8, 8, 4]\n",
      "0.394499033579 [81, 18, 8, 3]\n",
      "0.391181774911 [21, 18, 9, 6]\n",
      "0.391301636987 [26, 9, 9, 2]\n",
      "0.39370565738 [80, 15, 8, 7]\n",
      "0.38037219259 [55, 6, 5, 2]\n",
      "0.386828178228 [17, 7, 3, 6]\n",
      "0.388264595843 [67, 18, 8, 9]\n",
      "0.388264595843 [10, 15, 6, 4]\n",
      "0.388264595843 [10, 15, 6, 4]\n",
      "0.388264595843 [10, 15, 6, 4]\n",
      "0.388264595843 [10, 15, 6, 4]\n",
      "0.388264595843 [10, 15, 6, 4]\n",
      "CPU times: user 48.2 s, sys: 10.8 s, total: 59 s\n",
      "Wall time: 17min 44s\n"
     ]
    }
   ],
   "source": [
    "%time result = differential_evolution(func, bounds, args, popsize=10, mutation=(0.5,1.9), recombination=0.7, maxiter=1)"
   ]
  },
  {
   "cell_type": "code",
   "execution_count": 135,
   "metadata": {},
   "outputs": [
    {
     "data": {
      "text/plain": [
       "array([ 10.04737239,  15.42451623,   6.78045424,   4.63141731])"
      ]
     },
     "execution_count": 135,
     "metadata": {},
     "output_type": "execute_result"
    }
   ],
   "source": [
    "result.x"
   ]
  },
  {
   "cell_type": "code",
   "execution_count": 136,
   "metadata": {},
   "outputs": [
    {
     "name": "stdout",
     "output_type": "stream",
     "text": [
      "Tuned Parameters: [10, 15, 6, 4]\n"
     ]
    }
   ],
   "source": [
    "parameters = map(int,result.x)\n",
    "print 'Tuned Parameters:',parameters"
   ]
  },
  {
   "cell_type": "code",
   "execution_count": 139,
   "metadata": {},
   "outputs": [
    {
     "name": "stdout",
     "output_type": "stream",
     "text": [
      "Cross validation metrics: 0.293654716975 0.0175176356588\n",
      "CPU times: user 1 s, sys: 4 ms, total: 1.01 s\n",
      "Wall time: 407 ms\n"
     ]
    },
    {
     "data": {
      "text/plain": [
       "RandomForestClassifier(bootstrap=True, class_weight='balanced',\n",
       "            criterion='gini', max_depth=15, max_features='auto',\n",
       "            max_leaf_nodes=None, min_impurity_decrease=0.0,\n",
       "            min_impurity_split=None, min_samples_leaf=4,\n",
       "            min_samples_split=6, min_weight_fraction_leaf=0.0,\n",
       "            n_estimators=10, n_jobs=-1, oob_score=False, random_state=None,\n",
       "            verbose=0, warm_start=False)"
      ]
     },
     "execution_count": 139,
     "metadata": {},
     "output_type": "execute_result"
    }
   ],
   "source": [
    "clf = RandomForestClassifier(\n",
    "        n_jobs=-1, \n",
    "        n_estimators=parameters[0], \n",
    "        max_depth=parameters[1],\n",
    "        min_samples_split=parameters[2],\n",
    "        min_samples_leaf=parameters[3],\n",
    "        class_weight='balanced'\n",
    "    )\n",
    "f1scorer_macro = make_scorer(f1_score, average='macro')\n",
    "f1 = cross_val_score(clf, inputDF, df['Priority'], scoring=f1scorer_macro, cv=10, n_jobs=-1)\n",
    "average_f1 = np.mean(f1)\n",
    "print 'Cross validation metrics:',average_f1, np.std(f1)\n",
    "%time clf.fit(inputDF, df['Priority'])"
   ]
  },
  {
   "cell_type": "code",
   "execution_count": 140,
   "metadata": {},
   "outputs": [
    {
     "name": "stdout",
     "output_type": "stream",
     "text": [
      "Cross validation metrics: 0.414096109438 0.0138912232415\n",
      "CPU times: user 30.7 s, sys: 0 ns, total: 30.7 s\n",
      "Wall time: 6.3 s\n"
     ]
    },
    {
     "data": {
      "text/plain": [
       "RandomForestClassifier(bootstrap=True, class_weight=None, criterion='gini',\n",
       "            max_depth=None, max_features='auto', max_leaf_nodes=None,\n",
       "            min_impurity_decrease=0.0, min_impurity_split=None,\n",
       "            min_samples_leaf=1, min_samples_split=2,\n",
       "            min_weight_fraction_leaf=0.0, n_estimators=10, n_jobs=-1,\n",
       "            oob_score=False, random_state=None, verbose=0,\n",
       "            warm_start=False)"
      ]
     },
     "execution_count": 140,
     "metadata": {},
     "output_type": "execute_result"
    }
   ],
   "source": [
    "clf = RandomForestClassifier(n_jobs=-1)\n",
    "f1scorer_macro = make_scorer(f1_score, average='macro')\n",
    "f1 = cross_val_score(clf, inputDF, df['Priority'], scoring=f1scorer_macro, cv=10, n_jobs=-1)\n",
    "average_f1 = np.mean(f1)\n",
    "print 'Cross validation metrics:',average_f1, np.std(f1)\n",
    "%time clf.fit(inputDF, df['Priority'])"
   ]
  }
 ],
 "metadata": {
  "kernelspec": {
   "display_name": "Python 2",
   "language": "python",
   "name": "python2"
  },
  "language_info": {
   "codemirror_mode": {
    "name": "ipython",
    "version": 2
   },
   "file_extension": ".py",
   "mimetype": "text/x-python",
   "name": "python",
   "nbconvert_exporter": "python",
   "pygments_lexer": "ipython2",
   "version": "2.7.12"
  }
 },
 "nbformat": 4,
 "nbformat_minor": 2
}
