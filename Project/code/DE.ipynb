{
 "cells": [
  {
   "cell_type": "markdown",
   "metadata": {},
   "source": [
    "# Differential Evolution for Hyperparameter Tuning"
   ]
  },
  {
   "cell_type": "code",
   "execution_count": 1,
   "metadata": {
    "collapsed": false
   },
   "outputs": [],
   "source": [
    "import numpy as np\n",
    "import pandas as pd\n",
    "from data_preprocessing import DataProcessor"
   ]
  },
  {
   "cell_type": "markdown",
   "metadata": {},
   "source": [
    "### Loading data and bringing in the right format"
   ]
  },
  {
   "cell_type": "code",
   "execution_count": 2,
   "metadata": {
    "collapsed": false
   },
   "outputs": [],
   "source": [
    "train_df = pd.read_csv('../data/processed/train_processed.csv')\n",
    "test_df = pd.read_csv('../data/processed/test_processed.csv')"
   ]
  },
  {
   "cell_type": "code",
   "execution_count": 3,
   "metadata": {
    "collapsed": true
   },
   "outputs": [],
   "source": [
    "p = DataProcessor()"
   ]
  },
  {
   "cell_type": "code",
   "execution_count": 4,
   "metadata": {
    "collapsed": false
   },
   "outputs": [
    {
     "name": "stdout",
     "output_type": "stream",
     "text": [
      "removed nan values\n",
      "count vectorizer finished fitting\n",
      "count vector finished transforming\n",
      "dummy variables created\n",
      "created a sparse matrix of all features\n"
     ]
    }
   ],
   "source": [
    "train_processed, train_original = p.fit_transform(train_df)"
   ]
  },
  {
   "cell_type": "code",
   "execution_count": 5,
   "metadata": {
    "collapsed": false
   },
   "outputs": [
    {
     "data": {
      "text/plain": [
       "<83041x15940 sparse matrix of type '<type 'numpy.float64'>'\n",
       "\twith 3359482 stored elements in Compressed Sparse Row format>"
      ]
     },
     "execution_count": 5,
     "metadata": {},
     "output_type": "execute_result"
    }
   ],
   "source": [
    "train_processed"
   ]
  },
  {
   "cell_type": "code",
   "execution_count": 6,
   "metadata": {
    "collapsed": false
   },
   "outputs": [
    {
     "name": "stdout",
     "output_type": "stream",
     "text": [
      "count vector finished transforming\n",
      "dummy variables created\n",
      "created a sparse matrix of all features\n"
     ]
    }
   ],
   "source": [
    "test_processed = p.transform(test_df)"
   ]
  },
  {
   "cell_type": "code",
   "execution_count": 7,
   "metadata": {
    "collapsed": false
   },
   "outputs": [
    {
     "data": {
      "text/plain": [
       "<20761x15940 sparse matrix of type '<type 'numpy.float64'>'\n",
       "\twith 837223 stored elements in Compressed Sparse Row format>"
      ]
     },
     "execution_count": 7,
     "metadata": {},
     "output_type": "execute_result"
    }
   ],
   "source": [
    "test_processed"
   ]
  },
  {
   "cell_type": "markdown",
   "metadata": {},
   "source": [
    "### ML model building"
   ]
  },
  {
   "cell_type": "code",
   "execution_count": 6,
   "metadata": {
    "collapsed": true
   },
   "outputs": [],
   "source": [
    "from sklearn.ensemble import RandomForestClassifier\n",
    "from sklearn.metrics import f1_score, make_scorer\n",
    "from sklearn.model_selection import cross_val_score\n",
    "# Differential evolution optimizer\n",
    "from scipy.optimize import differential_evolution"
   ]
  },
  {
   "cell_type": "code",
   "execution_count": 17,
   "metadata": {
    "collapsed": false
   },
   "outputs": [],
   "source": [
    "args = (train_processed,train_original['Priority'])\n",
    "bounds = [ (5,100),(5,20),(5,25) ] # order: n_estimators,max_depth,min_samples_split,min_samples_leaf"
   ]
  },
  {
   "cell_type": "code",
   "execution_count": 18,
   "metadata": {
    "collapsed": false
   },
   "outputs": [],
   "source": [
    "def func(parameters, *args):\n",
    "    #print args[0], args[1]\n",
    "    parameters = map(int,parameters)\n",
    "    clf = RandomForestClassifier(\n",
    "        n_jobs=-1, \n",
    "        n_estimators=parameters[0], \n",
    "        max_depth=None,\n",
    "        min_samples_split=parameters[1],\n",
    "        min_samples_leaf=parameters[2],\n",
    "        class_weight=\"balanced\"\n",
    "    )\n",
    "#     clf = RandomForestClassifier(class_weight=\"balanced\", n_jobs=-1)\n",
    "    f1scorer_macro = make_scorer(f1_score, average='macro')\n",
    "#     print args[0].shape, args[1].shape\n",
    "    f1 = cross_val_score(clf, args[0], args[1], scoring=f1scorer_macro, cv=3, n_jobs=-1)\n",
    "    average_f1 = np.mean(f1)\n",
    "    print average_f1, parameters\n",
    "    return -1*average_f1"
   ]
  },
  {
   "cell_type": "code",
   "execution_count": 19,
   "metadata": {
    "collapsed": false
   },
   "outputs": [
    {
     "name": "stdout",
     "output_type": "stream",
     "text": [
      "0.343635463661 [13, 5, 5]\n",
      "0.32037007655 [19, 9, 13]\n",
      "0.315756533928 [98, 11, 19]\n",
      "0.330654260912 [45, 11, 10]\n",
      "0.301185085018 [8, 12, 12]\n",
      "0.317887453694 [65, 11, 17]\n",
      "0.321983892985 [38, 6, 13]\n",
      "0.316816652694 [83, 9, 18]\n",
      "0.343370873513 [88, 16, 7]\n",
      "0.282815077261 [5, 17, 20]\n",
      "0.351471032253 [25, 9, 5]\n",
      "0.310337904842 [57, 5, 24]\n",
      "0.326205175916 [44, 10, 12]\n",
      "0.312781011969 [96, 18, 21]\n",
      "0.32910939736 [14, 16, 8]\n",
      "0.31416542802 [60, 17, 18]\n",
      "0.300919561841 [21, 12, 23]\n",
      "0.313273033782 [54, 7, 17]\n",
      "0.306841267446 [30, 15, 20]\n",
      "0.339114753529 [66, 18, 9]\n",
      "0.315148839827 [90, 13, 19]\n",
      "0.292271850335 [9, 6, 16]\n",
      "0.311069967404 [74, 17, 23]\n",
      "0.326929731088 [27, 15, 10]\n",
      "0.319435247495 [79, 7, 16]\n",
      "0.339172419565 [72, 10, 8]\n",
      "0.315343653394 [57, 8, 15]\n",
      "0.304910456788 [21, 6, 21]\n",
      "0.326822703137 [74, 19, 11]\n",
      "0.320620221595 [93, 15, 15]\n",
      "0.345006735692 [95, 19, 7]\n",
      "0.338545315818 [53, 14, 9]\n",
      "0.329479632971 [17, 13, 7]\n",
      "0.323642760641 [81, 12, 14]\n",
      "0.309952773909 [48, 8, 19]\n",
      "0.306409662161 [41, 10, 24]\n",
      "0.304397161628 [37, 13, 22]\n",
      "0.323968106495 [85, 5, 14]\n",
      "0.344844722487 [35, 16, 6]\n",
      "0.352647792838 [32, 14, 5]\n",
      "0.326744197423 [76, 18, 13]\n",
      "0.321891489538 [30, 14, 11]\n",
      "0.307218373603 [50, 8, 22]\n",
      "0.333615426838 [62, 19, 10]\n",
      "0.31193678401 [68, 7, 23]\n",
      "0.321122528164 [30, 8, 18]\n",
      "0.351337689969 [66, 17, 6]\n",
      "0.320782918066 [25, 12, 12]\n",
      "0.351324085533 [98, 5, 6]\n",
      "0.325684132238 [16, 12, 10]\n",
      "0.318757333215 [43, 12, 17]\n",
      "0.322991949806 [38, 12, 13]\n",
      "0.31086998031 [31, 18, 17]\n",
      "0.345910895933 [45, 7, 7]\n",
      "0.322400690112 [24, 8, 12]\n",
      "0.316367170597 [97, 15, 18]\n",
      "0.327076177813 [28, 5, 11]\n",
      "0.352778952357 [39, 5, 5]\n",
      "0.340633602489 [44, 14, 7]\n",
      "0.359767396727 [95, 19, 5]\n",
      "0.308224651677 [23, 17, 18]\n",
      "0.272029967028 [5, 7, 23]\n",
      "0.34159852709 [72, 7, 8]\n",
      "0.318257500189 [98, 11, 21]\n",
      "0.332249617977 [74, 7, 11]\n",
      "0.313377865773 [82, 13, 22]\n",
      "0.323595605188 [92, 13, 16]\n",
      "0.326426671939 [63, 17, 15]\n",
      "0.335669436084 [98, 15, 10]\n",
      "0.319007054721 [14, 7, 12]\n",
      "0.307032238929 [11, 17, 14]\n",
      "0.322627264007 [98, 8, 15]\n",
      "0.326413110252 [72, 5, 14]\n",
      "0.3438072913 [74, 7, 8]\n",
      "0.305500488598 [19, 18, 19]\n",
      "0.32449823905 [78, 12, 13]\n",
      "0.317533801119 [80, 7, 22]\n",
      "0.323474343772 [60, 13, 15]\n",
      "0.285337337069 [5, 10, 17]\n",
      "0.293488694095 [5, 12, 9]\n",
      "0.307102040506 [25, 11, 24]\n",
      "0.337723633488 [98, 6, 9]\n",
      "0.319205691142 [85, 14, 16]\n",
      "0.323340943032 [30, 16, 10]\n",
      "0.316583343367 [12, 5, 10]\n",
      "0.32998496871 [82, 15, 13]\n",
      "0.315322897682 [48, 10, 17]\n",
      "0.337777544912 [50, 6, 8]\n",
      "0.332215826089 [42, 11, 10]\n",
      "0.304220099969 [14, 7, 19]\n",
      "0.358337600283 [95, 17, 5]\n",
      "0.313322152128 [58, 14, 21]\n",
      "0.32715755367 [50, 8, 12]\n",
      "0.334817645796 [28, 6, 10]\n",
      "0.321852686929 [94, 12, 18]\n",
      "0.328456656915 [72, 8, 12]\n",
      "0.298676989178 [25, 5, 24]\n",
      "0.322033101359 [20, 13, 14]\n",
      "0.327295279543 [33, 6, 10]\n",
      "0.340384013398 [93, 12, 8]\n",
      "0.312240503185 [26, 8, 16]\n",
      "0.324588694846 [28, 14, 14]\n",
      "0.332248939048 [92, 13, 10]\n",
      "0.331566221523 [44, 6, 12]\n",
      "0.350076820663 [23, 11, 5]\n",
      "0.315409412318 [57, 5, 20]\n",
      "0.32138462239 [39, 12, 15]\n",
      "0.340215561875 [46, 9, 8]\n",
      "0.30727030895 [81, 12, 21]\n",
      "0.328952093312 [93, 18, 12]\n",
      "0.330743483571 [90, 13, 13]\n",
      "0.355688141735 [76, 7, 6]\n",
      "0.327198678144 [19, 11, 9]\n",
      "0.350907372752 [64, 6, 6]\n",
      "0.315842857674 [23, 17, 16]\n",
      "0.336981267565 [78, 11, 9]\n",
      "0.316189021872 [40, 5, 17]\n",
      "0.315554056403 [22, 6, 18]\n",
      "0.325431982439 [74, 7, 15]\n",
      "0.321695150736 [96, 11, 15]\n",
      "0.34237874729 [69, 11, 7]\n",
      "0.338547011255 [61, 5, 9]\n",
      "0.325929379218 [17, 9, 7]\n",
      "0.335784720436 [52, 12, 9]\n",
      "0.316630818102 [64, 10, 23]\n",
      "0.340240664633 [86, 12, 8]\n",
      "0.334826701816 [75, 11, 9]\n",
      "0.338673798788 [54, 8, 8]\n",
      "0.31214727175 [52, 6, 22]\n",
      "0.325320141249 [13, 12, 8]\n",
      "0.324877456541 [61, 19, 13]\n",
      "0.326875337336 [72, 14, 12]\n",
      "0.331825892702 [37, 11, 9]\n",
      "0.32233560394 [62, 6, 15]\n",
      "0.33652069945 [68, 7, 9]\n",
      "0.357868357369 [95, 19, 5]\n",
      "0.357868357369 [95, 19, 5]\n",
      "0.357868357369 [95, 19, 5]\n",
      "0.357868357369 [95, 19, 5]\n",
      "CPU times: user 1min 10s, sys: 18 s, total: 1min 28s\n",
      "Wall time: 41min 25s\n"
     ]
    }
   ],
   "source": [
    "%time result = differential_evolution(func, bounds, args, strategy='rand2bin', popsize=15, mutation=(0.5,1.9), recombination=0.7, maxiter=2)"
   ]
  },
  {
   "cell_type": "code",
   "execution_count": 20,
   "metadata": {
    "collapsed": false
   },
   "outputs": [
    {
     "data": {
      "text/plain": [
       "array([ 95.20061021,  19.34546557,   5.87881766])"
      ]
     },
     "execution_count": 20,
     "metadata": {},
     "output_type": "execute_result"
    }
   ],
   "source": [
    "result.x"
   ]
  },
  {
   "cell_type": "code",
   "execution_count": 21,
   "metadata": {
    "collapsed": false
   },
   "outputs": [
    {
     "name": "stdout",
     "output_type": "stream",
     "text": [
      "Tuned Parameters: [95, 19, 5]\n"
     ]
    }
   ],
   "source": [
    "parameters = map(int,result.x)\n",
    "print 'Tuned Parameters:',parameters"
   ]
  },
  {
   "cell_type": "code",
   "execution_count": 25,
   "metadata": {
    "collapsed": false
   },
   "outputs": [
    {
     "name": "stdout",
     "output_type": "stream",
     "text": [
      "Cross validation metrics: 0.361053886553 0.00499499768331\n"
     ]
    },
    {
     "ename": "NameError",
     "evalue": "name 'inputDF' is not defined",
     "output_type": "error",
     "traceback": [
      "\u001b[0;31m---------------------------------------------------------------------------\u001b[0m",
      "\u001b[0;31mNameError\u001b[0m                                 Traceback (most recent call last)",
      "\u001b[0;32m<ipython-input-25-032a535c74ba>\u001b[0m in \u001b[0;36m<module>\u001b[0;34m()\u001b[0m\n\u001b[1;32m     11\u001b[0m \u001b[0maverage_f1\u001b[0m \u001b[0;34m=\u001b[0m \u001b[0mnp\u001b[0m\u001b[0;34m.\u001b[0m\u001b[0mmean\u001b[0m\u001b[0;34m(\u001b[0m\u001b[0mf1\u001b[0m\u001b[0;34m)\u001b[0m\u001b[0;34m\u001b[0m\u001b[0m\n\u001b[1;32m     12\u001b[0m \u001b[0;32mprint\u001b[0m \u001b[0;34m'Cross validation metrics:'\u001b[0m\u001b[0;34m,\u001b[0m\u001b[0maverage_f1\u001b[0m\u001b[0;34m,\u001b[0m \u001b[0mnp\u001b[0m\u001b[0;34m.\u001b[0m\u001b[0mstd\u001b[0m\u001b[0;34m(\u001b[0m\u001b[0mf1\u001b[0m\u001b[0;34m)\u001b[0m\u001b[0;34m\u001b[0m\u001b[0m\n\u001b[0;32m---> 13\u001b[0;31m \u001b[0mget_ipython\u001b[0m\u001b[0;34m(\u001b[0m\u001b[0;34m)\u001b[0m\u001b[0;34m.\u001b[0m\u001b[0mmagic\u001b[0m\u001b[0;34m(\u001b[0m\u001b[0;34mu\"time clf.fit(inputDF, df['Priority'])\"\u001b[0m\u001b[0;34m)\u001b[0m\u001b[0;34m\u001b[0m\u001b[0m\n\u001b[0m",
      "\u001b[0;32m/Users/iankurgarg/anaconda/lib/python2.7/site-packages/IPython/core/interactiveshell.pyc\u001b[0m in \u001b[0;36mmagic\u001b[0;34m(self, arg_s)\u001b[0m\n\u001b[1;32m   2156\u001b[0m         \u001b[0mmagic_name\u001b[0m\u001b[0;34m,\u001b[0m \u001b[0m_\u001b[0m\u001b[0;34m,\u001b[0m \u001b[0mmagic_arg_s\u001b[0m \u001b[0;34m=\u001b[0m \u001b[0marg_s\u001b[0m\u001b[0;34m.\u001b[0m\u001b[0mpartition\u001b[0m\u001b[0;34m(\u001b[0m\u001b[0;34m' '\u001b[0m\u001b[0;34m)\u001b[0m\u001b[0;34m\u001b[0m\u001b[0m\n\u001b[1;32m   2157\u001b[0m         \u001b[0mmagic_name\u001b[0m \u001b[0;34m=\u001b[0m \u001b[0mmagic_name\u001b[0m\u001b[0;34m.\u001b[0m\u001b[0mlstrip\u001b[0m\u001b[0;34m(\u001b[0m\u001b[0mprefilter\u001b[0m\u001b[0;34m.\u001b[0m\u001b[0mESC_MAGIC\u001b[0m\u001b[0;34m)\u001b[0m\u001b[0;34m\u001b[0m\u001b[0m\n\u001b[0;32m-> 2158\u001b[0;31m         \u001b[0;32mreturn\u001b[0m \u001b[0mself\u001b[0m\u001b[0;34m.\u001b[0m\u001b[0mrun_line_magic\u001b[0m\u001b[0;34m(\u001b[0m\u001b[0mmagic_name\u001b[0m\u001b[0;34m,\u001b[0m \u001b[0mmagic_arg_s\u001b[0m\u001b[0;34m)\u001b[0m\u001b[0;34m\u001b[0m\u001b[0m\n\u001b[0m\u001b[1;32m   2159\u001b[0m \u001b[0;34m\u001b[0m\u001b[0m\n\u001b[1;32m   2160\u001b[0m     \u001b[0;31m#-------------------------------------------------------------------------\u001b[0m\u001b[0;34m\u001b[0m\u001b[0;34m\u001b[0m\u001b[0m\n",
      "\u001b[0;32m/Users/iankurgarg/anaconda/lib/python2.7/site-packages/IPython/core/interactiveshell.pyc\u001b[0m in \u001b[0;36mrun_line_magic\u001b[0;34m(self, magic_name, line)\u001b[0m\n\u001b[1;32m   2077\u001b[0m                 \u001b[0mkwargs\u001b[0m\u001b[0;34m[\u001b[0m\u001b[0;34m'local_ns'\u001b[0m\u001b[0;34m]\u001b[0m \u001b[0;34m=\u001b[0m \u001b[0msys\u001b[0m\u001b[0;34m.\u001b[0m\u001b[0m_getframe\u001b[0m\u001b[0;34m(\u001b[0m\u001b[0mstack_depth\u001b[0m\u001b[0;34m)\u001b[0m\u001b[0;34m.\u001b[0m\u001b[0mf_locals\u001b[0m\u001b[0;34m\u001b[0m\u001b[0m\n\u001b[1;32m   2078\u001b[0m             \u001b[0;32mwith\u001b[0m \u001b[0mself\u001b[0m\u001b[0;34m.\u001b[0m\u001b[0mbuiltin_trap\u001b[0m\u001b[0;34m:\u001b[0m\u001b[0;34m\u001b[0m\u001b[0m\n\u001b[0;32m-> 2079\u001b[0;31m                 \u001b[0mresult\u001b[0m \u001b[0;34m=\u001b[0m \u001b[0mfn\u001b[0m\u001b[0;34m(\u001b[0m\u001b[0;34m*\u001b[0m\u001b[0margs\u001b[0m\u001b[0;34m,\u001b[0m\u001b[0;34m**\u001b[0m\u001b[0mkwargs\u001b[0m\u001b[0;34m)\u001b[0m\u001b[0;34m\u001b[0m\u001b[0m\n\u001b[0m\u001b[1;32m   2080\u001b[0m             \u001b[0;32mreturn\u001b[0m \u001b[0mresult\u001b[0m\u001b[0;34m\u001b[0m\u001b[0m\n\u001b[1;32m   2081\u001b[0m \u001b[0;34m\u001b[0m\u001b[0m\n",
      "\u001b[0;32m<decorator-gen-59>\u001b[0m in \u001b[0;36mtime\u001b[0;34m(self, line, cell, local_ns)\u001b[0m\n",
      "\u001b[0;32m/Users/iankurgarg/anaconda/lib/python2.7/site-packages/IPython/core/magic.pyc\u001b[0m in \u001b[0;36m<lambda>\u001b[0;34m(f, *a, **k)\u001b[0m\n\u001b[1;32m    186\u001b[0m     \u001b[0;31m# but it's overkill for just that one bit of state.\u001b[0m\u001b[0;34m\u001b[0m\u001b[0;34m\u001b[0m\u001b[0m\n\u001b[1;32m    187\u001b[0m     \u001b[0;32mdef\u001b[0m \u001b[0mmagic_deco\u001b[0m\u001b[0;34m(\u001b[0m\u001b[0marg\u001b[0m\u001b[0;34m)\u001b[0m\u001b[0;34m:\u001b[0m\u001b[0;34m\u001b[0m\u001b[0m\n\u001b[0;32m--> 188\u001b[0;31m         \u001b[0mcall\u001b[0m \u001b[0;34m=\u001b[0m \u001b[0;32mlambda\u001b[0m \u001b[0mf\u001b[0m\u001b[0;34m,\u001b[0m \u001b[0;34m*\u001b[0m\u001b[0ma\u001b[0m\u001b[0;34m,\u001b[0m \u001b[0;34m**\u001b[0m\u001b[0mk\u001b[0m\u001b[0;34m:\u001b[0m \u001b[0mf\u001b[0m\u001b[0;34m(\u001b[0m\u001b[0;34m*\u001b[0m\u001b[0ma\u001b[0m\u001b[0;34m,\u001b[0m \u001b[0;34m**\u001b[0m\u001b[0mk\u001b[0m\u001b[0;34m)\u001b[0m\u001b[0;34m\u001b[0m\u001b[0m\n\u001b[0m\u001b[1;32m    189\u001b[0m \u001b[0;34m\u001b[0m\u001b[0m\n\u001b[1;32m    190\u001b[0m         \u001b[0;32mif\u001b[0m \u001b[0mcallable\u001b[0m\u001b[0;34m(\u001b[0m\u001b[0marg\u001b[0m\u001b[0;34m)\u001b[0m\u001b[0;34m:\u001b[0m\u001b[0;34m\u001b[0m\u001b[0m\n",
      "\u001b[0;32m/Users/iankurgarg/anaconda/lib/python2.7/site-packages/IPython/core/magics/execution.pyc\u001b[0m in \u001b[0;36mtime\u001b[0;34m(self, line, cell, local_ns)\u001b[0m\n\u001b[1;32m   1174\u001b[0m         \u001b[0;32mif\u001b[0m \u001b[0mmode\u001b[0m\u001b[0;34m==\u001b[0m\u001b[0;34m'eval'\u001b[0m\u001b[0;34m:\u001b[0m\u001b[0;34m\u001b[0m\u001b[0m\n\u001b[1;32m   1175\u001b[0m             \u001b[0mst\u001b[0m \u001b[0;34m=\u001b[0m \u001b[0mclock2\u001b[0m\u001b[0;34m(\u001b[0m\u001b[0;34m)\u001b[0m\u001b[0;34m\u001b[0m\u001b[0m\n\u001b[0;32m-> 1176\u001b[0;31m             \u001b[0mout\u001b[0m \u001b[0;34m=\u001b[0m \u001b[0meval\u001b[0m\u001b[0;34m(\u001b[0m\u001b[0mcode\u001b[0m\u001b[0;34m,\u001b[0m \u001b[0mglob\u001b[0m\u001b[0;34m,\u001b[0m \u001b[0mlocal_ns\u001b[0m\u001b[0;34m)\u001b[0m\u001b[0;34m\u001b[0m\u001b[0m\n\u001b[0m\u001b[1;32m   1177\u001b[0m             \u001b[0mend\u001b[0m \u001b[0;34m=\u001b[0m \u001b[0mclock2\u001b[0m\u001b[0;34m(\u001b[0m\u001b[0;34m)\u001b[0m\u001b[0;34m\u001b[0m\u001b[0m\n\u001b[1;32m   1178\u001b[0m         \u001b[0;32melse\u001b[0m\u001b[0;34m:\u001b[0m\u001b[0;34m\u001b[0m\u001b[0m\n",
      "\u001b[0;32m<timed eval>\u001b[0m in \u001b[0;36m<module>\u001b[0;34m()\u001b[0m\n",
      "\u001b[0;31mNameError\u001b[0m: name 'inputDF' is not defined"
     ]
    }
   ],
   "source": [
    "clf = RandomForestClassifier(\n",
    "        n_jobs=-1, \n",
    "        n_estimators=parameters[0], \n",
    "        max_depth=None,\n",
    "        min_samples_split=parameters[1],\n",
    "        min_samples_leaf=parameters[2],\n",
    "        class_weight='balanced'\n",
    "    )\n",
    "f1scorer_macro = make_scorer(f1_score, average='macro')\n",
    "f1 = cross_val_score(clf, train_processed, train_original['Priority'], scoring=f1scorer_macro, cv=10, n_jobs=-1)\n",
    "average_f1 = np.mean(f1)\n",
    "print 'Cross validation metrics:',average_f1, np.std(f1)\n",
    "%time clf.fit(inputDF, df['Priority'])"
   ]
  },
  {
   "cell_type": "code",
   "execution_count": 24,
   "metadata": {
    "collapsed": false
   },
   "outputs": [
    {
     "ename": "KeyboardInterrupt",
     "evalue": "",
     "output_type": "error",
     "traceback": [
      "\u001b[0;31m---------------------------------------------------------------------------\u001b[0m",
      "\u001b[0;31mKeyboardInterrupt\u001b[0m                         Traceback (most recent call last)",
      "\u001b[0;32m<ipython-input-24-3cc74f0e9010>\u001b[0m in \u001b[0;36m<module>\u001b[0;34m()\u001b[0m\n\u001b[1;32m      1\u001b[0m \u001b[0mclf\u001b[0m \u001b[0;34m=\u001b[0m \u001b[0mRandomForestClassifier\u001b[0m\u001b[0;34m(\u001b[0m\u001b[0mn_jobs\u001b[0m\u001b[0;34m=\u001b[0m\u001b[0;34m-\u001b[0m\u001b[0;36m1\u001b[0m\u001b[0;34m)\u001b[0m\u001b[0;34m\u001b[0m\u001b[0m\n\u001b[1;32m      2\u001b[0m \u001b[0mf1scorer_macro\u001b[0m \u001b[0;34m=\u001b[0m \u001b[0mmake_scorer\u001b[0m\u001b[0;34m(\u001b[0m\u001b[0mf1_score\u001b[0m\u001b[0;34m,\u001b[0m \u001b[0maverage\u001b[0m\u001b[0;34m=\u001b[0m\u001b[0;34m'macro'\u001b[0m\u001b[0;34m)\u001b[0m\u001b[0;34m\u001b[0m\u001b[0m\n\u001b[0;32m----> 3\u001b[0;31m \u001b[0mf1\u001b[0m \u001b[0;34m=\u001b[0m \u001b[0mcross_val_score\u001b[0m\u001b[0;34m(\u001b[0m\u001b[0mclf\u001b[0m\u001b[0;34m,\u001b[0m \u001b[0mtrain_processed\u001b[0m\u001b[0;34m,\u001b[0m \u001b[0mtrain_original\u001b[0m\u001b[0;34m[\u001b[0m\u001b[0;34m'Priority'\u001b[0m\u001b[0;34m]\u001b[0m\u001b[0;34m,\u001b[0m \u001b[0mscoring\u001b[0m\u001b[0;34m=\u001b[0m\u001b[0mf1scorer_macro\u001b[0m\u001b[0;34m,\u001b[0m \u001b[0mcv\u001b[0m\u001b[0;34m=\u001b[0m\u001b[0;36m10\u001b[0m\u001b[0;34m,\u001b[0m \u001b[0mn_jobs\u001b[0m\u001b[0;34m=\u001b[0m\u001b[0;34m-\u001b[0m\u001b[0;36m1\u001b[0m\u001b[0;34m)\u001b[0m\u001b[0;34m\u001b[0m\u001b[0m\n\u001b[0m\u001b[1;32m      4\u001b[0m \u001b[0maverage_f1\u001b[0m \u001b[0;34m=\u001b[0m \u001b[0mnp\u001b[0m\u001b[0;34m.\u001b[0m\u001b[0mmean\u001b[0m\u001b[0;34m(\u001b[0m\u001b[0mf1\u001b[0m\u001b[0;34m)\u001b[0m\u001b[0;34m\u001b[0m\u001b[0m\n\u001b[1;32m      5\u001b[0m \u001b[0;32mprint\u001b[0m \u001b[0;34m'Cross validation metrics:'\u001b[0m\u001b[0;34m,\u001b[0m\u001b[0maverage_f1\u001b[0m\u001b[0;34m,\u001b[0m \u001b[0mnp\u001b[0m\u001b[0;34m.\u001b[0m\u001b[0mstd\u001b[0m\u001b[0;34m(\u001b[0m\u001b[0mf1\u001b[0m\u001b[0;34m)\u001b[0m\u001b[0;34m\u001b[0m\u001b[0m\n",
      "\u001b[0;32m/Users/iankurgarg/anaconda/lib/python2.7/site-packages/sklearn/model_selection/_validation.pyc\u001b[0m in \u001b[0;36mcross_val_score\u001b[0;34m(estimator, X, y, groups, scoring, cv, n_jobs, verbose, fit_params, pre_dispatch)\u001b[0m\n\u001b[1;32m    138\u001b[0m                                               \u001b[0mtrain\u001b[0m\u001b[0;34m,\u001b[0m \u001b[0mtest\u001b[0m\u001b[0;34m,\u001b[0m \u001b[0mverbose\u001b[0m\u001b[0;34m,\u001b[0m \u001b[0mNone\u001b[0m\u001b[0;34m,\u001b[0m\u001b[0;34m\u001b[0m\u001b[0m\n\u001b[1;32m    139\u001b[0m                                               fit_params)\n\u001b[0;32m--> 140\u001b[0;31m                       for train, test in cv_iter)\n\u001b[0m\u001b[1;32m    141\u001b[0m     \u001b[0;32mreturn\u001b[0m \u001b[0mnp\u001b[0m\u001b[0;34m.\u001b[0m\u001b[0marray\u001b[0m\u001b[0;34m(\u001b[0m\u001b[0mscores\u001b[0m\u001b[0;34m)\u001b[0m\u001b[0;34m[\u001b[0m\u001b[0;34m:\u001b[0m\u001b[0;34m,\u001b[0m \u001b[0;36m0\u001b[0m\u001b[0;34m]\u001b[0m\u001b[0;34m\u001b[0m\u001b[0m\n\u001b[1;32m    142\u001b[0m \u001b[0;34m\u001b[0m\u001b[0m\n",
      "\u001b[0;32m/Users/iankurgarg/anaconda/lib/python2.7/site-packages/sklearn/externals/joblib/parallel.pyc\u001b[0m in \u001b[0;36m__call__\u001b[0;34m(self, iterable)\u001b[0m\n\u001b[1;32m    766\u001b[0m                 \u001b[0;31m# consumption.\u001b[0m\u001b[0;34m\u001b[0m\u001b[0;34m\u001b[0m\u001b[0m\n\u001b[1;32m    767\u001b[0m                 \u001b[0mself\u001b[0m\u001b[0;34m.\u001b[0m\u001b[0m_iterating\u001b[0m \u001b[0;34m=\u001b[0m \u001b[0mFalse\u001b[0m\u001b[0;34m\u001b[0m\u001b[0m\n\u001b[0;32m--> 768\u001b[0;31m             \u001b[0mself\u001b[0m\u001b[0;34m.\u001b[0m\u001b[0mretrieve\u001b[0m\u001b[0;34m(\u001b[0m\u001b[0;34m)\u001b[0m\u001b[0;34m\u001b[0m\u001b[0m\n\u001b[0m\u001b[1;32m    769\u001b[0m             \u001b[0;31m# Make sure that we get a last message telling us we are done\u001b[0m\u001b[0;34m\u001b[0m\u001b[0;34m\u001b[0m\u001b[0m\n\u001b[1;32m    770\u001b[0m             \u001b[0melapsed_time\u001b[0m \u001b[0;34m=\u001b[0m \u001b[0mtime\u001b[0m\u001b[0;34m.\u001b[0m\u001b[0mtime\u001b[0m\u001b[0;34m(\u001b[0m\u001b[0;34m)\u001b[0m \u001b[0;34m-\u001b[0m \u001b[0mself\u001b[0m\u001b[0;34m.\u001b[0m\u001b[0m_start_time\u001b[0m\u001b[0;34m\u001b[0m\u001b[0m\n",
      "\u001b[0;32m/Users/iankurgarg/anaconda/lib/python2.7/site-packages/sklearn/externals/joblib/parallel.pyc\u001b[0m in \u001b[0;36mretrieve\u001b[0;34m(self)\u001b[0m\n\u001b[1;32m    717\u001b[0m                     \u001b[0mensure_ready\u001b[0m \u001b[0;34m=\u001b[0m \u001b[0mself\u001b[0m\u001b[0;34m.\u001b[0m\u001b[0m_managed_backend\u001b[0m\u001b[0;34m\u001b[0m\u001b[0m\n\u001b[1;32m    718\u001b[0m                     \u001b[0mbackend\u001b[0m\u001b[0;34m.\u001b[0m\u001b[0mabort_everything\u001b[0m\u001b[0;34m(\u001b[0m\u001b[0mensure_ready\u001b[0m\u001b[0;34m=\u001b[0m\u001b[0mensure_ready\u001b[0m\u001b[0;34m)\u001b[0m\u001b[0;34m\u001b[0m\u001b[0m\n\u001b[0;32m--> 719\u001b[0;31m                 \u001b[0;32mraise\u001b[0m \u001b[0mexception\u001b[0m\u001b[0;34m\u001b[0m\u001b[0m\n\u001b[0m\u001b[1;32m    720\u001b[0m \u001b[0;34m\u001b[0m\u001b[0m\n\u001b[1;32m    721\u001b[0m     \u001b[0;32mdef\u001b[0m \u001b[0m__call__\u001b[0m\u001b[0;34m(\u001b[0m\u001b[0mself\u001b[0m\u001b[0;34m,\u001b[0m \u001b[0miterable\u001b[0m\u001b[0;34m)\u001b[0m\u001b[0;34m:\u001b[0m\u001b[0;34m\u001b[0m\u001b[0m\n",
      "\u001b[0;31mKeyboardInterrupt\u001b[0m: "
     ]
    }
   ],
   "source": [
    "clf = RandomForestClassifier(n_jobs=-1)\n",
    "f1scorer_macro = make_scorer(f1_score, average='macro')\n",
    "f1 = cross_val_score(clf, train_processed, train_original['Priority'], scoring=f1scorer_macro, cv=10, n_jobs=-1)\n",
    "average_f1 = np.mean(f1)\n",
    "print 'Cross validation metrics:',average_f1, np.std(f1)\n",
    "%time clf.fit(train_processed, train_original['Priority'])"
   ]
  },
  {
   "cell_type": "code",
   "execution_count": null,
   "metadata": {
    "collapsed": true
   },
   "outputs": [],
   "source": []
  }
 ],
 "metadata": {
  "anaconda-cloud": {},
  "kernelspec": {
   "display_name": "Python [default]",
   "language": "python",
   "name": "python2"
  },
  "language_info": {
   "codemirror_mode": {
    "name": "ipython",
    "version": 2
   },
   "file_extension": ".py",
   "mimetype": "text/x-python",
   "name": "python",
   "nbconvert_exporter": "python",
   "pygments_lexer": "ipython2",
   "version": "2.7.12"
  }
 },
 "nbformat": 4,
 "nbformat_minor": 2
}
