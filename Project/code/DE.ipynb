{
 "cells": [
  {
   "cell_type": "markdown",
   "metadata": {},
   "source": [
    "# Differential Evolution for Hyperparameter Tuning"
   ]
  },
  {
   "cell_type": "code",
   "execution_count": 1,
   "metadata": {
    "collapsed": false
   },
   "outputs": [],
   "source": [
    "import numpy as np\n",
    "import pandas as pd\n",
    "from data_preprocessing import DataProcessor"
   ]
  },
  {
   "cell_type": "markdown",
   "metadata": {},
   "source": [
    "### Loading data and bringing in the right format"
   ]
  },
  {
   "cell_type": "code",
   "execution_count": 2,
   "metadata": {
    "collapsed": false
   },
   "outputs": [],
   "source": [
    "train_df = pd.read_csv('../data/processed/train_processed.csv')\n",
    "test_df = pd.read_csv('../data/processed/test_processed.csv')"
   ]
  },
  {
   "cell_type": "code",
   "execution_count": 3,
   "metadata": {
    "collapsed": true
   },
   "outputs": [],
   "source": [
    "p = DataProcessor()"
   ]
  },
  {
   "cell_type": "code",
   "execution_count": 4,
   "metadata": {
    "collapsed": false
   },
   "outputs": [
    {
     "name": "stdout",
     "output_type": "stream",
     "text": [
      "removed nan values\n",
      "count vectorizer finished fitting\n",
      "count vector finished transforming\n",
      "dummy variables created\n",
      "created a sparse matrix of all features\n"
     ]
    }
   ],
   "source": [
    "train_processed, train_original = p.fit_transform(train_df)"
   ]
  },
  {
   "cell_type": "code",
   "execution_count": 5,
   "metadata": {
    "collapsed": false
   },
   "outputs": [
    {
     "data": {
      "text/plain": [
       "<83041x15940 sparse matrix of type '<type 'numpy.float64'>'\n",
       "\twith 3359482 stored elements in Compressed Sparse Row format>"
      ]
     },
     "execution_count": 5,
     "metadata": {},
     "output_type": "execute_result"
    }
   ],
   "source": [
    "train_processed"
   ]
  },
  {
   "cell_type": "code",
   "execution_count": 6,
   "metadata": {
    "collapsed": false
   },
   "outputs": [
    {
     "name": "stdout",
     "output_type": "stream",
     "text": [
      "count vector finished transforming\n",
      "dummy variables created\n",
      "created a sparse matrix of all features\n"
     ]
    }
   ],
   "source": [
    "test_processed = p.transform(test_df)"
   ]
  },
  {
   "cell_type": "code",
   "execution_count": 7,
   "metadata": {
    "collapsed": false
   },
   "outputs": [
    {
     "data": {
      "text/plain": [
       "<20761x15940 sparse matrix of type '<type 'numpy.float64'>'\n",
       "\twith 837223 stored elements in Compressed Sparse Row format>"
      ]
     },
     "execution_count": 7,
     "metadata": {},
     "output_type": "execute_result"
    }
   ],
   "source": [
    "test_processed"
   ]
  },
  {
   "cell_type": "markdown",
   "metadata": {},
   "source": [
    "### ML model building"
   ]
  },
  {
   "cell_type": "code",
   "execution_count": 6,
   "metadata": {
    "collapsed": true
   },
   "outputs": [],
   "source": [
    "from sklearn.ensemble import RandomForestClassifier\n",
    "from sklearn.metrics import f1_score, make_scorer\n",
    "from sklearn.model_selection import cross_val_score\n",
    "# Differential evolution optimizer\n",
    "from scipy.optimize import differential_evolution"
   ]
  },
  {
   "cell_type": "code",
   "execution_count": 17,
   "metadata": {
    "collapsed": false
   },
   "outputs": [],
   "source": [
    "args = (train_processed,train_original['Priority'])\n",
    "bounds = [ (5,100),(5,20),(5,25) ] # order: n_estimators,max_depth,min_samples_split,min_samples_leaf"
   ]
  },
  {
   "cell_type": "code",
   "execution_count": 18,
   "metadata": {
    "collapsed": false
   },
   "outputs": [],
   "source": [
    "def func(parameters, *args):\n",
    "    #print args[0], args[1]\n",
    "    parameters = map(int,parameters)\n",
    "    clf = RandomForestClassifier(\n",
    "        n_jobs=-1, \n",
    "        n_estimators=parameters[0], \n",
    "        max_depth=None,\n",
    "        min_samples_split=parameters[1],\n",
    "        min_samples_leaf=parameters[2],\n",
    "        class_weight=\"balanced\"\n",
    "    )\n",
    "#     clf = RandomForestClassifier(class_weight=\"balanced\", n_jobs=-1)\n",
    "    f1scorer_macro = make_scorer(f1_score, average='macro')\n",
    "#     print args[0].shape, args[1].shape\n",
    "    f1 = cross_val_score(clf, args[0], args[1], scoring=f1scorer_macro, cv=3, n_jobs=-1)\n",
    "    average_f1 = np.mean(f1)\n",
    "    print average_f1, parameters\n",
    "    return -1*average_f1"
   ]
  },
  {
   "cell_type": "code",
   "execution_count": null,
   "metadata": {
    "collapsed": false
   },
   "outputs": [
    {
     "name": "stdout",
     "output_type": "stream",
     "text": [
      "0.343635463661 [13, 5, 5]\n",
      "0.32037007655 [19, 9, 13]\n"
     ]
    }
   ],
   "source": [
    "%time result = differential_evolution(func, bounds, args, strategy='rand2bin', popsize=15, mutation=(0.5,1.9), recombination=0.7, maxiter=2)"
   ]
  },
  {
   "cell_type": "code",
   "execution_count": 38,
   "metadata": {
    "collapsed": false
   },
   "outputs": [
    {
     "data": {
      "text/plain": [
       "array([ 18.90506696,  12.07981089,   4.43601826,   1.16490721])"
      ]
     },
     "execution_count": 38,
     "metadata": {},
     "output_type": "execute_result"
    }
   ],
   "source": [
    "result.x"
   ]
  },
  {
   "cell_type": "code",
   "execution_count": 39,
   "metadata": {
    "collapsed": false
   },
   "outputs": [
    {
     "name": "stdout",
     "output_type": "stream",
     "text": [
      "Tuned Parameters: [18, 12, 4, 1]\n"
     ]
    }
   ],
   "source": [
    "parameters = map(int,result.x)\n",
    "print 'Tuned Parameters:',parameters"
   ]
  },
  {
   "cell_type": "code",
   "execution_count": 40,
   "metadata": {
    "collapsed": false
   },
   "outputs": [
    {
     "name": "stdout",
     "output_type": "stream",
     "text": [
      "Cross validation metrics: 0.312145369846 0.0127815664628\n",
      "CPU times: user 1.6 s, sys: 76.9 ms, total: 1.67 s\n",
      "Wall time: 737 ms\n"
     ]
    },
    {
     "data": {
      "text/plain": [
       "RandomForestClassifier(bootstrap=True, class_weight='balanced',\n",
       "            criterion='gini', max_depth=12, max_features='auto',\n",
       "            max_leaf_nodes=None, min_impurity_split=1e-07,\n",
       "            min_samples_leaf=1, min_samples_split=4,\n",
       "            min_weight_fraction_leaf=0.0, n_estimators=18, n_jobs=-1,\n",
       "            oob_score=False, random_state=None, verbose=0,\n",
       "            warm_start=False)"
      ]
     },
     "execution_count": 40,
     "metadata": {},
     "output_type": "execute_result"
    }
   ],
   "source": [
    "clf = RandomForestClassifier(\n",
    "        n_jobs=-1, \n",
    "        n_estimators=parameters[0], \n",
    "        max_depth=parameters[1],\n",
    "        min_samples_split=parameters[2],\n",
    "        min_samples_leaf=parameters[3],\n",
    "        class_weight='balanced'\n",
    "    )\n",
    "f1scorer_macro = make_scorer(f1_score, average='macro')\n",
    "f1 = cross_val_score(clf, inputDF, df['Priority'], scoring=f1scorer_macro, cv=10, n_jobs=-1)\n",
    "average_f1 = np.mean(f1)\n",
    "print 'Cross validation metrics:',average_f1, np.std(f1)\n",
    "%time clf.fit(inputDF, df['Priority'])"
   ]
  },
  {
   "cell_type": "code",
   "execution_count": 41,
   "metadata": {
    "collapsed": false
   },
   "outputs": [
    {
     "name": "stdout",
     "output_type": "stream",
     "text": [
      "Cross validation metrics: 0.412665846083 0.0134582934844\n",
      "CPU times: user 34.3 s, sys: 414 ms, total: 34.7 s\n",
      "Wall time: 11.9 s\n"
     ]
    },
    {
     "data": {
      "text/plain": [
       "RandomForestClassifier(bootstrap=True, class_weight=None, criterion='gini',\n",
       "            max_depth=None, max_features='auto', max_leaf_nodes=None,\n",
       "            min_impurity_split=1e-07, min_samples_leaf=1,\n",
       "            min_samples_split=2, min_weight_fraction_leaf=0.0,\n",
       "            n_estimators=10, n_jobs=-1, oob_score=False, random_state=None,\n",
       "            verbose=0, warm_start=False)"
      ]
     },
     "execution_count": 41,
     "metadata": {},
     "output_type": "execute_result"
    }
   ],
   "source": [
    "clf = RandomForestClassifier(n_jobs=-1)\n",
    "f1scorer_macro = make_scorer(f1_score, average='macro')\n",
    "f1 = cross_val_score(clf, inputDF, df['Priority'], scoring=f1scorer_macro, cv=10, n_jobs=-1)\n",
    "average_f1 = np.mean(f1)\n",
    "print 'Cross validation metrics:',average_f1, np.std(f1)\n",
    "%time clf.fit(inputDF, df['Priority'])"
   ]
  },
  {
   "cell_type": "code",
   "execution_count": null,
   "metadata": {
    "collapsed": true
   },
   "outputs": [],
   "source": []
  }
 ],
 "metadata": {
  "anaconda-cloud": {},
  "kernelspec": {
   "display_name": "Python [default]",
   "language": "python",
   "name": "python2"
  },
  "language_info": {
   "codemirror_mode": {
    "name": "ipython",
    "version": 2
   },
   "file_extension": ".py",
   "mimetype": "text/x-python",
   "name": "python",
   "nbconvert_exporter": "python",
   "pygments_lexer": "ipython2",
   "version": "2.7.12"
  }
 },
 "nbformat": 4,
 "nbformat_minor": 2
}
