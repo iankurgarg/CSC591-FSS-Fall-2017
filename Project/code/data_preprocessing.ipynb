{
 "cells": [
  {
   "cell_type": "markdown",
   "metadata": {},
   "source": [
    "### Preprocessing Eclipse Bug reports"
   ]
  },
  {
   "cell_type": "markdown",
   "metadata": {},
   "source": [
    "#### Description of attributes\n",
    "    Size of data: (103805, 13)\n",
    "    Bug ID: Unique Identifier\n",
    "    Important attributes: Product, Component, Assignee, Summary, Changed (possibly the frequency it has been changed with difference between opened and changed), Summary, Severity, Priority:\n",
    "    Unimportant attributes: Status and Resolution. [We will not know them for the test samples]\n",
    "    \n",
    "    Summary has 103802 values i.e. 3 missing values will have to investigate them.\n"
   ]
  },
  {
   "cell_type": "markdown",
   "metadata": {},
   "source": [
    "### Fixing of data formatting in the csv\n",
    "    Some rows have shifted right by a few columns due the the data delimiting in the csv like rows 3613, 258\n",
    "    That has been fixed and a new file total_fixed.csv has been saved"
   ]
  },
  {
   "cell_type": "code",
   "execution_count": 1,
   "metadata": {},
   "outputs": [],
   "source": [
    "import pandas as pd"
   ]
  },
  {
   "cell_type": "code",
   "execution_count": 2,
   "metadata": {},
   "outputs": [],
   "source": [
    "df = pd.read_csv('../data/total.csv')"
   ]
  },
  {
   "cell_type": "code",
   "execution_count": 6,
   "metadata": {},
   "outputs": [
    {
     "data": {
      "text/plain": [
       "(103805, 13)"
      ]
     },
     "execution_count": 6,
     "metadata": {},
     "output_type": "execute_result"
    }
   ],
   "source": [
    "df.shape"
   ]
  },
  {
   "cell_type": "code",
   "execution_count": 17,
   "metadata": {},
   "outputs": [],
   "source": [
    "import numpy as np"
   ]
  },
  {
   "cell_type": "code",
   "execution_count": 19,
   "metadata": {},
   "outputs": [
    {
     "data": {
      "text/plain": [
       "103805"
      ]
     },
     "execution_count": 19,
     "metadata": {},
     "output_type": "execute_result"
    }
   ],
   "source": [
    "len(np.unique(df['Bug ID']))"
   ]
  },
  {
   "cell_type": "code",
   "execution_count": 5,
   "metadata": {},
   "outputs": [
    {
     "data": {
      "text/html": [
       "<div>\n",
       "<style>\n",
       "    .dataframe thead tr:only-child th {\n",
       "        text-align: right;\n",
       "    }\n",
       "\n",
       "    .dataframe thead th {\n",
       "        text-align: left;\n",
       "    }\n",
       "\n",
       "    .dataframe tbody tr th {\n",
       "        vertical-align: top;\n",
       "    }\n",
       "</style>\n",
       "<table border=\"1\" class=\"dataframe\">\n",
       "  <thead>\n",
       "    <tr style=\"text-align: right;\">\n",
       "      <th></th>\n",
       "      <th>Product</th>\n",
       "      <th>Component</th>\n",
       "      <th>Assignee</th>\n",
       "      <th>Status</th>\n",
       "      <th>Resolution</th>\n",
       "      <th>Summary</th>\n",
       "      <th>Changed</th>\n",
       "      <th>Priority</th>\n",
       "      <th>Severity</th>\n",
       "      <th>Keywords</th>\n",
       "      <th>Summary.1</th>\n",
       "      <th>Opened</th>\n",
       "    </tr>\n",
       "  </thead>\n",
       "  <tbody>\n",
       "    <tr>\n",
       "      <th>count</th>\n",
       "      <td>103805</td>\n",
       "      <td>103805</td>\n",
       "      <td>103805</td>\n",
       "      <td>103805</td>\n",
       "      <td>103805</td>\n",
       "      <td>103802</td>\n",
       "      <td>103805</td>\n",
       "      <td>103805</td>\n",
       "      <td>103805</td>\n",
       "      <td>6814</td>\n",
       "      <td>103802</td>\n",
       "      <td>103805</td>\n",
       "    </tr>\n",
       "    <tr>\n",
       "      <th>unique</th>\n",
       "      <td>4</td>\n",
       "      <td>27</td>\n",
       "      <td>307</td>\n",
       "      <td>6</td>\n",
       "      <td>7</td>\n",
       "      <td>102339</td>\n",
       "      <td>88794</td>\n",
       "      <td>5</td>\n",
       "      <td>7</td>\n",
       "      <td>106</td>\n",
       "      <td>102339</td>\n",
       "      <td>96130</td>\n",
       "    </tr>\n",
       "    <tr>\n",
       "      <th>top</th>\n",
       "      <td>Platform</td>\n",
       "      <td>UI</td>\n",
       "      <td>jdt-ui-inbox@eclipse.org</td>\n",
       "      <td>RESOLVED</td>\n",
       "      <td>FIXED</td>\n",
       "      <td>#NAME?</td>\n",
       "      <td>9/27/05 9:12</td>\n",
       "      <td>P3</td>\n",
       "      <td>normal</td>\n",
       "      <td>performance</td>\n",
       "      <td>#NAME?</td>\n",
       "      <td>10/10/01 23:05</td>\n",
       "    </tr>\n",
       "    <tr>\n",
       "      <th>freq</th>\n",
       "      <td>60644</td>\n",
       "      <td>37694</td>\n",
       "      <td>3668</td>\n",
       "      <td>75695</td>\n",
       "      <td>53211</td>\n",
       "      <td>37</td>\n",
       "      <td>759</td>\n",
       "      <td>88902</td>\n",
       "      <td>71546</td>\n",
       "      <td>1272</td>\n",
       "      <td>37</td>\n",
       "      <td>61</td>\n",
       "    </tr>\n",
       "  </tbody>\n",
       "</table>\n",
       "</div>"
      ],
      "text/plain": [
       "         Product Component                  Assignee    Status Resolution  \\\n",
       "count     103805    103805                    103805    103805     103805   \n",
       "unique         4        27                       307         6          7   \n",
       "top     Platform        UI  jdt-ui-inbox@eclipse.org  RESOLVED      FIXED   \n",
       "freq       60644     37694                      3668     75695      53211   \n",
       "\n",
       "       Summary       Changed Priority Severity     Keywords Summary.1  \\\n",
       "count   103802        103805   103805   103805         6814    103802   \n",
       "unique  102339         88794        5        7          106    102339   \n",
       "top     #NAME?  9/27/05 9:12       P3   normal  performance    #NAME?   \n",
       "freq        37           759    88902    71546         1272        37   \n",
       "\n",
       "                Opened  \n",
       "count           103805  \n",
       "unique           96130  \n",
       "top     10/10/01 23:05  \n",
       "freq                61  "
      ]
     },
     "execution_count": 5,
     "metadata": {},
     "output_type": "execute_result"
    }
   ],
   "source": [
    "df.drop('Bug ID',axis=1,inplace=False).describe()"
   ]
  },
  {
   "cell_type": "code",
   "execution_count": 10,
   "metadata": {},
   "outputs": [
    {
     "data": {
      "text/html": [
       "<div>\n",
       "<style>\n",
       "    .dataframe thead tr:only-child th {\n",
       "        text-align: right;\n",
       "    }\n",
       "\n",
       "    .dataframe thead th {\n",
       "        text-align: left;\n",
       "    }\n",
       "\n",
       "    .dataframe tbody tr th {\n",
       "        vertical-align: top;\n",
       "    }\n",
       "</style>\n",
       "<table border=\"1\" class=\"dataframe\">\n",
       "  <thead>\n",
       "    <tr style=\"text-align: right;\">\n",
       "      <th></th>\n",
       "      <th>Bug ID</th>\n",
       "      <th>Product</th>\n",
       "      <th>Component</th>\n",
       "      <th>Assignee</th>\n",
       "      <th>Status</th>\n",
       "      <th>Resolution</th>\n",
       "      <th>Summary</th>\n",
       "      <th>Changed</th>\n",
       "      <th>Priority</th>\n",
       "      <th>Severity</th>\n",
       "      <th>Keywords</th>\n",
       "      <th>Summary.1</th>\n",
       "      <th>Opened</th>\n",
       "    </tr>\n",
       "  </thead>\n",
       "  <tbody>\n",
       "    <tr>\n",
       "      <th>538</th>\n",
       "      <td>1719</td>\n",
       "      <td>JDT</td>\n",
       "      <td>Debug</td>\n",
       "      <td>darin.eclipse@gmail.com</td>\n",
       "      <td>CLOSED</td>\n",
       "      <td>INVALID</td>\n",
       "      <td>NaN</td>\n",
       "      <td>11/2/01 8:56</td>\n",
       "      <td>P3</td>\n",
       "      <td>normal</td>\n",
       "      <td>NaN</td>\n",
       "      <td>NaN</td>\n",
       "      <td>10/10/01 22:18</td>\n",
       "    </tr>\n",
       "    <tr>\n",
       "      <th>26852</th>\n",
       "      <td>38524</td>\n",
       "      <td>Platform</td>\n",
       "      <td>SWT</td>\n",
       "      <td>platform-swt-inbox@eclipse.org</td>\n",
       "      <td>CLOSED</td>\n",
       "      <td>INVALID</td>\n",
       "      <td>NaN</td>\n",
       "      <td>6/5/03 13:04</td>\n",
       "      <td>P3</td>\n",
       "      <td>normal</td>\n",
       "      <td>NaN</td>\n",
       "      <td>NaN</td>\n",
       "      <td>6/5/03 11:35</td>\n",
       "    </tr>\n",
       "    <tr>\n",
       "      <th>44151</th>\n",
       "      <td>65246</td>\n",
       "      <td>JDT</td>\n",
       "      <td>UI</td>\n",
       "      <td>dirk_baeumer@ch.ibm.com</td>\n",
       "      <td>VERIFIED</td>\n",
       "      <td>FIXED</td>\n",
       "      <td>NaN</td>\n",
       "      <td>6/11/04 10:41</td>\n",
       "      <td>P3</td>\n",
       "      <td>normal</td>\n",
       "      <td>NaN</td>\n",
       "      <td>NaN</td>\n",
       "      <td>6/2/04 5:39</td>\n",
       "    </tr>\n",
       "  </tbody>\n",
       "</table>\n",
       "</div>"
      ],
      "text/plain": [
       "       Bug ID   Product Component                        Assignee    Status  \\\n",
       "538      1719       JDT     Debug         darin.eclipse@gmail.com    CLOSED   \n",
       "26852   38524  Platform       SWT  platform-swt-inbox@eclipse.org    CLOSED   \n",
       "44151   65246       JDT        UI         dirk_baeumer@ch.ibm.com  VERIFIED   \n",
       "\n",
       "      Resolution Summary        Changed Priority Severity Keywords Summary.1  \\\n",
       "538      INVALID     NaN   11/2/01 8:56       P3   normal      NaN       NaN   \n",
       "26852    INVALID     NaN   6/5/03 13:04       P3   normal      NaN       NaN   \n",
       "44151      FIXED     NaN  6/11/04 10:41       P3   normal      NaN       NaN   \n",
       "\n",
       "               Opened  \n",
       "538    10/10/01 22:18  \n",
       "26852    6/5/03 11:35  \n",
       "44151     6/2/04 5:39  "
      ]
     },
     "execution_count": 10,
     "metadata": {},
     "output_type": "execute_result"
    }
   ],
   "source": [
    "df.loc[df.Summary.isnull(),:]"
   ]
  },
  {
   "cell_type": "code",
   "execution_count": 13,
   "metadata": {},
   "outputs": [
    {
     "data": {
      "text/html": [
       "<div>\n",
       "<style>\n",
       "    .dataframe thead tr:only-child th {\n",
       "        text-align: right;\n",
       "    }\n",
       "\n",
       "    .dataframe thead th {\n",
       "        text-align: left;\n",
       "    }\n",
       "\n",
       "    .dataframe tbody tr th {\n",
       "        vertical-align: top;\n",
       "    }\n",
       "</style>\n",
       "<table border=\"1\" class=\"dataframe\">\n",
       "  <thead>\n",
       "    <tr style=\"text-align: right;\">\n",
       "      <th></th>\n",
       "      <th>Bug ID</th>\n",
       "      <th>Product</th>\n",
       "      <th>Component</th>\n",
       "      <th>Assignee</th>\n",
       "      <th>Status</th>\n",
       "      <th>Resolution</th>\n",
       "      <th>Summary</th>\n",
       "      <th>Changed</th>\n",
       "      <th>Priority</th>\n",
       "      <th>Severity</th>\n",
       "      <th>Keywords</th>\n",
       "      <th>Summary.1</th>\n",
       "      <th>Opened</th>\n",
       "    </tr>\n",
       "  </thead>\n",
       "  <tbody>\n",
       "    <tr>\n",
       "      <th>3610</th>\n",
       "      <td>5706</td>\n",
       "      <td>JDT</td>\n",
       "      <td>Core</td>\n",
       "      <td>philippe_mulet@fr.ibm.com</td>\n",
       "      <td>RESOLVED</td>\n",
       "      <td>WORKSFORME</td>\n",
       "      <td>Cannot add two folders w/ same name but diff p...</td>\n",
       "      <td>2/7/02 8:46</td>\n",
       "      <td>P1</td>\n",
       "      <td>normal</td>\n",
       "      <td>NaN</td>\n",
       "      <td>Cannot add two folders w/ same name but diff p...</td>\n",
       "      <td>11/9/01 8:59</td>\n",
       "    </tr>\n",
       "    <tr>\n",
       "      <th>3611</th>\n",
       "      <td>8230</td>\n",
       "      <td>Platform</td>\n",
       "      <td>Debug</td>\n",
       "      <td>darin.eclipse@gmail.com</td>\n",
       "      <td>VERIFIED</td>\n",
       "      <td>FIXED</td>\n",
       "      <td>Console does not show process as &lt;terminated&gt;;...</td>\n",
       "      <td>2/7/02 9:14</td>\n",
       "      <td>P3</td>\n",
       "      <td>normal</td>\n",
       "      <td>NaN</td>\n",
       "      <td>Console does not show process as &lt;terminated&gt;;...</td>\n",
       "      <td>1/23/02 14:09</td>\n",
       "    </tr>\n",
       "  </tbody>\n",
       "</table>\n",
       "</div>"
      ],
      "text/plain": [
       "      Bug ID   Product Component                   Assignee    Status  \\\n",
       "3610    5706       JDT      Core  philippe_mulet@fr.ibm.com  RESOLVED   \n",
       "3611    8230  Platform     Debug    darin.eclipse@gmail.com  VERIFIED   \n",
       "\n",
       "      Resolution                                            Summary  \\\n",
       "3610  WORKSFORME  Cannot add two folders w/ same name but diff p...   \n",
       "3611       FIXED  Console does not show process as <terminated>;...   \n",
       "\n",
       "          Changed Priority Severity Keywords  \\\n",
       "3610  2/7/02 8:46       P1   normal      NaN   \n",
       "3611  2/7/02 9:14       P3   normal      NaN   \n",
       "\n",
       "                                              Summary.1         Opened  \n",
       "3610  Cannot add two folders w/ same name but diff p...   11/9/01 8:59  \n",
       "3611  Console does not show process as <terminated>;...  1/23/02 14:09  "
      ]
     },
     "execution_count": 13,
     "metadata": {},
     "output_type": "execute_result"
    }
   ],
   "source": [
    "df.iloc[[257,258],:]"
   ]
  },
  {
   "cell_type": "code",
   "execution_count": 14,
   "metadata": {},
   "outputs": [],
   "source": [
    "df.to_csv('../data/total_fixed.csv',index=False,header=True)"
   ]
  },
  {
   "cell_type": "markdown",
   "metadata": {},
   "source": [
    "### Text preprocessing according to the Paper\n",
    "\n",
    "1. Tokenization - word level\n",
    "2. Stop-Word removal - 30 stop words: TIFIDF has that feature\n",
    "3. Stemming - Porter Stemming.\n",
    "\n",
    "This will be done only on the Summary attribute as others are categorical attributes.\n"
   ]
  },
  {
   "cell_type": "code",
   "execution_count": 1,
   "metadata": {},
   "outputs": [],
   "source": [
    "import pandas as pd\n",
    "import numpy as np"
   ]
  },
  {
   "cell_type": "code",
   "execution_count": 2,
   "metadata": {},
   "outputs": [],
   "source": [
    "df = pd.read_csv('../data/total_fixed.csv')"
   ]
  },
  {
   "cell_type": "code",
   "execution_count": 3,
   "metadata": {},
   "outputs": [],
   "source": [
    "df.drop(['Keywords','Summary.1','Status','Resolution','Changed','Opened'],axis=1,inplace=True)"
   ]
  },
  {
   "cell_type": "code",
   "execution_count": 4,
   "metadata": {},
   "outputs": [
    {
     "data": {
      "text/plain": [
       "Index([u'Bug ID', u'Product', u'Component', u'Assignee', u'Summary',\n",
       "       u'Priority', u'Severity'],\n",
       "      dtype='object')"
      ]
     },
     "execution_count": 4,
     "metadata": {},
     "output_type": "execute_result"
    }
   ],
   "source": [
    "df.columns"
   ]
  },
  {
   "cell_type": "code",
   "execution_count": 5,
   "metadata": {},
   "outputs": [],
   "source": [
    "df.dropna(inplace=True)"
   ]
  },
  {
   "cell_type": "code",
   "execution_count": 6,
   "metadata": {},
   "outputs": [
    {
     "data": {
      "text/plain": [
       "Bug ID       0\n",
       "Product      0\n",
       "Component    0\n",
       "Assignee     0\n",
       "Summary      0\n",
       "Priority     0\n",
       "Severity     0\n",
       "dtype: int64"
      ]
     },
     "execution_count": 6,
     "metadata": {},
     "output_type": "execute_result"
    }
   ],
   "source": [
    "df.isnull().sum()"
   ]
  },
  {
   "cell_type": "code",
   "execution_count": 7,
   "metadata": {},
   "outputs": [],
   "source": [
    "df.reset_index(inplace=True)"
   ]
  },
  {
   "cell_type": "markdown",
   "metadata": {},
   "source": [
    "### Null values removed and only important features are kept"
   ]
  },
  {
   "cell_type": "code",
   "execution_count": 65,
   "metadata": {},
   "outputs": [],
   "source": [
    "import nltk\n",
    "from nltk.tokenize import RegexpTokenizer\n",
    "from nltk.stem.porter import PorterStemmer\n",
    "import re\n",
    "\n",
    "tokenizer = RegexpTokenizer(r'\\w+')\n",
    "stopwords = set(nltk.corpus.stopwords.words('english'))\n",
    "stemmer = PorterStemmer()"
   ]
  },
  {
   "cell_type": "code",
   "execution_count": 66,
   "metadata": {},
   "outputs": [],
   "source": [
    "# tokenizer.tokenize('Eighty-seven miles to go, yet.  Onward!')\n",
    "def tokenize_stop_stem(text):\n",
    "    try:\n",
    "        tokens = tokenizer.tokenize(text)\n",
    "        # filter out any tokens not containing letters (e.g., numeric tokens, raw punctuation) and stem\n",
    "        filtered_tokens = []\n",
    "        for token in tokens:\n",
    "            token = token.lower()\n",
    "            if token not in stopwords:\n",
    "                if not re.search('[0-9]', token):\n",
    "                    try:\n",
    "                        token = stemmer.stem(token)\n",
    "                        filtered_tokens.append(token)\n",
    "                    except UnicodeDecodeError:\n",
    "                        print 'illeagal token ignored:',token\n",
    "                        pass\n",
    "    except UnicodeDecodeError:\n",
    "        print 'illeagal token ignored:',token\n",
    "        pass\n",
    "    return filtered_tokens"
   ]
  },
  {
   "cell_type": "markdown",
   "metadata": {},
   "source": [
    "### Run sklearn countvectorizer"
   ]
  },
  {
   "cell_type": "code",
   "execution_count": 115,
   "metadata": {},
   "outputs": [],
   "source": [
    "from sklearn.feature_extraction.text import CountVectorizer"
   ]
  },
  {
   "cell_type": "code",
   "execution_count": 116,
   "metadata": {},
   "outputs": [],
   "source": [
    "countVect = CountVectorizer(input='content',lowercase=False, max_features=395996, tokenizer=tokenize_stop_stem, decode_error='ignore')"
   ]
  },
  {
   "cell_type": "code",
   "execution_count": 117,
   "metadata": {},
   "outputs": [],
   "source": [
    "countVector = countVect.fit_transform(df.Summary)"
   ]
  },
  {
   "cell_type": "code",
   "execution_count": 118,
   "metadata": {},
   "outputs": [
    {
     "data": {
      "text/plain": [
       "<103802x17868 sparse matrix of type '<type 'numpy.int64'>'\n",
       "\twith 584285 stored elements in Compressed Sparse Row format>"
      ]
     },
     "execution_count": 118,
     "metadata": {},
     "output_type": "execute_result"
    }
   ],
   "source": [
    "countVector"
   ]
  },
  {
   "cell_type": "code",
   "execution_count": 119,
   "metadata": {},
   "outputs": [
    {
     "data": {
      "text/plain": [
       "(103802, 17868)"
      ]
     },
     "execution_count": 119,
     "metadata": {},
     "output_type": "execute_result"
    }
   ],
   "source": [
    "countVector.shape"
   ]
  },
  {
   "cell_type": "markdown",
   "metadata": {},
   "source": [
    "### Summary attribute has been preprocessed. Get dummy variables and join them as CSR and join with countvectors"
   ]
  },
  {
   "cell_type": "code",
   "execution_count": 16,
   "metadata": {},
   "outputs": [],
   "source": [
    "dummy_df = pd.get_dummies( df[['Product','Component','Assignee','Severity']] )"
   ]
  },
  {
   "cell_type": "code",
   "execution_count": 17,
   "metadata": {},
   "outputs": [
    {
     "data": {
      "text/html": [
       "<div>\n",
       "<style>\n",
       "    .dataframe thead tr:only-child th {\n",
       "        text-align: right;\n",
       "    }\n",
       "\n",
       "    .dataframe thead th {\n",
       "        text-align: left;\n",
       "    }\n",
       "\n",
       "    .dataframe tbody tr th {\n",
       "        vertical-align: top;\n",
       "    }\n",
       "</style>\n",
       "<table border=\"1\" class=\"dataframe\">\n",
       "  <thead>\n",
       "    <tr style=\"text-align: right;\">\n",
       "      <th></th>\n",
       "      <th>Product_Equinox</th>\n",
       "      <th>Product_JDT</th>\n",
       "      <th>Product_PDE</th>\n",
       "      <th>Product_Platform</th>\n",
       "      <th>Component_APT</th>\n",
       "      <th>Component_Ant</th>\n",
       "      <th>Component_Build</th>\n",
       "      <th>Component_CVS</th>\n",
       "      <th>Component_Compare</th>\n",
       "      <th>Component_Compendium</th>\n",
       "      <th>...</th>\n",
       "      <th>Assignee_wtp-dev@eclipse.org</th>\n",
       "      <th>Assignee_ymnk@jcraft.com</th>\n",
       "      <th>Assignee_zhiyongl@ca.ibm.com</th>\n",
       "      <th>Severity_blocker</th>\n",
       "      <th>Severity_critical</th>\n",
       "      <th>Severity_enhancement</th>\n",
       "      <th>Severity_major</th>\n",
       "      <th>Severity_minor</th>\n",
       "      <th>Severity_normal</th>\n",
       "      <th>Severity_trivial</th>\n",
       "    </tr>\n",
       "  </thead>\n",
       "  <tbody>\n",
       "    <tr>\n",
       "      <th>0</th>\n",
       "      <td>0</td>\n",
       "      <td>0</td>\n",
       "      <td>0</td>\n",
       "      <td>1</td>\n",
       "      <td>0</td>\n",
       "      <td>0</td>\n",
       "      <td>0</td>\n",
       "      <td>0</td>\n",
       "      <td>0</td>\n",
       "      <td>0</td>\n",
       "      <td>...</td>\n",
       "      <td>0</td>\n",
       "      <td>0</td>\n",
       "      <td>0</td>\n",
       "      <td>0</td>\n",
       "      <td>0</td>\n",
       "      <td>0</td>\n",
       "      <td>0</td>\n",
       "      <td>0</td>\n",
       "      <td>1</td>\n",
       "      <td>0</td>\n",
       "    </tr>\n",
       "    <tr>\n",
       "      <th>1</th>\n",
       "      <td>0</td>\n",
       "      <td>0</td>\n",
       "      <td>0</td>\n",
       "      <td>1</td>\n",
       "      <td>0</td>\n",
       "      <td>0</td>\n",
       "      <td>0</td>\n",
       "      <td>0</td>\n",
       "      <td>0</td>\n",
       "      <td>0</td>\n",
       "      <td>...</td>\n",
       "      <td>0</td>\n",
       "      <td>0</td>\n",
       "      <td>0</td>\n",
       "      <td>0</td>\n",
       "      <td>0</td>\n",
       "      <td>0</td>\n",
       "      <td>0</td>\n",
       "      <td>0</td>\n",
       "      <td>1</td>\n",
       "      <td>0</td>\n",
       "    </tr>\n",
       "    <tr>\n",
       "      <th>2</th>\n",
       "      <td>0</td>\n",
       "      <td>0</td>\n",
       "      <td>0</td>\n",
       "      <td>1</td>\n",
       "      <td>0</td>\n",
       "      <td>0</td>\n",
       "      <td>0</td>\n",
       "      <td>0</td>\n",
       "      <td>0</td>\n",
       "      <td>0</td>\n",
       "      <td>...</td>\n",
       "      <td>0</td>\n",
       "      <td>0</td>\n",
       "      <td>0</td>\n",
       "      <td>0</td>\n",
       "      <td>0</td>\n",
       "      <td>0</td>\n",
       "      <td>0</td>\n",
       "      <td>0</td>\n",
       "      <td>1</td>\n",
       "      <td>0</td>\n",
       "    </tr>\n",
       "    <tr>\n",
       "      <th>3</th>\n",
       "      <td>0</td>\n",
       "      <td>0</td>\n",
       "      <td>0</td>\n",
       "      <td>1</td>\n",
       "      <td>0</td>\n",
       "      <td>0</td>\n",
       "      <td>0</td>\n",
       "      <td>0</td>\n",
       "      <td>0</td>\n",
       "      <td>0</td>\n",
       "      <td>...</td>\n",
       "      <td>0</td>\n",
       "      <td>0</td>\n",
       "      <td>0</td>\n",
       "      <td>0</td>\n",
       "      <td>0</td>\n",
       "      <td>0</td>\n",
       "      <td>0</td>\n",
       "      <td>0</td>\n",
       "      <td>1</td>\n",
       "      <td>0</td>\n",
       "    </tr>\n",
       "    <tr>\n",
       "      <th>4</th>\n",
       "      <td>0</td>\n",
       "      <td>0</td>\n",
       "      <td>0</td>\n",
       "      <td>1</td>\n",
       "      <td>0</td>\n",
       "      <td>0</td>\n",
       "      <td>0</td>\n",
       "      <td>0</td>\n",
       "      <td>0</td>\n",
       "      <td>0</td>\n",
       "      <td>...</td>\n",
       "      <td>0</td>\n",
       "      <td>0</td>\n",
       "      <td>0</td>\n",
       "      <td>0</td>\n",
       "      <td>0</td>\n",
       "      <td>0</td>\n",
       "      <td>0</td>\n",
       "      <td>0</td>\n",
       "      <td>1</td>\n",
       "      <td>0</td>\n",
       "    </tr>\n",
       "  </tbody>\n",
       "</table>\n",
       "<p>5 rows × 345 columns</p>\n",
       "</div>"
      ],
      "text/plain": [
       "   Product_Equinox  Product_JDT  Product_PDE  Product_Platform  Component_APT  \\\n",
       "0                0            0            0                 1              0   \n",
       "1                0            0            0                 1              0   \n",
       "2                0            0            0                 1              0   \n",
       "3                0            0            0                 1              0   \n",
       "4                0            0            0                 1              0   \n",
       "\n",
       "   Component_Ant  Component_Build  Component_CVS  Component_Compare  \\\n",
       "0              0                0              0                  0   \n",
       "1              0                0              0                  0   \n",
       "2              0                0              0                  0   \n",
       "3              0                0              0                  0   \n",
       "4              0                0              0                  0   \n",
       "\n",
       "   Component_Compendium        ...         Assignee_wtp-dev@eclipse.org  \\\n",
       "0                     0        ...                                    0   \n",
       "1                     0        ...                                    0   \n",
       "2                     0        ...                                    0   \n",
       "3                     0        ...                                    0   \n",
       "4                     0        ...                                    0   \n",
       "\n",
       "   Assignee_ymnk@jcraft.com  Assignee_zhiyongl@ca.ibm.com  Severity_blocker  \\\n",
       "0                         0                             0                 0   \n",
       "1                         0                             0                 0   \n",
       "2                         0                             0                 0   \n",
       "3                         0                             0                 0   \n",
       "4                         0                             0                 0   \n",
       "\n",
       "   Severity_critical  Severity_enhancement  Severity_major  Severity_minor  \\\n",
       "0                  0                     0               0               0   \n",
       "1                  0                     0               0               0   \n",
       "2                  0                     0               0               0   \n",
       "3                  0                     0               0               0   \n",
       "4                  0                     0               0               0   \n",
       "\n",
       "   Severity_normal  Severity_trivial  \n",
       "0                1                 0  \n",
       "1                1                 0  \n",
       "2                1                 0  \n",
       "3                1                 0  \n",
       "4                1                 0  \n",
       "\n",
       "[5 rows x 345 columns]"
      ]
     },
     "execution_count": 17,
     "metadata": {},
     "output_type": "execute_result"
    }
   ],
   "source": [
    "dummy_df.head()"
   ]
  },
  {
   "cell_type": "code",
   "execution_count": 120,
   "metadata": {},
   "outputs": [],
   "source": [
    "from scipy import sparse"
   ]
  },
  {
   "cell_type": "code",
   "execution_count": 19,
   "metadata": {},
   "outputs": [],
   "source": [
    "dummy_sparse = sparse.csr_matrix(dummy_df.values)"
   ]
  },
  {
   "cell_type": "code",
   "execution_count": 121,
   "metadata": {},
   "outputs": [],
   "source": [
    "other_sparse = sparse.csr_matrix(other_features.values)"
   ]
  },
  {
   "cell_type": "code",
   "execution_count": 20,
   "metadata": {},
   "outputs": [],
   "source": [
    "inputDF = sparse.hstack((dummy_sparse,countVector),format=\"csr\")"
   ]
  },
  {
   "cell_type": "code",
   "execution_count": 122,
   "metadata": {},
   "outputs": [],
   "source": [
    "inputDF = sparse.hstack((other_features,countVector),format=\"csr\")"
   ]
  },
  {
   "cell_type": "code",
   "execution_count": 75,
   "metadata": {},
   "outputs": [
    {
     "name": "stdout",
     "output_type": "stream",
     "text": [
      "  (0, 3)\t1\n",
      "  (0, 26)\t1\n",
      "  (0, 49)\t1\n",
      "  (0, 343)\t1\n",
      "  (0, 345)\t2973\n",
      "  (0, 346)\t2024\n",
      "  (0, 347)\t2338\n",
      "  (0, 348)\t2973\n",
      "  (0, 349)\t2024\n",
      "  (0, 350)\t2338\n",
      "  (0, 351)\t2973\n",
      "  (0, 352)\t2024\n",
      "  (0, 353)\t2338\n",
      "  (0, 354)\t2973\n",
      "  (0, 355)\t2024\n",
      "  (0, 356)\t2338\n",
      "  (0, 15006)\t1\n",
      "  (0, 15974)\t1\n",
      "  (0, 16071)\t1\n"
     ]
    }
   ],
   "source": [
    "print inputDF[0]"
   ]
  },
  {
   "cell_type": "code",
   "execution_count": 76,
   "metadata": {},
   "outputs": [
    {
     "name": "stdout",
     "output_type": "stream",
     "text": [
      "  (0, 15714)\t1\n",
      "  (0, 14649)\t1\n",
      "  (0, 15617)\t1\n"
     ]
    }
   ],
   "source": [
    "print countVector[0]"
   ]
  },
  {
   "cell_type": "code",
   "execution_count": 77,
   "metadata": {},
   "outputs": [
    {
     "name": "stdout",
     "output_type": "stream",
     "text": [
      "  (0, 3)\t1\n",
      "  (0, 26)\t1\n",
      "  (0, 49)\t1\n",
      "  (0, 343)\t1\n",
      "  (0, 345)\t2973\n",
      "  (0, 346)\t2024\n",
      "  (0, 347)\t2338\n",
      "  (0, 348)\t2973\n",
      "  (0, 349)\t2024\n",
      "  (0, 350)\t2338\n",
      "  (0, 351)\t2973\n",
      "  (0, 352)\t2024\n",
      "  (0, 353)\t2338\n",
      "  (0, 354)\t2973\n",
      "  (0, 355)\t2024\n",
      "  (0, 356)\t2338\n"
     ]
    }
   ],
   "source": [
    "print other_sparse[0]"
   ]
  },
  {
   "cell_type": "markdown",
   "metadata": {},
   "source": [
    "### Input Data is ready for algorithms to process"
   ]
  },
  {
   "cell_type": "markdown",
   "metadata": {},
   "source": [
    "##### Random Forest with training accuracy"
   ]
  },
  {
   "cell_type": "code",
   "execution_count": 123,
   "metadata": {},
   "outputs": [],
   "source": [
    "from sklearn.ensemble import RandomForestClassifier"
   ]
  },
  {
   "cell_type": "code",
   "execution_count": 124,
   "metadata": {},
   "outputs": [],
   "source": [
    "clf = RandomForestClassifier(n_jobs=-1)"
   ]
  },
  {
   "cell_type": "code",
   "execution_count": 80,
   "metadata": {},
   "outputs": [
    {
     "name": "stdout",
     "output_type": "stream",
     "text": [
      "CPU times: user 42.9 s, sys: 224 ms, total: 43.1 s\n",
      "Wall time: 8.7 s\n"
     ]
    },
    {
     "data": {
      "text/plain": [
       "RandomForestClassifier(bootstrap=True, class_weight=None, criterion='gini',\n",
       "            max_depth=None, max_features='auto', max_leaf_nodes=None,\n",
       "            min_impurity_decrease=0.0, min_impurity_split=None,\n",
       "            min_samples_leaf=1, min_samples_split=2,\n",
       "            min_weight_fraction_leaf=0.0, n_estimators=10, n_jobs=-1,\n",
       "            oob_score=False, random_state=None, verbose=0,\n",
       "            warm_start=False)"
      ]
     },
     "execution_count": 80,
     "metadata": {},
     "output_type": "execute_result"
    }
   ],
   "source": [
    "%time clf.fit(inputDF,df['Priority'])"
   ]
  },
  {
   "cell_type": "code",
   "execution_count": 81,
   "metadata": {},
   "outputs": [
    {
     "data": {
      "text/plain": [
       "0.9900579950289975"
      ]
     },
     "execution_count": 81,
     "metadata": {},
     "output_type": "execute_result"
    }
   ],
   "source": [
    "clf.score(inputDF,df['Priority'])"
   ]
  },
  {
   "cell_type": "code",
   "execution_count": 82,
   "metadata": {},
   "outputs": [
    {
     "name": "stdout",
     "output_type": "stream",
     "text": [
      "P1: 0.949629171817 3236\n",
      "P2: 0.948781441418 7673\n",
      "P3: 0.999651289666 88899\n",
      "P4: 0.878724297104 2383\n",
      "P5: 0.903165735568 1611\n"
     ]
    }
   ],
   "source": [
    "print 'P1:',clf.score(inputDF[list(df.loc[df.Priority=='P1',:].index)], df['Priority'].loc[df.Priority=='P1'] ),sum(df.Priority=='P1')\n",
    "print 'P2:',clf.score(inputDF[list(df.loc[df.Priority=='P2',:].index)], df['Priority'].loc[df.Priority=='P2'] ),sum(df.Priority=='P2')\n",
    "print 'P3:',clf.score(inputDF[list(df.loc[df.Priority=='P3',:].index)], df['Priority'].loc[df.Priority=='P3'] ),sum(df.Priority=='P3')\n",
    "print 'P4:',clf.score(inputDF[list(df.loc[df.Priority=='P4',:].index)], df['Priority'].loc[df.Priority=='P4'] ),sum(df.Priority=='P4')\n",
    "print 'P5:',clf.score(inputDF[list(df.loc[df.Priority=='P5',:].index)], df['Priority'].loc[df.Priority=='P5'] ),sum(df.Priority=='P5')"
   ]
  },
  {
   "cell_type": "code",
   "execution_count": 33,
   "metadata": {},
   "outputs": [
    {
     "name": "stdout",
     "output_type": "stream",
     "text": [
      "P1: 0.936032138443 3236\n",
      "P2: 0.943829010817 7673\n",
      "P3: 0.999550051182 88899\n",
      "P4: 0.844733529165 2383\n",
      "P5: 0.889509621353 1611\n"
     ]
    }
   ],
   "source": [
    "print 'P1:',clf.score(inputDF[list(df.loc[df.Priority=='P1',:].index)], df['Priority'].loc[df.Priority=='P1'] ),sum(df.Priority=='P1')\n",
    "print 'P2:',clf.score(inputDF[list(df.loc[df.Priority=='P2',:].index)], df['Priority'].loc[df.Priority=='P2'] ),sum(df.Priority=='P2')\n",
    "print 'P3:',clf.score(inputDF[list(df.loc[df.Priority=='P3',:].index)], df['Priority'].loc[df.Priority=='P3'] ),sum(df.Priority=='P3')\n",
    "print 'P4:',clf.score(inputDF[list(df.loc[df.Priority=='P4',:].index)], df['Priority'].loc[df.Priority=='P4'] ),sum(df.Priority=='P4')\n",
    "print 'P5:',clf.score(inputDF[list(df.loc[df.Priority=='P5',:].index)], df['Priority'].loc[df.Priority=='P5'] ),sum(df.Priority=='P5')"
   ]
  },
  {
   "cell_type": "markdown",
   "metadata": {},
   "source": [
    "## Cross validation on the dataset with F1-Score (our evaluation metric)"
   ]
  },
  {
   "cell_type": "code",
   "execution_count": 83,
   "metadata": {},
   "outputs": [],
   "source": [
    "from sklearn.naive_bayes import MultinomialNB"
   ]
  },
  {
   "cell_type": "code",
   "execution_count": 84,
   "metadata": {},
   "outputs": [],
   "source": [
    "clf = MultinomialNB()"
   ]
  },
  {
   "cell_type": "code",
   "execution_count": 85,
   "metadata": {},
   "outputs": [
    {
     "name": "stderr",
     "output_type": "stream",
     "text": [
      "/usr/local/lib/python2.7/dist-packages/sklearn/cross_validation.py:41: DeprecationWarning: This module was deprecated in version 0.18 in favor of the model_selection module into which all the refactored classes and functions are moved. Also note that the interface of the new CV iterators are different from that of this module. This module will be removed in 0.20.\n",
      "  \"This module will be removed in 0.20.\", DeprecationWarning)\n"
     ]
    }
   ],
   "source": [
    "from sklearn.cross_validation import cross_val_score\n",
    "from sklearn.metrics import make_scorer\n",
    "from sklearn.metrics import f1_score"
   ]
  },
  {
   "cell_type": "code",
   "execution_count": 86,
   "metadata": {},
   "outputs": [],
   "source": [
    "f1scorer_macro = make_scorer(f1_score, average='macro')\n",
    "f1scorer_weighted = make_scorer(f1_score, average='weighted')\n",
    "f1scorer_perclass = make_scorer(f1_score, average=None)"
   ]
  },
  {
   "cell_type": "code",
   "execution_count": 87,
   "metadata": {},
   "outputs": [
    {
     "data": {
      "text/plain": [
       "make_scorer(f1_score, average=None)"
      ]
     },
     "execution_count": 87,
     "metadata": {},
     "output_type": "execute_result"
    }
   ],
   "source": [
    "f1scorer_perclass"
   ]
  },
  {
   "cell_type": "code",
   "execution_count": 40,
   "metadata": {},
   "outputs": [
    {
     "name": "stdout",
     "output_type": "stream",
     "text": [
      "CPU times: user 832 ms, sys: 76 ms, total: 908 ms\n",
      "Wall time: 2min 4s\n"
     ]
    }
   ],
   "source": [
    "%time cvscores_wf1 = cross_val_score(clf, inputDF, df['Priority'], scoring=f1scorer_weighted , cv=10, n_jobs=-1)\n",
    "print cvscores_wf1\n",
    "print 'Weighted F1 mean,std:', np.mean(cvscores), np.std(cvscores)"
   ]
  },
  {
   "cell_type": "code",
   "execution_count": 89,
   "metadata": {},
   "outputs": [
    {
     "name": "stdout",
     "output_type": "stream",
     "text": [
      "\n"
     ]
    }
   ],
   "source": [
    "import numpy as np"
   ]
  },
  {
   "cell_type": "code",
   "execution_count": 90,
   "metadata": {},
   "outputs": [
    {
     "name": "stdout",
     "output_type": "stream",
     "text": [
      "CPU times: user 948 ms, sys: 92 ms, total: 1.04 s\n",
      "Wall time: 1.61 s\n",
      "[ 0.19922428  0.2453444   0.29564239  0.292726    0.25145097  0.25054827\n",
      "  0.25181577  0.24395555  0.22604281  0.21915404]\n",
      "F1 mean,std: 0.247590448633 0.0283164018714\n"
     ]
    }
   ],
   "source": [
    "%time cvscores_f1 = cross_val_score(clf, inputDF, df['Priority'], scoring=f1scorer_macro , cv=10, n_jobs=-1)\n",
    "print cvscores_f1\n",
    "print 'F1 mean,std:', np.mean(cvscores_f1), np.std(cvscores_f1)"
   ]
  },
  {
   "cell_type": "code",
   "execution_count": 92,
   "metadata": {},
   "outputs": [],
   "source": [
    "cvscores_acc = cross_val_score(clf, inputDF, df['Priority'],scoring='accuracy', cv=10, n_jobs=-1)"
   ]
  },
  {
   "cell_type": "code",
   "execution_count": 127,
   "metadata": {},
   "outputs": [
    {
     "data": {
      "text/plain": [
       "(0.83135657064570512, 0.043975080942427851)"
      ]
     },
     "execution_count": 127,
     "metadata": {},
     "output_type": "execute_result"
    }
   ],
   "source": [
    "np.mean(cvscores_acc),np.std(cvscores_acc)"
   ]
  },
  {
   "cell_type": "markdown",
   "metadata": {},
   "source": [
    "### Measuring Per Class F1 scores as per the paper using KFold"
   ]
  },
  {
   "cell_type": "code",
   "execution_count": 125,
   "metadata": {},
   "outputs": [],
   "source": [
    "from sklearn.model_selection import KFold\n",
    "from sklearn.metrics import f1_score\n",
    "from sklearn.naive_bayes import MultinomialNB\n",
    "from sklearn.ensemble import RandomForestClassifier, AdaBoostClassifier, GradientBoostingClassifier"
   ]
  },
  {
   "cell_type": "code",
   "execution_count": 126,
   "metadata": {},
   "outputs": [],
   "source": [
    "#clf = RandomForestClassifier(n_jobs=-1)\n",
    "#clf = AdaBoostClassifier()\n",
    "#clf = GradientBoostingClassifier()\n",
    "clf = RandomForestClassifier(class_weight=\"balanced\", n_jobs=-1)\n",
    "kf = KFold(n_splits=10)"
   ]
  },
  {
   "cell_type": "code",
   "execution_count": 127,
   "metadata": {},
   "outputs": [
    {
     "name": "stdout",
     "output_type": "stream",
     "text": [
      "CPU times: user 42.6 s, sys: 296 ms, total: 42.9 s\n",
      "Wall time: 9.35 s\n",
      "[ 0.302267    0.18350515  0.92603378  0.23529412  0.15525114]\n",
      "CPU times: user 40.6 s, sys: 96 ms, total: 40.7 s\n",
      "Wall time: 8.38 s\n",
      "[ 0.26213592  0.14945055  0.92646593  0.17275748  0.23923445]\n",
      "CPU times: user 40.5 s, sys: 36 ms, total: 40.5 s\n",
      "Wall time: 8.19 s\n",
      "[ 0.28078818  0.16107383  0.92836827  0.16153846  0.27102804]\n",
      "CPU times: user 41.2 s, sys: 68 ms, total: 41.3 s\n",
      "Wall time: 8.53 s\n",
      "[ 0.25118483  0.13333333  0.92848115  0.18532819  0.2815534 ]\n",
      "CPU times: user 45 s, sys: 8 ms, total: 45 s\n",
      "Wall time: 9.31 s\n",
      "[ 0.26633166  0.14790997  0.9264115   0.21568627  0.31884058]\n",
      "CPU times: user 53.3 s, sys: 624 ms, total: 53.9 s\n",
      "Wall time: 11.8 s\n",
      "[ 0.22828784  0.15350389  0.92756072  0.22857143  0.28571429]\n",
      "CPU times: user 52.5 s, sys: 268 ms, total: 52.7 s\n",
      "Wall time: 11.1 s\n",
      "[ 0.22429907  0.16768916  0.92261082  0.18181818  0.27160494]\n",
      "CPU times: user 50.1 s, sys: 140 ms, total: 50.3 s\n",
      "Wall time: 10.4 s\n",
      "[ 0.25        0.18441273  0.92873345  0.15827338  0.24210526]\n",
      "CPU times: user 49.9 s, sys: 36 ms, total: 49.9 s\n",
      "Wall time: 10.3 s\n",
      "[ 0.26065163  0.13125     0.92667443  0.21678322  0.3286385 ]\n",
      "CPU times: user 51.4 s, sys: 40 ms, total: 51.5 s\n",
      "Wall time: 10.7 s\n",
      "[ 0.25304136  0.12311266  0.93039138  0.1969697   0.26455026]\n"
     ]
    }
   ],
   "source": [
    "cvscores = []\n",
    "for train,test in kf.split(inputDF):\n",
    "    train_input = inputDF[train]\n",
    "    test_input = inputDF[test]\n",
    "    train_output = df['Priority'][train]\n",
    "    test_output = df['Priority'][test]\n",
    "    %time clf.fit(train_input,train_output)\n",
    "    prediction = clf.predict(test_input)\n",
    "    scores = f1_score(test_output, prediction, average=None)\n",
    "    print scores\n",
    "    cvscores.append(scores)"
   ]
  },
  {
   "cell_type": "code",
   "execution_count": 105,
   "metadata": {},
   "outputs": [
    {
     "data": {
      "text/plain": [
       "array([ 0.02804619,  0.02679268,  0.04025911,  0.02318562,  0.03207399,\n",
       "        0.02952609,  0.02597535,  0.02539812,  0.03137977,  0.02445142,\n",
       "        0.02760929,  0.02762818])"
      ]
     },
     "execution_count": 105,
     "metadata": {},
     "output_type": "execute_result"
    }
   ],
   "source": [
    "clf.feature_importances_[345:357]"
   ]
  },
  {
   "cell_type": "code",
   "execution_count": 129,
   "metadata": {},
   "outputs": [
    {
     "data": {
      "text/plain": [
       "0.35995002947810001"
      ]
     },
     "execution_count": 129,
     "metadata": {},
     "output_type": "execute_result"
    }
   ],
   "source": [
    "np.mean(cvscores)"
   ]
  },
  {
   "cell_type": "code",
   "execution_count": 128,
   "metadata": {},
   "outputs": [
    {
     "name": "stdout",
     "output_type": "stream",
     "text": [
      "\tP1\t\tP2\t\tP3\t\tP4\tP5\n",
      "\t[ 0.25789875  0.15352413  0.92717314  0.19530204  0.26585209]\n"
     ]
    },
    {
     "data": {
      "text/plain": [
       "[array([ 0.302267  ,  0.18350515,  0.92603378,  0.23529412,  0.15525114]),\n",
       " array([ 0.26213592,  0.14945055,  0.92646593,  0.17275748,  0.23923445]),\n",
       " array([ 0.28078818,  0.16107383,  0.92836827,  0.16153846,  0.27102804]),\n",
       " array([ 0.25118483,  0.13333333,  0.92848115,  0.18532819,  0.2815534 ]),\n",
       " array([ 0.26633166,  0.14790997,  0.9264115 ,  0.21568627,  0.31884058]),\n",
       " array([ 0.22828784,  0.15350389,  0.92756072,  0.22857143,  0.28571429]),\n",
       " array([ 0.22429907,  0.16768916,  0.92261082,  0.18181818,  0.27160494]),\n",
       " array([ 0.25      ,  0.18441273,  0.92873345,  0.15827338,  0.24210526]),\n",
       " array([ 0.26065163,  0.13125   ,  0.92667443,  0.21678322,  0.3286385 ]),\n",
       " array([ 0.25304136,  0.12311266,  0.93039138,  0.1969697 ,  0.26455026])]"
      ]
     },
     "execution_count": 128,
     "metadata": {},
     "output_type": "execute_result"
    }
   ],
   "source": [
    "print '\\tP1\\t\\tP2\\t\\tP3\\t\\tP4\\tP5'\n",
    "print '\\t',np.mean(cvscores,axis=0)\n",
    "cvscores"
   ]
  },
  {
   "cell_type": "code",
   "execution_count": 97,
   "metadata": {},
   "outputs": [
    {
     "name": "stdout",
     "output_type": "stream",
     "text": [
      "\tP1\t\tP2\t\tP3\t\tP4\tP5\n",
      "\t[ 0.08830426  0.07866991  0.92049622  0.14514483  0.22485906]\n"
     ]
    },
    {
     "data": {
      "text/plain": [
       "[array([ 0.08044383,  0.04022627,  0.79617796,  0.41274238,  0.45138889]),\n",
       " array([ 0.16113744,  0.07654987,  0.84787319,  0.16027875,  0.32773109]),\n",
       " array([ 0.12345679,  0.07969349,  0.9126399 ,  0.13333333,  0.30188679]),\n",
       " array([ 0.12903226,  0.09279609,  0.94214536,  0.20833333,  0.23809524]),\n",
       " array([ 0.11570248,  0.07446809,  0.93965829,  0.1048951 ,  0.35514019]),\n",
       " array([ 0.17777778,  0.12815126,  0.93686122,  0.15770609,  0.18918919]),\n",
       " array([ 0.032     ,  0.08979592,  0.96259477,  0.09782609,  0.13636364]),\n",
       " array([ 0.06349206,  0.06392694,  0.95530839,  0.10084034,  0.16949153]),\n",
       " array([ 0.        ,  0.07246377,  0.97441481,  0.03488372,  0.07692308]),\n",
       " array([ 0.        ,  0.06862745,  0.93728831,  0.04060914,  0.00238095])]"
      ]
     },
     "execution_count": 97,
     "metadata": {},
     "output_type": "execute_result"
    }
   ],
   "source": [
    "print '\\tP1\\t\\tP2\\t\\tP3\\t\\tP4\\tP5'\n",
    "print '\\t',np.mean(cvscores,axis=0)\n",
    "cvscores"
   ]
  },
  {
   "cell_type": "code",
   "execution_count": 98,
   "metadata": {},
   "outputs": [
    {
     "data": {
      "text/plain": [
       "0.29149485632471661"
      ]
     },
     "execution_count": 98,
     "metadata": {},
     "output_type": "execute_result"
    }
   ],
   "source": [
    "np.mean(cvscores)"
   ]
  },
  {
   "cell_type": "code",
   "execution_count": 96,
   "metadata": {},
   "outputs": [
    {
     "name": "stdout",
     "output_type": "stream",
     "text": [
      "\tP1\t\tP2\t\tP3\t\tP4\tP5\n",
      "\t[ 0.11279759  0.09646663  0.91850115  0.08118626  0.01135761]\n"
     ]
    },
    {
     "data": {
      "text/plain": [
       "[array([ 0.04953999,  0.08259587,  0.79588336,  0.02331002,  0.04402516]),\n",
       " array([ 0.22727273,  0.09788769,  0.8428645 ,  0.04580153,  0.02409639]),\n",
       " array([ 0.14044944,  0.10748003,  0.90991423,  0.07407407,  0.        ]),\n",
       " array([ 0.11034483,  0.12962963,  0.94013304,  0.09195402,  0.        ]),\n",
       " array([ 0.10833333,  0.10899873,  0.93713224,  0.11347518,  0.        ]),\n",
       " array([ 0.17045455,  0.13226453,  0.93455905,  0.14545455,  0.        ]),\n",
       " array([ 0.09230769,  0.12015504,  0.96227744,  0.12765957,  0.04545455]),\n",
       " array([ 0.11347518,  0.05504587,  0.95473876,  0.13513514,  0.        ]),\n",
       " array([ 0.06451613,  0.07453416,  0.97260002,  0.03529412,  0.        ]),\n",
       " array([ 0.05128205,  0.05607477,  0.93490881,  0.01970443,  0.        ])]"
      ]
     },
     "execution_count": 96,
     "metadata": {},
     "output_type": "execute_result"
    }
   ],
   "source": [
    "print '\\tP1\\t\\tP2\\t\\tP3\\t\\tP4\\tP5'\n",
    "print '\\t',np.mean(cvscores,axis=0)\n",
    "cvscores\n",
    "#np.mean(cvscores)"
   ]
  },
  {
   "cell_type": "markdown",
   "metadata": {},
   "source": [
    "### Running algorithms on  Data With Temporal features"
   ]
  },
  {
   "cell_type": "code",
   "execution_count": 58,
   "metadata": {},
   "outputs": [
    {
     "name": "stdout",
     "output_type": "stream",
     "text": [
      "\n"
     ]
    }
   ],
   "source": [
    "import pandas as pd"
   ]
  },
  {
   "cell_type": "code",
   "execution_count": 59,
   "metadata": {},
   "outputs": [
    {
     "name": "stdout",
     "output_type": "stream",
     "text": [
      "(103805, 19)\n",
      "(103802, 19)\n"
     ]
    },
    {
     "data": {
      "text/plain": [
       "index        0\n",
       "Bug ID       0\n",
       "Product      0\n",
       "Component    0\n",
       "Assignee     0\n",
       "Summary      0\n",
       "Priority     0\n",
       "Severity     0\n",
       "TMP1         0\n",
       "TMP2         0\n",
       "TMP3         0\n",
       "TMP4         0\n",
       "TMP5         0\n",
       "TMP6         0\n",
       "TMP7         0\n",
       "TMP8         0\n",
       "TMP9         0\n",
       "TMP10        0\n",
       "TMP11        0\n",
       "TMP12        0\n",
       "dtype: int64"
      ]
     },
     "execution_count": 59,
     "metadata": {},
     "output_type": "execute_result"
    }
   ],
   "source": [
    "df = pd.read_csv('../data/data_with_temporal.csv')\n",
    "df.drop(['Keywords','Summary.1','Status','Resolution','Changed','Opened'],axis=1,inplace=True)\n",
    "print df.shape\n",
    "df.dropna(inplace=True)\n",
    "print df.shape\n",
    "df.reset_index(inplace=True)\n",
    "df.isnull().sum()"
   ]
  },
  {
   "cell_type": "code",
   "execution_count": 106,
   "metadata": {},
   "outputs": [],
   "source": [
    "df = df.sample(frac=1.0)"
   ]
  },
  {
   "cell_type": "code",
   "execution_count": 107,
   "metadata": {},
   "outputs": [],
   "source": [
    "df.reset_index(inplace=True)"
   ]
  },
  {
   "cell_type": "code",
   "execution_count": 108,
   "metadata": {},
   "outputs": [],
   "source": [
    "dummy_df = pd.get_dummies( df[['Product','Component','Assignee','Severity']] )"
   ]
  },
  {
   "cell_type": "code",
   "execution_count": 110,
   "metadata": {},
   "outputs": [
    {
     "data": {
      "text/plain": [
       "Index([u'TMP1', u'TMP2', u'TMP3', u'TMP4', u'TMP5', u'TMP6', u'TMP7', u'TMP8',\n",
       "       u'TMP9', u'TMP10', u'TMP11', u'TMP12'],\n",
       "      dtype='object')"
      ]
     },
     "execution_count": 110,
     "metadata": {},
     "output_type": "execute_result"
    }
   ],
   "source": [
    "df.columns[9:]"
   ]
  },
  {
   "cell_type": "code",
   "execution_count": 111,
   "metadata": {},
   "outputs": [],
   "source": [
    "other_features = pd.concat([dummy_df, df[df.columns[9:]]],axis=1)"
   ]
  },
  {
   "cell_type": "code",
   "execution_count": 112,
   "metadata": {},
   "outputs": [
    {
     "data": {
      "text/plain": [
       "(103802, 357)"
      ]
     },
     "execution_count": 112,
     "metadata": {},
     "output_type": "execute_result"
    }
   ],
   "source": [
    "other_features.shape"
   ]
  },
  {
   "cell_type": "code",
   "execution_count": 113,
   "metadata": {},
   "outputs": [
    {
     "data": {
      "text/plain": [
       "(103802, 357)"
      ]
     },
     "execution_count": 113,
     "metadata": {},
     "output_type": "execute_result"
    }
   ],
   "source": [
    "other_features.dropna().shape"
   ]
  },
  {
   "cell_type": "code",
   "execution_count": 114,
   "metadata": {},
   "outputs": [
    {
     "data": {
      "text/plain": [
       "(103802, 345)"
      ]
     },
     "execution_count": 114,
     "metadata": {},
     "output_type": "execute_result"
    }
   ],
   "source": [
    "dummy_df.shape"
   ]
  },
  {
   "cell_type": "code",
   "execution_count": null,
   "metadata": {},
   "outputs": [],
   "source": []
  }
 ],
 "metadata": {
  "kernelspec": {
   "display_name": "Python 2",
   "language": "python",
   "name": "python2"
  },
  "language_info": {
   "codemirror_mode": {
    "name": "ipython",
    "version": 2
   },
   "file_extension": ".py",
   "mimetype": "text/x-python",
   "name": "python",
   "nbconvert_exporter": "python",
   "pygments_lexer": "ipython2",
   "version": "2.7.12"
  }
 },
 "nbformat": 4,
 "nbformat_minor": 2
}
