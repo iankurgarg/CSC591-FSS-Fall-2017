{
 "cells": [
  {
   "cell_type": "markdown",
   "metadata": {},
   "source": [
    "### Preprocessing Eclipse Bug reports"
   ]
  },
  {
   "cell_type": "markdown",
   "metadata": {},
   "source": [
    "#### Description of attributes\n",
    "    Size of data: (103805, 13)\n",
    "    Bug ID: Unique Identifier\n",
    "    Important attributes: Product, Component, Assignee, Summary, Changed (possibly the frequency it has been changed with difference between opened and changed), Summary, Severity, Priority:\n",
    "    Unimportant attributes: Status and Resolution. [We will not know them for the test samples]\n",
    "    \n",
    "    Summary has 103802 values i.e. 3 missing values will have to investigate them.\n"
   ]
  },
  {
   "cell_type": "markdown",
   "metadata": {},
   "source": [
    "### Fixing of data formatting in the csv\n",
    "    Some rows have shifted right by a few columns due the the data delimiting in the csv like rows 3613, 258\n",
    "    That has been fixed and a new file total_fixed.csv has been saved"
   ]
  },
  {
   "cell_type": "code",
   "execution_count": 1,
   "metadata": {},
   "outputs": [],
   "source": [
    "import pandas as pd"
   ]
  },
  {
   "cell_type": "code",
   "execution_count": 2,
   "metadata": {},
   "outputs": [],
   "source": [
    "df = pd.read_csv('../data/total.csv')"
   ]
  },
  {
   "cell_type": "code",
   "execution_count": 6,
   "metadata": {},
   "outputs": [
    {
     "data": {
      "text/plain": [
       "(103805, 13)"
      ]
     },
     "execution_count": 6,
     "metadata": {},
     "output_type": "execute_result"
    }
   ],
   "source": [
    "df.shape"
   ]
  },
  {
   "cell_type": "code",
   "execution_count": 17,
   "metadata": {},
   "outputs": [],
   "source": [
    "import numpy as np"
   ]
  },
  {
   "cell_type": "code",
   "execution_count": 19,
   "metadata": {},
   "outputs": [
    {
     "data": {
      "text/plain": [
       "103805"
      ]
     },
     "execution_count": 19,
     "metadata": {},
     "output_type": "execute_result"
    }
   ],
   "source": [
    "len(np.unique(df['Bug ID']))"
   ]
  },
  {
   "cell_type": "code",
   "execution_count": 5,
   "metadata": {},
   "outputs": [
    {
     "data": {
      "text/html": [
       "<div>\n",
       "<style>\n",
       "    .dataframe thead tr:only-child th {\n",
       "        text-align: right;\n",
       "    }\n",
       "\n",
       "    .dataframe thead th {\n",
       "        text-align: left;\n",
       "    }\n",
       "\n",
       "    .dataframe tbody tr th {\n",
       "        vertical-align: top;\n",
       "    }\n",
       "</style>\n",
       "<table border=\"1\" class=\"dataframe\">\n",
       "  <thead>\n",
       "    <tr style=\"text-align: right;\">\n",
       "      <th></th>\n",
       "      <th>Product</th>\n",
       "      <th>Component</th>\n",
       "      <th>Assignee</th>\n",
       "      <th>Status</th>\n",
       "      <th>Resolution</th>\n",
       "      <th>Summary</th>\n",
       "      <th>Changed</th>\n",
       "      <th>Priority</th>\n",
       "      <th>Severity</th>\n",
       "      <th>Keywords</th>\n",
       "      <th>Summary.1</th>\n",
       "      <th>Opened</th>\n",
       "    </tr>\n",
       "  </thead>\n",
       "  <tbody>\n",
       "    <tr>\n",
       "      <th>count</th>\n",
       "      <td>103805</td>\n",
       "      <td>103805</td>\n",
       "      <td>103805</td>\n",
       "      <td>103805</td>\n",
       "      <td>103805</td>\n",
       "      <td>103802</td>\n",
       "      <td>103805</td>\n",
       "      <td>103805</td>\n",
       "      <td>103805</td>\n",
       "      <td>6814</td>\n",
       "      <td>103802</td>\n",
       "      <td>103805</td>\n",
       "    </tr>\n",
       "    <tr>\n",
       "      <th>unique</th>\n",
       "      <td>4</td>\n",
       "      <td>27</td>\n",
       "      <td>307</td>\n",
       "      <td>6</td>\n",
       "      <td>7</td>\n",
       "      <td>102339</td>\n",
       "      <td>88794</td>\n",
       "      <td>5</td>\n",
       "      <td>7</td>\n",
       "      <td>106</td>\n",
       "      <td>102339</td>\n",
       "      <td>96130</td>\n",
       "    </tr>\n",
       "    <tr>\n",
       "      <th>top</th>\n",
       "      <td>Platform</td>\n",
       "      <td>UI</td>\n",
       "      <td>jdt-ui-inbox@eclipse.org</td>\n",
       "      <td>RESOLVED</td>\n",
       "      <td>FIXED</td>\n",
       "      <td>#NAME?</td>\n",
       "      <td>9/27/05 9:12</td>\n",
       "      <td>P3</td>\n",
       "      <td>normal</td>\n",
       "      <td>performance</td>\n",
       "      <td>#NAME?</td>\n",
       "      <td>10/10/01 23:05</td>\n",
       "    </tr>\n",
       "    <tr>\n",
       "      <th>freq</th>\n",
       "      <td>60644</td>\n",
       "      <td>37694</td>\n",
       "      <td>3668</td>\n",
       "      <td>75695</td>\n",
       "      <td>53211</td>\n",
       "      <td>37</td>\n",
       "      <td>759</td>\n",
       "      <td>88902</td>\n",
       "      <td>71546</td>\n",
       "      <td>1272</td>\n",
       "      <td>37</td>\n",
       "      <td>61</td>\n",
       "    </tr>\n",
       "  </tbody>\n",
       "</table>\n",
       "</div>"
      ],
      "text/plain": [
       "         Product Component                  Assignee    Status Resolution  \\\n",
       "count     103805    103805                    103805    103805     103805   \n",
       "unique         4        27                       307         6          7   \n",
       "top     Platform        UI  jdt-ui-inbox@eclipse.org  RESOLVED      FIXED   \n",
       "freq       60644     37694                      3668     75695      53211   \n",
       "\n",
       "       Summary       Changed Priority Severity     Keywords Summary.1  \\\n",
       "count   103802        103805   103805   103805         6814    103802   \n",
       "unique  102339         88794        5        7          106    102339   \n",
       "top     #NAME?  9/27/05 9:12       P3   normal  performance    #NAME?   \n",
       "freq        37           759    88902    71546         1272        37   \n",
       "\n",
       "                Opened  \n",
       "count           103805  \n",
       "unique           96130  \n",
       "top     10/10/01 23:05  \n",
       "freq                61  "
      ]
     },
     "execution_count": 5,
     "metadata": {},
     "output_type": "execute_result"
    }
   ],
   "source": [
    "df.drop('Bug ID',axis=1,inplace=False).describe()"
   ]
  },
  {
   "cell_type": "code",
   "execution_count": 10,
   "metadata": {},
   "outputs": [
    {
     "data": {
      "text/html": [
       "<div>\n",
       "<style>\n",
       "    .dataframe thead tr:only-child th {\n",
       "        text-align: right;\n",
       "    }\n",
       "\n",
       "    .dataframe thead th {\n",
       "        text-align: left;\n",
       "    }\n",
       "\n",
       "    .dataframe tbody tr th {\n",
       "        vertical-align: top;\n",
       "    }\n",
       "</style>\n",
       "<table border=\"1\" class=\"dataframe\">\n",
       "  <thead>\n",
       "    <tr style=\"text-align: right;\">\n",
       "      <th></th>\n",
       "      <th>Bug ID</th>\n",
       "      <th>Product</th>\n",
       "      <th>Component</th>\n",
       "      <th>Assignee</th>\n",
       "      <th>Status</th>\n",
       "      <th>Resolution</th>\n",
       "      <th>Summary</th>\n",
       "      <th>Changed</th>\n",
       "      <th>Priority</th>\n",
       "      <th>Severity</th>\n",
       "      <th>Keywords</th>\n",
       "      <th>Summary.1</th>\n",
       "      <th>Opened</th>\n",
       "    </tr>\n",
       "  </thead>\n",
       "  <tbody>\n",
       "    <tr>\n",
       "      <th>538</th>\n",
       "      <td>1719</td>\n",
       "      <td>JDT</td>\n",
       "      <td>Debug</td>\n",
       "      <td>darin.eclipse@gmail.com</td>\n",
       "      <td>CLOSED</td>\n",
       "      <td>INVALID</td>\n",
       "      <td>NaN</td>\n",
       "      <td>11/2/01 8:56</td>\n",
       "      <td>P3</td>\n",
       "      <td>normal</td>\n",
       "      <td>NaN</td>\n",
       "      <td>NaN</td>\n",
       "      <td>10/10/01 22:18</td>\n",
       "    </tr>\n",
       "    <tr>\n",
       "      <th>26852</th>\n",
       "      <td>38524</td>\n",
       "      <td>Platform</td>\n",
       "      <td>SWT</td>\n",
       "      <td>platform-swt-inbox@eclipse.org</td>\n",
       "      <td>CLOSED</td>\n",
       "      <td>INVALID</td>\n",
       "      <td>NaN</td>\n",
       "      <td>6/5/03 13:04</td>\n",
       "      <td>P3</td>\n",
       "      <td>normal</td>\n",
       "      <td>NaN</td>\n",
       "      <td>NaN</td>\n",
       "      <td>6/5/03 11:35</td>\n",
       "    </tr>\n",
       "    <tr>\n",
       "      <th>44151</th>\n",
       "      <td>65246</td>\n",
       "      <td>JDT</td>\n",
       "      <td>UI</td>\n",
       "      <td>dirk_baeumer@ch.ibm.com</td>\n",
       "      <td>VERIFIED</td>\n",
       "      <td>FIXED</td>\n",
       "      <td>NaN</td>\n",
       "      <td>6/11/04 10:41</td>\n",
       "      <td>P3</td>\n",
       "      <td>normal</td>\n",
       "      <td>NaN</td>\n",
       "      <td>NaN</td>\n",
       "      <td>6/2/04 5:39</td>\n",
       "    </tr>\n",
       "  </tbody>\n",
       "</table>\n",
       "</div>"
      ],
      "text/plain": [
       "       Bug ID   Product Component                        Assignee    Status  \\\n",
       "538      1719       JDT     Debug         darin.eclipse@gmail.com    CLOSED   \n",
       "26852   38524  Platform       SWT  platform-swt-inbox@eclipse.org    CLOSED   \n",
       "44151   65246       JDT        UI         dirk_baeumer@ch.ibm.com  VERIFIED   \n",
       "\n",
       "      Resolution Summary        Changed Priority Severity Keywords Summary.1  \\\n",
       "538      INVALID     NaN   11/2/01 8:56       P3   normal      NaN       NaN   \n",
       "26852    INVALID     NaN   6/5/03 13:04       P3   normal      NaN       NaN   \n",
       "44151      FIXED     NaN  6/11/04 10:41       P3   normal      NaN       NaN   \n",
       "\n",
       "               Opened  \n",
       "538    10/10/01 22:18  \n",
       "26852    6/5/03 11:35  \n",
       "44151     6/2/04 5:39  "
      ]
     },
     "execution_count": 10,
     "metadata": {},
     "output_type": "execute_result"
    }
   ],
   "source": [
    "df.loc[df.Summary.isnull(),:]"
   ]
  },
  {
   "cell_type": "code",
   "execution_count": 13,
   "metadata": {},
   "outputs": [
    {
     "data": {
      "text/html": [
       "<div>\n",
       "<style>\n",
       "    .dataframe thead tr:only-child th {\n",
       "        text-align: right;\n",
       "    }\n",
       "\n",
       "    .dataframe thead th {\n",
       "        text-align: left;\n",
       "    }\n",
       "\n",
       "    .dataframe tbody tr th {\n",
       "        vertical-align: top;\n",
       "    }\n",
       "</style>\n",
       "<table border=\"1\" class=\"dataframe\">\n",
       "  <thead>\n",
       "    <tr style=\"text-align: right;\">\n",
       "      <th></th>\n",
       "      <th>Bug ID</th>\n",
       "      <th>Product</th>\n",
       "      <th>Component</th>\n",
       "      <th>Assignee</th>\n",
       "      <th>Status</th>\n",
       "      <th>Resolution</th>\n",
       "      <th>Summary</th>\n",
       "      <th>Changed</th>\n",
       "      <th>Priority</th>\n",
       "      <th>Severity</th>\n",
       "      <th>Keywords</th>\n",
       "      <th>Summary.1</th>\n",
       "      <th>Opened</th>\n",
       "    </tr>\n",
       "  </thead>\n",
       "  <tbody>\n",
       "    <tr>\n",
       "      <th>3610</th>\n",
       "      <td>5706</td>\n",
       "      <td>JDT</td>\n",
       "      <td>Core</td>\n",
       "      <td>philippe_mulet@fr.ibm.com</td>\n",
       "      <td>RESOLVED</td>\n",
       "      <td>WORKSFORME</td>\n",
       "      <td>Cannot add two folders w/ same name but diff p...</td>\n",
       "      <td>2/7/02 8:46</td>\n",
       "      <td>P1</td>\n",
       "      <td>normal</td>\n",
       "      <td>NaN</td>\n",
       "      <td>Cannot add two folders w/ same name but diff p...</td>\n",
       "      <td>11/9/01 8:59</td>\n",
       "    </tr>\n",
       "    <tr>\n",
       "      <th>3611</th>\n",
       "      <td>8230</td>\n",
       "      <td>Platform</td>\n",
       "      <td>Debug</td>\n",
       "      <td>darin.eclipse@gmail.com</td>\n",
       "      <td>VERIFIED</td>\n",
       "      <td>FIXED</td>\n",
       "      <td>Console does not show process as &lt;terminated&gt;;...</td>\n",
       "      <td>2/7/02 9:14</td>\n",
       "      <td>P3</td>\n",
       "      <td>normal</td>\n",
       "      <td>NaN</td>\n",
       "      <td>Console does not show process as &lt;terminated&gt;;...</td>\n",
       "      <td>1/23/02 14:09</td>\n",
       "    </tr>\n",
       "  </tbody>\n",
       "</table>\n",
       "</div>"
      ],
      "text/plain": [
       "      Bug ID   Product Component                   Assignee    Status  \\\n",
       "3610    5706       JDT      Core  philippe_mulet@fr.ibm.com  RESOLVED   \n",
       "3611    8230  Platform     Debug    darin.eclipse@gmail.com  VERIFIED   \n",
       "\n",
       "      Resolution                                            Summary  \\\n",
       "3610  WORKSFORME  Cannot add two folders w/ same name but diff p...   \n",
       "3611       FIXED  Console does not show process as <terminated>;...   \n",
       "\n",
       "          Changed Priority Severity Keywords  \\\n",
       "3610  2/7/02 8:46       P1   normal      NaN   \n",
       "3611  2/7/02 9:14       P3   normal      NaN   \n",
       "\n",
       "                                              Summary.1         Opened  \n",
       "3610  Cannot add two folders w/ same name but diff p...   11/9/01 8:59  \n",
       "3611  Console does not show process as <terminated>;...  1/23/02 14:09  "
      ]
     },
     "execution_count": 13,
     "metadata": {},
     "output_type": "execute_result"
    }
   ],
   "source": [
    "df.iloc[[257,258],:]"
   ]
  },
  {
   "cell_type": "code",
   "execution_count": 14,
   "metadata": {},
   "outputs": [],
   "source": [
    "df.to_csv('../data/total_fixed.csv',index=False,header=True)"
   ]
  },
  {
   "cell_type": "markdown",
   "metadata": {},
   "source": [
    "### Text preprocessing according to the Paper\n",
    "\n",
    "1. Tokenization - word level\n",
    "2. Stop-Word removal - 30 stop words: TIFIDF has that feature\n",
    "3. Stemming - Porter Stemming.\n",
    "\n",
    "This will be done only on the Summary attribute as others are categorical attributes.\n"
   ]
  }
 ],
 "metadata": {
  "kernelspec": {
   "display_name": "Python 2",
   "language": "python",
   "name": "python2"
  },
  "language_info": {
   "codemirror_mode": {
    "name": "ipython",
    "version": 2
   },
   "file_extension": ".py",
   "mimetype": "text/x-python",
   "name": "python",
   "nbconvert_exporter": "python",
   "pygments_lexer": "ipython2",
   "version": "2.7.12"
  }
 },
 "nbformat": 4,
 "nbformat_minor": 2
}
