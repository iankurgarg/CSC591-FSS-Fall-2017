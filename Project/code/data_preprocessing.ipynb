{
 "cells": [
  {
   "cell_type": "markdown",
   "metadata": {},
   "source": [
    "### Preprocessing Eclipse Bug reports"
   ]
  },
  {
   "cell_type": "markdown",
   "metadata": {},
   "source": [
    "#### Description of attributes\n",
    "    Size of data: (103805, 13)\n",
    "    Bug ID: Unique Identifier\n",
    "    Important attributes: Product, Component, Assignee, Summary, Changed (possibly the frequency it has been changed with difference between opened and changed), Summary, Severity, Priority:\n",
    "    Unimportant attributes: Status and Resolution. [We will not know them for the test samples]\n",
    "    \n",
    "    Summary has 103802 values i.e. 3 missing values will have to investigate them.\n"
   ]
  },
  {
   "cell_type": "markdown",
   "metadata": {},
   "source": [
    "### Fixing of data formatting in the csv\n",
    "    Some rows have shifted right by a few columns due the the data delimiting in the csv like rows 3613, 258\n",
    "    That has been fixed and a new file total_fixed.csv has been saved"
   ]
  },
  {
   "cell_type": "code",
   "execution_count": 14,
   "metadata": {},
   "outputs": [],
   "source": [
    "import pandas as pd"
   ]
  },
  {
   "cell_type": "code",
   "execution_count": 15,
   "metadata": {},
   "outputs": [],
   "source": [
    "df = pd.read_csv('../data/processed/train_processed.csv')"
   ]
  },
  {
   "cell_type": "code",
   "execution_count": 16,
   "metadata": {},
   "outputs": [
    {
     "data": {
      "text/plain": [
       "(83044, 41)"
      ]
     },
     "execution_count": 16,
     "metadata": {},
     "output_type": "execute_result"
    }
   ],
   "source": [
    "df.shape"
   ]
  },
  {
   "cell_type": "code",
   "execution_count": 17,
   "metadata": {},
   "outputs": [],
   "source": [
    "import numpy as np"
   ]
  },
  {
   "cell_type": "code",
   "execution_count": 18,
   "metadata": {},
   "outputs": [
    {
     "data": {
      "text/plain": [
       "83044"
      ]
     },
     "execution_count": 18,
     "metadata": {},
     "output_type": "execute_result"
    }
   ],
   "source": [
    "len(np.unique(df['Bug ID']))"
   ]
  },
  {
   "cell_type": "code",
   "execution_count": 19,
   "metadata": {},
   "outputs": [
    {
     "data": {
      "text/html": [
       "<div>\n",
       "<style>\n",
       "    .dataframe thead tr:only-child th {\n",
       "        text-align: right;\n",
       "    }\n",
       "\n",
       "    .dataframe thead th {\n",
       "        text-align: left;\n",
       "    }\n",
       "\n",
       "    .dataframe tbody tr th {\n",
       "        vertical-align: top;\n",
       "    }\n",
       "</style>\n",
       "<table border=\"1\" class=\"dataframe\">\n",
       "  <thead>\n",
       "    <tr style=\"text-align: right;\">\n",
       "      <th></th>\n",
       "      <th>TMP1</th>\n",
       "      <th>TMP2</th>\n",
       "      <th>TMP3</th>\n",
       "      <th>TMP4</th>\n",
       "      <th>TMP5</th>\n",
       "      <th>TMP6</th>\n",
       "      <th>TMP7</th>\n",
       "      <th>TMP8</th>\n",
       "      <th>TMP9</th>\n",
       "      <th>TMP10</th>\n",
       "      <th>...</th>\n",
       "      <th>PRO12.1</th>\n",
       "      <th>PRO14</th>\n",
       "      <th>PRO15</th>\n",
       "      <th>PRO16</th>\n",
       "      <th>PRO17</th>\n",
       "      <th>PRO18</th>\n",
       "      <th>PRO19</th>\n",
       "      <th>PRO20</th>\n",
       "      <th>PRO21</th>\n",
       "      <th>PRO22</th>\n",
       "    </tr>\n",
       "  </thead>\n",
       "  <tbody>\n",
       "    <tr>\n",
       "      <th>count</th>\n",
       "      <td>83044.000000</td>\n",
       "      <td>83044.000000</td>\n",
       "      <td>83044.000000</td>\n",
       "      <td>83044.000000</td>\n",
       "      <td>83044.000000</td>\n",
       "      <td>83044.000000</td>\n",
       "      <td>83044.000000</td>\n",
       "      <td>83044.000000</td>\n",
       "      <td>83044.000000</td>\n",
       "      <td>83044.000000</td>\n",
       "      <td>...</td>\n",
       "      <td>83044.000000</td>\n",
       "      <td>83044.000000</td>\n",
       "      <td>83044.000000</td>\n",
       "      <td>83044.000000</td>\n",
       "      <td>83044.000000</td>\n",
       "      <td>83044.000000</td>\n",
       "      <td>83044.000000</td>\n",
       "      <td>83044.000000</td>\n",
       "      <td>83044.000000</td>\n",
       "      <td>83044.000000</td>\n",
       "    </tr>\n",
       "    <tr>\n",
       "      <th>mean</th>\n",
       "      <td>445.465524</td>\n",
       "      <td>229.932289</td>\n",
       "      <td>337.405556</td>\n",
       "      <td>1384.912492</td>\n",
       "      <td>706.768520</td>\n",
       "      <td>1044.634603</td>\n",
       "      <td>193.802009</td>\n",
       "      <td>101.649066</td>\n",
       "      <td>147.428496</td>\n",
       "      <td>270.287306</td>\n",
       "      <td>...</td>\n",
       "      <td>7150.058595</td>\n",
       "      <td>3511.744340</td>\n",
       "      <td>5340.331704</td>\n",
       "      <td>0.057358</td>\n",
       "      <td>0.106323</td>\n",
       "      <td>0.767588</td>\n",
       "      <td>0.042338</td>\n",
       "      <td>0.026392</td>\n",
       "      <td>3.140094</td>\n",
       "      <td>3.005539</td>\n",
       "    </tr>\n",
       "    <tr>\n",
       "      <th>std</th>\n",
       "      <td>422.592240</td>\n",
       "      <td>281.797592</td>\n",
       "      <td>356.454094</td>\n",
       "      <td>641.655154</td>\n",
       "      <td>556.997943</td>\n",
       "      <td>643.107237</td>\n",
       "      <td>421.593892</td>\n",
       "      <td>254.344225</td>\n",
       "      <td>337.157303</td>\n",
       "      <td>421.749476</td>\n",
       "      <td>...</td>\n",
       "      <td>8124.428881</td>\n",
       "      <td>4928.031965</td>\n",
       "      <td>6637.592758</td>\n",
       "      <td>0.047891</td>\n",
       "      <td>0.053526</td>\n",
       "      <td>0.112600</td>\n",
       "      <td>0.041118</td>\n",
       "      <td>0.061300</td>\n",
       "      <td>0.358185</td>\n",
       "      <td>0.167629</td>\n",
       "    </tr>\n",
       "    <tr>\n",
       "      <th>min</th>\n",
       "      <td>21.000000</td>\n",
       "      <td>1.000000</td>\n",
       "      <td>1.000000</td>\n",
       "      <td>393.000000</td>\n",
       "      <td>1.000000</td>\n",
       "      <td>1.000000</td>\n",
       "      <td>2.000000</td>\n",
       "      <td>1.000000</td>\n",
       "      <td>1.000000</td>\n",
       "      <td>7.000000</td>\n",
       "      <td>...</td>\n",
       "      <td>1.000000</td>\n",
       "      <td>1.000000</td>\n",
       "      <td>1.000000</td>\n",
       "      <td>0.000000</td>\n",
       "      <td>0.000000</td>\n",
       "      <td>0.267045</td>\n",
       "      <td>0.000000</td>\n",
       "      <td>0.000000</td>\n",
       "      <td>2.000000</td>\n",
       "      <td>2.000000</td>\n",
       "    </tr>\n",
       "    <tr>\n",
       "      <th>25%</th>\n",
       "      <td>233.000000</td>\n",
       "      <td>50.000000</td>\n",
       "      <td>159.000000</td>\n",
       "      <td>862.000000</td>\n",
       "      <td>173.000000</td>\n",
       "      <td>618.000000</td>\n",
       "      <td>63.000000</td>\n",
       "      <td>15.000000</td>\n",
       "      <td>40.000000</td>\n",
       "      <td>110.000000</td>\n",
       "      <td>...</td>\n",
       "      <td>1326.000000</td>\n",
       "      <td>342.000000</td>\n",
       "      <td>713.000000</td>\n",
       "      <td>0.030389</td>\n",
       "      <td>0.056599</td>\n",
       "      <td>0.696059</td>\n",
       "      <td>0.013362</td>\n",
       "      <td>0.003805</td>\n",
       "      <td>3.000000</td>\n",
       "      <td>3.000000</td>\n",
       "    </tr>\n",
       "    <tr>\n",
       "      <th>50%</th>\n",
       "      <td>331.000000</td>\n",
       "      <td>170.000000</td>\n",
       "      <td>255.000000</td>\n",
       "      <td>1216.000000</td>\n",
       "      <td>611.000000</td>\n",
       "      <td>929.000000</td>\n",
       "      <td>96.000000</td>\n",
       "      <td>47.000000</td>\n",
       "      <td>73.000000</td>\n",
       "      <td>164.000000</td>\n",
       "      <td>...</td>\n",
       "      <td>3832.000000</td>\n",
       "      <td>1324.000000</td>\n",
       "      <td>2507.500000</td>\n",
       "      <td>0.047474</td>\n",
       "      <td>0.111552</td>\n",
       "      <td>0.775334</td>\n",
       "      <td>0.032736</td>\n",
       "      <td>0.009953</td>\n",
       "      <td>3.000000</td>\n",
       "      <td>3.000000</td>\n",
       "    </tr>\n",
       "    <tr>\n",
       "      <th>75%</th>\n",
       "      <td>491.000000</td>\n",
       "      <td>300.000000</td>\n",
       "      <td>404.000000</td>\n",
       "      <td>1805.000000</td>\n",
       "      <td>1052.000000</td>\n",
       "      <td>1446.000000</td>\n",
       "      <td>155.000000</td>\n",
       "      <td>92.000000</td>\n",
       "      <td>124.000000</td>\n",
       "      <td>261.000000</td>\n",
       "      <td>...</td>\n",
       "      <td>9377.000000</td>\n",
       "      <td>4129.000000</td>\n",
       "      <td>6635.250000</td>\n",
       "      <td>0.071726</td>\n",
       "      <td>0.139819</td>\n",
       "      <td>0.843322</td>\n",
       "      <td>0.058060</td>\n",
       "      <td>0.014553</td>\n",
       "      <td>3.000000</td>\n",
       "      <td>3.000000</td>\n",
       "    </tr>\n",
       "    <tr>\n",
       "      <th>max</th>\n",
       "      <td>2865.000000</td>\n",
       "      <td>2057.000000</td>\n",
       "      <td>2865.000000</td>\n",
       "      <td>3401.000000</td>\n",
       "      <td>2458.000000</td>\n",
       "      <td>3401.000000</td>\n",
       "      <td>2761.000000</td>\n",
       "      <td>1970.000000</td>\n",
       "      <td>2761.000000</td>\n",
       "      <td>2796.000000</td>\n",
       "      <td>...</td>\n",
       "      <td>30084.000000</td>\n",
       "      <td>20297.000000</td>\n",
       "      <td>30070.000000</td>\n",
       "      <td>0.345515</td>\n",
       "      <td>0.666667</td>\n",
       "      <td>1.000000</td>\n",
       "      <td>0.333333</td>\n",
       "      <td>0.540284</td>\n",
       "      <td>5.000000</td>\n",
       "      <td>5.000000</td>\n",
       "    </tr>\n",
       "  </tbody>\n",
       "</table>\n",
       "<p>8 rows × 35 columns</p>\n",
       "</div>"
      ],
      "text/plain": [
       "               TMP1          TMP2          TMP3          TMP4          TMP5  \\\n",
       "count  83044.000000  83044.000000  83044.000000  83044.000000  83044.000000   \n",
       "mean     445.465524    229.932289    337.405556   1384.912492    706.768520   \n",
       "std      422.592240    281.797592    356.454094    641.655154    556.997943   \n",
       "min       21.000000      1.000000      1.000000    393.000000      1.000000   \n",
       "25%      233.000000     50.000000    159.000000    862.000000    173.000000   \n",
       "50%      331.000000    170.000000    255.000000   1216.000000    611.000000   \n",
       "75%      491.000000    300.000000    404.000000   1805.000000   1052.000000   \n",
       "max     2865.000000   2057.000000   2865.000000   3401.000000   2458.000000   \n",
       "\n",
       "               TMP6          TMP7          TMP8          TMP9         TMP10  \\\n",
       "count  83044.000000  83044.000000  83044.000000  83044.000000  83044.000000   \n",
       "mean    1044.634603    193.802009    101.649066    147.428496    270.287306   \n",
       "std      643.107237    421.593892    254.344225    337.157303    421.749476   \n",
       "min        1.000000      2.000000      1.000000      1.000000      7.000000   \n",
       "25%      618.000000     63.000000     15.000000     40.000000    110.000000   \n",
       "50%      929.000000     96.000000     47.000000     73.000000    164.000000   \n",
       "75%     1446.000000    155.000000     92.000000    124.000000    261.000000   \n",
       "max     3401.000000   2761.000000   1970.000000   2761.000000   2796.000000   \n",
       "\n",
       "           ...            PRO12.1         PRO14         PRO15         PRO16  \\\n",
       "count      ...       83044.000000  83044.000000  83044.000000  83044.000000   \n",
       "mean       ...        7150.058595   3511.744340   5340.331704      0.057358   \n",
       "std        ...        8124.428881   4928.031965   6637.592758      0.047891   \n",
       "min        ...           1.000000      1.000000      1.000000      0.000000   \n",
       "25%        ...        1326.000000    342.000000    713.000000      0.030389   \n",
       "50%        ...        3832.000000   1324.000000   2507.500000      0.047474   \n",
       "75%        ...        9377.000000   4129.000000   6635.250000      0.071726   \n",
       "max        ...       30084.000000  20297.000000  30070.000000      0.345515   \n",
       "\n",
       "              PRO17         PRO18         PRO19         PRO20         PRO21  \\\n",
       "count  83044.000000  83044.000000  83044.000000  83044.000000  83044.000000   \n",
       "mean       0.106323      0.767588      0.042338      0.026392      3.140094   \n",
       "std        0.053526      0.112600      0.041118      0.061300      0.358185   \n",
       "min        0.000000      0.267045      0.000000      0.000000      2.000000   \n",
       "25%        0.056599      0.696059      0.013362      0.003805      3.000000   \n",
       "50%        0.111552      0.775334      0.032736      0.009953      3.000000   \n",
       "75%        0.139819      0.843322      0.058060      0.014553      3.000000   \n",
       "max        0.666667      1.000000      0.333333      0.540284      5.000000   \n",
       "\n",
       "              PRO22  \n",
       "count  83044.000000  \n",
       "mean       3.005539  \n",
       "std        0.167629  \n",
       "min        2.000000  \n",
       "25%        3.000000  \n",
       "50%        3.000000  \n",
       "75%        3.000000  \n",
       "max        5.000000  \n",
       "\n",
       "[8 rows x 35 columns]"
      ]
     },
     "execution_count": 19,
     "metadata": {},
     "output_type": "execute_result"
    }
   ],
   "source": [
    "df.drop('Bug ID',axis=1,inplace=False).describe()"
   ]
  },
  {
   "cell_type": "code",
   "execution_count": 20,
   "metadata": {},
   "outputs": [
    {
     "data": {
      "text/html": [
       "<div>\n",
       "<style>\n",
       "    .dataframe thead tr:only-child th {\n",
       "        text-align: right;\n",
       "    }\n",
       "\n",
       "    .dataframe thead th {\n",
       "        text-align: left;\n",
       "    }\n",
       "\n",
       "    .dataframe tbody tr th {\n",
       "        vertical-align: top;\n",
       "    }\n",
       "</style>\n",
       "<table border=\"1\" class=\"dataframe\">\n",
       "  <thead>\n",
       "    <tr style=\"text-align: right;\">\n",
       "      <th></th>\n",
       "      <th>Bug ID</th>\n",
       "      <th>Severity</th>\n",
       "      <th>Priority</th>\n",
       "      <th>Summary</th>\n",
       "      <th>TMP1</th>\n",
       "      <th>TMP2</th>\n",
       "      <th>TMP3</th>\n",
       "      <th>TMP4</th>\n",
       "      <th>TMP5</th>\n",
       "      <th>TMP6</th>\n",
       "      <th>...</th>\n",
       "      <th>PRO12.1</th>\n",
       "      <th>PRO14</th>\n",
       "      <th>PRO15</th>\n",
       "      <th>PRO16</th>\n",
       "      <th>PRO17</th>\n",
       "      <th>PRO18</th>\n",
       "      <th>PRO19</th>\n",
       "      <th>PRO20</th>\n",
       "      <th>PRO21</th>\n",
       "      <th>PRO22</th>\n",
       "    </tr>\n",
       "  </thead>\n",
       "  <tbody>\n",
       "    <tr>\n",
       "      <th>3819</th>\n",
       "      <td>1719</td>\n",
       "      <td>normal</td>\n",
       "      <td>P3</td>\n",
       "      <td>NaN</td>\n",
       "      <td>2356</td>\n",
       "      <td>1599</td>\n",
       "      <td>1853</td>\n",
       "      <td>2356</td>\n",
       "      <td>1599</td>\n",
       "      <td>1853</td>\n",
       "      <td>...</td>\n",
       "      <td>212</td>\n",
       "      <td>113</td>\n",
       "      <td>143</td>\n",
       "      <td>0.202830</td>\n",
       "      <td>0.240566</td>\n",
       "      <td>0.500000</td>\n",
       "      <td>0.056604</td>\n",
       "      <td>0.000000</td>\n",
       "      <td>3</td>\n",
       "      <td>3</td>\n",
       "    </tr>\n",
       "    <tr>\n",
       "      <th>9459</th>\n",
       "      <td>65246</td>\n",
       "      <td>normal</td>\n",
       "      <td>P3</td>\n",
       "      <td>NaN</td>\n",
       "      <td>857</td>\n",
       "      <td>610</td>\n",
       "      <td>731</td>\n",
       "      <td>2784</td>\n",
       "      <td>2015</td>\n",
       "      <td>2402</td>\n",
       "      <td>...</td>\n",
       "      <td>16183</td>\n",
       "      <td>10522</td>\n",
       "      <td>12895</td>\n",
       "      <td>0.061237</td>\n",
       "      <td>0.134833</td>\n",
       "      <td>0.735463</td>\n",
       "      <td>0.058889</td>\n",
       "      <td>0.009578</td>\n",
       "      <td>3</td>\n",
       "      <td>3</td>\n",
       "    </tr>\n",
       "    <tr>\n",
       "      <th>25374</th>\n",
       "      <td>38524</td>\n",
       "      <td>normal</td>\n",
       "      <td>P3</td>\n",
       "      <td>NaN</td>\n",
       "      <td>225</td>\n",
       "      <td>141</td>\n",
       "      <td>177</td>\n",
       "      <td>836</td>\n",
       "      <td>463</td>\n",
       "      <td>576</td>\n",
       "      <td>...</td>\n",
       "      <td>2756</td>\n",
       "      <td>1979</td>\n",
       "      <td>2492</td>\n",
       "      <td>0.054064</td>\n",
       "      <td>0.106676</td>\n",
       "      <td>0.720972</td>\n",
       "      <td>0.050435</td>\n",
       "      <td>0.067852</td>\n",
       "      <td>3</td>\n",
       "      <td>3</td>\n",
       "    </tr>\n",
       "  </tbody>\n",
       "</table>\n",
       "<p>3 rows × 41 columns</p>\n",
       "</div>"
      ],
      "text/plain": [
       "       Bug ID Severity Priority Summary  TMP1  TMP2  TMP3  TMP4  TMP5  TMP6  \\\n",
       "3819     1719   normal       P3     NaN  2356  1599  1853  2356  1599  1853   \n",
       "9459    65246   normal       P3     NaN   857   610   731  2784  2015  2402   \n",
       "25374   38524   normal       P3     NaN   225   141   177   836   463   576   \n",
       "\n",
       "       ...   PRO12.1  PRO14  PRO15     PRO16     PRO17     PRO18     PRO19  \\\n",
       "3819   ...       212    113    143  0.202830  0.240566  0.500000  0.056604   \n",
       "9459   ...     16183  10522  12895  0.061237  0.134833  0.735463  0.058889   \n",
       "25374  ...      2756   1979   2492  0.054064  0.106676  0.720972  0.050435   \n",
       "\n",
       "          PRO20  PRO21 PRO22  \n",
       "3819   0.000000      3     3  \n",
       "9459   0.009578      3     3  \n",
       "25374  0.067852      3     3  \n",
       "\n",
       "[3 rows x 41 columns]"
      ]
     },
     "execution_count": 20,
     "metadata": {},
     "output_type": "execute_result"
    }
   ],
   "source": [
    "df.loc[df.Summary.isnull(),:]"
   ]
  },
  {
   "cell_type": "code",
   "execution_count": 21,
   "metadata": {},
   "outputs": [
    {
     "data": {
      "text/html": [
       "<div>\n",
       "<style>\n",
       "    .dataframe thead tr:only-child th {\n",
       "        text-align: right;\n",
       "    }\n",
       "\n",
       "    .dataframe thead th {\n",
       "        text-align: left;\n",
       "    }\n",
       "\n",
       "    .dataframe tbody tr th {\n",
       "        vertical-align: top;\n",
       "    }\n",
       "</style>\n",
       "<table border=\"1\" class=\"dataframe\">\n",
       "  <thead>\n",
       "    <tr style=\"text-align: right;\">\n",
       "      <th></th>\n",
       "      <th>Bug ID</th>\n",
       "      <th>Severity</th>\n",
       "      <th>Priority</th>\n",
       "      <th>Summary</th>\n",
       "      <th>TMP1</th>\n",
       "      <th>TMP2</th>\n",
       "      <th>TMP3</th>\n",
       "      <th>TMP4</th>\n",
       "      <th>TMP5</th>\n",
       "      <th>TMP6</th>\n",
       "      <th>...</th>\n",
       "      <th>PRO12.1</th>\n",
       "      <th>PRO14</th>\n",
       "      <th>PRO15</th>\n",
       "      <th>PRO16</th>\n",
       "      <th>PRO17</th>\n",
       "      <th>PRO18</th>\n",
       "      <th>PRO19</th>\n",
       "      <th>PRO20</th>\n",
       "      <th>PRO21</th>\n",
       "      <th>PRO22</th>\n",
       "    </tr>\n",
       "  </thead>\n",
       "  <tbody>\n",
       "    <tr>\n",
       "      <th>257</th>\n",
       "      <td>209173</td>\n",
       "      <td>normal</td>\n",
       "      <td>P3</td>\n",
       "      <td>Configuration Problem Win2k at using a Eclipse...</td>\n",
       "      <td>155</td>\n",
       "      <td>102</td>\n",
       "      <td>123</td>\n",
       "      <td>572</td>\n",
       "      <td>393</td>\n",
       "      <td>469</td>\n",
       "      <td>...</td>\n",
       "      <td>668</td>\n",
       "      <td>498</td>\n",
       "      <td>589</td>\n",
       "      <td>0.000000</td>\n",
       "      <td>0.000000</td>\n",
       "      <td>0.995509</td>\n",
       "      <td>0.004491</td>\n",
       "      <td>0.000000</td>\n",
       "      <td>4</td>\n",
       "      <td>3</td>\n",
       "    </tr>\n",
       "    <tr>\n",
       "      <th>258</th>\n",
       "      <td>36684</td>\n",
       "      <td>normal</td>\n",
       "      <td>P3</td>\n",
       "      <td>BIDI: LTR-oriented MessageBox can't be created...</td>\n",
       "      <td>161</td>\n",
       "      <td>100</td>\n",
       "      <td>129</td>\n",
       "      <td>694</td>\n",
       "      <td>419</td>\n",
       "      <td>535</td>\n",
       "      <td>...</td>\n",
       "      <td>2597</td>\n",
       "      <td>1882</td>\n",
       "      <td>2355</td>\n",
       "      <td>0.055834</td>\n",
       "      <td>0.111282</td>\n",
       "      <td>0.710435</td>\n",
       "      <td>0.050828</td>\n",
       "      <td>0.071621</td>\n",
       "      <td>3</td>\n",
       "      <td>3</td>\n",
       "    </tr>\n",
       "  </tbody>\n",
       "</table>\n",
       "<p>2 rows × 41 columns</p>\n",
       "</div>"
      ],
      "text/plain": [
       "     Bug ID Severity Priority  \\\n",
       "257  209173   normal       P3   \n",
       "258   36684   normal       P3   \n",
       "\n",
       "                                               Summary  TMP1  TMP2  TMP3  \\\n",
       "257  Configuration Problem Win2k at using a Eclipse...   155   102   123   \n",
       "258  BIDI: LTR-oriented MessageBox can't be created...   161   100   129   \n",
       "\n",
       "     TMP4  TMP5  TMP6  ...   PRO12.1  PRO14  PRO15     PRO16     PRO17  \\\n",
       "257   572   393   469  ...       668    498    589  0.000000  0.000000   \n",
       "258   694   419   535  ...      2597   1882   2355  0.055834  0.111282   \n",
       "\n",
       "        PRO18     PRO19     PRO20  PRO21 PRO22  \n",
       "257  0.995509  0.004491  0.000000      4     3  \n",
       "258  0.710435  0.050828  0.071621      3     3  \n",
       "\n",
       "[2 rows x 41 columns]"
      ]
     },
     "execution_count": 21,
     "metadata": {},
     "output_type": "execute_result"
    }
   ],
   "source": [
    "df.iloc[[257,258],:]"
   ]
  },
  {
   "cell_type": "markdown",
   "metadata": {},
   "source": [
    "### Text preprocessing according to the Paper\n",
    "\n",
    "1. Tokenization - word level\n",
    "2. Stop-Word removal - 30 stop words: TIFIDF has that feature\n",
    "3. Stemming - Porter Stemming.\n",
    "\n",
    "This will be done only on the Summary attribute as others are categorical attributes.\n"
   ]
  },
  {
   "cell_type": "code",
   "execution_count": 22,
   "metadata": {},
   "outputs": [
    {
     "data": {
      "text/plain": [
       "Index([u'Bug ID', u'Severity', u'Priority', u'Summary', u'TMP1', u'TMP2',\n",
       "       u'TMP3', u'TMP4', u'TMP5', u'TMP6', u'TMP7', u'TMP8', u'TMP9', u'TMP10',\n",
       "       u'TMP11', u'TMP12', u'AUT1', u'AUT2', u'AUT3', u'PRO1', u'PRO2',\n",
       "       u'PRO3', u'PRO4', u'PRO5', u'PRO6', u'PRO7', u'PRO8', u'PRO9', u'PRO10',\n",
       "       u'PRO11', u'PRO12', u'PRO12.1', u'PRO14', u'PRO15', u'PRO16', u'PRO17',\n",
       "       u'PRO18', u'PRO19', u'PRO20', u'PRO21', u'PRO22'],\n",
       "      dtype='object')"
      ]
     },
     "execution_count": 22,
     "metadata": {},
     "output_type": "execute_result"
    }
   ],
   "source": [
    "df.columns"
   ]
  },
  {
   "cell_type": "code",
   "execution_count": 23,
   "metadata": {},
   "outputs": [],
   "source": [
    "df.dropna(inplace=True)"
   ]
  },
  {
   "cell_type": "code",
   "execution_count": 24,
   "metadata": {
    "scrolled": true
   },
   "outputs": [
    {
     "data": {
      "text/plain": [
       "Bug ID      0\n",
       "Severity    0\n",
       "Priority    0\n",
       "Summary     0\n",
       "TMP1        0\n",
       "TMP2        0\n",
       "TMP3        0\n",
       "TMP4        0\n",
       "TMP5        0\n",
       "TMP6        0\n",
       "TMP7        0\n",
       "TMP8        0\n",
       "TMP9        0\n",
       "TMP10       0\n",
       "TMP11       0\n",
       "TMP12       0\n",
       "AUT1        0\n",
       "AUT2        0\n",
       "AUT3        0\n",
       "PRO1        0\n",
       "PRO2        0\n",
       "PRO3        0\n",
       "PRO4        0\n",
       "PRO5        0\n",
       "PRO6        0\n",
       "PRO7        0\n",
       "PRO8        0\n",
       "PRO9        0\n",
       "PRO10       0\n",
       "PRO11       0\n",
       "PRO12       0\n",
       "PRO12.1     0\n",
       "PRO14       0\n",
       "PRO15       0\n",
       "PRO16       0\n",
       "PRO17       0\n",
       "PRO18       0\n",
       "PRO19       0\n",
       "PRO20       0\n",
       "PRO21       0\n",
       "PRO22       0\n",
       "dtype: int64"
      ]
     },
     "execution_count": 24,
     "metadata": {},
     "output_type": "execute_result"
    }
   ],
   "source": [
    "df.isnull().sum()"
   ]
  },
  {
   "cell_type": "code",
   "execution_count": 25,
   "metadata": {},
   "outputs": [],
   "source": [
    "df.drop(['Bug ID'], axis=1, inplace=True)"
   ]
  },
  {
   "cell_type": "code",
   "execution_count": 26,
   "metadata": {},
   "outputs": [],
   "source": [
    "df.reset_index(inplace=True, drop=True)"
   ]
  },
  {
   "cell_type": "code",
   "execution_count": 27,
   "metadata": {},
   "outputs": [],
   "source": [
    "categorical_cols = ['Severity', 'PRO1', 'PRO12']\n",
    "other_cols = list(df.columns)\n",
    "for c in categorical_cols:\n",
    "    other_cols.remove(c)\n",
    "other_cols.remove('Priority')\n",
    "other_cols.remove('Summary')"
   ]
  },
  {
   "cell_type": "code",
   "execution_count": 28,
   "metadata": {},
   "outputs": [
    {
     "name": "stdout",
     "output_type": "stream",
     "text": [
      "['Severity', 'PRO1', 'PRO12']\n",
      "['TMP1', 'TMP2', 'TMP3', 'TMP4', 'TMP5', 'TMP6', 'TMP7', 'TMP8', 'TMP9', 'TMP10', 'TMP11', 'TMP12', 'AUT1', 'AUT2', 'AUT3', 'PRO2', 'PRO3', 'PRO4', 'PRO5', 'PRO6', 'PRO7', 'PRO8', 'PRO9', 'PRO10', 'PRO11', 'PRO12.1', 'PRO14', 'PRO15', 'PRO16', 'PRO17', 'PRO18', 'PRO19', 'PRO20', 'PRO21', 'PRO22']\n"
     ]
    }
   ],
   "source": [
    "print categorical_cols\n",
    "print (other_cols)"
   ]
  },
  {
   "cell_type": "markdown",
   "metadata": {},
   "source": [
    "### Null values removed and only important features are kept"
   ]
  },
  {
   "cell_type": "code",
   "execution_count": 29,
   "metadata": {},
   "outputs": [],
   "source": [
    "import nltk\n",
    "from nltk.tokenize import RegexpTokenizer\n",
    "from nltk.stem.porter import PorterStemmer\n",
    "import re\n",
    "\n",
    "tokenizer = RegexpTokenizer(r'\\w+')\n",
    "stopwords = set(nltk.corpus.stopwords.words('english'))\n",
    "stemmer = PorterStemmer()"
   ]
  },
  {
   "cell_type": "code",
   "execution_count": 30,
   "metadata": {},
   "outputs": [],
   "source": [
    "# tokenizer.tokenize('Eighty-seven miles to go, yet.  Onward!')\n",
    "def tokenize_stop_stem(text):\n",
    "    try:\n",
    "        tokens = tokenizer.tokenize(text)\n",
    "        # filter out any tokens not containing letters (e.g., numeric tokens, raw punctuation) and stem\n",
    "        filtered_tokens = []\n",
    "        for token in tokens:\n",
    "            token = token.lower()\n",
    "            if token not in stopwords:\n",
    "                if not re.search('[0-9]', token):\n",
    "                    try:\n",
    "                        token = stemmer.stem(token)\n",
    "                        filtered_tokens.append(token)\n",
    "                    except UnicodeDecodeError:\n",
    "                        print 'illeagal token ignored:',token\n",
    "                        pass\n",
    "    except UnicodeDecodeError:\n",
    "        print 'illeagal token ignored:',token\n",
    "        pass\n",
    "    return filtered_tokens"
   ]
  },
  {
   "cell_type": "markdown",
   "metadata": {},
   "source": [
    "### Run sklearn countvectorizer"
   ]
  },
  {
   "cell_type": "code",
   "execution_count": 31,
   "metadata": {},
   "outputs": [],
   "source": [
    "from sklearn.feature_extraction.text import CountVectorizer"
   ]
  },
  {
   "cell_type": "code",
   "execution_count": 32,
   "metadata": {},
   "outputs": [],
   "source": [
    "countVect = CountVectorizer(input='content',lowercase=False, max_features=395996, tokenizer=tokenize_stop_stem, decode_error='ignore')"
   ]
  },
  {
   "cell_type": "code",
   "execution_count": 33,
   "metadata": {},
   "outputs": [],
   "source": [
    "countVector = countVect.fit_transform(df.Summary)"
   ]
  },
  {
   "cell_type": "code",
   "execution_count": 34,
   "metadata": {},
   "outputs": [
    {
     "data": {
      "text/plain": [
       "<83041x15905 sparse matrix of type '<type 'numpy.int64'>'\n",
       "\twith 467339 stored elements in Compressed Sparse Row format>"
      ]
     },
     "execution_count": 34,
     "metadata": {},
     "output_type": "execute_result"
    }
   ],
   "source": [
    "countVector"
   ]
  },
  {
   "cell_type": "code",
   "execution_count": 35,
   "metadata": {},
   "outputs": [
    {
     "data": {
      "text/plain": [
       "(83041, 15905)"
      ]
     },
     "execution_count": 35,
     "metadata": {},
     "output_type": "execute_result"
    }
   ],
   "source": [
    "countVector.shape"
   ]
  },
  {
   "cell_type": "markdown",
   "metadata": {},
   "source": [
    "### Summary attribute has been preprocessed. Get dummy variables and join them as CSR and join with countvectors"
   ]
  },
  {
   "cell_type": "code",
   "execution_count": 36,
   "metadata": {},
   "outputs": [],
   "source": [
    "dummy_df = pd.get_dummies( df[categorical_cols] )"
   ]
  },
  {
   "cell_type": "code",
   "execution_count": 37,
   "metadata": {},
   "outputs": [
    {
     "data": {
      "text/html": [
       "<div>\n",
       "<style>\n",
       "    .dataframe thead tr:only-child th {\n",
       "        text-align: right;\n",
       "    }\n",
       "\n",
       "    .dataframe thead th {\n",
       "        text-align: left;\n",
       "    }\n",
       "\n",
       "    .dataframe tbody tr th {\n",
       "        vertical-align: top;\n",
       "    }\n",
       "</style>\n",
       "<table border=\"1\" class=\"dataframe\">\n",
       "  <thead>\n",
       "    <tr style=\"text-align: right;\">\n",
       "      <th></th>\n",
       "      <th>Severity_blocker</th>\n",
       "      <th>Severity_critical</th>\n",
       "      <th>Severity_enhancement</th>\n",
       "      <th>Severity_major</th>\n",
       "      <th>Severity_minor</th>\n",
       "      <th>Severity_normal</th>\n",
       "      <th>Severity_trivial</th>\n",
       "      <th>PRO1_Equinox</th>\n",
       "      <th>PRO1_JDT</th>\n",
       "      <th>PRO1_PDE</th>\n",
       "      <th>...</th>\n",
       "      <th>PRO12_SWT</th>\n",
       "      <th>PRO12_Scripting</th>\n",
       "      <th>PRO12_Search</th>\n",
       "      <th>PRO12_Team</th>\n",
       "      <th>PRO12_Text</th>\n",
       "      <th>PRO12_UI</th>\n",
       "      <th>PRO12_Update  (deprecated - use RT&gt;Equinox&gt;p2)</th>\n",
       "      <th>PRO12_User Assistance</th>\n",
       "      <th>PRO12_WebDAV</th>\n",
       "      <th>PRO12_Website</th>\n",
       "    </tr>\n",
       "  </thead>\n",
       "  <tbody>\n",
       "    <tr>\n",
       "      <th>0</th>\n",
       "      <td>0</td>\n",
       "      <td>0</td>\n",
       "      <td>0</td>\n",
       "      <td>0</td>\n",
       "      <td>0</td>\n",
       "      <td>1</td>\n",
       "      <td>0</td>\n",
       "      <td>0</td>\n",
       "      <td>0</td>\n",
       "      <td>0</td>\n",
       "      <td>...</td>\n",
       "      <td>0</td>\n",
       "      <td>0</td>\n",
       "      <td>0</td>\n",
       "      <td>1</td>\n",
       "      <td>0</td>\n",
       "      <td>0</td>\n",
       "      <td>0</td>\n",
       "      <td>0</td>\n",
       "      <td>0</td>\n",
       "      <td>0</td>\n",
       "    </tr>\n",
       "    <tr>\n",
       "      <th>1</th>\n",
       "      <td>0</td>\n",
       "      <td>0</td>\n",
       "      <td>0</td>\n",
       "      <td>0</td>\n",
       "      <td>0</td>\n",
       "      <td>1</td>\n",
       "      <td>0</td>\n",
       "      <td>0</td>\n",
       "      <td>0</td>\n",
       "      <td>0</td>\n",
       "      <td>...</td>\n",
       "      <td>0</td>\n",
       "      <td>0</td>\n",
       "      <td>0</td>\n",
       "      <td>0</td>\n",
       "      <td>0</td>\n",
       "      <td>0</td>\n",
       "      <td>0</td>\n",
       "      <td>0</td>\n",
       "      <td>0</td>\n",
       "      <td>0</td>\n",
       "    </tr>\n",
       "    <tr>\n",
       "      <th>2</th>\n",
       "      <td>0</td>\n",
       "      <td>0</td>\n",
       "      <td>1</td>\n",
       "      <td>0</td>\n",
       "      <td>0</td>\n",
       "      <td>0</td>\n",
       "      <td>0</td>\n",
       "      <td>0</td>\n",
       "      <td>0</td>\n",
       "      <td>0</td>\n",
       "      <td>...</td>\n",
       "      <td>0</td>\n",
       "      <td>0</td>\n",
       "      <td>0</td>\n",
       "      <td>0</td>\n",
       "      <td>0</td>\n",
       "      <td>0</td>\n",
       "      <td>0</td>\n",
       "      <td>0</td>\n",
       "      <td>0</td>\n",
       "      <td>0</td>\n",
       "    </tr>\n",
       "    <tr>\n",
       "      <th>3</th>\n",
       "      <td>0</td>\n",
       "      <td>0</td>\n",
       "      <td>0</td>\n",
       "      <td>0</td>\n",
       "      <td>0</td>\n",
       "      <td>1</td>\n",
       "      <td>0</td>\n",
       "      <td>0</td>\n",
       "      <td>1</td>\n",
       "      <td>0</td>\n",
       "      <td>...</td>\n",
       "      <td>0</td>\n",
       "      <td>0</td>\n",
       "      <td>0</td>\n",
       "      <td>0</td>\n",
       "      <td>0</td>\n",
       "      <td>1</td>\n",
       "      <td>0</td>\n",
       "      <td>0</td>\n",
       "      <td>0</td>\n",
       "      <td>0</td>\n",
       "    </tr>\n",
       "    <tr>\n",
       "      <th>4</th>\n",
       "      <td>0</td>\n",
       "      <td>0</td>\n",
       "      <td>0</td>\n",
       "      <td>0</td>\n",
       "      <td>0</td>\n",
       "      <td>1</td>\n",
       "      <td>0</td>\n",
       "      <td>0</td>\n",
       "      <td>0</td>\n",
       "      <td>0</td>\n",
       "      <td>...</td>\n",
       "      <td>0</td>\n",
       "      <td>0</td>\n",
       "      <td>0</td>\n",
       "      <td>0</td>\n",
       "      <td>0</td>\n",
       "      <td>0</td>\n",
       "      <td>0</td>\n",
       "      <td>1</td>\n",
       "      <td>0</td>\n",
       "      <td>0</td>\n",
       "    </tr>\n",
       "  </tbody>\n",
       "</table>\n",
       "<p>5 rows × 38 columns</p>\n",
       "</div>"
      ],
      "text/plain": [
       "   Severity_blocker  Severity_critical  Severity_enhancement  Severity_major  \\\n",
       "0                 0                  0                     0               0   \n",
       "1                 0                  0                     0               0   \n",
       "2                 0                  0                     1               0   \n",
       "3                 0                  0                     0               0   \n",
       "4                 0                  0                     0               0   \n",
       "\n",
       "   Severity_minor  Severity_normal  Severity_trivial  PRO1_Equinox  PRO1_JDT  \\\n",
       "0               0                1                 0             0         0   \n",
       "1               0                1                 0             0         0   \n",
       "2               0                0                 0             0         0   \n",
       "3               0                1                 0             0         1   \n",
       "4               0                1                 0             0         0   \n",
       "\n",
       "   PRO1_PDE      ...        PRO12_SWT  PRO12_Scripting  PRO12_Search  \\\n",
       "0         0      ...                0                0             0   \n",
       "1         0      ...                0                0             0   \n",
       "2         0      ...                0                0             0   \n",
       "3         0      ...                0                0             0   \n",
       "4         0      ...                0                0             0   \n",
       "\n",
       "   PRO12_Team  PRO12_Text  PRO12_UI  \\\n",
       "0           1           0         0   \n",
       "1           0           0         0   \n",
       "2           0           0         0   \n",
       "3           0           0         1   \n",
       "4           0           0         0   \n",
       "\n",
       "   PRO12_Update  (deprecated - use RT>Equinox>p2)  PRO12_User Assistance  \\\n",
       "0                                               0                      0   \n",
       "1                                               0                      0   \n",
       "2                                               0                      0   \n",
       "3                                               0                      0   \n",
       "4                                               0                      1   \n",
       "\n",
       "   PRO12_WebDAV  PRO12_Website  \n",
       "0             0              0  \n",
       "1             0              0  \n",
       "2             0              0  \n",
       "3             0              0  \n",
       "4             0              0  \n",
       "\n",
       "[5 rows x 38 columns]"
      ]
     },
     "execution_count": 37,
     "metadata": {},
     "output_type": "execute_result"
    }
   ],
   "source": [
    "dummy_df.head()"
   ]
  },
  {
   "cell_type": "code",
   "execution_count": 38,
   "metadata": {},
   "outputs": [],
   "source": [
    "from scipy import sparse"
   ]
  },
  {
   "cell_type": "code",
   "execution_count": 39,
   "metadata": {},
   "outputs": [],
   "source": [
    "dummy_sparse = sparse.csr_matrix(dummy_df.values)"
   ]
  },
  {
   "cell_type": "code",
   "execution_count": 40,
   "metadata": {
    "scrolled": true
   },
   "outputs": [
    {
     "name": "stdout",
     "output_type": "stream",
     "text": [
      "Index([u'Severity', u'Priority', u'Summary', u'TMP1', u'TMP2', u'TMP3',\n",
      "       u'TMP4', u'TMP5', u'TMP6', u'TMP7', u'TMP8', u'TMP9', u'TMP10',\n",
      "       u'TMP11', u'TMP12', u'AUT1', u'AUT2', u'AUT3', u'PRO1', u'PRO2',\n",
      "       u'PRO3', u'PRO4', u'PRO5', u'PRO6', u'PRO7', u'PRO8', u'PRO9', u'PRO10',\n",
      "       u'PRO11', u'PRO12', u'PRO12.1', u'PRO14', u'PRO15', u'PRO16', u'PRO17',\n",
      "       u'PRO18', u'PRO19', u'PRO20', u'PRO21', u'PRO22'],\n",
      "      dtype='object')\n"
     ]
    }
   ],
   "source": [
    "print df.columns"
   ]
  },
  {
   "cell_type": "code",
   "execution_count": 41,
   "metadata": {},
   "outputs": [],
   "source": [
    "other_features = df[other_cols]"
   ]
  },
  {
   "cell_type": "code",
   "execution_count": 42,
   "metadata": {},
   "outputs": [],
   "source": [
    "for i in range(len(other_cols)):\n",
    "    try:\n",
    "        test = other_features.iloc[:,i].astype(float)\n",
    "    except:\n",
    "        print \"problem is in column - \", i, other_cols[i]"
   ]
  },
  {
   "cell_type": "code",
   "execution_count": 43,
   "metadata": {
    "scrolled": true
   },
   "outputs": [],
   "source": [
    "other_sparse = sparse.csr_matrix(other_features.values)"
   ]
  },
  {
   "cell_type": "code",
   "execution_count": 44,
   "metadata": {},
   "outputs": [],
   "source": [
    "inputDF = sparse.hstack((dummy_sparse,countVector),format=\"csr\")"
   ]
  },
  {
   "cell_type": "code",
   "execution_count": 45,
   "metadata": {},
   "outputs": [],
   "source": [
    "inputDF = sparse.hstack((other_features,countVector),format=\"csr\")"
   ]
  },
  {
   "cell_type": "code",
   "execution_count": 55,
   "metadata": {},
   "outputs": [
    {
     "name": "stdout",
     "output_type": "stream",
     "text": [
      "(83041, 15940)\n"
     ]
    }
   ],
   "source": [
    "print inputDF.shape"
   ]
  },
  {
   "cell_type": "code",
   "execution_count": 47,
   "metadata": {},
   "outputs": [
    {
     "name": "stdout",
     "output_type": "stream",
     "text": [
      "  (0, 1780)\t1\n",
      "  (0, 6944)\t1\n",
      "  (0, 3526)\t1\n",
      "  (0, 7250)\t1\n"
     ]
    }
   ],
   "source": [
    "print countVector[0]"
   ]
  },
  {
   "cell_type": "code",
   "execution_count": 48,
   "metadata": {},
   "outputs": [
    {
     "name": "stdout",
     "output_type": "stream",
     "text": [
      "  (0, 0)\t823.0\n",
      "  (0, 1)\t614.0\n",
      "  (0, 2)\t712.0\n",
      "  (0, 3)\t2245.0\n",
      "  (0, 4)\t1642.0\n",
      "  (0, 5)\t1955.0\n",
      "  (0, 6)\t121.0\n",
      "  (0, 7)\t78.0\n",
      "  (0, 8)\t100.0\n",
      "  (0, 9)\t242.0\n",
      "  (0, 10)\t172.0\n",
      "  (0, 11)\t203.0\n",
      "  (0, 12)\t3.0\n",
      "  (0, 13)\t3.0\n",
      "  (0, 14)\t715.0\n",
      "  (0, 15)\t24034.0\n",
      "  (0, 16)\t16103.0\n",
      "  (0, 17)\t19852.0\n",
      "  (0, 18)\t0.0552550553383\n",
      "  (0, 19)\t0.105974868936\n",
      "  (0, 20)\t0.775235083632\n",
      "  (0, 21)\t0.0376133810435\n",
      "  (0, 22)\t0.025921611051\n",
      "  (0, 23)\t3.0\n",
      "  (0, 24)\t5.0\n",
      "  (0, 25)\t3411.0\n",
      "  (0, 26)\t2612.0\n",
      "  (0, 27)\t2928.0\n",
      "  (0, 28)\t0.0425095279977\n",
      "  (0, 29)\t0.0454412195837\n",
      "  (0, 30)\t0.807681031955\n",
      "  (0, 31)\t0.0331281149223\n",
      "  (0, 32)\t0.0712401055409\n",
      "  (0, 33)\t4.0\n",
      "  (0, 34)\t3.0\n"
     ]
    }
   ],
   "source": [
    "print other_sparse[0]"
   ]
  },
  {
   "cell_type": "markdown",
   "metadata": {},
   "source": [
    "### Input Data is ready for algorithms to process"
   ]
  },
  {
   "cell_type": "markdown",
   "metadata": {},
   "source": [
    "##### Random Forest with training accuracy"
   ]
  },
  {
   "cell_type": "code",
   "execution_count": 144,
   "metadata": {
    "collapsed": true
   },
   "outputs": [],
   "source": [
    "from sklearn.ensemble import RandomForestClassifier"
   ]
  },
  {
   "cell_type": "code",
   "execution_count": 145,
   "metadata": {
    "collapsed": true
   },
   "outputs": [],
   "source": [
    "clf = RandomForestClassifier(n_jobs=-1)"
   ]
  },
  {
   "cell_type": "code",
   "execution_count": 146,
   "metadata": {},
   "outputs": [
    {
     "name": "stdout",
     "output_type": "stream",
     "text": [
      "CPU times: user 31.1 s, sys: 239 ms, total: 31.3 s\n",
      "Wall time: 9.49 s\n"
     ]
    },
    {
     "data": {
      "text/plain": [
       "RandomForestClassifier(bootstrap=True, class_weight=None, criterion='gini',\n",
       "            max_depth=None, max_features='auto', max_leaf_nodes=None,\n",
       "            min_impurity_split=1e-07, min_samples_leaf=1,\n",
       "            min_samples_split=2, min_weight_fraction_leaf=0.0,\n",
       "            n_estimators=10, n_jobs=-1, oob_score=False, random_state=None,\n",
       "            verbose=0, warm_start=False)"
      ]
     },
     "execution_count": 146,
     "metadata": {},
     "output_type": "execute_result"
    }
   ],
   "source": [
    "%time clf.fit(inputDF,df['Priority'])"
   ]
  },
  {
   "cell_type": "code",
   "execution_count": 147,
   "metadata": {},
   "outputs": [
    {
     "data": {
      "text/plain": [
       "0.9905588805529798"
      ]
     },
     "execution_count": 147,
     "metadata": {},
     "output_type": "execute_result"
    }
   ],
   "source": [
    "clf.score(inputDF,df['Priority'])"
   ]
  },
  {
   "cell_type": "code",
   "execution_count": 148,
   "metadata": {},
   "outputs": [
    {
     "name": "stdout",
     "output_type": "stream",
     "text": [
      "P1: 0.958671301661 2589\n",
      "P2: 0.953079178886 6138\n",
      "P3: 0.999550049916 71119\n",
      "P4: 0.891920251836 1906\n",
      "P5: 0.882854926299 1289\n"
     ]
    }
   ],
   "source": [
    "print 'P1:',clf.score(inputDF[list(df.loc[df.Priority=='P1',:].index)], df['Priority'].loc[df.Priority=='P1'] ),sum(df.Priority=='P1')\n",
    "print 'P2:',clf.score(inputDF[list(df.loc[df.Priority=='P2',:].index)], df['Priority'].loc[df.Priority=='P2'] ),sum(df.Priority=='P2')\n",
    "print 'P3:',clf.score(inputDF[list(df.loc[df.Priority=='P3',:].index)], df['Priority'].loc[df.Priority=='P3'] ),sum(df.Priority=='P3')\n",
    "print 'P4:',clf.score(inputDF[list(df.loc[df.Priority=='P4',:].index)], df['Priority'].loc[df.Priority=='P4'] ),sum(df.Priority=='P4')\n",
    "print 'P5:',clf.score(inputDF[list(df.loc[df.Priority=='P5',:].index)], df['Priority'].loc[df.Priority=='P5'] ),sum(df.Priority=='P5')"
   ]
  },
  {
   "cell_type": "code",
   "execution_count": 149,
   "metadata": {},
   "outputs": [
    {
     "name": "stdout",
     "output_type": "stream",
     "text": [
      "P1: 0.958671301661 2589\n",
      "P2: 0.953079178886 6138\n",
      "P3: 0.999550049916 71119\n",
      "P4: 0.891920251836 1906\n",
      "P5: 0.882854926299 1289\n"
     ]
    }
   ],
   "source": [
    "print 'P1:',clf.score(inputDF[list(df.loc[df.Priority=='P1',:].index)], df['Priority'].loc[df.Priority=='P1'] ),sum(df.Priority=='P1')\n",
    "print 'P2:',clf.score(inputDF[list(df.loc[df.Priority=='P2',:].index)], df['Priority'].loc[df.Priority=='P2'] ),sum(df.Priority=='P2')\n",
    "print 'P3:',clf.score(inputDF[list(df.loc[df.Priority=='P3',:].index)], df['Priority'].loc[df.Priority=='P3'] ),sum(df.Priority=='P3')\n",
    "print 'P4:',clf.score(inputDF[list(df.loc[df.Priority=='P4',:].index)], df['Priority'].loc[df.Priority=='P4'] ),sum(df.Priority=='P4')\n",
    "print 'P5:',clf.score(inputDF[list(df.loc[df.Priority=='P5',:].index)], df['Priority'].loc[df.Priority=='P5'] ),sum(df.Priority=='P5')"
   ]
  },
  {
   "cell_type": "markdown",
   "metadata": {},
   "source": [
    "## Cross validation on the dataset with F1-Score (our evaluation metric)"
   ]
  },
  {
   "cell_type": "code",
   "execution_count": 83,
   "metadata": {
    "collapsed": true
   },
   "outputs": [],
   "source": [
    "from sklearn.naive_bayes import MultinomialNB"
   ]
  },
  {
   "cell_type": "code",
   "execution_count": 84,
   "metadata": {
    "collapsed": true
   },
   "outputs": [],
   "source": [
    "clf = MultinomialNB()"
   ]
  },
  {
   "cell_type": "code",
   "execution_count": 85,
   "metadata": {},
   "outputs": [
    {
     "name": "stderr",
     "output_type": "stream",
     "text": [
      "/usr/local/lib/python2.7/dist-packages/sklearn/cross_validation.py:41: DeprecationWarning: This module was deprecated in version 0.18 in favor of the model_selection module into which all the refactored classes and functions are moved. Also note that the interface of the new CV iterators are different from that of this module. This module will be removed in 0.20.\n",
      "  \"This module will be removed in 0.20.\", DeprecationWarning)\n"
     ]
    }
   ],
   "source": [
    "from sklearn.cross_validation import cross_val_score\n",
    "from sklearn.metrics import make_scorer\n",
    "from sklearn.metrics import f1_score"
   ]
  },
  {
   "cell_type": "code",
   "execution_count": 86,
   "metadata": {
    "collapsed": true
   },
   "outputs": [],
   "source": [
    "f1scorer_macro = make_scorer(f1_score, average='macro')\n",
    "f1scorer_weighted = make_scorer(f1_score, average='weighted')\n",
    "f1scorer_perclass = make_scorer(f1_score, average=None)"
   ]
  },
  {
   "cell_type": "code",
   "execution_count": 87,
   "metadata": {},
   "outputs": [
    {
     "data": {
      "text/plain": [
       "make_scorer(f1_score, average=None)"
      ]
     },
     "execution_count": 87,
     "metadata": {},
     "output_type": "execute_result"
    }
   ],
   "source": [
    "f1scorer_perclass"
   ]
  },
  {
   "cell_type": "code",
   "execution_count": 40,
   "metadata": {},
   "outputs": [
    {
     "name": "stdout",
     "output_type": "stream",
     "text": [
      "CPU times: user 832 ms, sys: 76 ms, total: 908 ms\n",
      "Wall time: 2min 4s\n"
     ]
    }
   ],
   "source": [
    "%time cvscores_wf1 = cross_val_score(clf, inputDF, df['Priority'], scoring=f1scorer_weighted , cv=10, n_jobs=-1)\n",
    "print cvscores_wf1\n",
    "print 'Weighted F1 mean,std:', np.mean(cvscores), np.std(cvscores)"
   ]
  },
  {
   "cell_type": "code",
   "execution_count": 89,
   "metadata": {},
   "outputs": [
    {
     "name": "stdout",
     "output_type": "stream",
     "text": [
      "\n"
     ]
    }
   ],
   "source": [
    "import numpy as np"
   ]
  },
  {
   "cell_type": "code",
   "execution_count": 90,
   "metadata": {},
   "outputs": [
    {
     "name": "stdout",
     "output_type": "stream",
     "text": [
      "CPU times: user 948 ms, sys: 92 ms, total: 1.04 s\n",
      "Wall time: 1.61 s\n",
      "[ 0.19922428  0.2453444   0.29564239  0.292726    0.25145097  0.25054827\n",
      "  0.25181577  0.24395555  0.22604281  0.21915404]\n",
      "F1 mean,std: 0.247590448633 0.0283164018714\n"
     ]
    }
   ],
   "source": [
    "%time cvscores_f1 = cross_val_score(clf, inputDF, df['Priority'], scoring=f1scorer_macro , cv=10, n_jobs=-1)\n",
    "print cvscores_f1\n",
    "print 'F1 mean,std:', np.mean(cvscores_f1), np.std(cvscores_f1)"
   ]
  },
  {
   "cell_type": "code",
   "execution_count": 92,
   "metadata": {
    "collapsed": true
   },
   "outputs": [],
   "source": [
    "cvscores_acc = cross_val_score(clf, inputDF, df['Priority'],scoring='accuracy', cv=10, n_jobs=-1)"
   ]
  },
  {
   "cell_type": "code",
   "execution_count": 127,
   "metadata": {},
   "outputs": [
    {
     "data": {
      "text/plain": [
       "(0.83135657064570512, 0.043975080942427851)"
      ]
     },
     "execution_count": 127,
     "metadata": {},
     "output_type": "execute_result"
    }
   ],
   "source": [
    "np.mean(cvscores_acc),np.std(cvscores_acc)"
   ]
  },
  {
   "cell_type": "markdown",
   "metadata": {},
   "source": [
    "## Measuring Per Class F1 scores as per the paper using KFold RF"
   ]
  },
  {
   "cell_type": "code",
   "execution_count": 51,
   "metadata": {},
   "outputs": [],
   "source": [
    "from sklearn.model_selection import KFold\n",
    "from sklearn.metrics import f1_score\n",
    "from sklearn.naive_bayes import MultinomialNB\n",
    "from sklearn.ensemble import RandomForestClassifier, AdaBoostClassifier, GradientBoostingClassifier"
   ]
  },
  {
   "cell_type": "code",
   "execution_count": 52,
   "metadata": {},
   "outputs": [],
   "source": [
    "#clf = RandomForestClassifier(n_jobs=-1)\n",
    "#clf = AdaBoostClassifier()\n",
    "#clf = GradientBoostingClassifier()\n",
    "clf = RandomForestClassifier(class_weight=\"balanced\", n_jobs=-1)\n",
    "kf = KFold(n_splits=10)"
   ]
  },
  {
   "cell_type": "code",
   "execution_count": 53,
   "metadata": {},
   "outputs": [
    {
     "name": "stdout",
     "output_type": "stream",
     "text": [
      "CPU times: user 24.7 s, sys: 128 ms, total: 24.9 s\n",
      "Wall time: 5.28 s\n",
      "[ 0.31662269  0.19651741  0.92780072  0.19827586  0.35359116]\n",
      "CPU times: user 23.8 s, sys: 40 ms, total: 23.9 s\n",
      "Wall time: 4.93 s\n",
      "[ 0.28791774  0.20049505  0.92599266  0.23478261  0.36734694]\n",
      "CPU times: user 24.2 s, sys: 32 ms, total: 24.2 s\n",
      "Wall time: 5.06 s\n",
      "[ 0.30933333  0.21879022  0.93141034  0.31441048  0.36464088]\n",
      "CPU times: user 24.7 s, sys: 24 ms, total: 24.8 s\n",
      "Wall time: 5.15 s\n",
      "[ 0.29878049  0.21957041  0.92621204  0.26356589  0.27380952]\n",
      "CPU times: user 23.9 s, sys: 32 ms, total: 24 s\n",
      "Wall time: 5.06 s\n",
      "[ 0.37533512  0.20595533  0.92771967  0.2519084   0.28205128]\n",
      "CPU times: user 24.5 s, sys: 4 ms, total: 24.5 s\n",
      "Wall time: 5.02 s\n",
      "[ 0.3027027   0.24175824  0.92835264  0.18348624  0.21857923]\n",
      "CPU times: user 24.1 s, sys: 20 ms, total: 24.1 s\n",
      "Wall time: 4.92 s\n",
      "[ 0.31898734  0.20454545  0.9281768   0.25663717  0.27906977]\n",
      "CPU times: user 24.1 s, sys: 20 ms, total: 24.1 s\n",
      "Wall time: 4.96 s\n",
      "[ 0.30594901  0.18457649  0.92744773  0.20183486  0.32044199]\n",
      "CPU times: user 25.4 s, sys: 76 ms, total: 25.5 s\n",
      "Wall time: 5.87 s\n",
      "[ 0.33595801  0.19975639  0.92951924  0.22510823  0.42696629]\n",
      "CPU times: user 30.1 s, sys: 60 ms, total: 30.2 s\n",
      "Wall time: 6.17 s\n",
      "[ 0.336       0.21867322  0.92725574  0.19762846  0.36263736]\n"
     ]
    }
   ],
   "source": [
    "cvscores = []\n",
    "for train,test in kf.split(inputDF):\n",
    "    train_input = inputDF[train]\n",
    "    test_input = inputDF[test]\n",
    "    train_output = df['Priority'][train]\n",
    "    test_output = df['Priority'][test]\n",
    "    %time clf.fit(train_input,train_output)\n",
    "    prediction = clf.predict(test_input)\n",
    "    scores = f1_score(test_output, prediction, average=None)\n",
    "    print scores\n",
    "    cvscores.append(scores)"
   ]
  },
  {
   "cell_type": "code",
   "execution_count": 105,
   "metadata": {},
   "outputs": [
    {
     "data": {
      "text/plain": [
       "array([ 0.02804619,  0.02679268,  0.04025911,  0.02318562,  0.03207399,\n",
       "        0.02952609,  0.02597535,  0.02539812,  0.03137977,  0.02445142,\n",
       "        0.02760929,  0.02762818])"
      ]
     },
     "execution_count": 105,
     "metadata": {},
     "output_type": "execute_result"
    }
   ],
   "source": [
    "clf.feature_importances_[345:357]"
   ]
  },
  {
   "cell_type": "code",
   "execution_count": 54,
   "metadata": {},
   "outputs": [
    {
     "data": {
      "text/plain": [
       "0.40269769697031571"
      ]
     },
     "execution_count": 54,
     "metadata": {},
     "output_type": "execute_result"
    }
   ],
   "source": [
    "np.mean(cvscores)"
   ]
  },
  {
   "cell_type": "code",
   "execution_count": 128,
   "metadata": {},
   "outputs": [
    {
     "name": "stdout",
     "output_type": "stream",
     "text": [
      "\tP1\t\tP2\t\tP3\t\tP4\tP5\n",
      "\t[ 0.25789875  0.15352413  0.92717314  0.19530204  0.26585209]\n"
     ]
    },
    {
     "data": {
      "text/plain": [
       "[array([ 0.302267  ,  0.18350515,  0.92603378,  0.23529412,  0.15525114]),\n",
       " array([ 0.26213592,  0.14945055,  0.92646593,  0.17275748,  0.23923445]),\n",
       " array([ 0.28078818,  0.16107383,  0.92836827,  0.16153846,  0.27102804]),\n",
       " array([ 0.25118483,  0.13333333,  0.92848115,  0.18532819,  0.2815534 ]),\n",
       " array([ 0.26633166,  0.14790997,  0.9264115 ,  0.21568627,  0.31884058]),\n",
       " array([ 0.22828784,  0.15350389,  0.92756072,  0.22857143,  0.28571429]),\n",
       " array([ 0.22429907,  0.16768916,  0.92261082,  0.18181818,  0.27160494]),\n",
       " array([ 0.25      ,  0.18441273,  0.92873345,  0.15827338,  0.24210526]),\n",
       " array([ 0.26065163,  0.13125   ,  0.92667443,  0.21678322,  0.3286385 ]),\n",
       " array([ 0.25304136,  0.12311266,  0.93039138,  0.1969697 ,  0.26455026])]"
      ]
     },
     "execution_count": 128,
     "metadata": {},
     "output_type": "execute_result"
    }
   ],
   "source": [
    "print '\\tP1\\t\\tP2\\t\\tP3\\t\\tP4\\tP5'\n",
    "print '\\t',np.mean(cxvscores,axis=0)\n",
    "cvscores"
   ]
  },
  {
   "cell_type": "code",
   "execution_count": 97,
   "metadata": {},
   "outputs": [
    {
     "name": "stdout",
     "output_type": "stream",
     "text": [
      "\tP1\t\tP2\t\tP3\t\tP4\tP5\n",
      "\t[ 0.08830426  0.07866991  0.92049622  0.14514483  0.22485906]\n"
     ]
    },
    {
     "data": {
      "text/plain": [
       "[array([ 0.08044383,  0.04022627,  0.79617796,  0.41274238,  0.45138889]),\n",
       " array([ 0.16113744,  0.07654987,  0.84787319,  0.16027875,  0.32773109]),\n",
       " array([ 0.12345679,  0.07969349,  0.9126399 ,  0.13333333,  0.30188679]),\n",
       " array([ 0.12903226,  0.09279609,  0.94214536,  0.20833333,  0.23809524]),\n",
       " array([ 0.11570248,  0.07446809,  0.93965829,  0.1048951 ,  0.35514019]),\n",
       " array([ 0.17777778,  0.12815126,  0.93686122,  0.15770609,  0.18918919]),\n",
       " array([ 0.032     ,  0.08979592,  0.96259477,  0.09782609,  0.13636364]),\n",
       " array([ 0.06349206,  0.06392694,  0.95530839,  0.10084034,  0.16949153]),\n",
       " array([ 0.        ,  0.07246377,  0.97441481,  0.03488372,  0.07692308]),\n",
       " array([ 0.        ,  0.06862745,  0.93728831,  0.04060914,  0.00238095])]"
      ]
     },
     "execution_count": 97,
     "metadata": {},
     "output_type": "execute_result"
    }
   ],
   "source": [
    "print '\\tP1\\t\\tP2\\t\\tP3\\t\\tP4\\tP5'\n",
    "print '\\t',np.mean(cvscores,axis=0)\n",
    "cvscores"
   ]
  },
  {
   "cell_type": "code",
   "execution_count": 98,
   "metadata": {},
   "outputs": [
    {
     "data": {
      "text/plain": [
       "0.29149485632471661"
      ]
     },
     "execution_count": 98,
     "metadata": {},
     "output_type": "execute_result"
    }
   ],
   "source": [
    "np.mean(cvscores)"
   ]
  },
  {
   "cell_type": "code",
   "execution_count": 96,
   "metadata": {},
   "outputs": [
    {
     "name": "stdout",
     "output_type": "stream",
     "text": [
      "\tP1\t\tP2\t\tP3\t\tP4\tP5\n",
      "\t[ 0.11279759  0.09646663  0.91850115  0.08118626  0.01135761]\n"
     ]
    },
    {
     "data": {
      "text/plain": [
       "[array([ 0.04953999,  0.08259587,  0.79588336,  0.02331002,  0.04402516]),\n",
       " array([ 0.22727273,  0.09788769,  0.8428645 ,  0.04580153,  0.02409639]),\n",
       " array([ 0.14044944,  0.10748003,  0.90991423,  0.07407407,  0.        ]),\n",
       " array([ 0.11034483,  0.12962963,  0.94013304,  0.09195402,  0.        ]),\n",
       " array([ 0.10833333,  0.10899873,  0.93713224,  0.11347518,  0.        ]),\n",
       " array([ 0.17045455,  0.13226453,  0.93455905,  0.14545455,  0.        ]),\n",
       " array([ 0.09230769,  0.12015504,  0.96227744,  0.12765957,  0.04545455]),\n",
       " array([ 0.11347518,  0.05504587,  0.95473876,  0.13513514,  0.        ]),\n",
       " array([ 0.06451613,  0.07453416,  0.97260002,  0.03529412,  0.        ]),\n",
       " array([ 0.05128205,  0.05607477,  0.93490881,  0.01970443,  0.        ])]"
      ]
     },
     "execution_count": 96,
     "metadata": {},
     "output_type": "execute_result"
    }
   ],
   "source": [
    "print '\\tP1\\t\\tP2\\t\\tP3\\t\\tP4\\tP5'\n",
    "print '\\t',np.mean(cvscores,axis=0)\n",
    "cvscores\n",
    "#np.mean(cvscores)"
   ]
  },
  {
   "cell_type": "markdown",
   "metadata": {},
   "source": [
    "### Running algorithms on  Data With Temporal features"
   ]
  },
  {
   "cell_type": "code",
   "execution_count": 58,
   "metadata": {},
   "outputs": [
    {
     "name": "stdout",
     "output_type": "stream",
     "text": [
      "\n"
     ]
    }
   ],
   "source": [
    "import pandas as pd"
   ]
  },
  {
   "cell_type": "code",
   "execution_count": 59,
   "metadata": {},
   "outputs": [
    {
     "name": "stdout",
     "output_type": "stream",
     "text": [
      "(103805, 19)\n",
      "(103802, 19)\n"
     ]
    },
    {
     "data": {
      "text/plain": [
       "index        0\n",
       "Bug ID       0\n",
       "Product      0\n",
       "Component    0\n",
       "Assignee     0\n",
       "Summary      0\n",
       "Priority     0\n",
       "Severity     0\n",
       "TMP1         0\n",
       "TMP2         0\n",
       "TMP3         0\n",
       "TMP4         0\n",
       "TMP5         0\n",
       "TMP6         0\n",
       "TMP7         0\n",
       "TMP8         0\n",
       "TMP9         0\n",
       "TMP10        0\n",
       "TMP11        0\n",
       "TMP12        0\n",
       "dtype: int64"
      ]
     },
     "execution_count": 59,
     "metadata": {},
     "output_type": "execute_result"
    }
   ],
   "source": [
    "df = pd.read_csv('../data/data_with_temporal.csv')\n",
    "df.drop(['Keywords','Summary.1','Status','Resolution','Changed','Opened'],axis=1,inplace=True)\n",
    "print df.shape\n",
    "df.dropna(inplace=True)\n",
    "print df.shape\n",
    "df.reset_index(inplace=True)\n",
    "df.isnull().sum()"
   ]
  },
  {
   "cell_type": "code",
   "execution_count": 106,
   "metadata": {
    "collapsed": true
   },
   "outputs": [],
   "source": [
    "df = df.sample(frac=1.0)"
   ]
  },
  {
   "cell_type": "code",
   "execution_count": 107,
   "metadata": {
    "collapsed": true
   },
   "outputs": [],
   "source": [
    "df.reset_index(inplace=True)"
   ]
  },
  {
   "cell_type": "code",
   "execution_count": 108,
   "metadata": {
    "collapsed": true
   },
   "outputs": [],
   "source": [
    "dummy_df = pd.get_dummies( df[['Product','Component','Assignee','Severity']] )"
   ]
  },
  {
   "cell_type": "code",
   "execution_count": 110,
   "metadata": {},
   "outputs": [
    {
     "data": {
      "text/plain": [
       "Index([u'TMP1', u'TMP2', u'TMP3', u'TMP4', u'TMP5', u'TMP6', u'TMP7', u'TMP8',\n",
       "       u'TMP9', u'TMP10', u'TMP11', u'TMP12'],\n",
       "      dtype='object')"
      ]
     },
     "execution_count": 110,
     "metadata": {},
     "output_type": "execute_result"
    }
   ],
   "source": [
    "df.columns[9:]"
   ]
  },
  {
   "cell_type": "code",
   "execution_count": 111,
   "metadata": {
    "collapsed": true
   },
   "outputs": [],
   "source": [
    "other_features = pd.concat([dummy_df, df[df.columns[9:]]],axis=1)"
   ]
  },
  {
   "cell_type": "code",
   "execution_count": 112,
   "metadata": {},
   "outputs": [
    {
     "data": {
      "text/plain": [
       "(103802, 357)"
      ]
     },
     "execution_count": 112,
     "metadata": {},
     "output_type": "execute_result"
    }
   ],
   "source": [
    "other_features.shape"
   ]
  },
  {
   "cell_type": "code",
   "execution_count": 113,
   "metadata": {},
   "outputs": [
    {
     "data": {
      "text/plain": [
       "(103802, 357)"
      ]
     },
     "execution_count": 113,
     "metadata": {},
     "output_type": "execute_result"
    }
   ],
   "source": [
    "other_features.dropna().shape"
   ]
  },
  {
   "cell_type": "code",
   "execution_count": 114,
   "metadata": {},
   "outputs": [
    {
     "data": {
      "text/plain": [
       "(103802, 345)"
      ]
     },
     "execution_count": 114,
     "metadata": {},
     "output_type": "execute_result"
    }
   ],
   "source": [
    "dummy_df.shape"
   ]
  },
  {
   "cell_type": "code",
   "execution_count": 1,
   "metadata": {},
   "outputs": [],
   "source": [
    "import pandas as pd"
   ]
  },
  {
   "cell_type": "code",
   "execution_count": 2,
   "metadata": {},
   "outputs": [],
   "source": [
    "df = pd.read_csv('../data/processed/train_processed.csv')"
   ]
  },
  {
   "cell_type": "code",
   "execution_count": 10,
   "metadata": {},
   "outputs": [
    {
     "data": {
      "text/plain": [
       "index                                                0\n",
       "Bug ID                                           63706\n",
       "Severity                                        normal\n",
       "Priority                                            P3\n",
       "Summary     Invalid dirty indicator after checking out\n",
       "TMP1                                               823\n",
       "TMP2                                               614\n",
       "TMP3                                               712\n",
       "TMP4                                              2245\n",
       "TMP5                                              1642\n",
       "TMP6                                              1955\n",
       "TMP7                                               121\n",
       "TMP8                                                78\n",
       "TMP9                                               100\n",
       "TMP10                                              242\n",
       "TMP11                                              172\n",
       "TMP12                                              203\n",
       "AUT1                                                 3\n",
       "AUT2                                                 3\n",
       "AUT3                                               715\n",
       "PRO1                                          Platform\n",
       "PRO2                                             24034\n",
       "PRO3                                             16103\n",
       "PRO4                                             19852\n",
       "PRO5                                         0.0552551\n",
       "PRO6                                          0.105975\n",
       "PRO7                                          0.775235\n",
       "PRO8                                         0.0376134\n",
       "PRO9                                         0.0259216\n",
       "PRO10                                                3\n",
       "PRO11                                                5\n",
       "PRO12                                             Team\n",
       "PRO12.1                                           3411\n",
       "PRO14                                             2612\n",
       "PRO15                                             2928\n",
       "PRO16                                        0.0425095\n",
       "PRO17                                        0.0454412\n",
       "PRO18                                         0.807681\n",
       "PRO19                                        0.0331281\n",
       "PRO20                                        0.0712401\n",
       "PRO21                                                4\n",
       "PRO22                                                3\n",
       "Name: 0, dtype: object"
      ]
     },
     "execution_count": 10,
     "metadata": {},
     "output_type": "execute_result"
    }
   ],
   "source": [
    "df.loc[0,:]"
   ]
  },
  {
   "cell_type": "code",
   "execution_count": 4,
   "metadata": {},
   "outputs": [
    {
     "data": {
      "text/plain": [
       "Index([u'Bug ID', u'Severity', u'Priority', u'Summary', u'TMP1', u'TMP2',\n",
       "       u'TMP3', u'TMP4', u'TMP5', u'TMP6', u'TMP7', u'TMP8', u'TMP9', u'TMP10',\n",
       "       u'TMP11', u'TMP12', u'AUT1', u'AUT2', u'AUT3', u'PRO1', u'PRO2',\n",
       "       u'PRO3', u'PRO4', u'PRO5', u'PRO6', u'PRO7', u'PRO8', u'PRO9', u'PRO10',\n",
       "       u'PRO11', u'PRO12', u'PRO12.1', u'PRO14', u'PRO15', u'PRO16', u'PRO17',\n",
       "       u'PRO18', u'PRO19', u'PRO20', u'PRO21', u'PRO22'],\n",
       "      dtype='object')"
      ]
     },
     "execution_count": 4,
     "metadata": {},
     "output_type": "execute_result"
    }
   ],
   "source": [
    "df.columns"
   ]
  },
  {
   "cell_type": "code",
   "execution_count": 8,
   "metadata": {
    "collapsed": true
   },
   "outputs": [
    {
     "data": {
      "text/plain": [
       "Bug ID      0\n",
       "Severity    0\n",
       "Priority    0\n",
       "Summary     0\n",
       "TMP1        0\n",
       "TMP2        0\n",
       "TMP3        0\n",
       "TMP4        0\n",
       "TMP5        0\n",
       "TMP6        0\n",
       "TMP7        0\n",
       "TMP8        0\n",
       "TMP9        0\n",
       "TMP10       0\n",
       "TMP11       0\n",
       "TMP12       0\n",
       "AUT1        0\n",
       "AUT2        0\n",
       "AUT3        0\n",
       "PRO1        0\n",
       "PRO2        0\n",
       "PRO3        0\n",
       "PRO4        0\n",
       "PRO5        0\n",
       "PRO6        0\n",
       "PRO7        0\n",
       "PRO8        0\n",
       "PRO9        0\n",
       "PRO10       0\n",
       "PRO11       0\n",
       "PRO12       0\n",
       "PRO12.1     0\n",
       "PRO14       0\n",
       "PRO15       0\n",
       "PRO16       0\n",
       "PRO17       0\n",
       "PRO18       0\n",
       "PRO19       0\n",
       "PRO20       0\n",
       "PRO21       0\n",
       "PRO22       0\n",
       "dtype: int64"
      ]
     },
     "execution_count": 8,
     "metadata": {},
     "output_type": "execute_result"
    }
   ],
   "source": [
    "df.dropna(inplace=True)\n",
    "df.isnull().sum()"
   ]
  },
  {
   "cell_type": "code",
   "execution_count": 9,
   "metadata": {},
   "outputs": [],
   "source": [
    "df.reset_index(inplace=True)"
   ]
  },
  {
   "cell_type": "code",
   "execution_count": 13,
   "metadata": {},
   "outputs": [
    {
     "data": {
      "text/plain": [
       "RangeIndex(start=0, stop=83041, step=1)"
      ]
     },
     "execution_count": 13,
     "metadata": {},
     "output_type": "execute_result"
    }
   ],
   "source": [
    "df[['Severity','PRO1','PRO12.1']]"
   ]
  },
  {
   "cell_type": "code",
   "execution_count": null,
   "metadata": {},
   "outputs": [],
   "source": []
  }
 ],
 "metadata": {
  "kernelspec": {
   "display_name": "Python 2",
   "language": "python",
   "name": "python2"
  },
  "language_info": {
   "codemirror_mode": {
    "name": "ipython",
    "version": 2
   },
   "file_extension": ".py",
   "mimetype": "text/x-python",
   "name": "python",
   "nbconvert_exporter": "python",
   "pygments_lexer": "ipython2",
   "version": "2.7.12"
  }
 },
 "nbformat": 4,
 "nbformat_minor": 2
}
