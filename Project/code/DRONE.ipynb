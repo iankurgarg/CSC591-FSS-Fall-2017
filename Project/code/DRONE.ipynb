{
 "cells": [
  {
   "cell_type": "code",
   "execution_count": 1,
   "metadata": {
    "collapsed": true
   },
   "outputs": [],
   "source": [
    "import pandas as pd\n",
    "import numpy as np\n",
    "import scipy\n",
    "from copy import deepcopy\n",
    "from sklearn.linear_model import LinearRegression\n",
    "from data_preprocessing import DataProcessor"
   ]
  },
  {
   "cell_type": "code",
   "execution_count": 2,
   "metadata": {
    "collapsed": true
   },
   "outputs": [],
   "source": [
    "train_df = pd.read_csv('../data/processed/train_processed.csv')\n",
    "test_df = pd.read_csv('../data/processed/test_processed.csv')"
   ]
  },
  {
   "cell_type": "code",
   "execution_count": 3,
   "metadata": {
    "collapsed": false
   },
   "outputs": [
    {
     "name": "stdout",
     "output_type": "stream",
     "text": [
      "removed nan values\n",
      "count vectorizer finished fitting\n",
      "count vector finished transforming\n",
      "dummy variables created\n",
      "created a sparse matrix of all features\n"
     ]
    }
   ],
   "source": [
    "p = DataProcessor()\n",
    "train_processed, train_original = p.fit_transform(train_df)"
   ]
  },
  {
   "cell_type": "code",
   "execution_count": 4,
   "metadata": {
    "collapsed": false
   },
   "outputs": [
    {
     "name": "stdout",
     "output_type": "stream",
     "text": [
      "count vector finished transforming\n",
      "dummy variables created\n",
      "created a sparse matrix of all features\n"
     ]
    }
   ],
   "source": [
    "test_processed, test_original = p.transform(test_df)"
   ]
  },
  {
   "cell_type": "code",
   "execution_count": 5,
   "metadata": {
    "collapsed": false
   },
   "outputs": [
    {
     "data": {
      "text/plain": [
       "<83041x15940 sparse matrix of type '<type 'numpy.float64'>'\n",
       "\twith 3359482 stored elements in Compressed Sparse Row format>"
      ]
     },
     "execution_count": 5,
     "metadata": {},
     "output_type": "execute_result"
    }
   ],
   "source": [
    "train_processed"
   ]
  },
  {
   "cell_type": "markdown",
   "metadata": {},
   "source": [
    "### Run sklearn countvectorizer"
   ]
  },
  {
   "cell_type": "code",
   "execution_count": 6,
   "metadata": {
    "collapsed": true
   },
   "outputs": [],
   "source": [
    "def ctoi(x):\n",
    "    if x=='P1':\n",
    "        return 1 \n",
    "    if x=='P2':\n",
    "        return 2\n",
    "    if x=='P3':\n",
    "        return 3\n",
    "    if x=='P4':\n",
    "        return 4\n",
    "    return 5"
   ]
  },
  {
   "cell_type": "code",
   "execution_count": 7,
   "metadata": {
    "collapsed": true
   },
   "outputs": [],
   "source": [
    "Priority_int = train_original['Priority'].apply(lambda x: ctoi(x))"
   ]
  },
  {
   "cell_type": "markdown",
   "metadata": {},
   "source": [
    "### Make spare representation"
   ]
  },
  {
   "cell_type": "code",
   "execution_count": 8,
   "metadata": {
    "collapsed": false
   },
   "outputs": [
    {
     "name": "stdout",
     "output_type": "stream",
     "text": [
      "(41520, 15940)\n",
      "(41521, 15940)\n",
      "(20761, 15940)\n"
     ]
    }
   ],
   "source": [
    "training_ip = train_processed[0:83041/2]\n",
    "training_op = Priority_int[0:83041/2]\n",
    "print training_ip.shape\n",
    "validation_ip = train_processed[83041/2:]\n",
    "validation_op = train_original['Priority'][83041/2:]\n",
    "print validation_ip.shape\n",
    "\n",
    "test_ip = test_processed\n",
    "test_op = test_original['Priority']\n",
    "print test_ip.shape"
   ]
  },
  {
   "cell_type": "markdown",
   "metadata": {},
   "source": [
    "### Train Linear Regression on Training set"
   ]
  },
  {
   "cell_type": "code",
   "execution_count": 10,
   "metadata": {
    "collapsed": true
   },
   "outputs": [],
   "source": [
    "from sklearn.ensemble import RandomForestRegressor"
   ]
  },
  {
   "cell_type": "code",
   "execution_count": 97,
   "metadata": {
    "collapsed": true
   },
   "outputs": [],
   "source": [
    "lr = LinearRegression(n_jobs=-1)\n",
    "# lr = RandomForestRegressor(n_jobs=-1)"
   ]
  },
  {
   "cell_type": "code",
   "execution_count": 98,
   "metadata": {
    "collapsed": false
   },
   "outputs": [
    {
     "data": {
      "text/plain": [
       "LinearRegression(copy_X=True, fit_intercept=True, n_jobs=-1, normalize=False)"
      ]
     },
     "execution_count": 98,
     "metadata": {},
     "output_type": "execute_result"
    }
   ],
   "source": [
    "lr.fit(training_ip, training_op)"
   ]
  },
  {
   "cell_type": "markdown",
   "metadata": {},
   "source": [
    "#### Initializing Thresholds"
   ]
  },
  {
   "cell_type": "code",
   "execution_count": 99,
   "metadata": {
    "collapsed": false
   },
   "outputs": [
    {
     "name": "stdout",
     "output_type": "stream",
     "text": [
      "[ 2.41306288  2.7908672   2.73131806 ...,  2.4883916   2.8945196\n",
      "  3.63032065]\n",
      "(41521,)\n",
      "(41521, 1)\n"
     ]
    }
   ],
   "source": [
    "validation_set_preds = lr.predict(validation_ip)\n",
    "print validation_set_preds\n",
    "print validation_set_preds.shape\n",
    "validation_set_preds = validation_set_preds.reshape(validation_set_preds.shape[0], 1)\n",
    "print validation_set_preds.shape"
   ]
  },
  {
   "cell_type": "code",
   "execution_count": 100,
   "metadata": {
    "collapsed": false
   },
   "outputs": [
    {
     "name": "stdout",
     "output_type": "stream",
     "text": [
      "3 7 85 2\n"
     ]
    }
   ],
   "source": [
    "# Finding percentile of each class in training data\n",
    "p1 = int((validation_op=='P1').sum()/float(validation_op.shape[0])*100)\n",
    "p2 = int((validation_op=='P2').sum()/float(validation_op.shape[0])*100)\n",
    "p3 = int((validation_op=='P3').sum()/float(validation_op.shape[0])*100)\n",
    "p4 = int((validation_op=='P4').sum()/float(validation_op.shape[0])*100)\n",
    "# p2 = int((train_original['Priority']=='P2').sum()/float(train_original['Priority'].shape[0])*100)\n",
    "# p3 = int((train_original['Priority']=='P3').sum()/float(train_original['Priority'].shape[0])*100)\n",
    "# p4 = int((train_original['Priority']=='P4').sum()/float(train_original['Priority'].shape[0])*100)\n",
    "# print p1,p2,p3,p4\n",
    "print p1, p2, p3, p4"
   ]
  },
  {
   "cell_type": "code",
   "execution_count": 140,
   "metadata": {
    "collapsed": false
   },
   "outputs": [],
   "source": [
    "# Create Thresholds based on these percentiles\n",
    "T0 = validation_set_preds.min()\n",
    "(T1,T2,T3,T4) = np.percentile(validation_set_preds,[p1,p2,p3,p4])"
   ]
  },
  {
   "cell_type": "code",
   "execution_count": 102,
   "metadata": {
    "collapsed": false
   },
   "outputs": [],
   "source": [
    "# T1 = np.percentile(validation_set_preds[validation_op=='P1'], p1)\n",
    "# T2 = np.percentile(validation_set_preds[validation_op=='P2'], p2)\n",
    "# T3 = np.percentile(validation_set_preds[validation_op=='P3'], p3)\n",
    "# T4 = np.percentile(validation_set_preds[validation_op=='P4'], p4)\n",
    "T0 = 0\n",
    "T1 = 1\n",
    "T2 = 2\n",
    "T3 = 3\n",
    "T4 = 4"
   ]
  },
  {
   "cell_type": "code",
   "execution_count": 103,
   "metadata": {
    "collapsed": false
   },
   "outputs": [
    {
     "data": {
      "text/plain": [
       "(0, 1, 2, 3, 4)"
      ]
     },
     "execution_count": 103,
     "metadata": {},
     "output_type": "execute_result"
    }
   ],
   "source": [
    "T0,T1,T2,T3,T4"
   ]
  },
  {
   "cell_type": "code",
   "execution_count": 104,
   "metadata": {
    "collapsed": true
   },
   "outputs": [],
   "source": [
    "# Function to map regression output to class labels according to threshold\n",
    "T = {'T0': T0, 'T1': T1, 'T2': T2, 'T3': T3, 'T4': T4}"
   ]
  },
  {
   "cell_type": "code",
   "execution_count": 105,
   "metadata": {
    "collapsed": true
   },
   "outputs": [],
   "source": [
    "# function to get class label based on threhsolds for a single test sample\n",
    "def itoc(x, T):\n",
    "    if x <= T['T1']:\n",
    "        return 'P1'\n",
    "    if x <= T['T2']:\n",
    "        return 'P2'\n",
    "    if x <= T['T3']:\n",
    "        return 'P3'\n",
    "    if x <= T['T4']:\n",
    "        return 'P4'\n",
    "    return 'P5'"
   ]
  },
  {
   "cell_type": "code",
   "execution_count": 106,
   "metadata": {
    "collapsed": false
   },
   "outputs": [
    {
     "data": {
      "text/plain": [
       "0.23856805958207533"
      ]
     },
     "execution_count": 106,
     "metadata": {},
     "output_type": "execute_result"
    }
   ],
   "source": [
    "# Calculating F1 Score before tweaking thresholds\n",
    "from sklearn.metrics import f1_score\n",
    "validation_set_class_preds = [itoc(x, T) for x in validation_set_preds]\n",
    "f1_score(validation_op, validation_set_class_preds, average='macro')"
   ]
  },
  {
   "cell_type": "markdown",
   "metadata": {},
   "source": [
    "## Threshold Tweaking (Greedy) "
   ]
  },
  {
   "cell_type": "code",
   "execution_count": 107,
   "metadata": {
    "collapsed": true
   },
   "outputs": [],
   "source": [
    "# get f1 score for given set of thresholds\n",
    "def F1ScoreTH(T, val_preds, actual_labels):\n",
    "    val_class_preds = np.apply_along_axis(lambda x: itoc(x, T), 1, val_preds)\n",
    "#     val_class_preds = val_preds.map(lambda x: itoc(x, T))\n",
    "    return f1_score(actual_labels, val_class_preds, average='macro')"
   ]
  },
  {
   "cell_type": "code",
   "execution_count": 116,
   "metadata": {
    "collapsed": true
   },
   "outputs": [],
   "source": [
    "TH = ['T0', 'T1', 'T2', 'T3', 'T4']\n",
    "def optimize_thresholds(T, actual, preds, d):\n",
    "    for i in range(1, len(TH)):\n",
    "        D = T[TH[i]] - T[TH[i-1]]\n",
    "#         print \"For T\", i, '----------'\n",
    "        while (True):\n",
    "            f1_v0 = F1ScoreTH(T, preds, actual)\n",
    "#             print f1_v0\n",
    "            delta = (d*D)\n",
    "\n",
    "            if (i + 1 < len(TH) and T[TH[i]] + delta < T[TH[i+1]]):\n",
    "                T[TH[i]] += delta\n",
    "                f1_v1 = F1ScoreTH(T, preds, actual)\n",
    "                T[TH[i]] -= delta\n",
    "            else:\n",
    "                f1_v1 = f1_v0\n",
    "            \n",
    "            if (T[TH[i]] - delta > T[TH[i-1]]):\n",
    "                T[TH[i]] -= delta\n",
    "                f1_v2 = F1ScoreTH(T, preds, actual)\n",
    "                T[TH[i]] += delta\n",
    "            else:\n",
    "                f1_v2 = f1_v0\n",
    "                \n",
    "#             print \"----- handling TH for \", TH[i], \"------\"\n",
    "#             print f1_v0, f1_v1, f1_v2\n",
    "            \n",
    "            if (f1_v1 > f1_v0 and f1_v1 > f1_v2):\n",
    "                T[TH[i]] += delta\n",
    "#                 print \"increasing threshold for \", TH[i]\n",
    "            elif (f1_v1 > f1_v0 and f1_v2 > f1_v1):\n",
    "                T[TH[i]] -= delta\n",
    "#                 print \"increasing threshold for \", TH[i]\n",
    "            elif (f1_v1 < f1_v0 and f1_v2 > f1_v0):\n",
    "                T[TH[i]] -= delta\n",
    "#                 print \"decreasing threshold for \", TH[i]\n",
    "            else:\n",
    "                print \"Completed for \", i\n",
    "                break;\n",
    "    return T"
   ]
  },
  {
   "cell_type": "code",
   "execution_count": 109,
   "metadata": {
    "collapsed": false
   },
   "outputs": [
    {
     "data": {
      "text/plain": [
       "{'T0': 0, 'T1': 1, 'T2': 2, 'T3': 3, 'T4': 4}"
      ]
     },
     "execution_count": 109,
     "metadata": {},
     "output_type": "execute_result"
    }
   ],
   "source": [
    "T = {'T0': T0, 'T1': T1, 'T2': T2, 'T3': T3, 'T4': T4}\n",
    "T_new = deepcopy(T)\n",
    "T_new"
   ]
  },
  {
   "cell_type": "code",
   "execution_count": 110,
   "metadata": {
    "collapsed": false,
    "scrolled": false
   },
   "outputs": [
    {
     "name": "stdout",
     "output_type": "stream",
     "text": [
      "For T 1 ----------\n",
      "0.238568059582\n",
      "0.238876044457\n",
      "Completed for  1\n",
      "For T 2 ----------\n",
      "0.238876044457\n",
      "0.239768235991\n",
      "0.240757769693\n",
      "0.241264805651\n",
      "0.242177482085\n",
      "0.243714130844\n",
      "0.24440396532\n",
      "0.245595635565\n",
      "0.246734496585\n",
      "0.24758813048\n",
      "0.248634468076\n",
      "0.249885983031\n",
      "0.251870319042\n",
      "0.25442053911\n",
      "0.255538483969\n",
      "0.256758583556\n",
      "0.258288921499\n",
      "0.260974248592\n",
      "0.261866840856\n",
      "0.262848996454\n",
      "0.264168146304\n",
      "0.265326090972\n",
      "0.26628894618\n",
      "0.26720287052\n",
      "0.268289361556\n",
      "0.268748179192\n",
      "0.26994582038\n",
      "Completed for  2\n",
      "For T 3 ----------\n",
      "0.26994582038\n",
      "0.273402549766\n",
      "0.27692807492\n",
      "0.280259051306\n",
      "0.283839703228\n",
      "0.286547274537\n",
      "0.289448483154\n",
      "0.292445788776\n",
      "0.295094927012\n",
      "0.297895112729\n",
      "0.30038658749\n",
      "0.302526253887\n",
      "0.304869659911\n",
      "0.306968574907\n",
      "0.309422888754\n",
      "0.311638896772\n",
      "0.313868963376\n",
      "0.316078666735\n",
      "0.31838333838\n",
      "0.320333901628\n",
      "0.322273293364\n",
      "0.324032119334\n",
      "0.325864762159\n",
      "0.327366887717\n",
      "0.328969747638\n",
      "0.330432627966\n",
      "0.331430808261\n",
      "0.332790411039\n",
      "0.33368304623\n",
      "0.334594569372\n",
      "0.335926464274\n",
      "0.336753137164\n",
      "0.337900864971\n",
      "0.33847565694\n",
      "0.338987928031\n",
      "Completed for  3\n",
      "For T 4 ----------\n",
      "0.338987928031\n",
      "Completed for  4\n",
      "CPU times: user 1min 21s, sys: 3.37 s, total: 1min 24s\n",
      "Wall time: 1min 23s\n"
     ]
    },
    {
     "data": {
      "text/plain": [
       "{'T0': 0,\n",
       " 'T1': 1.02,\n",
       " 'T2': 2.5096000000000016,\n",
       " 'T3': 3.3334720000000013,\n",
       " 'T4': 4.0}"
      ]
     },
     "execution_count": 110,
     "metadata": {},
     "output_type": "execute_result"
    }
   ],
   "source": [
    "%time optimize_thresholds(T_new, validation_op, validation_set_preds, 0.02)"
   ]
  },
  {
   "cell_type": "code",
   "execution_count": 111,
   "metadata": {
    "collapsed": false
   },
   "outputs": [
    {
     "data": {
      "text/plain": [
       "{'T0': 0, 'T1': 1, 'T2': 2, 'T3': 3, 'T4': 4}"
      ]
     },
     "execution_count": 111,
     "metadata": {},
     "output_type": "execute_result"
    }
   ],
   "source": [
    "T"
   ]
  },
  {
   "cell_type": "code",
   "execution_count": 112,
   "metadata": {
    "collapsed": false
   },
   "outputs": [
    {
     "data": {
      "text/plain": [
       "{'T0': 0,\n",
       " 'T1': 1.02,\n",
       " 'T2': 2.5096000000000016,\n",
       " 'T3': 3.3334720000000013,\n",
       " 'T4': 4.0}"
      ]
     },
     "execution_count": 112,
     "metadata": {},
     "output_type": "execute_result"
    }
   ],
   "source": [
    "T_new"
   ]
  },
  {
   "cell_type": "code",
   "execution_count": 113,
   "metadata": {
    "collapsed": false
   },
   "outputs": [
    {
     "data": {
      "text/plain": [
       "0.33898792803064354"
      ]
     },
     "execution_count": 113,
     "metadata": {},
     "output_type": "execute_result"
    }
   ],
   "source": [
    "F1ScoreTH(T_new, validation_set_preds, validation_op)"
   ]
  },
  {
   "cell_type": "markdown",
   "metadata": {},
   "source": [
    "### Cross Validation"
   ]
  },
  {
   "cell_type": "code",
   "execution_count": 128,
   "metadata": {
    "collapsed": true
   },
   "outputs": [],
   "source": [
    "from sklearn.model_selection import StratifiedKFold\n",
    "from sklearn.metrics import f1_score, precision_score, recall_score"
   ]
  },
  {
   "cell_type": "code",
   "execution_count": 118,
   "metadata": {
    "collapsed": true
   },
   "outputs": [],
   "source": [
    "p1 = int((train_original['Priority']=='P1').sum()/float(train_original['Priority'].shape[0])*100)\n",
    "p2 = int((train_original['Priority']=='P2').sum()/float(train_original['Priority'].shape[0])*100)\n",
    "p3 = int((train_original['Priority']=='P3').sum()/float(train_original['Priority'].shape[0])*100)\n",
    "p4 = int((train_original['Priority']=='P4').sum()/float(train_original['Priority'].shape[0])*100)"
   ]
  },
  {
   "cell_type": "code",
   "execution_count": 119,
   "metadata": {
    "collapsed": false
   },
   "outputs": [
    {
     "name": "stdout",
     "output_type": "stream",
     "text": [
      "3 7 85 2\n"
     ]
    }
   ],
   "source": [
    "print p1,p2,p3,p4"
   ]
  },
  {
   "cell_type": "code",
   "execution_count": 120,
   "metadata": {
    "collapsed": true
   },
   "outputs": [],
   "source": [
    "kf = StratifiedKFold(n_splits=10)"
   ]
  },
  {
   "cell_type": "code",
   "execution_count": 138,
   "metadata": {
    "collapsed": false
   },
   "outputs": [
    {
     "name": "stdout",
     "output_type": "stream",
     "text": [
      "CPU times: user 12.5 s, sys: 241 ms, total: 12.8 s\n",
      "Wall time: 6.92 s\n",
      "Optimizing thresholds\n",
      "Completed for  1\n",
      "Completed for  2\n",
      "Completed for  3\n",
      "Completed for  4\n",
      "0.284596689176 0.291609624372 0.389361576282\n"
     ]
    },
    {
     "name": "stderr",
     "output_type": "stream",
     "text": [
      "/Users/iankurgarg/anaconda/lib/python2.7/site-packages/sklearn/metrics/classification.py:1113: UndefinedMetricWarning: Precision is ill-defined and being set to 0.0 in labels with no predicted samples.\n",
      "  'precision', 'predicted', average, warn_for)\n"
     ]
    },
    {
     "name": "stdout",
     "output_type": "stream",
     "text": [
      "CPU times: user 11.8 s, sys: 178 ms, total: 12 s\n",
      "Wall time: 6.21 s\n",
      "Optimizing thresholds\n",
      "Completed for  1\n",
      "Completed for  2\n",
      "Completed for  3\n",
      "Completed for  4\n",
      "0.265561096824 0.274714706352 0.345939038818\n",
      "CPU times: user 13.4 s, sys: 251 ms, total: 13.7 s\n",
      "Wall time: 7.48 s\n",
      "Optimizing thresholds\n",
      "Completed for  1\n",
      "Completed for  2\n",
      "Completed for  3\n",
      "Completed for  4\n",
      "0.278348404248 0.292544133416 0.378770964198\n",
      "CPU times: user 12.1 s, sys: 208 ms, total: 12.3 s\n",
      "Wall time: 6.44 s\n",
      "Optimizing thresholds\n",
      "Completed for  1\n",
      "Completed for  2\n",
      "Completed for  3\n",
      "Completed for  4\n",
      "0.290743626378 0.304515319037 0.378298513289\n",
      "CPU times: user 11.9 s, sys: 179 ms, total: 12.1 s\n",
      "Wall time: 6.42 s\n",
      "Optimizing thresholds\n",
      "Completed for  1\n",
      "Completed for  2\n",
      "Completed for  3\n",
      "Completed for  4\n",
      "0.269732653896 0.276004493743 0.359637156949\n",
      "CPU times: user 11.9 s, sys: 167 ms, total: 12.1 s\n",
      "Wall time: 6.31 s\n",
      "Optimizing thresholds\n",
      "Completed for  1\n",
      "Completed for  2\n",
      "Completed for  3\n",
      "Completed for  4\n",
      "0.274609525075 0.288692754792 0.369269643883\n",
      "CPU times: user 12.8 s, sys: 236 ms, total: 13 s\n",
      "Wall time: 7.1 s\n",
      "Optimizing thresholds\n",
      "Completed for  1\n",
      "Completed for  2\n",
      "Completed for  3\n",
      "Completed for  4\n",
      "0.279818706905 0.296753998339 0.365176879215\n",
      "CPU times: user 11.3 s, sys: 141 ms, total: 11.4 s\n",
      "Wall time: 5.88 s\n",
      "Optimizing thresholds\n",
      "Completed for  1\n",
      "Completed for  2\n",
      "Completed for  3\n",
      "Completed for  4\n",
      "0.265130556577 0.27571980611 0.358759916378\n",
      "CPU times: user 11.5 s, sys: 153 ms, total: 11.6 s\n",
      "Wall time: 6.01 s\n",
      "Optimizing thresholds\n",
      "Completed for  1\n",
      "Completed for  2\n",
      "Completed for  3\n",
      "Completed for  4\n",
      "0.281077087062 0.293780984841 0.376026437516\n",
      "CPU times: user 11.4 s, sys: 145 ms, total: 11.5 s\n",
      "Wall time: 6.18 s\n",
      "Optimizing thresholds\n",
      "Completed for  1\n",
      "Completed for  2\n",
      "Completed for  3\n",
      "Completed for  4\n",
      "0.274985488775 0.281265137891 0.369471512624\n"
     ]
    }
   ],
   "source": [
    "cvf1scores = []\n",
    "cvprecisionscores = []\n",
    "cvrecallscores = []\n",
    "lr = LinearRegression(n_jobs=-1)\n",
    "for train,val in kf.split(train_processed, Priority_int):\n",
    "    train_input = train_processed[train]\n",
    "    val_input = train_processed[val]\n",
    "    train_output = Priority_int[train]\n",
    "    val_output = train_original['Priority'][val]\n",
    "    \n",
    "    vlen = len(Priority_int)\n",
    "    vtraining_ip = train_input[0:vlen/2]\n",
    "    vtraining_op = train_output[0:vlen/2]\n",
    "\n",
    "    vvalidation_ip = train_input[vlen/2:]\n",
    "    vvalidation_op = train_original['Priority'][train][vlen/2:]#train_output[vlen/2:]\n",
    "    \n",
    "    %time lr.fit(vtraining_ip,vtraining_op)\n",
    "    \n",
    "    val_prediction = lr.predict(vvalidation_ip)\n",
    "    val_prediction = val_prediction.reshape(val_prediction.shape[0], 1)\n",
    "    \n",
    "    vT0 = val_prediction.min()\n",
    "    (vT1,vT2,vT3,vT4) = np.percentile(val_prediction,[p1,p2,p3,p4])\n",
    "    vT = {'T0': vT0, 'T1': vT1, 'T2': vT2, 'T3': vT3, 'T4': vT4}\n",
    "#     vT = {'T0': 0, 'T1': 1, 'T2': 2, 'T3': 3, 'T4': 4}\n",
    "    print \"Optimizing thresholds\"\n",
    "    vT_new = optimize_thresholds(vT, vvalidation_op, val_prediction, 0.01)\n",
    "    \n",
    "    val_prediction = lr.predict(val_input)\n",
    "    val_prediction = val_prediction.reshape(val_prediction.shape[0], 1)\n",
    "    \n",
    "    val_class_preds = np.apply_along_axis(lambda x: itoc(x, vT_new), 1, val_prediction)\n",
    "    f1scores = f1_score(val_output, val_class_preds, average=None)\n",
    "    pscores = precision_score(val_output, val_class_preds, average=None)\n",
    "    rscores = recall_score(val_output, val_class_preds, average=None)\n",
    "    print np.mean(f1scores), np.mean(pscores), np.mean(rscores)\n",
    "    cvf1scores.append(f1scores)\n",
    "    cvprecisionscores.append(pscores)\n",
    "    cvrecallscores.append(rscores)\n",
    "#     average_f1_scores.append(np.mean(scores))"
   ]
  },
  {
   "cell_type": "code",
   "execution_count": 124,
   "metadata": {
    "collapsed": false
   },
   "outputs": [
    {
     "name": "stdout",
     "output_type": "stream",
     "text": [
      "0.327652911699 0.0104032134742\n"
     ]
    }
   ],
   "source": [
    "print np.mean(cvscores), np.std(average_f1_scores)"
   ]
  },
  {
   "cell_type": "code",
   "execution_count": 139,
   "metadata": {
    "collapsed": false
   },
   "outputs": [
    {
     "name": "stdout",
     "output_type": "stream",
     "text": [
      "0.276460383492 0.00777425348505\n",
      "[ 0.28459669  0.2655611   0.2783484   0.29074363  0.26973265  0.27460953\n",
      "  0.27981871  0.26513056  0.28107709  0.27498549]\n",
      "[ 0.24613498  0.16600619  0.84429598  0.          0.12586478]\n",
      "0.287560095889 0.00965186019553\n",
      "[ 0.29160962  0.27471471  0.29254413  0.30451532  0.27600449  0.28869275\n",
      "  0.296754    0.27571981  0.29378098  0.28126514]\n",
      "[ 0.26401377  0.21589913  0.88845555  0.          0.06943203]\n",
      "0.369071163915 0.0117689821919\n",
      "[ 0.38936158  0.34593904  0.37877096  0.37829851  0.35963716  0.36926964\n",
      "  0.36517688  0.35875992  0.37602644  0.36947151]\n",
      "[ 0.23253719  0.13587499  0.8043419   0.          0.67260174]\n"
     ]
    }
   ],
   "source": [
    "def print_results(s):\n",
    "    print np.mean(s), np.std(np.mean(s, axis=1))\n",
    "    print np.mean(s, axis=1)\n",
    "    print np.mean(s, axis=0)\n",
    "\n",
    "print_results(cvf1scores)\n",
    "print_results(cvprecisionscores)\n",
    "print_results(cvrecallscores)"
   ]
  },
  {
   "cell_type": "markdown",
   "metadata": {},
   "source": [
    "## Differential Evolution  - Parameter tuning for threshold change delta"
   ]
  },
  {
   "cell_type": "code",
   "execution_count": 37,
   "metadata": {
    "collapsed": true
   },
   "outputs": [],
   "source": [
    "from scipy.optimize import differential_evolution"
   ]
  },
  {
   "cell_type": "code",
   "execution_count": 38,
   "metadata": {
    "collapsed": true
   },
   "outputs": [],
   "source": [
    "args = (validation_op,validation_set_preds)\n",
    "bounds = [ (0.01,0.10) ] # order: percentage shift in threhsold"
   ]
  },
  {
   "cell_type": "code",
   "execution_count": 39,
   "metadata": {
    "collapsed": true
   },
   "outputs": [],
   "source": [
    "def func(parameters, *args):\n",
    "    #print args[0], args[1]\n",
    "    parameters = map(float,parameters)\n",
    "    T = {'T0': T0, 'T1': T1, 'T2': T2, 'T3': T3, 'T4': T4}\n",
    "    T_new = optimize_thresholds(T, validation_op, validation_set_preds, parameters[0])\n",
    "    \n",
    "    f1 = F1ScoreTH(T_new, validation_set_preds, validation_op)\n",
    "    print f1, parameters\n",
    "    return -1*f1"
   ]
  },
  {
   "cell_type": "code",
   "execution_count": 40,
   "metadata": {
    "collapsed": false
   },
   "outputs": [
    {
     "name": "stdout",
     "output_type": "stream",
     "text": [
      "0.330752435557 [0.08847658547469857]\n",
      "0.330752435557 [0.0457725393425509]\n",
      "0.337810575475 [0.09129733573351453]\n",
      "0.330752435557 [0.06925096047167976]\n",
      "0.330752435557 [0.07807642673240787]\n",
      "0.330752435557 [0.02643104309136409]\n",
      "0.330752435557 [0.058429377457218185]\n",
      "0.330752435557 [0.03348321886290703]\n",
      "0.330752435557 [0.016594290404370535]\n",
      "0.330752435557 [0.046029896126210765]\n",
      "0.330752435557 [0.06410965966777817]\n",
      "0.330752435557 [0.030937913154039133]\n",
      "0.330752435557 [0.03293310468917572]\n",
      "0.330752435557 [0.060931724948426635]\n",
      "0.330752435557 [0.08998310034159304]\n",
      "0.330752435557 [0.05205466786673592]\n",
      "0.330752435557 [0.039444211741080766]\n",
      "0.330752435557 [0.04333032049282347]\n",
      "0.330752435557 [0.060603724773334915]\n",
      "0.330752435557 [0.04847243261437668]\n",
      "0.337810575475 [0.09129733573351453]\n",
      "0.337810575475 [0.09129734573351453]\n",
      "CPU times: user 1min 20s, sys: 48 ms, total: 1min 20s\n",
      "Wall time: 1min 20s\n"
     ]
    }
   ],
   "source": [
    "%time result = differential_evolution(func, bounds, args, strategy='rand2bin', popsize=10, mutation=(0.5,1.9), recombination=0.7, maxiter=2)"
   ]
  },
  {
   "cell_type": "code",
   "execution_count": 41,
   "metadata": {
    "collapsed": false
   },
   "outputs": [
    {
     "data": {
      "text/plain": [
       "array([ 0.09129734])"
      ]
     },
     "execution_count": 41,
     "metadata": {},
     "output_type": "execute_result"
    }
   ],
   "source": [
    "result.x"
   ]
  },
  {
   "cell_type": "markdown",
   "metadata": {},
   "source": [
    "#### Recalculating thresholds using this parameter"
   ]
  },
  {
   "cell_type": "code",
   "execution_count": 144,
   "metadata": {
    "collapsed": false
   },
   "outputs": [
    {
     "name": "stdout",
     "output_type": "stream",
     "text": [
      "Completed for  1\n",
      "Completed for  2\n",
      "Completed for  3\n",
      "Completed for  4\n"
     ]
    }
   ],
   "source": [
    "T = {'T0': T0, 'T1': T1, 'T2': T2, 'T3': T3, 'T4': T4}\n",
    "T_new = deepcopy(T)\n",
    "T_new = optimize_thresholds(T_new, validation_op, validation_set_preds, 0.01)"
   ]
  },
  {
   "cell_type": "code",
   "execution_count": 146,
   "metadata": {
    "collapsed": false
   },
   "outputs": [
    {
     "data": {
      "text/plain": [
       "{'T0': 0.23618537009426799,\n",
       " 'T1': 2.2119319973929343,\n",
       " 'T2': 2.5141828916491855,\n",
       " 'T3': 3.1412804340464566,\n",
       " 'T4': 2.1795256076450489}"
      ]
     },
     "execution_count": 146,
     "metadata": {},
     "output_type": "execute_result"
    }
   ],
   "source": [
    "T_new"
   ]
  },
  {
   "cell_type": "markdown",
   "metadata": {},
   "source": [
    "### Running it finally on test data"
   ]
  },
  {
   "cell_type": "code",
   "execution_count": 147,
   "metadata": {
    "collapsed": false
   },
   "outputs": [
    {
     "name": "stdout",
     "output_type": "stream",
     "text": [
      "[ 2.8479649   2.74556011  3.10346262 ...,  3.43844443  2.98782104\n",
      "  3.04460992]\n",
      "(20761,)\n",
      "(20761, 1)\n"
     ]
    }
   ],
   "source": [
    "test_set_preds = lr.predict(test_ip)\n",
    "print test_set_preds\n",
    "print test_set_preds.shape\n",
    "test_set_preds = test_set_preds.reshape(test_set_preds.shape[0], 1)\n",
    "print test_set_preds.shape"
   ]
  },
  {
   "cell_type": "code",
   "execution_count": 148,
   "metadata": {
    "collapsed": false
   },
   "outputs": [
    {
     "name": "stdout",
     "output_type": "stream",
     "text": [
      "0.275343155779\n",
      "0.291166476188\n",
      "0.362125388541\n"
     ]
    }
   ],
   "source": [
    "from sklearn.metrics import f1_score\n",
    "test_set_class_preds = [itoc(x, T_new) for x in test_set_preds]\n",
    "print f1_score(test_op, test_set_class_preds, average='macro')\n",
    "print precision_score(test_op, test_set_class_preds, average='macro')\n",
    "print recall_score(test_op, test_set_class_preds, average='macro')"
   ]
  },
  {
   "cell_type": "code",
   "execution_count": null,
   "metadata": {
    "collapsed": true
   },
   "outputs": [],
   "source": []
  }
 ],
 "metadata": {
  "anaconda-cloud": {},
  "kernelspec": {
   "display_name": "Python [default]",
   "language": "python",
   "name": "python2"
  },
  "language_info": {
   "codemirror_mode": {
    "name": "ipython",
    "version": 2
   },
   "file_extension": ".py",
   "mimetype": "text/x-python",
   "name": "python",
   "nbconvert_exporter": "python",
   "pygments_lexer": "ipython2",
   "version": "2.7.12"
  }
 },
 "nbformat": 4,
 "nbformat_minor": 2
}
