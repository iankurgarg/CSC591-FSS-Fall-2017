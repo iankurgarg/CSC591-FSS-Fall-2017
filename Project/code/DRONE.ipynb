{
 "cells": [
  {
   "cell_type": "code",
   "execution_count": 1,
   "metadata": {
    "collapsed": true
   },
   "outputs": [],
   "source": [
    "import pandas as pd\n",
    "import numpy as np\n",
    "import scipy\n",
    "from copy import deepcopy\n",
    "from sklearn.linear_model import LinearRegression\n",
    "from data_preprocessing import DataProcessor"
   ]
  },
  {
   "cell_type": "code",
   "execution_count": 2,
   "metadata": {
    "collapsed": true
   },
   "outputs": [],
   "source": [
    "train_df = pd.read_csv('../data/processed/train_processed.csv')\n",
    "test_df = pd.read_csv('../data/processed/test_processed.csv')"
   ]
  },
  {
   "cell_type": "code",
   "execution_count": 3,
   "metadata": {
    "collapsed": false
   },
   "outputs": [
    {
     "name": "stdout",
     "output_type": "stream",
     "text": [
      "removed nan values\n",
      "count vectorizer finished fitting\n",
      "count vector finished transforming\n",
      "dummy variables created\n",
      "created a sparse matrix of all features\n"
     ]
    }
   ],
   "source": [
    "p = DataProcessor()\n",
    "train_processed, train_original = p.fit_transform(train_df)"
   ]
  },
  {
   "cell_type": "code",
   "execution_count": 4,
   "metadata": {
    "collapsed": false
   },
   "outputs": [
    {
     "name": "stdout",
     "output_type": "stream",
     "text": [
      "count vector finished transforming\n",
      "dummy variables created\n",
      "created a sparse matrix of all features\n"
     ]
    }
   ],
   "source": [
    "test_processed, test_original = p.transform(test_df)"
   ]
  },
  {
   "cell_type": "code",
   "execution_count": 7,
   "metadata": {
    "collapsed": false
   },
   "outputs": [
    {
     "data": {
      "text/plain": [
       "<83041x15940 sparse matrix of type '<type 'numpy.float64'>'\n",
       "\twith 3359482 stored elements in Compressed Sparse Row format>"
      ]
     },
     "execution_count": 7,
     "metadata": {},
     "output_type": "execute_result"
    }
   ],
   "source": [
    "train_processed"
   ]
  },
  {
   "cell_type": "markdown",
   "metadata": {},
   "source": [
    "### Run sklearn countvectorizer"
   ]
  },
  {
   "cell_type": "code",
   "execution_count": 10,
   "metadata": {
    "collapsed": true
   },
   "outputs": [],
   "source": [
    "def ctoi(x):\n",
    "    if x=='P1':\n",
    "        return 1 \n",
    "    if x=='P2':\n",
    "        return 2\n",
    "    if x=='P3':\n",
    "        return 3\n",
    "    if x=='P4':\n",
    "        return 4\n",
    "    return 5"
   ]
  },
  {
   "cell_type": "code",
   "execution_count": 11,
   "metadata": {
    "collapsed": true
   },
   "outputs": [],
   "source": [
    "Priority_int = train_original['Priority'].apply(lambda x: ctoi(x))"
   ]
  },
  {
   "cell_type": "markdown",
   "metadata": {},
   "source": [
    "### Make spare representation"
   ]
  },
  {
   "cell_type": "code",
   "execution_count": 100,
   "metadata": {
    "collapsed": false
   },
   "outputs": [
    {
     "name": "stdout",
     "output_type": "stream",
     "text": [
      "(41520, 15940)\n",
      "(41521, 15940)\n",
      "(20761, 15940)\n"
     ]
    }
   ],
   "source": [
    "training_ip = train_processed[0:83041/2]\n",
    "training_op = Priority_int[0:83041/2]\n",
    "print training_ip.shape\n",
    "validation_ip = train_processed[83041/2:]\n",
    "validation_op = train_original['Priority'][83041/2:]\n",
    "print validation_ip.shape\n",
    "\n",
    "test_ip = test_processed\n",
    "test_op = test_original['Priority']\n",
    "print test_ip.shape"
   ]
  },
  {
   "cell_type": "markdown",
   "metadata": {},
   "source": [
    "### Train Linear Regression on Training set"
   ]
  },
  {
   "cell_type": "code",
   "execution_count": 125,
   "metadata": {
    "collapsed": true
   },
   "outputs": [],
   "source": [
    "lr = LinearRegression(n_jobs=-1)"
   ]
  },
  {
   "cell_type": "code",
   "execution_count": 126,
   "metadata": {
    "collapsed": false
   },
   "outputs": [
    {
     "data": {
      "text/plain": [
       "LinearRegression(copy_X=True, fit_intercept=True, n_jobs=-1, normalize=False)"
      ]
     },
     "execution_count": 126,
     "metadata": {},
     "output_type": "execute_result"
    }
   ],
   "source": [
    "lr.fit(training_ip, training_op)"
   ]
  },
  {
   "cell_type": "markdown",
   "metadata": {},
   "source": [
    "#### Initializing Thresholds"
   ]
  },
  {
   "cell_type": "code",
   "execution_count": 127,
   "metadata": {
    "collapsed": false
   },
   "outputs": [
    {
     "name": "stdout",
     "output_type": "stream",
     "text": [
      "[ 2.41306288  2.7908672   2.73131806 ...,  2.4883916   2.8945196\n",
      "  3.63032065]\n",
      "(41521,)\n",
      "(41521, 1)\n"
     ]
    }
   ],
   "source": [
    "validation_set_preds = lr.predict(validation_ip)\n",
    "print validation_set_preds\n",
    "print validation_set_preds.shape\n",
    "validation_set_preds = validation_set_preds.reshape(validation_set_preds.shape[0], 1)\n",
    "print validation_set_preds.shape"
   ]
  },
  {
   "cell_type": "code",
   "execution_count": 128,
   "metadata": {
    "collapsed": false
   },
   "outputs": [
    {
     "name": "stdout",
     "output_type": "stream",
     "text": [
      "3 7 85 2\n"
     ]
    }
   ],
   "source": [
    "# Finding percentile of each class in training data\n",
    "p1 = int((train_original['Priority']=='P1').sum()/float(train_original['Priority'].shape[0])*100)\n",
    "p2 = int((train_original['Priority']=='P2').sum()/float(train_original['Priority'].shape[0])*100)\n",
    "p3 = int((train_original['Priority']=='P3').sum()/float(train_original['Priority'].shape[0])*100)\n",
    "p4 = int((train_original['Priority']=='P4').sum()/float(train_original['Priority'].shape[0])*100)\n",
    "print p1,p2,p3,p4"
   ]
  },
  {
   "cell_type": "code",
   "execution_count": 129,
   "metadata": {
    "collapsed": false
   },
   "outputs": [],
   "source": [
    "# Create Thresholds based on these percentiles\n",
    "T0 = validation_set_preds.min()\n",
    "(T1,T2,T3,T4) = np.percentile(validation_set_preds,[p1,p2,p3,p4])"
   ]
  },
  {
   "cell_type": "code",
   "execution_count": 130,
   "metadata": {
    "collapsed": false
   },
   "outputs": [
    {
     "data": {
      "text/plain": [
       "(0.23618537009426799,\n",
       " 2.2730375631856763,\n",
       " 2.4892263957931648,\n",
       " 3.1412804340464566,\n",
       " 2.1795256076450489)"
      ]
     },
     "execution_count": 130,
     "metadata": {},
     "output_type": "execute_result"
    }
   ],
   "source": [
    "T0,T1,T2,T3,T4"
   ]
  },
  {
   "cell_type": "code",
   "execution_count": 131,
   "metadata": {
    "collapsed": true
   },
   "outputs": [],
   "source": [
    "# Function to map regression output to class labels according to threshold\n",
    "T = {'T0': T0, 'T1': T1, 'T2': T2, 'T3': T3, 'T4': T4}"
   ]
  },
  {
   "cell_type": "code",
   "execution_count": 132,
   "metadata": {
    "collapsed": true
   },
   "outputs": [],
   "source": [
    "# function to get class label based on threhsolds for a single test sample\n",
    "def itoc(x, T):\n",
    "    if x <= T['T1']:\n",
    "        return 'P1'\n",
    "    if x <= T['T2']:\n",
    "        return 'P2'\n",
    "    if x <= T['T3']:\n",
    "        return 'P3'\n",
    "    if x <= T['T4']:\n",
    "        return 'P4'\n",
    "    return 'P5'"
   ]
  },
  {
   "cell_type": "code",
   "execution_count": 133,
   "metadata": {
    "collapsed": false
   },
   "outputs": [
    {
     "data": {
      "text/plain": [
       "0.2731744339784859"
      ]
     },
     "execution_count": 133,
     "metadata": {},
     "output_type": "execute_result"
    }
   ],
   "source": [
    "# Calculating F1 Score before tweaking thresholds\n",
    "from sklearn.metrics import f1_score\n",
    "validation_set_class_preds = [itoc(x, T) for x in validation_set_preds]\n",
    "f1_score(validation_op, validation_set_class_preds, average='macro')"
   ]
  },
  {
   "cell_type": "markdown",
   "metadata": {},
   "source": [
    "## Threshold Tweaking (Greedy) "
   ]
  },
  {
   "cell_type": "code",
   "execution_count": 134,
   "metadata": {
    "collapsed": true
   },
   "outputs": [],
   "source": [
    "# get f1 score for given set of thresholds\n",
    "def F1ScoreTH(T, val_preds, actual_labels):\n",
    "    val_class_preds = np.apply_along_axis(lambda x: itoc(x, T), 1, val_preds)\n",
    "#     val_class_preds = val_preds.map(lambda x: itoc(x, T))\n",
    "    return f1_score(actual_labels, val_class_preds, average='macro')"
   ]
  },
  {
   "cell_type": "code",
   "execution_count": 135,
   "metadata": {
    "collapsed": false
   },
   "outputs": [],
   "source": [
    "TH = ['T0', 'T1', 'T2', 'T3', 'T4']\n",
    "def optimize_thresholds(T, actual, preds, delta):\n",
    "    for i in range(1, len(TH)):\n",
    "        D = T[TH[i]] - T[TH[i-1]]\n",
    "        while (True):\n",
    "            f1_v0 = F1ScoreTH(T, preds, actual)\n",
    "            delta = (delta*D)\n",
    "\n",
    "            if (i + 1 < len(TH) and T[TH[i]] + delta < T[TH[i+1]]):\n",
    "                T[TH[i]] += delta\n",
    "                f1_v1 = F1ScoreTH(T, preds, actual)\n",
    "                T[TH[i]] -= delta\n",
    "            else:\n",
    "                f1_v1 = f1_v0\n",
    "            \n",
    "            if (T[TH[i]] - delta > T[TH[i-1]]):\n",
    "                T[TH[i]] -= delta\n",
    "                f1_v2 = F1ScoreTH(T, preds, actual)\n",
    "                T[TH[i]] += delta\n",
    "            else:\n",
    "                f1_v2 = f1_v0\n",
    "                \n",
    "#             print \"----- handling TH for \", TH[i], \"------\"\n",
    "#             print f1_v0, f1_v1, f1_v2\n",
    "            \n",
    "            if (f1_v1 > f1_v0 and f1_v1 > f1_v2):\n",
    "                T[TH[i]] += delta\n",
    "#                 print \"increasing threshold for \", TH[i]\n",
    "            elif (f1_v1 > f1_v0 and f1_v2 > f1_v1):\n",
    "                T[TH[i]] -= delta\n",
    "#                 print \"increasing threshold for \", TH[i]\n",
    "            elif (f1_v1 < f1_v0 and f1_v2 > f1_v0):\n",
    "                T[TH[i]] -= delta\n",
    "#                 print \"decreasing threshold for \", TH[i]\n",
    "            else:\n",
    "                break;\n",
    "    return T"
   ]
  },
  {
   "cell_type": "code",
   "execution_count": 149,
   "metadata": {
    "collapsed": false
   },
   "outputs": [
    {
     "data": {
      "text/plain": [
       "{'T0': 0.23618537009426799,\n",
       " 'T1': 2.2730375631856763,\n",
       " 'T2': 2.4892263957931648,\n",
       " 'T3': 3.1412804340464566,\n",
       " 'T4': 2.1795256076450489}"
      ]
     },
     "execution_count": 149,
     "metadata": {},
     "output_type": "execute_result"
    }
   ],
   "source": [
    "T = {'T0': T0, 'T1': T1, 'T2': T2, 'T3': T3, 'T4': T4}\n",
    "T_new = deepcopy(T)\n",
    "T_new"
   ]
  },
  {
   "cell_type": "code",
   "execution_count": 150,
   "metadata": {
    "collapsed": false
   },
   "outputs": [
    {
     "data": {
      "text/plain": [
       "{'T0': 0.23618537009426799,\n",
       " 'T1': 2.2119319973929339,\n",
       " 'T2': 2.5359632941355561,\n",
       " 'T3': 3.1412804340464566,\n",
       " 'T4': 2.1795256076450489}"
      ]
     },
     "execution_count": 150,
     "metadata": {},
     "output_type": "execute_result"
    }
   ],
   "source": [
    "optimize_thresholds(T_new, validation_op, validation_set_preds, 0.03)"
   ]
  },
  {
   "cell_type": "code",
   "execution_count": 151,
   "metadata": {
    "collapsed": false
   },
   "outputs": [
    {
     "data": {
      "text/plain": [
       "{'T0': 0.23618537009426799,\n",
       " 'T1': 2.2730375631856763,\n",
       " 'T2': 2.4892263957931648,\n",
       " 'T3': 3.1412804340464566,\n",
       " 'T4': 2.1795256076450489}"
      ]
     },
     "execution_count": 151,
     "metadata": {},
     "output_type": "execute_result"
    }
   ],
   "source": [
    "T"
   ]
  },
  {
   "cell_type": "code",
   "execution_count": 152,
   "metadata": {
    "collapsed": false
   },
   "outputs": [
    {
     "data": {
      "text/plain": [
       "{'T0': 0.23618537009426799,\n",
       " 'T1': 2.2119319973929339,\n",
       " 'T2': 2.5359632941355561,\n",
       " 'T3': 3.1412804340464566,\n",
       " 'T4': 2.1795256076450489}"
      ]
     },
     "execution_count": 152,
     "metadata": {},
     "output_type": "execute_result"
    }
   ],
   "source": [
    "T_new"
   ]
  },
  {
   "cell_type": "code",
   "execution_count": 153,
   "metadata": {
    "collapsed": false
   },
   "outputs": [
    {
     "data": {
      "text/plain": [
       "0.2731744339784859"
      ]
     },
     "execution_count": 153,
     "metadata": {},
     "output_type": "execute_result"
    }
   ],
   "source": [
    "F1ScoreTH(T, validation_set_preds, validation_op)"
   ]
  },
  {
   "cell_type": "markdown",
   "metadata": {},
   "source": [
    "### Cross Validation"
   ]
  },
  {
   "cell_type": "code",
   "execution_count": 71,
   "metadata": {
    "collapsed": true
   },
   "outputs": [],
   "source": [
    "from sklearn.model_selection import StratifiedKFold\n",
    "from sklearn.metrics import f1_score"
   ]
  },
  {
   "cell_type": "code",
   "execution_count": 72,
   "metadata": {
    "collapsed": true
   },
   "outputs": [],
   "source": [
    "p1 = int((train_original['Priority']=='P1').sum()/float(train_original['Priority'].shape[0])*100)\n",
    "p2 = int((train_original['Priority']=='P2').sum()/float(train_original['Priority'].shape[0])*100)\n",
    "p3 = int((train_original['Priority']=='P3').sum()/float(train_original['Priority'].shape[0])*100)\n",
    "p4 = int((train_original['Priority']=='P4').sum()/float(train_original['Priority'].shape[0])*100)"
   ]
  },
  {
   "cell_type": "code",
   "execution_count": 73,
   "metadata": {
    "collapsed": false
   },
   "outputs": [
    {
     "name": "stdout",
     "output_type": "stream",
     "text": [
      "3 7 85 2\n"
     ]
    }
   ],
   "source": [
    "print p1,p2,p3,p4"
   ]
  },
  {
   "cell_type": "code",
   "execution_count": 74,
   "metadata": {
    "collapsed": true
   },
   "outputs": [],
   "source": [
    "kf = StratifiedKFold(n_splits=10)"
   ]
  },
  {
   "cell_type": "code",
   "execution_count": 93,
   "metadata": {
    "collapsed": false
   },
   "outputs": [
    {
     "name": "stdout",
     "output_type": "stream",
     "text": [
      "CPU times: user 11.9 s, sys: 172 ms, total: 12 s\n",
      "Wall time: 6.33 s\n",
      "0.289009851028\n",
      "CPU times: user 11.1 s, sys: 123 ms, total: 11.3 s\n",
      "Wall time: 5.75 s\n",
      "0.263720377792\n",
      "CPU times: user 11.4 s, sys: 137 ms, total: 11.5 s\n",
      "Wall time: 5.89 s\n",
      "0.278433777263\n",
      "CPU times: user 10.6 s, sys: 119 ms, total: 10.7 s\n",
      "Wall time: 5.5 s\n",
      "0.294985915249\n",
      "CPU times: user 11 s, sys: 151 ms, total: 11.1 s\n",
      "Wall time: 5.67 s\n",
      "0.270382028769\n",
      "CPU times: user 11 s, sys: 129 ms, total: 11.1 s\n",
      "Wall time: 5.68 s\n",
      "0.274274442385\n",
      "CPU times: user 11.3 s, sys: 137 ms, total: 11.4 s\n",
      "Wall time: 5.89 s\n",
      "0.280422926772\n",
      "CPU times: user 11 s, sys: 128 ms, total: 11.2 s\n",
      "Wall time: 5.72 s\n",
      "0.266208613653\n",
      "CPU times: user 11 s, sys: 124 ms, total: 11.1 s\n",
      "Wall time: 5.67 s\n",
      "0.282754083484\n",
      "CPU times: user 11 s, sys: 130 ms, total: 11.2 s\n",
      "Wall time: 5.72 s\n",
      "0.27321355494\n"
     ]
    }
   ],
   "source": [
    "cvscores = []\n",
    "average_f1_scores = []\n",
    "lr = LinearRegression(n_jobs=-1)\n",
    "for train,val in kf.split(train_processed, Priority_int):\n",
    "    train_input = train_processed[train]\n",
    "    val_input = train_processed[val]\n",
    "    train_output = Priority_int[train]\n",
    "    val_output = train_original['Priority'][val]\n",
    "    \n",
    "    vlen = len(Priority_int)\n",
    "    vtraining_ip = train_input[0:vlen/2]\n",
    "    vtraining_op = train_output[0:vlen/2]\n",
    "\n",
    "    vvalidation_ip = train_input[vlen/2:]\n",
    "    vvalidation_op = train_original['Priority'][train][vlen/2:]#train_output[vlen/2:]\n",
    "    \n",
    "    %time lr.fit(vtraining_ip,vtraining_op)\n",
    "    \n",
    "    val_prediction = lr.predict(vvalidation_ip)\n",
    "    val_prediction = val_prediction.reshape(val_prediction.shape[0], 1)\n",
    "    \n",
    "    vT0 = val_prediction.min()\n",
    "    (vT1,vT2,vT3,vT4) = np.percentile(val_prediction,[p1,p2,p3,p4])\n",
    "    vT = {'T0': vT0, 'T1': vT1, 'T2': vT2, 'T3': vT3, 'T4': vT4}\n",
    "    \n",
    "    vT_new = optimize_thresholds(vT, vvalidation_op, val_prediction, 0.01)\n",
    "    \n",
    "    val_prediction = lr.predict(val_input)\n",
    "    val_prediction = val_prediction.reshape(val_prediction.shape[0], 1)\n",
    "    \n",
    "    val_class_preds = np.apply_along_axis(lambda x: itoc(x, vT_new), 1, val_prediction)\n",
    "    scores = f1_score(val_output, val_class_preds, average=None)\n",
    "    print np.mean(scores)\n",
    "    cvscores.append(scores)\n",
    "    average_f1_scores.append(np.mean(scores))"
   ]
  },
  {
   "cell_type": "code",
   "execution_count": 103,
   "metadata": {
    "collapsed": false
   },
   "outputs": [
    {
     "name": "stdout",
     "output_type": "stream",
     "text": [
      "0.277340557134 0.00933711549747\n"
     ]
    }
   ],
   "source": [
    "print np.mean(cvscores), np.std(average_f1_scores)"
   ]
  },
  {
   "cell_type": "code",
   "execution_count": 124,
   "metadata": {
    "collapsed": false
   },
   "outputs": [
    {
     "data": {
      "text/plain": [
       "[array([ 0.26579521,  0.20411817,  0.83893516,  0.        ,  0.13620072]),\n",
       " array([ 0.20806794,  0.15752742,  0.83968791,  0.        ,  0.11331862]),\n",
       " array([ 0.22065728,  0.19735683,  0.84202683,  0.        ,  0.13212796]),\n",
       " array([ 0.3018018 ,  0.19825073,  0.84932313,  0.        ,  0.12555391]),\n",
       " array([ 0.25482625,  0.12857143,  0.8463068 ,  0.        ,  0.12220566]),\n",
       " array([ 0.21444201,  0.17760618,  0.84589294,  0.        ,  0.13343109]),\n",
       " array([ 0.27165354,  0.17094017,  0.8444641 ,  0.        ,  0.11505682]),\n",
       " array([ 0.21442495,  0.14715026,  0.84392041,  0.        ,  0.12554745]),\n",
       " array([ 0.24400871,  0.18878505,  0.84646077,  0.        ,  0.13451589]),\n",
       " array([ 0.26266417,  0.14314928,  0.83956467,  0.        ,  0.12068966])]"
      ]
     },
     "execution_count": 124,
     "metadata": {},
     "output_type": "execute_result"
    }
   ],
   "source": [
    "cvscores"
   ]
  },
  {
   "cell_type": "markdown",
   "metadata": {},
   "source": [
    "## Differential Evolution  - Parameter tuning for threshold change delta"
   ]
  },
  {
   "cell_type": "code",
   "execution_count": 157,
   "metadata": {
    "collapsed": true
   },
   "outputs": [],
   "source": [
    "from scipy.optimize import differential_evolution"
   ]
  },
  {
   "cell_type": "code",
   "execution_count": 158,
   "metadata": {
    "collapsed": true
   },
   "outputs": [],
   "source": [
    "args = (validation_op,validation_set_preds)\n",
    "bounds = [ (0.01,0.10) ] # order: percentage shift in threhsold"
   ]
  },
  {
   "cell_type": "code",
   "execution_count": 159,
   "metadata": {
    "collapsed": true
   },
   "outputs": [],
   "source": [
    "def func(parameters, *args):\n",
    "    #print args[0], args[1]\n",
    "    parameters = map(float,parameters)\n",
    "    T = {'T0': T0, 'T1': T1, 'T2': T2, 'T3': T3, 'T4': T4}\n",
    "    T_new = optimize_thresholds(T, validation_op, validation_set_preds, parameters[0])\n",
    "    \n",
    "    f1 = F1ScoreTH(T_new, validation_set_preds, validation_op)\n",
    "    print f1, parameters\n",
    "    return -1*f1"
   ]
  },
  {
   "cell_type": "code",
   "execution_count": 160,
   "metadata": {
    "collapsed": false
   },
   "outputs": [
    {
     "name": "stdout",
     "output_type": "stream",
     "text": [
      "0.277149072335 [0.09973539259257153]\n",
      "0.277022081352 [0.08255773517336724]\n",
      "0.278472579163 [0.02593073196862644]\n",
      "0.278407777239 [0.017478081525523034]\n",
      "0.279800650358 [0.05785941050928017]\n",
      "0.278802473642 [0.04123262079079123]\n",
      "0.276871839905 [0.07948829524087743]\n",
      "0.278962487145 [0.07046625088555572]\n",
      "0.278843552298 [0.030334302424327973]\n",
      "0.279841632618 [0.05346692312853821]\n",
      "0.278372531909 [0.03681906283105357]\n",
      "0.2785263485 [0.07649305426231383]\n",
      "0.276951526228 [0.08796159969389146]\n",
      "0.277856203545 [0.020950475342797516]\n",
      "0.278841926406 [0.03852334867739145]\n",
      "0.277149072335 [0.0994633670776305]\n",
      "0.276951526228 [0.09256539116549317]\n",
      "0.276871839905 [0.07890586092684372]\n",
      "0.276935077067 [0.0818941899731588]\n",
      "0.276998055784 [0.09135158982384911]\n",
      "0.279841632618 [0.05346692312853821]\n",
      "0.279841632618 [0.05346693312853821]\n",
      "CPU times: user 3min 23s, sys: 1.97 s, total: 3min 25s\n",
      "Wall time: 3min 27s\n"
     ]
    }
   ],
   "source": [
    "%time result = differential_evolution(func, bounds, args, strategy='rand2bin', popsize=10, mutation=(0.5,1.9), recombination=0.7, maxiter=2)"
   ]
  },
  {
   "cell_type": "code",
   "execution_count": 123,
   "metadata": {
    "collapsed": false
   },
   "outputs": [
    {
     "data": {
      "text/plain": [
       "array([ 0.09540116])"
      ]
     },
     "execution_count": 123,
     "metadata": {},
     "output_type": "execute_result"
    }
   ],
   "source": [
    "result.x"
   ]
  },
  {
   "cell_type": "markdown",
   "metadata": {},
   "source": [
    "#### Recalculating thresholds using this parameter"
   ]
  },
  {
   "cell_type": "code",
   "execution_count": 154,
   "metadata": {
    "collapsed": true
   },
   "outputs": [],
   "source": [
    "T = {'T0': T0, 'T1': T1, 'T2': T2, 'T3': T3, 'T4': T4}\n",
    "T_new = optimize_thresholds(T, validation_op, validation_set_preds, 0.052)"
   ]
  },
  {
   "cell_type": "markdown",
   "metadata": {},
   "source": [
    "### Running it finally on test data"
   ]
  },
  {
   "cell_type": "code",
   "execution_count": 155,
   "metadata": {
    "collapsed": false
   },
   "outputs": [
    {
     "name": "stdout",
     "output_type": "stream",
     "text": [
      "[ 2.8479649   2.74556011  3.10346262 ...,  3.43844443  2.98782104\n",
      "  3.04460992]\n",
      "(20761,)\n",
      "(20761, 1)\n"
     ]
    }
   ],
   "source": [
    "test_set_preds = lr.predict(test_ip)\n",
    "print test_set_preds\n",
    "print test_set_preds.shape\n",
    "test_set_preds = test_set_preds.reshape(test_set_preds.shape[0], 1)\n",
    "print test_set_preds.shape"
   ]
  },
  {
   "cell_type": "code",
   "execution_count": 156,
   "metadata": {
    "collapsed": false
   },
   "outputs": [
    {
     "data": {
      "text/plain": [
       "0.27814561444252595"
      ]
     },
     "execution_count": 156,
     "metadata": {},
     "output_type": "execute_result"
    }
   ],
   "source": [
    "from sklearn.metrics import f1_score\n",
    "test_set_class_preds = [itoc(x, T) for x in test_set_preds]\n",
    "f1_score(test_op, test_set_class_preds, average='macro')"
   ]
  },
  {
   "cell_type": "code",
   "execution_count": null,
   "metadata": {
    "collapsed": true
   },
   "outputs": [],
   "source": []
  }
 ],
 "metadata": {
  "anaconda-cloud": {},
  "kernelspec": {
   "display_name": "Python [default]",
   "language": "python",
   "name": "python2"
  },
  "language_info": {
   "codemirror_mode": {
    "name": "ipython",
    "version": 2
   },
   "file_extension": ".py",
   "mimetype": "text/x-python",
   "name": "python",
   "nbconvert_exporter": "python",
   "pygments_lexer": "ipython2",
   "version": "2.7.12"
  }
 },
 "nbformat": 4,
 "nbformat_minor": 2
}
