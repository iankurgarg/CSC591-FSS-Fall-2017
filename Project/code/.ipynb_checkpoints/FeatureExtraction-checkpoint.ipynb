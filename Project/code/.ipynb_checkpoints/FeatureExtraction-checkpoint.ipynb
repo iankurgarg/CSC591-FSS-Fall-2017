{
 "cells": [
  {
   "cell_type": "markdown",
   "metadata": {},
   "source": [
    "Import libraries required"
   ]
  },
  {
   "cell_type": "code",
   "execution_count": 41,
   "metadata": {
    "collapsed": true
   },
   "outputs": [],
   "source": [
    "import pandas as pd\n",
    "import numpy as np\n",
    "from datetime import datetime, timedelta\n",
    "from time import time\n",
    "from sklearn.model_selection import train_test_split"
   ]
  },
  {
   "cell_type": "markdown",
   "metadata": {},
   "source": [
    "Read data in"
   ]
  },
  {
   "cell_type": "code",
   "execution_count": 43,
   "metadata": {
    "collapsed": true
   },
   "outputs": [],
   "source": [
    "df = pd.read_csv('../data/total_fixed.csv', parse_dates=['Changed', 'Opened'])\n",
    "cols = df.columns"
   ]
  },
  {
   "cell_type": "code",
   "execution_count": 45,
   "metadata": {
    "collapsed": false
   },
   "outputs": [],
   "source": [
    "X_train, X_test, y_train, y_test = train_test_split(df.drop('Priority', axis=1), df.Priority, test_size=0.20, random_state=42, stratify=df.Priority)"
   ]
  },
  {
   "cell_type": "code",
   "execution_count": 51,
   "metadata": {
    "collapsed": false
   },
   "outputs": [
    {
     "name": "stdout",
     "output_type": "stream",
     "text": [
      "(83044, 13)\n",
      "(20761, 13)\n"
     ]
    }
   ],
   "source": [
    "X_train['Priority'] = y_train\n",
    "X_test['Priority'] = y_test\n",
    "\n",
    "print X_train.shape\n",
    "print X_test.shape"
   ]
  },
  {
   "cell_type": "code",
   "execution_count": 53,
   "metadata": {
    "collapsed": true
   },
   "outputs": [],
   "source": [
    "# Save Splitted data to disk\n",
    "X_train.to_csv('../data/train.csv', index=False)\n",
    "X_test.to_csv('../data/test.csv', index=False)"
   ]
  },
  {
   "cell_type": "code",
   "execution_count": 56,
   "metadata": {
    "collapsed": false
   },
   "outputs": [],
   "source": [
    "data = X_train\n",
    "n_rows = len(data)\n",
    "n_cols = len(cols)\n",
    "bugIDs = data['Bug ID']\n",
    "# print data.head()\n",
    "# print bugIDs.head()"
   ]
  },
  {
   "cell_type": "code",
   "execution_count": 57,
   "metadata": {
    "collapsed": false
   },
   "outputs": [
    {
     "name": "stdout",
     "output_type": "stream",
     "text": [
      "43114   2004-06-02 14:34:00\n",
      "8262    2002-04-30 10:39:00\n",
      "39223   2004-04-22 11:32:00\n",
      "79672   2006-05-20 06:05:00\n",
      "46042   2004-07-15 11:40:00\n",
      "Name: Changed, dtype: datetime64[ns]\n",
      "set(['major', 'normal', 'blocker', 'critical', 'enhancement', 'trivial', 'minor'])\n"
     ]
    }
   ],
   "source": [
    "print data['Changed'].head()\n",
    "print set(data['Severity'])\n",
    "\n",
    "severity_levels = {'enhancement': 0, 'trivial' : 1, 'minor' : 2, 'normal' : 3, 'major' : 4, 'critical' : 5, 'blocker' : 6}"
   ]
  },
  {
   "cell_type": "code",
   "execution_count": 58,
   "metadata": {
    "collapsed": false
   },
   "outputs": [
    {
     "name": "stdout",
     "output_type": "stream",
     "text": [
      "43114   2004-06-02 14:34:00\n",
      "8262    2002-04-30 10:39:00\n",
      "39223   2004-04-22 11:32:00\n",
      "79672   2006-05-20 06:05:00\n",
      "46042   2004-07-15 11:40:00\n",
      "Name: Changed, dtype: datetime64[ns]\n",
      "set(['major', 'normal', 'blocker', 'critical', 'enhancement', 'trivial', 'minor'])\n"
     ]
    }
   ],
   "source": [
    "print data['Changed'].head()\n",
    "print set(data['Severity'])\n",
    "\n",
    "severity_levels = {'enhancement': 0, 'trivial' : 1, 'minor' : 2, 'normal' : 3, 'major' : 4, 'critical' : 5, 'blocker' : 6}\n",
    "np_opened = np.array(data['Opened'])\n",
    "np_opened = np_opened.reshape(len(np_opened), 1)\n",
    "severity_levels = ['enhancement', 'trivial', 'minor', 'normal', 'major', 'critical', 'blocker']"
   ]
  },
  {
   "cell_type": "markdown",
   "metadata": {},
   "source": [
    "Temporal Feature Generation - TMP1 to 12."
   ]
  },
  {
   "cell_type": "code",
   "execution_count": 59,
   "metadata": {
    "collapsed": false
   },
   "outputs": [],
   "source": [
    "temporal_dict = {}\n",
    "\n",
    "# Generates temporal dict which is used to generate temporal functions\n",
    "# This should be based only on training data\n",
    "for i in range(len(data)):\n",
    "    row = data.iloc[i]\n",
    "    t = (row['Opened'].date() - datetime(1970,1,1).date()).days\n",
    "    s = row['Severity']\n",
    "    if (t not in temporal_dict):\n",
    "        temporal_dict[t] = {}\n",
    "    if (s not in temporal_dict[t]):\n",
    "        temporal_dict[t][s] = 0\n",
    "    temporal_dict[t][s] += 1\n",
    "\n",
    "    "
   ]
  },
  {
   "cell_type": "code",
   "execution_count": 60,
   "metadata": {
    "collapsed": false
   },
   "outputs": [
    {
     "name": "stdout",
     "output_type": "stream",
     "text": [
      "2248\n"
     ]
    }
   ],
   "source": [
    "print len(temporal_dict)\n",
    "\n",
    "# Function for generating temporal features (Fast version)\n",
    "def temporal_feature1(x, n):\n",
    "    d = (x['Opened'].date() - datetime(1970,1,1).date()).days\n",
    "    total = 0\n",
    "    for t in range(d-n, d+1):\n",
    "        if t in temporal_dict:\n",
    "            total += sum(temporal_dict[t].values())\n",
    "    return total\n",
    "\n",
    "def temporal_feature2(x, n):\n",
    "    d = (x['Opened'].date() - datetime(1970,1,1).date()).days\n",
    "    s = x['Severity']\n",
    "    total = 0\n",
    "    for t in range(d-n, d+1):\n",
    "        if t in temporal_dict:\n",
    "            if s in temporal_dict[t]:\n",
    "                total += (temporal_dict[t][s])\n",
    "    return total\n",
    "\n",
    "def temporal_feature3(x, n):\n",
    "    d = (x['Opened'].date() - datetime(1970,1,1).date()).days\n",
    "    sev = x['Severity']\n",
    "    ind = severity_levels.index(sev)\n",
    "    greater_s = severity_levels[ind:]\n",
    "    total = 0\n",
    "    for t in range(d-n, d+1):\n",
    "        if t in temporal_dict:\n",
    "            for s in greater_s:\n",
    "                if s in temporal_dict[t]:\n",
    "                    total += (temporal_dict[t][s])\n",
    "    return total\n",
    "    "
   ]
  },
  {
   "cell_type": "code",
   "execution_count": 61,
   "metadata": {
    "collapsed": false
   },
   "outputs": [
    {
     "name": "stdout",
     "output_type": "stream",
     "text": [
      "823\n",
      "Time taken =  0.000661849975586\n"
     ]
    }
   ],
   "source": [
    "start = time()\n",
    "print temporal_feature1(data.iloc[0], 7)\n",
    "end = time() - start\n",
    "print \"Time taken = \", end"
   ]
  },
  {
   "cell_type": "code",
   "execution_count": 64,
   "metadata": {
    "collapsed": true
   },
   "outputs": [],
   "source": [
    "def generate_temporal_features(data2):\n",
    "    TMP1 = data2.apply(lambda x: temporal_feature1(x, 7), axis=1)\n",
    "    TMP2 = data2.apply(lambda x: temporal_feature2(x, 7), axis=1)\n",
    "    TMP3 = data2.apply(lambda x: temporal_feature3(x, 7), axis=1)\n",
    "    TMP4 = data2.apply(lambda x: temporal_feature1(x, 30), axis=1)\n",
    "    TMP5 = data2.apply(lambda x: temporal_feature2(x, 30), axis=1)\n",
    "    TMP6 = data2.apply(lambda x: temporal_feature3(x, 30), axis=1)\n",
    "    TMP7 = data2.apply(lambda x: temporal_feature1(x, 1), axis=1)\n",
    "    TMP8 = data2.apply(lambda x: temporal_feature2(x, 1), axis=1)\n",
    "    TMP9 = data2.apply(lambda x: temporal_feature3(x, 1), axis=1)\n",
    "    TMP10 = data2.apply(lambda x: temporal_feature1(x, 3), axis=1)\n",
    "    TMP11 = data2.apply(lambda x: temporal_feature2(x, 3), axis=1)\n",
    "    TMP12 = data2.apply(lambda x: temporal_feature3(x, 3), axis=1)\n",
    "    temporal_cols = ['TMP1', 'TMP2', 'TMP3', 'TMP4', 'TMP5', 'TMP6', 'TMP7', 'TMP8', 'TMP9', 'TMP10', 'TMP11', 'TMP12']\n",
    "    temporal_features = [TMP1, TMP2, TMP3, TMP4, TMP5, TMP6, TMP7, TMP8, TMP9, TMP10, TMP11, TMP12]\n",
    "\n",
    "    temporal_data = pd.concat(temporal_features, axis=1)\n",
    "    temporal_data.columns = temporal_cols\n",
    "    return temporal_data"
   ]
  },
  {
   "cell_type": "markdown",
   "metadata": {},
   "source": [
    "The function above uses the tempral_feature functions and temporal_dict (created using training data) to generate features by using DataFrame.apply function. The lines below use this function to generate these features for both training and test dataset. "
   ]
  },
  {
   "cell_type": "code",
   "execution_count": 65,
   "metadata": {
    "collapsed": false
   },
   "outputs": [],
   "source": [
    "temporal_train_data = generate_temporal_features(data)"
   ]
  },
  {
   "cell_type": "code",
   "execution_count": 66,
   "metadata": {
    "collapsed": true
   },
   "outputs": [],
   "source": [
    "temoral_test_data = generate_temporal_features(X_test)"
   ]
  },
  {
   "cell_type": "code",
   "execution_count": 67,
   "metadata": {
    "collapsed": false
   },
   "outputs": [
    {
     "name": "stdout",
     "output_type": "stream",
     "text": [
      "(83044, 12)\n",
      "(20761, 12)\n"
     ]
    }
   ],
   "source": [
    "print temporal_train_data.shape\n",
    "print temoral_test_data.shape"
   ]
  },
  {
   "cell_type": "code",
   "execution_count": 69,
   "metadata": {
    "collapsed": false
   },
   "outputs": [],
   "source": [
    "# Concatenating temporal data features with existing data\n",
    "train_data_with_temporal = pd.concat([data, temporal_train_data], axis=1)\n",
    "test_data_with_temporal = pd.concat([X_test, temoral_test_data], axis=1)"
   ]
  },
  {
   "cell_type": "code",
   "execution_count": 40,
   "metadata": {
    "collapsed": true
   },
   "outputs": [],
   "source": [
    "# Save data with temporal features\n",
    "train_data_with_temporal.to_csv('../data/train_data_with_temporal.csv', index=False)\n",
    "test_data_with_temporal.to_csv('../data/test_data_with_temporal.csv', index=False)"
   ]
  },
  {
   "cell_type": "markdown",
   "metadata": {},
   "source": [
    "Author Realted Feature Generation"
   ]
  },
  {
   "cell_type": "code",
   "execution_count": null,
   "metadata": {
    "collapsed": true
   },
   "outputs": [],
   "source": [
    "author_dict = {}\n",
    "\n",
    "# Generates temporal dict which is used to generate temporal functions\n",
    "for i in range(len(data)):\n",
    "    row = data.iloc[i]\n",
    "    t = (row['Opened'].date() - datetime(1970,1,1).date()).days\n",
    "    a = row['Author']\n",
    "    if (t not in author_dict):\n",
    "        author_dict[t] = {}\n",
    "    if (s not in author_dict[t]):\n",
    "        author_dict[t][s] = 0\n",
    "    author_dict[t][s] += 1"
   ]
  }
 ],
 "metadata": {
  "anaconda-cloud": {},
  "kernelspec": {
   "display_name": "Python [conda root]",
   "language": "python",
   "name": "conda-root-py"
  },
  "language_info": {
   "codemirror_mode": {
    "name": "ipython",
    "version": 2
   },
   "file_extension": ".py",
   "mimetype": "text/x-python",
   "name": "python",
   "nbconvert_exporter": "python",
   "pygments_lexer": "ipython2",
   "version": "2.7.12"
  }
 },
 "nbformat": 4,
 "nbformat_minor": 1
}
