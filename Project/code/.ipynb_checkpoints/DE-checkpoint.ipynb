{
 "cells": [
  {
   "cell_type": "markdown",
   "metadata": {},
   "source": [
    "# Differential Evolution for Hyperparameter Tuning"
   ]
  },
  {
   "cell_type": "code",
   "execution_count": 112,
   "metadata": {},
   "outputs": [],
   "source": [
    "import numpy as np\n",
    "import pandas as pd\n",
    "import data_preprocessing"
   ]
  },
  {
   "cell_type": "markdown",
   "metadata": {},
   "source": [
    "### Loading data and bringing in the right format"
   ]
  },
  {
   "cell_type": "code",
   "execution_count": 113,
   "metadata": {},
   "outputs": [
    {
     "name": "stdout",
     "output_type": "stream",
     "text": [
      "reading file...\n",
      "Tokenizing Summary\n",
      "Combining...\n",
      "Preprocessing done!\n"
     ]
    }
   ],
   "source": [
    "inputDF, df = data_preprocessing.preprocess_data()"
   ]
  },
  {
   "cell_type": "code",
   "execution_count": 118,
   "metadata": {},
   "outputs": [
    {
     "data": {
      "text/plain": [
       "(<83041x15940 sparse matrix of type '<type 'numpy.float64'>'\n",
       " \twith 3359482 stored elements in Compressed Sparse Row format>, (83041, 40))"
      ]
     },
     "execution_count": 118,
     "metadata": {},
     "output_type": "execute_result"
    }
   ],
   "source": [
    "inputDF, df.shape"
   ]
  },
  {
   "cell_type": "markdown",
   "metadata": {},
   "source": [
    "### ML model building"
   ]
  },
  {
   "cell_type": "code",
   "execution_count": 119,
   "metadata": {},
   "outputs": [],
   "source": [
    "from sklearn.ensemble import RandomForestClassifier\n",
    "from sklearn.metrics import f1_score, make_scorer\n",
    "from sklearn.model_selection import cross_val_score\n",
    "# Differential evolution optimizer\n",
    "from scipy.optimize import differential_evolution"
   ]
  },
  {
   "cell_type": "code",
   "execution_count": 120,
   "metadata": {},
   "outputs": [],
   "source": [
    "args = (inputDF,df['Priority'])\n",
    "bounds = [ (10,100),(5,20),(2,10),(2,10) ] # order: n_estimators,max_depth,min_samples_split,min_samples_leaf"
   ]
  },
  {
   "cell_type": "code",
   "execution_count": 130,
   "metadata": {},
   "outputs": [],
   "source": [
    "def func(parameters, *args):\n",
    "    #print args[0], args[1]\n",
    "    parameters = map(int,parameters)\n",
    "    clf = RandomForestClassifier(\n",
    "        n_jobs=-1, \n",
    "        n_estimators=parameters[0], \n",
    "        max_depth=parameters[1],\n",
    "        min_samples_split=parameters[2],\n",
    "        min_samples_leaf=parameters[3],\n",
    "        class_weight=\"balanced\"\n",
    "    )\n",
    "    clf = RandomForestClassifier(class_weight=\"balanced\", n_jobs=-1)\n",
    "    f1scorer_macro = make_scorer(f1_score, average='macro')\n",
    "    f1 = cross_val_score(clf, args[0], args[1], scoring=f1scorer_macro, cv=3, n_jobs=-1)\n",
    "    average_f1 = np.mean(f1)\n",
    "    print average_f1, parameters\n",
    "    return -1*average_f1"
   ]
  },
  {
   "cell_type": "code",
   "execution_count": 131,
   "metadata": {},
   "outputs": [
    {
     "ename": "IndexError",
     "evalue": "tuple index out of range",
     "output_type": "error",
     "traceback": [
      "\u001b[0;31m---------------------------------------------------------------------------\u001b[0m",
      "\u001b[0;31mIndexError\u001b[0m                                Traceback (most recent call last)",
      "\u001b[0;32m<ipython-input-131-869ca54a7ff9>\u001b[0m in \u001b[0;36m<module>\u001b[0;34m()\u001b[0m\n\u001b[0;32m----> 1\u001b[0;31m \u001b[0mfunc\u001b[0m\u001b[0;34m(\u001b[0m\u001b[0mnp\u001b[0m\u001b[0;34m.\u001b[0m\u001b[0marray\u001b[0m\u001b[0;34m(\u001b[0m\u001b[0;34m[\u001b[0m\u001b[0;36m10\u001b[0m\u001b[0;34m,\u001b[0m\u001b[0;36m10\u001b[0m\u001b[0;34m,\u001b[0m\u001b[0;36m2\u001b[0m\u001b[0;34m,\u001b[0m\u001b[0;36m1\u001b[0m\u001b[0;34m]\u001b[0m\u001b[0;34m)\u001b[0m\u001b[0;34m,\u001b[0m\u001b[0margs\u001b[0m\u001b[0;34m)\u001b[0m\u001b[0;34m\u001b[0m\u001b[0m\n\u001b[0m",
      "\u001b[0;32m<ipython-input-130-a50ad82e1f92>\u001b[0m in \u001b[0;36mfunc\u001b[0;34m(parameters, *args)\u001b[0m\n\u001b[1;32m     12\u001b[0m     \u001b[0mclf\u001b[0m \u001b[0;34m=\u001b[0m \u001b[0mRandomForestClassifier\u001b[0m\u001b[0;34m(\u001b[0m\u001b[0mclass_weight\u001b[0m\u001b[0;34m=\u001b[0m\u001b[0;34m\"balanced\"\u001b[0m\u001b[0;34m,\u001b[0m \u001b[0mn_jobs\u001b[0m\u001b[0;34m=\u001b[0m\u001b[0;34m-\u001b[0m\u001b[0;36m1\u001b[0m\u001b[0;34m)\u001b[0m\u001b[0;34m\u001b[0m\u001b[0m\n\u001b[1;32m     13\u001b[0m     \u001b[0mf1scorer_macro\u001b[0m \u001b[0;34m=\u001b[0m \u001b[0mmake_scorer\u001b[0m\u001b[0;34m(\u001b[0m\u001b[0mf1_score\u001b[0m\u001b[0;34m,\u001b[0m \u001b[0maverage\u001b[0m\u001b[0;34m=\u001b[0m\u001b[0;34m'macro'\u001b[0m\u001b[0;34m)\u001b[0m\u001b[0;34m\u001b[0m\u001b[0m\n\u001b[0;32m---> 14\u001b[0;31m     \u001b[0mf1\u001b[0m \u001b[0;34m=\u001b[0m \u001b[0mcross_val_score\u001b[0m\u001b[0;34m(\u001b[0m\u001b[0mclf\u001b[0m\u001b[0;34m,\u001b[0m \u001b[0margs\u001b[0m\u001b[0;34m[\u001b[0m\u001b[0;36m0\u001b[0m\u001b[0;34m]\u001b[0m\u001b[0;34m,\u001b[0m \u001b[0margs\u001b[0m\u001b[0;34m[\u001b[0m\u001b[0;36m1\u001b[0m\u001b[0;34m]\u001b[0m\u001b[0;34m,\u001b[0m \u001b[0mscoring\u001b[0m\u001b[0;34m=\u001b[0m\u001b[0mf1scorer_macro\u001b[0m\u001b[0;34m,\u001b[0m \u001b[0mcv\u001b[0m\u001b[0;34m=\u001b[0m\u001b[0;36m3\u001b[0m\u001b[0;34m,\u001b[0m \u001b[0mn_jobs\u001b[0m\u001b[0;34m=\u001b[0m\u001b[0;34m-\u001b[0m\u001b[0;36m1\u001b[0m\u001b[0;34m)\u001b[0m\u001b[0;34m\u001b[0m\u001b[0m\n\u001b[0m\u001b[1;32m     15\u001b[0m     \u001b[0maverage_f1\u001b[0m \u001b[0;34m=\u001b[0m \u001b[0mnp\u001b[0m\u001b[0;34m.\u001b[0m\u001b[0mmean\u001b[0m\u001b[0;34m(\u001b[0m\u001b[0mf1\u001b[0m\u001b[0;34m)\u001b[0m\u001b[0;34m\u001b[0m\u001b[0m\n\u001b[1;32m     16\u001b[0m     \u001b[0;32mprint\u001b[0m \u001b[0maverage_f1\u001b[0m\u001b[0;34m,\u001b[0m \u001b[0mparameters\u001b[0m\u001b[0;34m\u001b[0m\u001b[0m\n",
      "\u001b[0;31mIndexError\u001b[0m: tuple index out of range"
     ]
    }
   ],
   "source": [
    "func(np.array([10,10,2,1]),args)"
   ]
  },
  {
   "cell_type": "code",
   "execution_count": null,
   "metadata": {},
   "outputs": [
    {
     "name": "stdout",
     "output_type": "stream",
     "text": [
      "0.385716100753 [14, 8, 2, 9]\n",
      "0.385716100753 [23, 8, 5, 2]\n",
      "0.385716100753 [47, 16, 8, 7]\n",
      "0.385716100753 [30, 5, 8, 8]\n",
      "0.385716100753 [68, 6, 4, 4]\n",
      "0.385716100753 [53, 11, 4, 5]\n",
      "0.385716100753 [10, 15, 8, 6]\n",
      "0.385716100753 [37, 19, 9, 3]\n",
      "0.385716100753 [70, 15, 3, 7]\n",
      "0.385716100753 [45, 12, 3, 7]\n",
      "0.385716100753 [62, 10, 5, 4]\n",
      "0.385716100753 [77, 13, 4, 3]\n",
      "0.385716100753 [59, 19, 6, 2]\n",
      "0.385716100753 [97, 11, 3, 8]\n",
      "0.385716100753 [73, 7, 7, 6]\n",
      "0.385716100753 [89, 14, 8, 6]\n",
      "0.385716100753 [99, 13, 6, 7]\n",
      "0.385716100753 [39, 12, 4, 9]\n",
      "0.385716100753 [17, 8, 2, 9]\n",
      "0.385716100753 [35, 5, 2, 3]\n",
      "0.385716100753 [88, 9, 4, 7]\n",
      "0.385716100753 [84, 7, 7, 2]\n",
      "0.385716100753 [55, 14, 7, 2]\n",
      "0.385716100753 [65, 6, 8, 9]\n",
      "0.385716100753 [84, 7, 2, 2]\n",
      "0.385716100753 [72, 5, 2, 8]\n",
      "0.385716100753 [24, 18, 9, 4]\n",
      "0.385716100753 [95, 18, 9, 3]\n",
      "0.385716100753 [28, 11, 5, 8]\n",
      "0.385716100753 [19, 17, 6, 8]\n",
      "0.385716100753 [14, 10, 3, 5]\n",
      "0.385716100753 [76, 16, 3, 6]\n",
      "0.385716100753 [58, 17, 9, 5]\n",
      "0.385716100753 [81, 16, 7, 4]\n",
      "0.385716100753 [91, 9, 6, 6]\n",
      "0.385716100753 [26, 14, 6, 4]\n",
      "0.385716100753 [49, 12, 5, 5]\n",
      "0.385716100753 [42, 19, 7, 5]\n",
      "0.385716100753 [51, 17, 5, 3]\n",
      "0.385716100753 [34, 9, 9, 9]\n",
      "0.390257285646 [96, 15, 2, 7]\n",
      "0.394504687707 [23, 19, 6, 2]\n",
      "0.381708552151 [19, 16, 8, 2]\n",
      "0.394477056613 [30, 16, 8, 2]\n",
      "0.389186602445 [41, 6, 2, 5]\n",
      "0.384844851011 [29, 12, 9, 5]\n",
      "0.399606057577 [10, 15, 6, 4]\n",
      "0.388329740665 [58, 13, 4, 4]\n",
      "0.396007245038 [45, 10, 4, 4]\n",
      "0.394819951271 [11, 18, 8, 7]\n",
      "0.393458444403 [38, 12, 5, 4]\n",
      "0.396422380552 [35, 13, 5, 2]\n",
      "0.385739352054 [22, 17, 6, 2]\n",
      "0.391825783653 [97, 13, 5, 3]\n",
      "0.385294803377 [73, 19, 7, 6]\n",
      "0.39430764848 [89, 14, 5, 2]\n",
      "0.394554073516 [27, 18, 8, 5]\n",
      "0.39039342734 [65, 17, 4, 2]\n",
      "0.382699607803 [17, 16, 5, 4]\n",
      "0.388644740534 [17, 14, 5, 3]\n",
      "0.386633697518 [63, 16, 3, 7]\n",
      "0.38342425135 [71, 16, 6, 2]\n",
      "0.385990340197 [22, 14, 6, 6]\n",
      "0.382622655516 [65, 11, 3, 4]\n",
      "0.394250762447 [37, 11, 3, 2]\n",
      "0.383669374884 [37, 5, 8, 2]\n",
      "0.387456180122 [24, 19, 9, 2]\n",
      "0.386598213776 [53, 18, 9, 7]\n",
      "0.387577046072 [26, 14, 8, 6]\n",
      "0.391480686289 [25, 16, 2, 8]\n",
      "0.383254081542 [14, 16, 2, 5]\n",
      "0.390148981975 [76, 17, 7, 6]\n",
      "0.38663347173 [32, 8, 8, 4]\n",
      "0.394499033579 [81, 18, 8, 3]\n",
      "0.391181774911 [21, 18, 9, 6]\n",
      "0.391301636987 [26, 9, 9, 2]\n",
      "0.39370565738 [80, 15, 8, 7]\n"
     ]
    }
   ],
   "source": [
    "%time result = differential_evolution(func, bounds, args, popsize=10, mutation=(0.5,1.9), recombination=0.7, maxiter=1)"
   ]
  },
  {
   "cell_type": "code",
   "execution_count": 62,
   "metadata": {},
   "outputs": [
    {
     "name": "stdout",
     "output_type": "stream",
     "text": [
      "Tuned Parameters: [99, 5, 8, 5]\n"
     ]
    }
   ],
   "source": [
    "parameters = map(int,result.x)\n",
    "print 'Tuned Parameters:',parameters"
   ]
  },
  {
   "cell_type": "code",
   "execution_count": null,
   "metadata": {},
   "outputs": [],
   "source": [
    "clf = RandomForestClassifier(\n",
    "        n_jobs=-1, \n",
    "        n_estimators=parameters[0], \n",
    "        max_depth=parameters[1],\n",
    "        min_samples_split=parameters[2],\n",
    "        min_samples_leaf=parameters[3]\n",
    "    )\n",
    "f1scorer_macro = make_scorer(f1_score, average='macro')\n",
    "f1 = cross_val_score(clf, args[0], args[1], scoring=f1scorer_macro, cv=10, n_jobs=-1)\n",
    "average_f1 = np.mean(f1)\n",
    "print 'Cross validation metrics:',average, np.std(f1)\n",
    "%time clf.fit(inputDF, df['Priority'])"
   ]
  },
  {
   "cell_type": "code",
   "execution_count": 18,
   "metadata": {},
   "outputs": [
    {
     "data": {
      "text/plain": [
       "(array([ 1.,  1.,  1.,  1.,  1.]), 0.0)"
      ]
     },
     "execution_count": 18,
     "metadata": {},
     "output_type": "execute_result"
    }
   ],
   "source": [
    "from scipy.optimize import rosen, differential_evolution\n",
    "bounds = [(0,2), (0, 2), (0, 2), (0, 2), (0, 2)]\n",
    "result = differential_evolution(rosen, bounds)\n",
    "result.x, result.fun"
   ]
  },
  {
   "cell_type": "code",
   "execution_count": null,
   "metadata": {},
   "outputs": [],
   "source": []
  },
  {
   "cell_type": "code",
   "execution_count": 91,
   "metadata": {},
   "outputs": [],
   "source": [
    "f1scorer_macro = make_scorer(f1_score, average='macro')"
   ]
  },
  {
   "cell_type": "code",
   "execution_count": 92,
   "metadata": {},
   "outputs": [],
   "source": [
    "clf = RandomForestClassifier(n_jobs=-1)"
   ]
  },
  {
   "cell_type": "code",
   "execution_count": 109,
   "metadata": {},
   "outputs": [],
   "source": [
    "from sklearn.model_selection import KFold\n",
    "from sklearn.metrics import f1_score\n",
    "from sklearn.naive_bayes import MultinomialNB\n",
    "from sklearn.ensemble import RandomForestClassifier, AdaBoostClassifier, GradientBoostingClassifier\n",
    "\n",
    "clf = RandomForestClassifier(class_weight=\"balanced\", n_jobs=-1)\n",
    "kf = KFold(n_splits=10)"
   ]
  },
  {
   "cell_type": "code",
   "execution_count": 111,
   "metadata": {},
   "outputs": [
    {
     "name": "stdout",
     "output_type": "stream",
     "text": [
      "74736\n"
     ]
    },
    {
     "ename": "TypeError",
     "evalue": "only integer scalar arrays can be converted to a scalar index",
     "output_type": "error",
     "traceback": [
      "\u001b[0;31m---------------------------------------------------------------------------\u001b[0m",
      "\u001b[0;31mTypeError\u001b[0m                                 Traceback (most recent call last)",
      "\u001b[0;32m<ipython-input-111-5aa8e9fdd476>\u001b[0m in \u001b[0;36m<module>\u001b[0;34m()\u001b[0m\n\u001b[1;32m      2\u001b[0m \u001b[0;32mfor\u001b[0m \u001b[0mtrain\u001b[0m\u001b[0;34m,\u001b[0m\u001b[0mtest\u001b[0m \u001b[0;32min\u001b[0m \u001b[0mkf\u001b[0m\u001b[0;34m.\u001b[0m\u001b[0msplit\u001b[0m\u001b[0;34m(\u001b[0m\u001b[0minputDF\u001b[0m\u001b[0;34m)\u001b[0m\u001b[0;34m:\u001b[0m\u001b[0;34m\u001b[0m\u001b[0m\n\u001b[1;32m      3\u001b[0m     \u001b[0;32mprint\u001b[0m \u001b[0mlen\u001b[0m\u001b[0;34m(\u001b[0m\u001b[0mtrain\u001b[0m\u001b[0;34m)\u001b[0m\u001b[0;34m\u001b[0m\u001b[0m\n\u001b[0;32m----> 4\u001b[0;31m     \u001b[0mtrain_input\u001b[0m \u001b[0;34m=\u001b[0m \u001b[0minputDF\u001b[0m\u001b[0;34m[\u001b[0m\u001b[0mtrain\u001b[0m\u001b[0;34m]\u001b[0m\u001b[0;34m\u001b[0m\u001b[0m\n\u001b[0m\u001b[1;32m      5\u001b[0m     \u001b[0mtest_input\u001b[0m \u001b[0;34m=\u001b[0m \u001b[0minputDF\u001b[0m\u001b[0;34m[\u001b[0m\u001b[0mtest\u001b[0m\u001b[0;34m]\u001b[0m\u001b[0;34m\u001b[0m\u001b[0m\n\u001b[1;32m      6\u001b[0m     \u001b[0mtrain_output\u001b[0m \u001b[0;34m=\u001b[0m \u001b[0mdf\u001b[0m\u001b[0;34m[\u001b[0m\u001b[0;34m'Priority'\u001b[0m\u001b[0;34m]\u001b[0m\u001b[0;34m[\u001b[0m\u001b[0mtrain\u001b[0m\u001b[0;34m]\u001b[0m\u001b[0;34m\u001b[0m\u001b[0m\n",
      "\u001b[0;31mTypeError\u001b[0m: only integer scalar arrays can be converted to a scalar index"
     ]
    }
   ],
   "source": [
    "cvscores = []\n",
    "for train,test in kf.split(inputDF):\n",
    "    print len(train)\n",
    "    train_input = inputDF[train]\n",
    "    test_input = inputDF[test]\n",
    "    train_output = df['Priority'][train]\n",
    "    test_output = df['Priority'][test]\n",
    "    %time clf.fit(train_input,train_output)\n",
    "    prediction = clf.predict(test_input)\n",
    "    scores = f1_score(test_output, prediction, average=None)\n",
    "    print scores\n",
    "    cvscores.append(scores)"
   ]
  },
  {
   "cell_type": "code",
   "execution_count": 96,
   "metadata": {},
   "outputs": [
    {
     "data": {
      "text/plain": [
       "(83041, 15980)"
      ]
     },
     "execution_count": 96,
     "metadata": {},
     "output_type": "execute_result"
    }
   ],
   "source": [
    "inputDF.shape"
   ]
  },
  {
   "cell_type": "code",
   "execution_count": null,
   "metadata": {},
   "outputs": [],
   "source": []
  }
 ],
 "metadata": {
  "kernelspec": {
   "display_name": "Python 2",
   "language": "python",
   "name": "python2"
  },
  "language_info": {
   "codemirror_mode": {
    "name": "ipython",
    "version": 2
   },
   "file_extension": ".py",
   "mimetype": "text/x-python",
   "name": "python",
   "nbconvert_exporter": "python",
   "pygments_lexer": "ipython2",
   "version": "2.7.12"
  }
 },
 "nbformat": 4,
 "nbformat_minor": 2
}
