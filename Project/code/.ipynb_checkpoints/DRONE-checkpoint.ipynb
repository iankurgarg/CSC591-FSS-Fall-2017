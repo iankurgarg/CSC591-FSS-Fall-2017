{
 "cells": [
  {
   "cell_type": "code",
   "execution_count": 61,
   "metadata": {
    "collapsed": true
   },
   "outputs": [],
   "source": [
    "import pandas as pd\n",
    "import numpy as np\n",
    "import scipy\n",
    "from copy import deepcopy"
   ]
  },
  {
   "cell_type": "code",
   "execution_count": 9,
   "metadata": {
    "collapsed": true
   },
   "outputs": [],
   "source": [
    "from sklearn.linear_model import LinearRegression"
   ]
  },
  {
   "cell_type": "code",
   "execution_count": 10,
   "metadata": {
    "collapsed": false
   },
   "outputs": [
    {
     "name": "stdout",
     "output_type": "stream",
     "text": [
      "(83044, 19)\n",
      "(83041, 19)\n"
     ]
    },
    {
     "data": {
      "text/plain": [
       "index        0\n",
       "Bug ID       0\n",
       "Product      0\n",
       "Component    0\n",
       "Assignee     0\n",
       "Summary      0\n",
       "Severity     0\n",
       "Priority     0\n",
       "TMP1         0\n",
       "TMP2         0\n",
       "TMP3         0\n",
       "TMP4         0\n",
       "TMP5         0\n",
       "TMP6         0\n",
       "TMP7         0\n",
       "TMP8         0\n",
       "TMP9         0\n",
       "TMP10        0\n",
       "TMP11        0\n",
       "TMP12        0\n",
       "dtype: int64"
      ]
     },
     "execution_count": 10,
     "metadata": {},
     "output_type": "execute_result"
    }
   ],
   "source": [
    "df = pd.read_csv('../data/individual_features/train_data_with_temporal.csv')\n",
    "df.drop(['Keywords','Summary.1','Status','Resolution','Changed','Opened'],axis=1,inplace=True)\n",
    "print df.shape\n",
    "df.dropna(inplace=True)\n",
    "print df.shape\n",
    "df.reset_index(inplace=True)\n",
    "df.isnull().sum()"
   ]
  },
  {
   "cell_type": "code",
   "execution_count": 11,
   "metadata": {
    "collapsed": true
   },
   "outputs": [],
   "source": [
    "df = df.sample(frac=1.0)"
   ]
  },
  {
   "cell_type": "code",
   "execution_count": 12,
   "metadata": {
    "collapsed": true
   },
   "outputs": [],
   "source": [
    "df.reset_index(inplace=True)"
   ]
  },
  {
   "cell_type": "code",
   "execution_count": 13,
   "metadata": {
    "collapsed": true
   },
   "outputs": [],
   "source": [
    "dummy_df = pd.get_dummies( df[['Product','Component','Assignee','Severity']] )"
   ]
  },
  {
   "cell_type": "code",
   "execution_count": 14,
   "metadata": {
    "collapsed": false
   },
   "outputs": [
    {
     "data": {
      "text/plain": [
       "Index([u'TMP1', u'TMP2', u'TMP3', u'TMP4', u'TMP5', u'TMP6', u'TMP7', u'TMP8',\n",
       "       u'TMP9', u'TMP10', u'TMP11', u'TMP12'],\n",
       "      dtype='object')"
      ]
     },
     "execution_count": 14,
     "metadata": {},
     "output_type": "execute_result"
    }
   ],
   "source": [
    "df.columns[9:]"
   ]
  },
  {
   "cell_type": "code",
   "execution_count": 15,
   "metadata": {
    "collapsed": true
   },
   "outputs": [],
   "source": [
    "other_features = pd.concat([dummy_df, df[df.columns[9:]]],axis=1)"
   ]
  },
  {
   "cell_type": "code",
   "execution_count": 16,
   "metadata": {
    "collapsed": false
   },
   "outputs": [
    {
     "data": {
      "text/plain": [
       "(83041, 346)"
      ]
     },
     "execution_count": 16,
     "metadata": {},
     "output_type": "execute_result"
    }
   ],
   "source": [
    "other_features.shape"
   ]
  },
  {
   "cell_type": "code",
   "execution_count": 17,
   "metadata": {
    "collapsed": false
   },
   "outputs": [
    {
     "data": {
      "text/plain": [
       "(83041, 346)"
      ]
     },
     "execution_count": 17,
     "metadata": {},
     "output_type": "execute_result"
    }
   ],
   "source": [
    "other_features.dropna().shape"
   ]
  },
  {
   "cell_type": "code",
   "execution_count": 18,
   "metadata": {
    "collapsed": true
   },
   "outputs": [],
   "source": [
    "import nltk\n",
    "from nltk.tokenize import RegexpTokenizer\n",
    "from nltk.stem.porter import PorterStemmer\n",
    "import re\n",
    "\n",
    "tokenizer = RegexpTokenizer(r'\\w+')\n",
    "stopwords = set(nltk.corpus.stopwords.words('english'))\n",
    "stemmer = PorterStemmer()"
   ]
  },
  {
   "cell_type": "code",
   "execution_count": 19,
   "metadata": {
    "collapsed": true
   },
   "outputs": [],
   "source": [
    "# tokenizer.tokenize('Eighty-seven miles to go, yet.  Onward!')\n",
    "def tokenize_stop_stem(text):\n",
    "    try:\n",
    "        tokens = tokenizer.tokenize(text)\n",
    "        # filter out any tokens not containing letters (e.g., numeric tokens, raw punctuation) and stem\n",
    "        filtered_tokens = []\n",
    "        for token in tokens:\n",
    "            token = token.lower()\n",
    "            if token not in stopwords:\n",
    "                if not re.search('[0-9]', token):\n",
    "                    try:\n",
    "                        token = stemmer.stem(token)\n",
    "                        filtered_tokens.append(token)\n",
    "                    except UnicodeDecodeError:\n",
    "                        print 'illeagal token ignored:',token\n",
    "                        pass\n",
    "    except UnicodeDecodeError:\n",
    "        print 'illeagal token ignored:',token\n",
    "        pass\n",
    "    return filtered_tokens"
   ]
  },
  {
   "cell_type": "markdown",
   "metadata": {},
   "source": [
    "### Run sklearn countvectorizer"
   ]
  },
  {
   "cell_type": "code",
   "execution_count": 20,
   "metadata": {
    "collapsed": true
   },
   "outputs": [],
   "source": [
    "from sklearn.feature_extraction.text import CountVectorizer"
   ]
  },
  {
   "cell_type": "code",
   "execution_count": 21,
   "metadata": {
    "collapsed": true
   },
   "outputs": [],
   "source": [
    "countVect = CountVectorizer(input='content',lowercase=False, max_features=395996, tokenizer=tokenize_stop_stem, decode_error='ignore')"
   ]
  },
  {
   "cell_type": "code",
   "execution_count": 22,
   "metadata": {
    "collapsed": false
   },
   "outputs": [
    {
     "name": "stdout",
     "output_type": "stream",
     "text": [
      "CPU times: user 28.7 s, sys: 471 ms, total: 29.2 s\n",
      "Wall time: 29 s\n"
     ]
    }
   ],
   "source": [
    "%time countVector = countVect.fit_transform(df.Summary)"
   ]
  },
  {
   "cell_type": "code",
   "execution_count": 23,
   "metadata": {
    "collapsed": false
   },
   "outputs": [
    {
     "data": {
      "text/plain": [
       "<83041x15905 sparse matrix of type '<type 'numpy.int64'>'\n",
       "\twith 467339 stored elements in Compressed Sparse Row format>"
      ]
     },
     "execution_count": 23,
     "metadata": {},
     "output_type": "execute_result"
    }
   ],
   "source": [
    "countVector"
   ]
  },
  {
   "cell_type": "code",
   "execution_count": 24,
   "metadata": {
    "collapsed": true
   },
   "outputs": [],
   "source": [
    "def ctoi(x):\n",
    "    if x=='P1':\n",
    "        return 1 \n",
    "    if x=='P2':\n",
    "        return 2\n",
    "    if x=='P3':\n",
    "        return 3\n",
    "    if x=='P4':\n",
    "        return 4\n",
    "    return 5"
   ]
  },
  {
   "cell_type": "code",
   "execution_count": 25,
   "metadata": {
    "collapsed": true
   },
   "outputs": [],
   "source": [
    "df['Priority_int'] = df['Priority'].apply(lambda x: ctoi(x))"
   ]
  },
  {
   "cell_type": "markdown",
   "metadata": {},
   "source": [
    "### Make spare representation"
   ]
  },
  {
   "cell_type": "code",
   "execution_count": 26,
   "metadata": {
    "collapsed": false
   },
   "outputs": [
    {
     "data": {
      "text/plain": [
       "<83041x16251 sparse matrix of type '<type 'numpy.float64'>'\n",
       "\twith 1795995 stored elements in Compressed Sparse Row format>"
      ]
     },
     "execution_count": 26,
     "metadata": {},
     "output_type": "execute_result"
    }
   ],
   "source": [
    "from scipy import sparse\n",
    "other_sparse = sparse.csr_matrix(other_features.values)\n",
    "inputDF = sparse.hstack((other_features,countVector),format=\"csr\")\n",
    "inputDF"
   ]
  },
  {
   "cell_type": "code",
   "execution_count": 58,
   "metadata": {
    "collapsed": false
   },
   "outputs": [
    {
     "name": "stdout",
     "output_type": "stream",
     "text": [
      "(41520, 16251)\n",
      "(41521, 16251)\n"
     ]
    }
   ],
   "source": [
    "training_ip = inputDF[0:83041/2]\n",
    "training_op = df['Priority_int'][0:83041/2]\n",
    "print training_ip.shape\n",
    "validation_ip = inputDF[83041/2:]\n",
    "validation_op = df['Priority'][83041/2:]\n",
    "print validation_ip.shape"
   ]
  },
  {
   "cell_type": "markdown",
   "metadata": {},
   "source": [
    "### Train Linear Regression on Training set"
   ]
  },
  {
   "cell_type": "code",
   "execution_count": 46,
   "metadata": {
    "collapsed": true
   },
   "outputs": [],
   "source": [
    "lr = LinearRegression(n_jobs=-1)"
   ]
  },
  {
   "cell_type": "code",
   "execution_count": null,
   "metadata": {
    "collapsed": true
   },
   "outputs": [],
   "source": [
    "for "
   ]
  },
  {
   "cell_type": "code",
   "execution_count": 47,
   "metadata": {
    "collapsed": false
   },
   "outputs": [
    {
     "data": {
      "text/plain": [
       "LinearRegression(copy_X=True, fit_intercept=True, n_jobs=-1, normalize=False)"
      ]
     },
     "execution_count": 47,
     "metadata": {},
     "output_type": "execute_result"
    }
   ],
   "source": [
    "lr.fit(training_ip, training_op)"
   ]
  },
  {
   "cell_type": "markdown",
   "metadata": {},
   "source": [
    "#### Initializing Thresholds"
   ]
  },
  {
   "cell_type": "code",
   "execution_count": 48,
   "metadata": {
    "collapsed": false
   },
   "outputs": [
    {
     "data": {
      "text/plain": [
       "array([ 2.89514973,  3.15731004,  3.57644414, ...,  2.79892992,\n",
       "        2.99556056,  3.04039715])"
      ]
     },
     "execution_count": 48,
     "metadata": {},
     "output_type": "execute_result"
    }
   ],
   "source": [
    "validation_set_preds = lr.predict(validation_ip)\n",
    "validation_set_preds"
   ]
  },
  {
   "cell_type": "code",
   "execution_count": 49,
   "metadata": {
    "collapsed": false
   },
   "outputs": [
    {
     "name": "stdout",
     "output_type": "stream",
     "text": [
      "3 7 85 2\n"
     ]
    }
   ],
   "source": [
    "p1 = int((df['Priority']=='P1').sum()/float(df['Priority'].shape[0])*100)\n",
    "p2 = int((df['Priority']=='P2').sum()/float(df['Priority'].shape[0])*100)\n",
    "p3 = int((df['Priority']=='P3').sum()/float(df['Priority'].shape[0])*100)\n",
    "p4 = int((df['Priority']=='P4').sum()/float(df['Priority'].shape[0])*100)\n",
    "print p1,p2,p3,p4"
   ]
  },
  {
   "cell_type": "code",
   "execution_count": 50,
   "metadata": {
    "collapsed": true
   },
   "outputs": [],
   "source": [
    "T0 = validation_set_preds.min()\n",
    "(T1,T2,T3,T4) = np.percentile(validation_set_preds,[p1,p2,p3,p4])"
   ]
  },
  {
   "cell_type": "code",
   "execution_count": 51,
   "metadata": {
    "collapsed": false
   },
   "outputs": [
    {
     "data": {
      "text/plain": [
       "(0.013646676378780587,\n",
       " 2.2617357718857014,\n",
       " 2.4745763855771483,\n",
       " 3.1628268058150759,\n",
       " 2.1682701317809125)"
      ]
     },
     "execution_count": 51,
     "metadata": {},
     "output_type": "execute_result"
    }
   ],
   "source": [
    "T0,T1,T2,T3,T4"
   ]
  },
  {
   "cell_type": "code",
   "execution_count": 105,
   "metadata": {
    "collapsed": true
   },
   "outputs": [],
   "source": [
    "# Function to map regression output to class labels according to threshold\n",
    "T = {'T0': T0, 'T1': T1, 'T2': T2, 'T3': T3, 'T4': T4}"
   ]
  },
  {
   "cell_type": "code",
   "execution_count": 53,
   "metadata": {
    "collapsed": true
   },
   "outputs": [],
   "source": [
    "# function to get class label based on threhsolds for a single test sample\n",
    "def itoc(x, T):\n",
    "    if x <= T['T1']:\n",
    "        return 'P1'\n",
    "    if x <= T['T2']:\n",
    "        return 'P2'\n",
    "    if x <= T['T3']:\n",
    "        return 'P3'\n",
    "    if x <= T['T4']:\n",
    "        return 'P4'\n",
    "    return 'P5'"
   ]
  },
  {
   "cell_type": "code",
   "execution_count": null,
   "metadata": {
    "collapsed": true
   },
   "outputs": [],
   "source": []
  },
  {
   "cell_type": "code",
   "execution_count": 63,
   "metadata": {
    "collapsed": true
   },
   "outputs": [],
   "source": [
    "# get f1 score for given set of thresholds\n",
    "def F1ScoreTH(T, val_preds, actual_labels):\n",
    "    val_class_preds = np.apply_along_axis(lambda x: itoc(x, T), 1, val_preds)\n",
    "#     val_class_preds = val_preds.map(lambda x: itoc(x, T))\n",
    "    return f1_score(actual_labels, val_class_preds, average='macro')"
   ]
  },
  {
   "cell_type": "code",
   "execution_count": 55,
   "metadata": {
    "collapsed": false,
    "scrolled": false
   },
   "outputs": [],
   "source": [
    "validation_set_class_preds = [itoc(x, T) for x in validation_set_preds]\n",
    "#validation_set_class_preds"
   ]
  },
  {
   "cell_type": "code",
   "execution_count": 56,
   "metadata": {
    "collapsed": true
   },
   "outputs": [],
   "source": [
    "from sklearn.metrics import f1_score"
   ]
  },
  {
   "cell_type": "code",
   "execution_count": 59,
   "metadata": {
    "collapsed": false
   },
   "outputs": [
    {
     "name": "stderr",
     "output_type": "stream",
     "text": [
      "/Users/iankurgarg/anaconda/lib/python2.7/site-packages/sklearn/metrics/classification.py:1113: UndefinedMetricWarning: F-score is ill-defined and being set to 0.0 in labels with no predicted samples.\n",
      "  'precision', 'predicted', average, warn_for)\n"
     ]
    },
    {
     "data": {
      "text/plain": [
       "0.27065118192827181"
      ]
     },
     "execution_count": 59,
     "metadata": {},
     "output_type": "execute_result"
    }
   ],
   "source": [
    "f1_score(validation_op, validation_set_class_preds, average='macro')"
   ]
  },
  {
   "cell_type": "code",
   "execution_count": null,
   "metadata": {
    "collapsed": true
   },
   "outputs": [],
   "source": [
    "    "
   ]
  },
  {
   "cell_type": "code",
   "execution_count": 104,
   "metadata": {
    "collapsed": false
   },
   "outputs": [],
   "source": [
    "TH = ['T0', 'T1', 'T2', 'T3', 'T4']\n",
    "def optimize_thresholds(T, actual, preds):\n",
    "    for i in range(1, len(TH)):\n",
    "        D = T[TH[i]] - T[TH[i-1]]\n",
    "        while (True):\n",
    "            f1_v0 = F1ScoreTH(T, preds, actual)\n",
    "            delta = (0.02*D)\n",
    "\n",
    "            if (i + 1 < len(TH) and T[TH[i]] + delta < T[TH[i+1]]):\n",
    "                T[TH[i]] += delta\n",
    "                f1_v1 = F1ScoreTH(T, preds, actual)\n",
    "                T[TH[i]] -= delta\n",
    "            else:\n",
    "                f1_v1 = f1_v0\n",
    "            \n",
    "            if (T[TH[i]] - delta > T[TH[i-1]]):\n",
    "                T[TH[i]] -= delta\n",
    "                f1_v2 = F1ScoreTH(T, preds, actual)\n",
    "                T[TH[i]] += delta\n",
    "            else:\n",
    "                f1_v2 = f1_v0\n",
    "                \n",
    "#             print \"----- handling TH for \", TH[i], \"------\"\n",
    "#             print f1_v0, f1_v1, f1_v2\n",
    "            \n",
    "            if (f1_v1 > f1_v0 and f1_v1 > f1_v2):\n",
    "                T[TH[i]] += delta\n",
    "#                 print \"increasing threshold for \", TH[i]\n",
    "            elif (f1_v1 > f1_v0 and f1_v2 > f1_v1):\n",
    "                T[TH[i]] -= delta\n",
    "#                 print \"increasing threshold for \", TH[i]\n",
    "            elif (f1_v1 < f1_v0 and f1_v2 > f1_v0):\n",
    "                T[TH[i]] -= delta\n",
    "#                 print \"decreasing threshold for \", TH[i]\n",
    "            else:\n",
    "                break;\n",
    "    return T"
   ]
  },
  {
   "cell_type": "code",
   "execution_count": 66,
   "metadata": {
    "collapsed": false
   },
   "outputs": [
    {
     "data": {
      "text/plain": [
       "(41521, 1)"
      ]
     },
     "execution_count": 66,
     "metadata": {},
     "output_type": "execute_result"
    }
   ],
   "source": [
    "validation_set_preds.shape\n",
    "validation_set_preds = validation_set_preds.reshape(validation_set_preds.shape[0], 1)\n",
    "validation_set_preds.shape"
   ]
  },
  {
   "cell_type": "code",
   "execution_count": 106,
   "metadata": {
    "collapsed": false
   },
   "outputs": [
    {
     "data": {
      "text/plain": [
       "{'T0': 0.013646676378780587,\n",
       " 'T1': 2.2617357718857014,\n",
       " 'T2': 2.4745763855771483,\n",
       " 'T3': 3.1628268058150759,\n",
       " 'T4': 2.1682701317809125}"
      ]
     },
     "execution_count": 106,
     "metadata": {},
     "output_type": "execute_result"
    }
   ],
   "source": [
    "T_old = deepcopy(T)\n",
    "T_old"
   ]
  },
  {
   "cell_type": "code",
   "execution_count": 107,
   "metadata": {
    "collapsed": false
   },
   "outputs": [],
   "source": [
    "T_new = optimize_thresholds(T, validation_op, validation_set_preds)"
   ]
  },
  {
   "cell_type": "code",
   "execution_count": 108,
   "metadata": {
    "collapsed": false
   },
   "outputs": [
    {
     "data": {
      "text/plain": [
       "{'T0': 0.013646676378780587,\n",
       " 'T1': 2.2617357718857014,\n",
       " 'T2': 2.4745763855771483,\n",
       " 'T3': 3.1628268058150759,\n",
       " 'T4': 2.1682701317809125}"
      ]
     },
     "execution_count": 108,
     "metadata": {},
     "output_type": "execute_result"
    }
   ],
   "source": [
    "T_old"
   ]
  },
  {
   "cell_type": "code",
   "execution_count": 109,
   "metadata": {
    "collapsed": false
   },
   "outputs": [
    {
     "data": {
      "text/plain": [
       "{'T0': 0.013646676378780587,\n",
       " 'T1': 2.2617357718857014,\n",
       " 'T2': 2.576739880149042,\n",
       " 'T3': 3.1628268058150759,\n",
       " 'T4': 2.1682701317809125}"
      ]
     },
     "execution_count": 109,
     "metadata": {},
     "output_type": "execute_result"
    }
   ],
   "source": [
    "T"
   ]
  },
  {
   "cell_type": "code",
   "execution_count": null,
   "metadata": {
    "collapsed": true
   },
   "outputs": [],
   "source": []
  }
 ],
 "metadata": {
  "anaconda-cloud": {},
  "kernelspec": {
   "display_name": "Python [default]",
   "language": "python",
   "name": "python2"
  },
  "language_info": {
   "codemirror_mode": {
    "name": "ipython",
    "version": 2
   },
   "file_extension": ".py",
   "mimetype": "text/x-python",
   "name": "python",
   "nbconvert_exporter": "python",
   "pygments_lexer": "ipython2",
   "version": "2.7.12"
  }
 },
 "nbformat": 4,
 "nbformat_minor": 2
}
