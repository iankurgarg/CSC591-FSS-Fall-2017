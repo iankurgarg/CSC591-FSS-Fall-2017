{
 "cells": [
  {
   "cell_type": "code",
   "execution_count": 16,
   "metadata": {
    "collapsed": true
   },
   "outputs": [],
   "source": [
    "import pandas as pd\n",
    "from matplotlib import pyplot as plt\n",
    "from matplotlib import cm as cm"
   ]
  },
  {
   "cell_type": "code",
   "execution_count": 2,
   "metadata": {
    "collapsed": true
   },
   "outputs": [],
   "source": [
    "train_df = pd.read_csv('../data/processed/train_processed.csv')"
   ]
  },
  {
   "cell_type": "code",
   "execution_count": 3,
   "metadata": {
    "collapsed": true
   },
   "outputs": [],
   "source": [
    "cols= list(train_df.columns)\n",
    "cols = cols[4:]\n",
    "cols.remove('PRO1')\n",
    "cols.remove('PRO12')"
   ]
  },
  {
   "cell_type": "code",
   "execution_count": 5,
   "metadata": {
    "collapsed": false
   },
   "outputs": [],
   "source": [
    "data = train_df[cols]"
   ]
  },
  {
   "cell_type": "code",
   "execution_count": 31,
   "metadata": {
    "collapsed": true
   },
   "outputs": [],
   "source": [
    "corr = data.corr(method='pearson')"
   ]
  },
  {
   "cell_type": "code",
   "execution_count": 32,
   "metadata": {
    "collapsed": false
   },
   "outputs": [
    {
     "data": {
      "text/plain": [
       "(35, 35)"
      ]
     },
     "execution_count": 32,
     "metadata": {},
     "output_type": "execute_result"
    }
   ],
   "source": [
    "corr.shape"
   ]
  },
  {
   "cell_type": "code",
   "execution_count": 33,
   "metadata": {
    "collapsed": false
   },
   "outputs": [
    {
     "data": {
      "text/plain": [
       "<matplotlib.image.AxesImage at 0x10d709d10>"
      ]
     },
     "execution_count": 33,
     "metadata": {},
     "output_type": "execute_result"
    }
   ],
   "source": [
    "plt.matshow(corr)"
   ]
  },
  {
   "cell_type": "code",
   "execution_count": 34,
   "metadata": {
    "collapsed": false
   },
   "outputs": [
    {
     "data": {
      "image/png": "[encoded data removed]",
      "text/plain": [
       "<matplotlib.figure.Figure at 0x10c81f350>"
      ]
     },
     "metadata": {},
     "output_type": "display_data"
    }
   ],
   "source": [
    "plt.show()"
   ]
  },
  {
   "cell_type": "code",
   "execution_count": 26,
   "metadata": {
    "collapsed": false
   },
   "outputs": [],
   "source": [
    "def plotCorrMatrix(data,title='Continuous Feature Correlation Figure 1'):\n",
    "# \tfig = plt.figure(figsize = (50,50) )\n",
    "# \tax1 = fig.add_subplot(111)\n",
    "\tcmap = cm.get_cmap('jet', 30)\n",
    "\tcax = plt.imshow(data.corr(method='pearson'), interpolation=\"nearest\", cmap=cmap)\n",
    "\tplt.grid(True)\n",
    "\tplt.title(title)\n",
    "\tlabels=list(data.columns)\n",
    "# \tplt.set_xticklabels(labels,fontsize=6)\n",
    "# \tplt.set_yticklabels(labels,fontsize=6)\n",
    "\t# Add colorbar, make sure to specify tick locations to match desired ticklabels\n",
    "# \tfig.colorbar(cax, ticks=[.75,.8,.85,.90,.95,1])\n",
    "\tplt.show()"
   ]
  },
  {
   "cell_type": "code",
   "execution_count": 27,
   "metadata": {
    "collapsed": false
   },
   "outputs": [
    {
     "data": {
      "image/png": "[encoded data removed]",
      "text/plain": [
       "<matplotlib.figure.Figure at 0x10c1ad7d0>"
      ]
     },
     "metadata": {},
     "output_type": "display_data"
    }
   ],
   "source": [
    "plotCorrMatrix(data)"
   ]
  },
  {
   "cell_type": "markdown",
   "metadata": {},
   "source": [
    "### Very High Correlation between the first 12 features - which are all temporal. Try removing such features."
   ]
  },
  {
   "cell_type": "code",
   "execution_count": 39,
   "metadata": {
    "collapsed": false
   },
   "outputs": [
    {
     "name": "stdout",
     "output_type": "stream",
     "text": [
      "0  and  1  are correlated\n",
      "1  and  2  are correlated\n",
      "2  and  6  are correlated\n",
      "3  and  5  are correlated\n",
      "6  and  7  are correlated\n",
      "7  and  8  are correlated\n",
      "8  and  9  are correlated\n",
      "9  and  10  are correlated\n",
      "10  and  11  are correlated\n",
      "15  and  17  are correlated\n",
      "16  and  17  are correlated\n",
      "18  and  19  are correlated\n",
      "20  and  21  are correlated\n",
      "25  and  26  are correlated\n",
      "26  and  27  are correlated\n"
     ]
    }
   ],
   "source": [
    "cutoff_limit = 0.75\n",
    "correlated_features = set()\n",
    "for i in range(0,len(corr.columns)):\n",
    "    for j in range(i+1,len(corr.columns)):\n",
    "        if corr.iloc[i,j] >= cutoff_limit or corr.iloc[i,j] <= -cutoff_limit:\n",
    "            correlated_features.add(corr.iloc[i,0])\n",
    "            print i, \" and \", j, \" are correlated\"\n",
    "            break"
   ]
  },
  {
   "cell_type": "markdown",
   "metadata": {},
   "source": [
    "## Remove 2, 6, 8, 10, 17, 19, 21, 26"
   ]
  },
  {
   "cell_type": "code",
   "execution_count": null,
   "metadata": {
    "collapsed": true
   },
   "outputs": [],
   "source": []
  }
 ],
 "metadata": {
  "kernelspec": {
   "display_name": "Python [conda root]",
   "language": "python",
   "name": "conda-root-py"
  },
  "language_info": {
   "codemirror_mode": {
    "name": "ipython",
    "version": 2
   },
   "file_extension": ".py",
   "mimetype": "text/x-python",
   "name": "python",
   "nbconvert_exporter": "python",
   "pygments_lexer": "ipython2",
   "version": "2.7.12"
  }
 },
 "nbformat": 4,
 "nbformat_minor": 1
}
