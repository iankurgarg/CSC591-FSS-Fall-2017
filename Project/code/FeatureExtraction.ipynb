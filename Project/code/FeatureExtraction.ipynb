{
 "cells": [
  {
   "cell_type": "markdown",
   "metadata": {},
   "source": [
    "Import libraries required"
   ]
  },
  {
   "cell_type": "code",
   "execution_count": 8,
   "metadata": {
    "collapsed": true
   },
   "outputs": [],
   "source": [
    "import pandas as pd\n",
    "import numpy as np\n",
    "from datetime import datetime, timedelta\n",
    "from time import time\n",
    "from sklearn.model_selection import train_test_split"
   ]
  },
  {
   "cell_type": "markdown",
   "metadata": {},
   "source": [
    "## Read data in"
   ]
  },
  {
   "cell_type": "code",
   "execution_count": 2,
   "metadata": {
    "collapsed": true
   },
   "outputs": [],
   "source": [
    "df = pd.read_csv('../data/total_fixed.csv', parse_dates=['Changed', 'Opened'])\n",
    "cols = df.columns"
   ]
  },
  {
   "cell_type": "markdown",
   "metadata": {},
   "source": [
    "### Train / Test Split - 80:20"
   ]
  },
  {
   "cell_type": "code",
   "execution_count": 45,
   "metadata": {
    "collapsed": false
   },
   "outputs": [],
   "source": [
    "X_train, X_test, y_train, y_test = train_test_split(df.drop('Priority', axis=1), df.Priority, test_size=0.20, random_state=42, stratify=df.Priority)"
   ]
  },
  {
   "cell_type": "code",
   "execution_count": 51,
   "metadata": {
    "collapsed": false
   },
   "outputs": [
    {
     "name": "stdout",
     "output_type": "stream",
     "text": [
      "(83044, 13)\n",
      "(20761, 13)\n"
     ]
    }
   ],
   "source": [
    "X_train['Priority'] = y_train\n",
    "X_test['Priority'] = y_test\n",
    "\n",
    "print X_train.shape\n",
    "print X_test.shape"
   ]
  },
  {
   "cell_type": "code",
   "execution_count": 53,
   "metadata": {
    "collapsed": true
   },
   "outputs": [],
   "source": [
    "# Save Splitted data to disk\n",
    "X_train.to_csv('../data/train.csv', index=False)\n",
    "X_test.to_csv('../data/test.csv', index=False)"
   ]
  },
  {
   "cell_type": "code",
   "execution_count": 56,
   "metadata": {
    "collapsed": false
   },
   "outputs": [],
   "source": [
    "data = X_train\n",
    "n_rows = len(data)\n",
    "n_cols = len(cols)\n",
    "bugIDs = data['Bug ID']\n",
    "# print data.head()\n",
    "# print bugIDs.head()"
   ]
  },
  {
   "cell_type": "markdown",
   "metadata": {},
   "source": [
    "### Read in train and test data separately"
   ]
  },
  {
   "cell_type": "code",
   "execution_count": 3,
   "metadata": {
    "collapsed": true
   },
   "outputs": [],
   "source": [
    "data= pd.read_csv('../data/train.csv', parse_dates=['Changed', 'Opened'])\n",
    "X_test = pd.read_csv('../data/test.csv', parse_dates=['Changed', 'Opened'])"
   ]
  },
  {
   "cell_type": "code",
   "execution_count": 4,
   "metadata": {
    "collapsed": false
   },
   "outputs": [
    {
     "name": "stdout",
     "output_type": "stream",
     "text": [
      "(103805, 13)\n",
      "(83044, 13)\n",
      "(20761, 13)\n"
     ]
    }
   ],
   "source": [
    "print df.shape\n",
    "print data.shape\n",
    "print X_test.shape"
   ]
  },
  {
   "cell_type": "code",
   "execution_count": 5,
   "metadata": {
    "collapsed": false
   },
   "outputs": [
    {
     "name": "stdout",
     "output_type": "stream",
     "text": [
      "0   2004-06-02 14:34:00\n",
      "1   2002-04-30 10:39:00\n",
      "2   2004-04-22 11:32:00\n",
      "3   2006-05-20 06:05:00\n",
      "4   2004-07-15 11:40:00\n",
      "Name: Changed, dtype: datetime64[ns]\n",
      "set(['major', 'normal', 'blocker', 'critical', 'enhancement', 'trivial', 'minor'])\n"
     ]
    }
   ],
   "source": [
    "print data['Changed'].head()\n",
    "print set(data['Severity'])\n",
    "\n",
    "severity_levels = {'enhancement': 0, 'trivial' : 1, 'minor' : 2, 'normal' : 3, 'major' : 4, 'critical' : 5, 'blocker' : 6}"
   ]
  },
  {
   "cell_type": "code",
   "execution_count": 6,
   "metadata": {
    "collapsed": false
   },
   "outputs": [
    {
     "name": "stdout",
     "output_type": "stream",
     "text": [
      "set(['P2', 'P3', 'P1', 'P4', 'P5'])\n"
     ]
    }
   ],
   "source": [
    "print set(data['Priority'])"
   ]
  },
  {
   "cell_type": "code",
   "execution_count": 19,
   "metadata": {
    "collapsed": false
   },
   "outputs": [
    {
     "name": "stdout",
     "output_type": "stream",
     "text": [
      "0   2004-06-02 14:34:00\n",
      "1   2002-04-30 10:39:00\n",
      "2   2004-04-22 11:32:00\n",
      "3   2006-05-20 06:05:00\n",
      "4   2004-07-15 11:40:00\n",
      "Name: Changed, dtype: datetime64[ns]\n",
      "set(['major', 'normal', 'blocker', 'critical', 'enhancement', 'trivial', 'minor'])\n"
     ]
    }
   ],
   "source": [
    "print data['Changed'].head()\n",
    "print set(data['Severity'])\n",
    "\n",
    "severity_levels = {'enhancement': 0, 'trivial' : 1, 'minor' : 2, 'normal' : 3, 'major' : 4, 'critical' : 5, 'blocker' : 6}\n",
    "np_opened = np.array(data['Opened'])\n",
    "np_opened = np_opened.reshape(len(np_opened), 1)\n",
    "# severity_levels = ['enhancement', 'trivial', 'minor', 'normal', 'major', 'critical', 'blocker']"
   ]
  },
  {
   "cell_type": "markdown",
   "metadata": {},
   "source": [
    "### Temporal Feature Generation - TMP1 to 12."
   ]
  },
  {
   "cell_type": "code",
   "execution_count": 59,
   "metadata": {
    "collapsed": false
   },
   "outputs": [],
   "source": [
    "temporal_dict = {}\n",
    "\n",
    "# Generates temporal dict which is used to generate temporal functions\n",
    "# This should be based only on training data\n",
    "for i in range(len(data)):\n",
    "    row = data.iloc[i]\n",
    "    t = (row['Opened'].date() - datetime(1970,1,1).date()).days\n",
    "    s = row['Severity']\n",
    "    if (t not in temporal_dict):\n",
    "        temporal_dict[t] = {}\n",
    "    if (s not in temporal_dict[t]):\n",
    "        temporal_dict[t][s] = 0\n",
    "    temporal_dict[t][s] += 1\n",
    "\n",
    "    "
   ]
  },
  {
   "cell_type": "code",
   "execution_count": 60,
   "metadata": {
    "collapsed": false
   },
   "outputs": [
    {
     "name": "stdout",
     "output_type": "stream",
     "text": [
      "2248\n"
     ]
    }
   ],
   "source": [
    "print len(temporal_dict)\n",
    "\n",
    "# Function for generating temporal features (Fast version)\n",
    "def temporal_feature1(x, n):\n",
    "    d = (x['Opened'].date() - datetime(1970,1,1).date()).days\n",
    "    total = 0\n",
    "    for t in range(d-n, d+1):\n",
    "        if t in temporal_dict:\n",
    "            total += sum(temporal_dict[t].values())\n",
    "    return total\n",
    "\n",
    "def temporal_feature2(x, n):\n",
    "    d = (x['Opened'].date() - datetime(1970,1,1).date()).days\n",
    "    s = x['Severity']\n",
    "    total = 0\n",
    "    for t in range(d-n, d+1):\n",
    "        if t in temporal_dict:\n",
    "            if s in temporal_dict[t]:\n",
    "                total += (temporal_dict[t][s])\n",
    "    return total\n",
    "\n",
    "def temporal_feature3(x, n):\n",
    "    d = (x['Opened'].date() - datetime(1970,1,1).date()).days\n",
    "    sev = x['Severity']\n",
    "    ind = severity_levels.index(sev)\n",
    "    greater_s = severity_levels[ind:]\n",
    "    total = 0\n",
    "    for t in range(d-n, d+1):\n",
    "        if t in temporal_dict:\n",
    "            for s in greater_s:\n",
    "                if s in temporal_dict[t]:\n",
    "                    total += (temporal_dict[t][s])\n",
    "    return total\n",
    "    "
   ]
  },
  {
   "cell_type": "code",
   "execution_count": 61,
   "metadata": {
    "collapsed": false
   },
   "outputs": [
    {
     "name": "stdout",
     "output_type": "stream",
     "text": [
      "823\n",
      "Time taken =  0.000661849975586\n"
     ]
    }
   ],
   "source": [
    "start = time()\n",
    "print temporal_feature1(data.iloc[0], 7)\n",
    "end = time() - start\n",
    "print \"Time taken = \", end"
   ]
  },
  {
   "cell_type": "code",
   "execution_count": 64,
   "metadata": {
    "collapsed": true
   },
   "outputs": [],
   "source": [
    "def generate_temporal_features(data2):\n",
    "    TMP1 = data2.apply(lambda x: temporal_feature1(x, 7), axis=1)\n",
    "    TMP2 = data2.apply(lambda x: temporal_feature2(x, 7), axis=1)\n",
    "    TMP3 = data2.apply(lambda x: temporal_feature3(x, 7), axis=1)\n",
    "    TMP4 = data2.apply(lambda x: temporal_feature1(x, 30), axis=1)\n",
    "    TMP5 = data2.apply(lambda x: temporal_feature2(x, 30), axis=1)\n",
    "    TMP6 = data2.apply(lambda x: temporal_feature3(x, 30), axis=1)\n",
    "    TMP7 = data2.apply(lambda x: temporal_feature1(x, 1), axis=1)\n",
    "    TMP8 = data2.apply(lambda x: temporal_feature2(x, 1), axis=1)\n",
    "    TMP9 = data2.apply(lambda x: temporal_feature3(x, 1), axis=1)\n",
    "    TMP10 = data2.apply(lambda x: temporal_feature1(x, 3), axis=1)\n",
    "    TMP11 = data2.apply(lambda x: temporal_feature2(x, 3), axis=1)\n",
    "    TMP12 = data2.apply(lambda x: temporal_feature3(x, 3), axis=1)\n",
    "    temporal_cols = ['TMP1', 'TMP2', 'TMP3', 'TMP4', 'TMP5', 'TMP6', 'TMP7', 'TMP8', 'TMP9', 'TMP10', 'TMP11', 'TMP12']\n",
    "    temporal_features = [TMP1, TMP2, TMP3, TMP4, TMP5, TMP6, TMP7, TMP8, TMP9, TMP10, TMP11, TMP12]\n",
    "\n",
    "    temporal_data = pd.concat(temporal_features, axis=1)\n",
    "    temporal_data.columns = temporal_cols\n",
    "    return temporal_data"
   ]
  },
  {
   "cell_type": "markdown",
   "metadata": {},
   "source": [
    "#### The function above uses the tempral_feature functions and temporal_dict (created using training data) to generate features by using DataFrame.apply function. The lines below use this function to generate these features for both training and test dataset. "
   ]
  },
  {
   "cell_type": "code",
   "execution_count": 65,
   "metadata": {
    "collapsed": false
   },
   "outputs": [],
   "source": [
    "temporal_train_data = generate_temporal_features(data)"
   ]
  },
  {
   "cell_type": "markdown",
   "metadata": {},
   "source": [
    "<b> Do this again for test data </b>"
   ]
  },
  {
   "cell_type": "code",
   "execution_count": 66,
   "metadata": {
    "collapsed": true
   },
   "outputs": [],
   "source": [
    "temoral_test_data = generate_temporal_features(X_test)"
   ]
  },
  {
   "cell_type": "code",
   "execution_count": 67,
   "metadata": {
    "collapsed": false
   },
   "outputs": [
    {
     "name": "stdout",
     "output_type": "stream",
     "text": [
      "(83044, 12)\n",
      "(20761, 12)\n"
     ]
    }
   ],
   "source": [
    "print temporal_train_data.shape\n",
    "print temoral_test_data.shape"
   ]
  },
  {
   "cell_type": "code",
   "execution_count": 69,
   "metadata": {
    "collapsed": false
   },
   "outputs": [],
   "source": [
    "# Concatenating temporal data features with existing data\n",
    "train_data_with_temporal = pd.concat([data, temporal_train_data], axis=1)\n",
    "test_data_with_temporal = pd.concat([X_test, temoral_test_data], axis=1)"
   ]
  },
  {
   "cell_type": "code",
   "execution_count": 70,
   "metadata": {
    "collapsed": true
   },
   "outputs": [],
   "source": [
    "# Save data with temporal features\n",
    "train_data_with_temporal.to_csv('../data/train_data_with_temporal.csv', index=False)\n",
    "test_data_with_temporal.to_csv('../data/test_data_with_temporal.csv', index=False)"
   ]
  },
  {
   "cell_type": "markdown",
   "metadata": {},
   "source": [
    "### Author Realted Feature Generation"
   ]
  },
  {
   "cell_type": "code",
   "execution_count": 73,
   "metadata": {
    "collapsed": false
   },
   "outputs": [
    {
     "name": "stdout",
     "output_type": "stream",
     "text": [
      "296\n"
     ]
    }
   ],
   "source": [
    "print len(set(data['Assignee']))"
   ]
  },
  {
   "cell_type": "code",
   "execution_count": 76,
   "metadata": {
    "collapsed": false
   },
   "outputs": [
    {
     "name": "stdout",
     "output_type": "stream",
     "text": [
      "(83044, 13)\n"
     ]
    }
   ],
   "source": [
    "print data.shape"
   ]
  },
  {
   "cell_type": "code",
   "execution_count": 9,
   "metadata": {
    "collapsed": false
   },
   "outputs": [],
   "source": [
    "author_dict = {}\n",
    "\n",
    "# Generates temporal dict which is used to generate temporal functions\n",
    "for i in range(len(data)):\n",
    "    row = data.iloc[i]\n",
    "    t = (row['Opened'].date() - datetime(1970,1,1).date()).days\n",
    "    a = row['Assignee']\n",
    "    p = row['Priority']\n",
    "    if (a not in author_dict):\n",
    "        author_dict[a] = {}\n",
    "    if (p not in author_dict[a]):\n",
    "        author_dict[a][p] = {}\n",
    "    if (t not in author_dict[a][p]):\n",
    "        author_dict[a][p][t] = 0\n",
    "    author_dict[a][p][t] += 1"
   ]
  },
  {
   "cell_type": "code",
   "execution_count": 20,
   "metadata": {
    "collapsed": true
   },
   "outputs": [],
   "source": [
    "priority_levels = {'P1': 1, 'P2': 2, 'P3': 3, 'P4': 4, 'P5': 5}"
   ]
  },
  {
   "cell_type": "code",
   "execution_count": 55,
   "metadata": {
    "collapsed": false
   },
   "outputs": [
    {
     "name": "stdout",
     "output_type": "stream",
     "text": [
      "296\n"
     ]
    }
   ],
   "source": [
    "print len(author_dict)\n",
    "import math\n",
    "\n",
    "# Function for generating temporal features (Fast version)\n",
    "def author_feature1(x):\n",
    "    d = (x['Opened'].date() - datetime(1970,1,1).date()).days\n",
    "    a = x['Assignee']\n",
    "    total = 0\n",
    "    if a in author_dict:\n",
    "        sub_data = author_dict[a]\n",
    "    else:\n",
    "        return 5\n",
    "    \n",
    "    pcount = {}\n",
    "    \n",
    "    for p in sub_data:\n",
    "        s = 0\n",
    "        for k in sub_data[p]:\n",
    "            if k <= d:\n",
    "                s += sub_data[p][k]\n",
    "        \n",
    "        pcount[p] = s\n",
    "    \n",
    "    N = 0;\n",
    "    S = 0.0;\n",
    "    for p in pcount:\n",
    "        N += pcount[p]\n",
    "        S += priority_levels[p]*pcount[p]\n",
    "    \n",
    "    if (N == 0):\n",
    "        return 5\n",
    "    return int(math.ceil(S/N))\n",
    "\n",
    "def author_feature2(x):\n",
    "    d = (x['Opened'].date() - datetime(1970,1,1).date()).days\n",
    "    a = x['Assignee']\n",
    "    total = 0\n",
    "    if a in author_dict:\n",
    "        sub_data = author_dict[a]\n",
    "    else:\n",
    "        return 5\n",
    "    \n",
    "    pcount = {}\n",
    "    \n",
    "    for p in sub_data:\n",
    "        s = 0\n",
    "        for k in sub_data[p]:\n",
    "            if k <= d:\n",
    "                s += sub_data[p][k]\n",
    "        \n",
    "        pcount[p] = s\n",
    "    \n",
    "    plist = []\n",
    "    for p in pcount:\n",
    "        plist += [priority_levels[p]]*pcount[p]\n",
    "\n",
    "    med = np.median(plist)\n",
    "    if np.isnan(med):\n",
    "        return 5\n",
    "    return int(med)\n",
    "\n",
    "def author_feature3(x):\n",
    "    d = (x['Opened'].date() - datetime(1970,1,1).date()).days\n",
    "    a = x['Assignee']\n",
    "    total = 0\n",
    "    if a in author_dict:\n",
    "        sub_data = author_dict[a]\n",
    "    else:\n",
    "        return 5\n",
    "    \n",
    "    pcount = 0\n",
    "    \n",
    "    for p in sub_data:\n",
    "        s = 0\n",
    "        for k in sub_data[p]:\n",
    "            if k <= d:\n",
    "                s += sub_data[p][k]\n",
    "        \n",
    "        pcount += s\n",
    "        \n",
    "    return pcount"
   ]
  },
  {
   "cell_type": "code",
   "execution_count": null,
   "metadata": {
    "collapsed": false
   },
   "outputs": [],
   "source": [
    "AUT1 = data.apply(lambda x: author_feature3(x), axis=1)\n",
    "print AUT1.head()"
   ]
  },
  {
   "cell_type": "code",
   "execution_count": 35,
   "metadata": {
    "collapsed": false
   },
   "outputs": [
    {
     "name": "stdout",
     "output_type": "stream",
     "text": [
      "715\n"
     ]
    }
   ],
   "source": [
    "print author_feature3(data.iloc[0])"
   ]
  },
  {
   "cell_type": "code",
   "execution_count": 38,
   "metadata": {
    "collapsed": true
   },
   "outputs": [],
   "source": [
    "def generate_author_features(data2):\n",
    "    AUT1 = data2.apply(lambda x: author_feature1(x), axis=1)\n",
    "    AUT2 = data2.apply(lambda x: author_feature2(x), axis=1)\n",
    "    AUT3 = data2.apply(lambda x: author_feature3(x), axis=1)\n",
    "    author_cols = ['AUT1', 'AUT2', 'AUT3']\n",
    "    author_features = [AUT1, AUT2, AUT3]\n",
    "\n",
    "    author_data = pd.concat(author_features, axis=1)\n",
    "    author_data.columns = author_cols\n",
    "    return author_data"
   ]
  },
  {
   "cell_type": "code",
   "execution_count": 52,
   "metadata": {
    "collapsed": false
   },
   "outputs": [],
   "source": [
    "author_train_data = generate_author_features(data)"
   ]
  },
  {
   "cell_type": "code",
   "execution_count": 56,
   "metadata": {
    "collapsed": false
   },
   "outputs": [],
   "source": [
    "author_test_data = generate_author_features(X_test)"
   ]
  },
  {
   "cell_type": "code",
   "execution_count": 57,
   "metadata": {
    "collapsed": false
   },
   "outputs": [
    {
     "name": "stdout",
     "output_type": "stream",
     "text": [
      "   AUT1  AUT2  AUT3\n",
      "0     3     3   715\n",
      "1     3     2   126\n",
      "2     4     3   255\n",
      "3     4     3  2039\n",
      "4     4     3   154\n",
      "   AUT1  AUT2  AUT3\n",
      "0     3     3  1036\n",
      "1     3     3    99\n",
      "2     4     3  1262\n",
      "3     4     3  1584\n",
      "4     3     3  1555\n"
     ]
    }
   ],
   "source": [
    "print author_train_data.head()\n",
    "print author_test_data.head()"
   ]
  },
  {
   "cell_type": "code",
   "execution_count": 58,
   "metadata": {
    "collapsed": true
   },
   "outputs": [],
   "source": [
    "# Save data with temporal features\n",
    "author_train_data.to_csv('../data/train_author_features.csv', index=False)\n",
    "author_test_data.to_csv('../data/test_author_features.csv', index=False)"
   ]
  },
  {
   "cell_type": "markdown",
   "metadata": {},
   "source": [
    "## Product Features\n",
    "\n",
    "- This has a total of 22 features.\n",
    "- 11 are for 'Product' Feature and 11 are for 'Component' Feature"
   ]
  },
  {
   "cell_type": "code",
   "execution_count": 15,
   "metadata": {
    "collapsed": false
   },
   "outputs": [],
   "source": [
    "product_dict = {}\n",
    "\n",
    "# Generates temporal dict which is used to generate temporal functions\n",
    "for i in range(len(data)):\n",
    "    row = data.iloc[i]\n",
    "    t = (row['Opened'].date() - datetime(1970,1,1).date()).days\n",
    "    p = row['Component'] # or Product\n",
    "    s = row['Severity']\n",
    "    \n",
    "    if p not in product_dict:\n",
    "        product_dict[p] = {}\n",
    "    if s not in product_dict[p]:\n",
    "        product_dict[p][s] = {}\n",
    "    if t not in product_dict[p][s]:\n",
    "        product_dict[p][s][t] = 0\n",
    "    product_dict[p][s][t] += 1\n",
    "    "
   ]
  },
  {
   "cell_type": "code",
   "execution_count": 16,
   "metadata": {
    "collapsed": false
   },
   "outputs": [],
   "source": [
    "product_dict_priority = {}\n",
    "for i in range(len(data)):\n",
    "    row = data.iloc[i]\n",
    "    t = (row['Opened'].date() - datetime(1970,1,1).date()).days\n",
    "    p = row['Component'] # or Product\n",
    "    s = row['Priority']\n",
    "    \n",
    "    if p not in product_dict_priority:\n",
    "        product_dict_priority[p] = {}\n",
    "    if s not in product_dict_priority[p]:\n",
    "        product_dict_priority[p][s] = {}\n",
    "    if t not in product_dict_priority[p][s]:\n",
    "        product_dict_priority[p][s][t] = 0\n",
    "    product_dict_priority[p][s][t] += 1"
   ]
  },
  {
   "cell_type": "code",
   "execution_count": 36,
   "metadata": {
    "collapsed": false
   },
   "outputs": [
    {
     "name": "stdout",
     "output_type": "stream",
     "text": [
      "27\n"
     ]
    }
   ],
   "source": [
    "print len(product_dict)\n",
    "import math\n",
    "\n",
    "# Function for generating product features\n",
    "\n",
    "def product_feature1(x, f='Product'):\n",
    "    return x[f]\n",
    "\n",
    "def product_feature2(x, f='Product'):\n",
    "    d = (x['Opened'].date() - datetime(1970,1,1).date()).days\n",
    "    p = x[f]\n",
    "    sev = x['Severity']\n",
    "    sub_data = product_dict[p]\n",
    "    \n",
    "    total = 0\n",
    "    for s in sub_data:\n",
    "        for t in sub_data[s]:\n",
    "            if (t <= d):\n",
    "                total += sub_data[s][t]\n",
    "    return total\n",
    "\n",
    "def product_feature3(x, f):\n",
    "    d = (x['Opened'].date() - datetime(1970,1,1).date()).days\n",
    "    p = x[f]\n",
    "    sev = x['Severity']\n",
    "    sub_data = product_dict[p]\n",
    "    \n",
    "    total = 0\n",
    "    if sev in sub_data:\n",
    "        for t in sub_data[sev]:\n",
    "            if (t <= d):\n",
    "                total += sub_data[sev][t]\n",
    "    return total\n",
    "\n",
    "def product_feature4(x, f):\n",
    "    d = (x['Opened'].date() - datetime(1970,1,1).date()).days\n",
    "    p = x[f]\n",
    "    sev = x['Severity']\n",
    "    sub_data = product_dict[p]\n",
    "    \n",
    "    total = 0\n",
    "    for s in sub_data:\n",
    "        if (severity_levels[s] >= severity_levels[sev]):\n",
    "            for t in sub_data[s]:\n",
    "                if (t <= d):\n",
    "                    total += sub_data[s][t]\n",
    "    return total\n",
    "\n",
    "def product_feature5to9(x, f, P):\n",
    "    d = (x['Opened'].date() - datetime(1970,1,1).date()).days\n",
    "    prod = x[f]\n",
    "    sev = x['Priority']\n",
    "    sub_data = product_dict_priority[prod]\n",
    "\n",
    "    total = 0\n",
    "    N = 0\n",
    "    if P in sub_data:\n",
    "        for t in sub_data[P]:\n",
    "            if (t <= d):\n",
    "                total += sub_data[P][t]\n",
    "    for P in sub_data:\n",
    "        for t in sub_data[P]:\n",
    "            if (t <= d):\n",
    "                N += sub_data[P][t]\n",
    "    \n",
    "    if N == 0:\n",
    "        return 0.0\n",
    "    return float(total)/N\n",
    "\n",
    "def product_feature11(x, f):\n",
    "    d = (x['Opened'].date() - datetime(1970,1,1).date()).days\n",
    "    p = x[f]\n",
    "    total = 0\n",
    "    if p in product_dict_priority:\n",
    "        sub_data = product_dict_priority[p]\n",
    "    else:\n",
    "        return 5\n",
    "    \n",
    "    pcount = {}\n",
    "    \n",
    "    for p in sub_data:\n",
    "        s = 0\n",
    "        for k in sub_data[p]:\n",
    "            if k <= d:\n",
    "                s += sub_data[p][k]\n",
    "        \n",
    "        pcount[p] = s\n",
    "    \n",
    "    plist = []\n",
    "    for p in pcount:\n",
    "        plist += [priority_levels[p]]*pcount[p]\n",
    "\n",
    "    med = np.median(plist)\n",
    "    if np.isnan(med):\n",
    "        return 5\n",
    "    return int(med)\n",
    "\n",
    "def product_feature10(x, f):\n",
    "    d = (x['Opened'].date() - datetime(1970,1,1).date()).days\n",
    "    a = x[f]\n",
    "    total = 0\n",
    "    if a in product_dict_priority:\n",
    "        sub_data = product_dict_priority[a]\n",
    "    else:\n",
    "        return 5\n",
    "    \n",
    "    pcount = {}\n",
    "    \n",
    "    for p in sub_data:\n",
    "        s = 0\n",
    "        for k in sub_data[p]:\n",
    "            if k <= d:\n",
    "                s += sub_data[p][k]\n",
    "        \n",
    "        pcount[p] = s\n",
    "    \n",
    "    N = 0;\n",
    "    S = 0.0;\n",
    "    for p in pcount:\n",
    "        N += pcount[p]\n",
    "        S += priority_levels[p]*pcount[p]\n",
    "    \n",
    "    if (N == 0):\n",
    "        return 5\n",
    "    return int(math.ceil(S/N))"
   ]
  },
  {
   "cell_type": "code",
   "execution_count": 69,
   "metadata": {
    "collapsed": false
   },
   "outputs": [],
   "source": [
    "PRO2 = data.apply(lambda x: product_feature2(x, 'Product'), axis=1)"
   ]
  },
  {
   "cell_type": "code",
   "execution_count": 89,
   "metadata": {
    "collapsed": false
   },
   "outputs": [
    {
     "data": {
      "text/plain": [
       "0    24034\n",
       "1     5329\n",
       "2    22457\n",
       "3    21441\n",
       "4    26242\n",
       "dtype: int64"
      ]
     },
     "execution_count": 89,
     "metadata": {},
     "output_type": "execute_result"
    }
   ],
   "source": [
    "PRO2.head()"
   ]
  },
  {
   "cell_type": "code",
   "execution_count": 13,
   "metadata": {
    "collapsed": true
   },
   "outputs": [],
   "source": [
    "def generate_product_features1(data2, f):\n",
    "    product_features= []\n",
    "    PRO1 = data2.apply(lambda x: product_feature1(x, f), axis=1)\n",
    "    product_features.append(PRO1)\n",
    "    PRO2 = data2.apply(lambda x: product_feature2(x, f), axis=1)\n",
    "    product_features.append(PRO2)\n",
    "    PRO3 = data2.apply(lambda x: product_feature3(x, f), axis=1)\n",
    "    product_features.append(PRO3)\n",
    "    PRO4 = data2.apply(lambda x: product_feature4(x, f), axis=1)\n",
    "    product_features.append(PRO4)\n",
    "    PRO5 = data2.apply(lambda x: product_feature5to9(x, f, 'P1'), axis=1)\n",
    "    product_features.append(PRO5)\n",
    "    \n",
    "    product_cols = ['PRO1', 'PRO2', 'PRO3', 'PRO4', 'PRO5']\n",
    "\n",
    "    product_data = pd.concat(product_features, axis=1)\n",
    "    product_data.columns = product_cols\n",
    "    return product_data\n",
    "\n",
    "\n",
    "def generate_product_features2(data2, f):\n",
    "    product_features= []\n",
    "    PRO6 = data2.apply(lambda x: product_feature5to9(x, f, 'P2'), axis=1)\n",
    "    product_features.append(PRO6)\n",
    "    PRO7 = data2.apply(lambda x: product_feature5to9(x, f, 'P3'), axis=1)\n",
    "    product_features.append(PRO7)\n",
    "    PRO8 = data2.apply(lambda x: product_feature5to9(x, f, 'P4'), axis=1)\n",
    "    product_features.append(PRO8)\n",
    "    PRO9 = data2.apply(lambda x: product_feature5to9(x, f, 'P5'), axis=1)\n",
    "    product_features.append(PRO9)\n",
    "    PRO10 = data2.apply(lambda x: product_feature10(x, f), axis=1)\n",
    "    product_features.append(PRO10)\n",
    "    PRO11 = data2.apply(lambda x: product_feature11(x, f), axis=1)\n",
    "    product_features.append(PRO11)\n",
    "    \n",
    "    product_cols = ['PRO6', 'PRO7', 'PRO8', 'PRO9', 'PRO10', 'PRO11']\n",
    "\n",
    "    product_data = pd.concat(product_features, axis=1)\n",
    "    product_data.columns = product_cols\n",
    "    return product_data"
   ]
  },
  {
   "cell_type": "markdown",
   "metadata": {},
   "source": [
    "### Generating Product related features for Train Data"
   ]
  },
  {
   "cell_type": "code",
   "execution_count": 78,
   "metadata": {
    "collapsed": false
   },
   "outputs": [],
   "source": [
    "prod1 = generate_product_features1(data, 'Product')"
   ]
  },
  {
   "cell_type": "code",
   "execution_count": 90,
   "metadata": {
    "collapsed": false
   },
   "outputs": [
    {
     "data": {
      "text/html": [
       "<div>\n",
       "<table border=\"1\" class=\"dataframe\">\n",
       "  <thead>\n",
       "    <tr style=\"text-align: right;\">\n",
       "      <th></th>\n",
       "      <th>PRO1</th>\n",
       "      <th>PRO2</th>\n",
       "      <th>PRO3</th>\n",
       "      <th>PRO4</th>\n",
       "      <th>PRO5</th>\n",
       "    </tr>\n",
       "  </thead>\n",
       "  <tbody>\n",
       "    <tr>\n",
       "      <th>0</th>\n",
       "      <td>Platform</td>\n",
       "      <td>24034</td>\n",
       "      <td>16103</td>\n",
       "      <td>19852</td>\n",
       "      <td>0</td>\n",
       "    </tr>\n",
       "    <tr>\n",
       "      <th>1</th>\n",
       "      <td>Platform</td>\n",
       "      <td>5329</td>\n",
       "      <td>3984</td>\n",
       "      <td>4415</td>\n",
       "      <td>0</td>\n",
       "    </tr>\n",
       "    <tr>\n",
       "      <th>2</th>\n",
       "      <td>Platform</td>\n",
       "      <td>22457</td>\n",
       "      <td>3118</td>\n",
       "      <td>22457</td>\n",
       "      <td>0</td>\n",
       "    </tr>\n",
       "    <tr>\n",
       "      <th>3</th>\n",
       "      <td>JDT</td>\n",
       "      <td>21441</td>\n",
       "      <td>14871</td>\n",
       "      <td>17275</td>\n",
       "      <td>0</td>\n",
       "    </tr>\n",
       "    <tr>\n",
       "      <th>4</th>\n",
       "      <td>Platform</td>\n",
       "      <td>26242</td>\n",
       "      <td>17591</td>\n",
       "      <td>21728</td>\n",
       "      <td>0</td>\n",
       "    </tr>\n",
       "  </tbody>\n",
       "</table>\n",
       "</div>"
      ],
      "text/plain": [
       "       PRO1   PRO2   PRO3   PRO4  PRO5\n",
       "0  Platform  24034  16103  19852     0\n",
       "1  Platform   5329   3984   4415     0\n",
       "2  Platform  22457   3118  22457     0\n",
       "3       JDT  21441  14871  17275     0\n",
       "4  Platform  26242  17591  21728     0"
      ]
     },
     "execution_count": 90,
     "metadata": {},
     "output_type": "execute_result"
    }
   ],
   "source": [
    "prod1.head()"
   ]
  },
  {
   "cell_type": "code",
   "execution_count": 91,
   "metadata": {
    "collapsed": false
   },
   "outputs": [
    {
     "name": "stdout",
     "output_type": "stream",
     "text": [
      "Bug ID                                             63706\n",
      "Product                                         Platform\n",
      "Component                                           Team\n",
      "Assignee                             valentam@ca.ibm.com\n",
      "Status                                          RESOLVED\n",
      "Resolution                                     DUPLICATE\n",
      "Summary       Invalid dirty indicator after checking out\n",
      "Changed                              2004-06-02 14:34:00\n",
      "Severity                                          normal\n",
      "Keywords                                             NaN\n",
      "Summary.1     Invalid dirty indicator after checking out\n",
      "Opened                               2004-05-24 11:58:00\n",
      "Priority                                              P3\n",
      "Name: 0, dtype: object\n",
      "0.0552550553383\n"
     ]
    }
   ],
   "source": [
    "print data.iloc[0]\n",
    "print product_feature5to9(data.iloc[0], 'Product', 'P1')"
   ]
  },
  {
   "cell_type": "code",
   "execution_count": 92,
   "metadata": {
    "collapsed": false
   },
   "outputs": [],
   "source": [
    "PRO5 = data.apply(lambda x: product_feature5to9(x, 'Product', 'P1'), axis=1)"
   ]
  },
  {
   "cell_type": "code",
   "execution_count": 93,
   "metadata": {
    "collapsed": true
   },
   "outputs": [],
   "source": [
    "prod1.PRO5 = PRO5"
   ]
  },
  {
   "cell_type": "code",
   "execution_count": 94,
   "metadata": {
    "collapsed": false
   },
   "outputs": [
    {
     "data": {
      "text/html": [
       "<div>\n",
       "<table border=\"1\" class=\"dataframe\">\n",
       "  <thead>\n",
       "    <tr style=\"text-align: right;\">\n",
       "      <th></th>\n",
       "      <th>PRO1</th>\n",
       "      <th>PRO2</th>\n",
       "      <th>PRO3</th>\n",
       "      <th>PRO4</th>\n",
       "      <th>PRO5</th>\n",
       "    </tr>\n",
       "  </thead>\n",
       "  <tbody>\n",
       "    <tr>\n",
       "      <th>0</th>\n",
       "      <td>Platform</td>\n",
       "      <td>24034</td>\n",
       "      <td>16103</td>\n",
       "      <td>19852</td>\n",
       "      <td>0.055255</td>\n",
       "    </tr>\n",
       "    <tr>\n",
       "      <th>1</th>\n",
       "      <td>Platform</td>\n",
       "      <td>5329</td>\n",
       "      <td>3984</td>\n",
       "      <td>4415</td>\n",
       "      <td>0.077876</td>\n",
       "    </tr>\n",
       "    <tr>\n",
       "      <th>2</th>\n",
       "      <td>Platform</td>\n",
       "      <td>22457</td>\n",
       "      <td>3118</td>\n",
       "      <td>22457</td>\n",
       "      <td>0.056775</td>\n",
       "    </tr>\n",
       "    <tr>\n",
       "      <th>3</th>\n",
       "      <td>JDT</td>\n",
       "      <td>21441</td>\n",
       "      <td>14871</td>\n",
       "      <td>17275</td>\n",
       "      <td>0.039084</td>\n",
       "    </tr>\n",
       "    <tr>\n",
       "      <th>4</th>\n",
       "      <td>Platform</td>\n",
       "      <td>26242</td>\n",
       "      <td>17591</td>\n",
       "      <td>21728</td>\n",
       "      <td>0.052473</td>\n",
       "    </tr>\n",
       "  </tbody>\n",
       "</table>\n",
       "</div>"
      ],
      "text/plain": [
       "       PRO1   PRO2   PRO3   PRO4      PRO5\n",
       "0  Platform  24034  16103  19852  0.055255\n",
       "1  Platform   5329   3984   4415  0.077876\n",
       "2  Platform  22457   3118  22457  0.056775\n",
       "3       JDT  21441  14871  17275  0.039084\n",
       "4  Platform  26242  17591  21728  0.052473"
      ]
     },
     "execution_count": 94,
     "metadata": {},
     "output_type": "execute_result"
    }
   ],
   "source": [
    "prod1.head()"
   ]
  },
  {
   "cell_type": "code",
   "execution_count": 97,
   "metadata": {
    "collapsed": false
   },
   "outputs": [],
   "source": [
    "prod2 = generate_product_features2(data, 'Product')"
   ]
  },
  {
   "cell_type": "code",
   "execution_count": 98,
   "metadata": {
    "collapsed": false
   },
   "outputs": [
    {
     "data": {
      "text/html": [
       "<div>\n",
       "<table border=\"1\" class=\"dataframe\">\n",
       "  <thead>\n",
       "    <tr style=\"text-align: right;\">\n",
       "      <th></th>\n",
       "      <th>PRO6</th>\n",
       "      <th>PRO7</th>\n",
       "      <th>PRO8</th>\n",
       "      <th>PRO9</th>\n",
       "      <th>PRO10</th>\n",
       "      <th>PRO11</th>\n",
       "    </tr>\n",
       "  </thead>\n",
       "  <tbody>\n",
       "    <tr>\n",
       "      <th>0</th>\n",
       "      <td>0.105975</td>\n",
       "      <td>0.775235</td>\n",
       "      <td>0.037613</td>\n",
       "      <td>0.025922</td>\n",
       "      <td>3</td>\n",
       "      <td>5</td>\n",
       "    </tr>\n",
       "    <tr>\n",
       "      <th>1</th>\n",
       "      <td>0.102271</td>\n",
       "      <td>0.688122</td>\n",
       "      <td>0.050854</td>\n",
       "      <td>0.080878</td>\n",
       "      <td>3</td>\n",
       "      <td>5</td>\n",
       "    </tr>\n",
       "    <tr>\n",
       "      <th>2</th>\n",
       "      <td>0.105446</td>\n",
       "      <td>0.772187</td>\n",
       "      <td>0.038696</td>\n",
       "      <td>0.026896</td>\n",
       "      <td>3</td>\n",
       "      <td>5</td>\n",
       "    </tr>\n",
       "    <tr>\n",
       "      <th>3</th>\n",
       "      <td>0.097384</td>\n",
       "      <td>0.830745</td>\n",
       "      <td>0.028357</td>\n",
       "      <td>0.004431</td>\n",
       "      <td>3</td>\n",
       "      <td>5</td>\n",
       "    </tr>\n",
       "    <tr>\n",
       "      <th>4</th>\n",
       "      <td>0.103955</td>\n",
       "      <td>0.781876</td>\n",
       "      <td>0.036735</td>\n",
       "      <td>0.024960</td>\n",
       "      <td>3</td>\n",
       "      <td>5</td>\n",
       "    </tr>\n",
       "  </tbody>\n",
       "</table>\n",
       "</div>"
      ],
      "text/plain": [
       "       PRO6      PRO7      PRO8      PRO9  PRO10  PRO11\n",
       "0  0.105975  0.775235  0.037613  0.025922      3      5\n",
       "1  0.102271  0.688122  0.050854  0.080878      3      5\n",
       "2  0.105446  0.772187  0.038696  0.026896      3      5\n",
       "3  0.097384  0.830745  0.028357  0.004431      3      5\n",
       "4  0.103955  0.781876  0.036735  0.024960      3      5"
      ]
     },
     "execution_count": 98,
     "metadata": {},
     "output_type": "execute_result"
    }
   ],
   "source": [
    "prod2.head()"
   ]
  },
  {
   "cell_type": "code",
   "execution_count": 102,
   "metadata": {
    "collapsed": false
   },
   "outputs": [],
   "source": [
    "prod_features = pd.concat([prod1, prod2], axis=1)"
   ]
  },
  {
   "cell_type": "code",
   "execution_count": 104,
   "metadata": {
    "collapsed": false
   },
   "outputs": [],
   "source": [
    "prod_features.to_csv('../data/train_prod_features.csv', index=False)"
   ]
  },
  {
   "cell_type": "markdown",
   "metadata": {},
   "source": [
    "### Generating Product related features for Test Data"
   ]
  },
  {
   "cell_type": "code",
   "execution_count": 105,
   "metadata": {
    "collapsed": true
   },
   "outputs": [],
   "source": [
    "tprod1 = generate_product_features1(X_test, 'Product') "
   ]
  },
  {
   "cell_type": "code",
   "execution_count": 106,
   "metadata": {
    "collapsed": true
   },
   "outputs": [],
   "source": [
    "tprod2 = generate_product_features2(X_test, 'Product') `"
   ]
  },
  {
   "cell_type": "code",
   "execution_count": 107,
   "metadata": {
    "collapsed": false
   },
   "outputs": [
    {
     "data": {
      "text/plain": [
       "(20761, 11)"
      ]
     },
     "execution_count": 107,
     "metadata": {},
     "output_type": "execute_result"
    }
   ],
   "source": [
    "tprod_features = pd.concat([tprod1, tprod2], axis=1)\n",
    "tprod_features.shape"
   ]
  },
  {
   "cell_type": "code",
   "execution_count": 108,
   "metadata": {
    "collapsed": true
   },
   "outputs": [],
   "source": [
    "tprod_features.to_csv('../data/test_prod_features.csv', index=False)"
   ]
  },
  {
   "cell_type": "markdown",
   "metadata": {
    "collapsed": true
   },
   "source": [
    "### Generating component related features for Training Data"
   ]
  },
  {
   "cell_type": "code",
   "execution_count": 21,
   "metadata": {
    "collapsed": false
   },
   "outputs": [],
   "source": [
    "prod3 = generate_product_features1(data, 'Component')"
   ]
  },
  {
   "cell_type": "code",
   "execution_count": 24,
   "metadata": {
    "collapsed": false
   },
   "outputs": [],
   "source": [
    "prod4 = generate_product_features2(data, 'Component')"
   ]
  },
  {
   "cell_type": "code",
   "execution_count": null,
   "metadata": {
    "collapsed": false,
    "scrolled": true
   },
   "outputs": [],
   "source": [
    "prod4.PRO10"
   ]
  },
  {
   "cell_type": "code",
   "execution_count": 39,
   "metadata": {
    "collapsed": false
   },
   "outputs": [],
   "source": [
    "prod_features = pd.concat([prod3, prod4], axis=1)\n",
    "prod_features.shape\n",
    "prod_features.columns = ['PRO12', 'PRO12', 'PRO14', 'PRO15', 'PRO16', 'PRO17', 'PRO18', 'PRO19', 'PRO20', 'PRO21', 'PRO22']"
   ]
  },
  {
   "cell_type": "code",
   "execution_count": 41,
   "metadata": {
    "collapsed": false
   },
   "outputs": [
    {
     "data": {
      "text/html": [
       "<div>\n",
       "<table border=\"1\" class=\"dataframe\">\n",
       "  <thead>\n",
       "    <tr style=\"text-align: right;\">\n",
       "      <th></th>\n",
       "      <th>PRO12</th>\n",
       "      <th>PRO12</th>\n",
       "      <th>PRO14</th>\n",
       "      <th>PRO15</th>\n",
       "      <th>PRO16</th>\n",
       "      <th>PRO17</th>\n",
       "      <th>PRO18</th>\n",
       "      <th>PRO19</th>\n",
       "      <th>PRO20</th>\n",
       "      <th>PRO21</th>\n",
       "      <th>PRO22</th>\n",
       "    </tr>\n",
       "  </thead>\n",
       "  <tbody>\n",
       "    <tr>\n",
       "      <th>0</th>\n",
       "      <td>Team</td>\n",
       "      <td>3411</td>\n",
       "      <td>2612</td>\n",
       "      <td>2928</td>\n",
       "      <td>0.042510</td>\n",
       "      <td>0.045441</td>\n",
       "      <td>0.807681</td>\n",
       "      <td>0.033128</td>\n",
       "      <td>0.071240</td>\n",
       "      <td>4</td>\n",
       "      <td>3</td>\n",
       "    </tr>\n",
       "    <tr>\n",
       "      <th>1</th>\n",
       "      <td>Debug</td>\n",
       "      <td>1247</td>\n",
       "      <td>947</td>\n",
       "      <td>1081</td>\n",
       "      <td>0.276664</td>\n",
       "      <td>0.198877</td>\n",
       "      <td>0.510826</td>\n",
       "      <td>0.012831</td>\n",
       "      <td>0.000802</td>\n",
       "      <td>3</td>\n",
       "      <td>3</td>\n",
       "    </tr>\n",
       "    <tr>\n",
       "      <th>2</th>\n",
       "      <td>Debug</td>\n",
       "      <td>3963</td>\n",
       "      <td>560</td>\n",
       "      <td>3963</td>\n",
       "      <td>0.107494</td>\n",
       "      <td>0.150391</td>\n",
       "      <td>0.725965</td>\n",
       "      <td>0.015140</td>\n",
       "      <td>0.001009</td>\n",
       "      <td>3</td>\n",
       "      <td>3</td>\n",
       "    </tr>\n",
       "    <tr>\n",
       "      <th>3</th>\n",
       "      <td>UI</td>\n",
       "      <td>23377</td>\n",
       "      <td>15564</td>\n",
       "      <td>18723</td>\n",
       "      <td>0.046584</td>\n",
       "      <td>0.116696</td>\n",
       "      <td>0.773196</td>\n",
       "      <td>0.049536</td>\n",
       "      <td>0.013988</td>\n",
       "      <td>3</td>\n",
       "      <td>3</td>\n",
       "    </tr>\n",
       "    <tr>\n",
       "      <th>4</th>\n",
       "      <td>User Assistance</td>\n",
       "      <td>818</td>\n",
       "      <td>577</td>\n",
       "      <td>686</td>\n",
       "      <td>0.026895</td>\n",
       "      <td>0.074572</td>\n",
       "      <td>0.845966</td>\n",
       "      <td>0.048900</td>\n",
       "      <td>0.003667</td>\n",
       "      <td>3</td>\n",
       "      <td>3</td>\n",
       "    </tr>\n",
       "  </tbody>\n",
       "</table>\n",
       "</div>"
      ],
      "text/plain": [
       "             PRO12  PRO12  PRO14  PRO15     PRO16     PRO17     PRO18  \\\n",
       "0             Team   3411   2612   2928  0.042510  0.045441  0.807681   \n",
       "1            Debug   1247    947   1081  0.276664  0.198877  0.510826   \n",
       "2            Debug   3963    560   3963  0.107494  0.150391  0.725965   \n",
       "3               UI  23377  15564  18723  0.046584  0.116696  0.773196   \n",
       "4  User Assistance    818    577    686  0.026895  0.074572  0.845966   \n",
       "\n",
       "      PRO19     PRO20  PRO21  PRO22  \n",
       "0  0.033128  0.071240      4      3  \n",
       "1  0.012831  0.000802      3      3  \n",
       "2  0.015140  0.001009      3      3  \n",
       "3  0.049536  0.013988      3      3  \n",
       "4  0.048900  0.003667      3      3  "
      ]
     },
     "execution_count": 41,
     "metadata": {},
     "output_type": "execute_result"
    }
   ],
   "source": [
    "prod_features.head()"
   ]
  },
  {
   "cell_type": "code",
   "execution_count": 44,
   "metadata": {
    "collapsed": true
   },
   "outputs": [],
   "source": [
    "prod_features.to_csv('../data/train_component_features.csv', index=False)"
   ]
  },
  {
   "cell_type": "markdown",
   "metadata": {},
   "source": [
    "### Generating component related features for Test Data"
   ]
  },
  {
   "cell_type": "code",
   "execution_count": 37,
   "metadata": {
    "collapsed": false
   },
   "outputs": [],
   "source": [
    "tprod3 = generate_product_features1(X_test, 'Component')"
   ]
  },
  {
   "cell_type": "code",
   "execution_count": 38,
   "metadata": {
    "collapsed": false
   },
   "outputs": [
    {
     "name": "stderr",
     "output_type": "stream",
     "text": [
      "/Users/iankurgarg/anaconda/lib/python2.7/site-packages/numpy/core/_methods.py:59: RuntimeWarning: Mean of empty slice.\n",
      "  warnings.warn(\"Mean of empty slice.\", RuntimeWarning)\n"
     ]
    }
   ],
   "source": [
    "tprod4 = generate_product_features2(X_test, 'Component')"
   ]
  },
  {
   "cell_type": "code",
   "execution_count": 42,
   "metadata": {
    "collapsed": true
   },
   "outputs": [],
   "source": [
    "tprod_features = pd.concat([tprod3, tprod4], axis=1)\n",
    "tprod_features.shape\n",
    "tprod_features.columns = ['PRO12', 'PRO12', 'PRO14', 'PRO15', 'PRO16', 'PRO17', 'PRO18', 'PRO19', 'PRO20', 'PRO21', 'PRO22']"
   ]
  },
  {
   "cell_type": "code",
   "execution_count": 43,
   "metadata": {
    "collapsed": true
   },
   "outputs": [],
   "source": [
    "tprod_features.to_csv('../data/test_component_features.csv', index=False)"
   ]
  },
  {
   "cell_type": "markdown",
   "metadata": {},
   "source": [
    "## Merge all components into single file"
   ]
  },
  {
   "cell_type": "code",
   "execution_count": 46,
   "metadata": {
    "collapsed": true
   },
   "outputs": [],
   "source": [
    "# Original Training and testing data. For getting columns, priority, severity, bugID\n",
    "train_original= pd.read_csv('../data/train.csv', parse_dates=['Changed', 'Opened'])\n",
    "test_original = pd.read_csv('../data/test.csv', parse_dates=['Changed', 'Opened'])"
   ]
  },
  {
   "cell_type": "code",
   "execution_count": 45,
   "metadata": {
    "collapsed": true
   },
   "outputs": [],
   "source": [
    "# Temporal Features\n",
    "train_temporal = pd.read_csv('../data/train_data_with_temporal.csv')\n",
    "test_temporal = pd.read_csv('../data/test_data_with_temporal.csv')"
   ]
  },
  {
   "cell_type": "code",
   "execution_count": 47,
   "metadata": {
    "collapsed": true
   },
   "outputs": [],
   "source": [
    "# author Features\n",
    "train_author = pd.read_csv('../data/train_author_features.csv')\n",
    "test_author = pd.read_csv('../data/test_author_features.csv')"
   ]
  },
  {
   "cell_type": "code",
   "execution_count": 48,
   "metadata": {
    "collapsed": true
   },
   "outputs": [],
   "source": [
    "# Product Features\n",
    "train_prod = pd.read_csv('../data/train_prod_features.csv')\n",
    "test_prod = pd.read_csv('../data/test_prod_features.csv')"
   ]
  },
  {
   "cell_type": "code",
   "execution_count": 49,
   "metadata": {
    "collapsed": true
   },
   "outputs": [],
   "source": [
    "# Component Features\n",
    "train_comp = pd.read_csv('../data/train_component_features.csv')\n",
    "test_comp = pd.read_csv('../data/test_component_features.csv')"
   ]
  },
  {
   "cell_type": "code",
   "execution_count": 57,
   "metadata": {
    "collapsed": false,
    "scrolled": true
   },
   "outputs": [],
   "source": [
    "tmp_cols = list(train_temporal.columns)[13:]"
   ]
  },
  {
   "cell_type": "code",
   "execution_count": 59,
   "metadata": {
    "collapsed": false
   },
   "outputs": [
    {
     "data": {
      "text/plain": [
       "Index([u'PRO1', u'PRO2', u'PRO3', u'PRO4', u'PRO5', u'PRO6', u'PRO7', u'PRO8',\n",
       "       u'PRO9', u'PRO10', u'PRO11'],\n",
       "      dtype='object')"
      ]
     },
     "execution_count": 59,
     "metadata": {},
     "output_type": "execute_result"
    }
   ],
   "source": [
    "train_prod.columns"
   ]
  },
  {
   "cell_type": "code",
   "execution_count": 60,
   "metadata": {
    "collapsed": true
   },
   "outputs": [],
   "source": [
    "train_final = [train_original.loc[:,['Bug ID', 'Severity', 'Priority']], train_temporal.loc[:, tmp_cols], \n",
    "               train_author,  train_prod, train_comp]\n",
    "\n",
    "train_final = pd.concat(train_final, axis=1)"
   ]
  },
  {
   "cell_type": "code",
   "execution_count": 61,
   "metadata": {
    "collapsed": false
   },
   "outputs": [
    {
     "data": {
      "text/plain": [
       "Index([u'Bug ID', u'Severity', u'Priority', u'TMP1', u'TMP2', u'TMP3', u'TMP4',\n",
       "       u'TMP5', u'TMP6', u'TMP7', u'TMP8', u'TMP9', u'TMP10', u'TMP11',\n",
       "       u'TMP12', u'AUT1', u'AUT2', u'AUT3', u'PRO1', u'PRO2', u'PRO3', u'PRO4',\n",
       "       u'PRO5', u'PRO6', u'PRO7', u'PRO8', u'PRO9', u'PRO10', u'PRO11',\n",
       "       u'PRO12', u'PRO12.1', u'PRO14', u'PRO15', u'PRO16', u'PRO17', u'PRO18',\n",
       "       u'PRO19', u'PRO20', u'PRO21', u'PRO22'],\n",
       "      dtype='object')"
      ]
     },
     "execution_count": 61,
     "metadata": {},
     "output_type": "execute_result"
    }
   ],
   "source": [
    "train_final.columns"
   ]
  },
  {
   "cell_type": "code",
   "execution_count": 62,
   "metadata": {
    "collapsed": true
   },
   "outputs": [],
   "source": [
    "train_final.to_csv('../data/train_processed.csv', index=False)"
   ]
  },
  {
   "cell_type": "code",
   "execution_count": 63,
   "metadata": {
    "collapsed": true
   },
   "outputs": [],
   "source": [
    "test_final = [test_original.loc[:,['Bug ID', 'Severity', 'Priority']], test_temporal.loc[:, tmp_cols], \n",
    "               test_author,  test_prod, test_comp]\n",
    "\n",
    "test_final = pd.concat(test_final, axis=1)"
   ]
  },
  {
   "cell_type": "code",
   "execution_count": 64,
   "metadata": {
    "collapsed": true
   },
   "outputs": [],
   "source": [
    "test_final.to_csv('../data/test_processed.csv', index=False)"
   ]
  },
  {
   "cell_type": "code",
   "execution_count": null,
   "metadata": {
    "collapsed": true
   },
   "outputs": [],
   "source": []
  }
 ],
 "metadata": {
  "anaconda-cloud": {},
  "kernelspec": {
   "display_name": "Python [conda root]",
   "language": "python",
   "name": "conda-root-py"
  },
  "language_info": {
   "codemirror_mode": {
    "name": "ipython",
    "version": 2
   },
   "file_extension": ".py",
   "mimetype": "text/x-python",
   "name": "python",
   "nbconvert_exporter": "python",
   "pygments_lexer": "ipython2",
   "version": "2.7.12"
  }
 },
 "nbformat": 4,
 "nbformat_minor": 1
}
